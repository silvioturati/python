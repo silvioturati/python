{
  "nbformat": 4,
  "nbformat_minor": 0,
  "metadata": {
    "colab": {
      "name": "Input.ipynb",
      "provenance": [],
      "collapsed_sections": [],
      "authorship_tag": "ABX9TyP5RFWtsSHEoo3Z7Af0Q5uD",
      "include_colab_link": true
    },
    "kernelspec": {
      "name": "python3",
      "display_name": "Python 3"
    }
  },
  "cells": [
    {
      "cell_type": "markdown",
      "metadata": {
        "id": "view-in-github",
        "colab_type": "text"
      },
      "source": [
        "<a href=\"https://colab.research.google.com/github/silvioturati/python/blob/main/Input.ipynb\" target=\"_parent\"><img src=\"https://colab.research.google.com/assets/colab-badge.svg\" alt=\"Open In Colab\"/></a>"
      ]
    },
    {
      "cell_type": "code",
      "metadata": {
        "colab": {
          "base_uri": "https://localhost:8080/"
        },
        "id": "j-zTvApJpZid",
        "outputId": "6f06b225-0d7e-43a7-e448-4c1b82f9c40f"
      },
      "source": [
        "#Método input() é utilizado para receber dados do usuário\n",
        "\n",
        "idade = input(\"Digite sua idade: \")\n",
        "\n",
        "print(\"A idade digitada foi: \" + idade)\n",
        "type(idade)"
      ],
      "execution_count": 3,
      "outputs": [
        {
          "output_type": "stream",
          "text": [
            "Digite sua idade: 40\n",
            "A idade digitada foi: 40\n"
          ],
          "name": "stdout"
        },
        {
          "output_type": "execute_result",
          "data": {
            "text/plain": [
              "str"
            ]
          },
          "metadata": {
            "tags": []
          },
          "execution_count": 3
        }
      ]
    },
    {
      "cell_type": "code",
      "metadata": {
        "colab": {
          "base_uri": "https://localhost:8080/"
        },
        "id": "npq99kkkrUbz",
        "outputId": "d1bd8b13-eec9-455b-f17e-2e595209b64b"
      },
      "source": [
        "#repare que no exemplo anterior mesmo eu digitando um número, o tipo da variavel é string\n",
        "#caso precise ser do tipo int pode-se fazer\n",
        "\n",
        "idade = int(input(\"Digite sua idade: \"))\n",
        "\n",
        "print(\"A idade digitada foi: \" + str(idade))\n",
        "type(idade)"
      ],
      "execution_count": 6,
      "outputs": [
        {
          "output_type": "stream",
          "text": [
            "Digite sua idade: 41\n",
            "A idade digitada foi: 41\n"
          ],
          "name": "stdout"
        },
        {
          "output_type": "execute_result",
          "data": {
            "text/plain": [
              "int"
            ]
          },
          "metadata": {
            "tags": []
          },
          "execution_count": 6
        }
      ]
    },
    {
      "cell_type": "code",
      "metadata": {
        "colab": {
          "base_uri": "https://localhost:8080/"
        },
        "id": "NJKKb2mHsEoW",
        "outputId": "06e008a9-f0cf-4788-ad6d-b9b767f3aa7d"
      },
      "source": [
        "#pode-se utilizar uma variavel para o texto do input\n",
        "\n",
        "instrucao = \"Você precisa digitar as informações cuidadosamente.\"\n",
        "instrucao += \"\\nTenha em mãos seus documentos para ter certeza da informação.\"\n",
        "instrucao += \"\\nDigite sua idade: \"\n",
        "\n",
        "idade = int(input(instrucao))\n",
        "\n",
        "print(\"A idade digitada foi: \" + str(idade))\n",
        "type(idade)"
      ],
      "execution_count": 7,
      "outputs": [
        {
          "output_type": "stream",
          "text": [
            "Você precisa digitar as informações cuidadosamente.\n",
            "Tenha em mãos seus documentos para ter certeza da informação.\n",
            "Digite sua idade: 43\n",
            "A idade digitada foi: 43\n"
          ],
          "name": "stdout"
        },
        {
          "output_type": "execute_result",
          "data": {
            "text/plain": [
              "int"
            ]
          },
          "metadata": {
            "tags": []
          },
          "execution_count": 7
        }
      ]
    },
    {
      "cell_type": "markdown",
      "metadata": {
        "id": "IPIdUbwrt4os"
      },
      "source": [
        "Missão 18"
      ]
    },
    {
      "cell_type": "code",
      "metadata": {
        "colab": {
          "base_uri": "https://localhost:8080/"
        },
        "id": "BdSYYbjTtSZ1",
        "outputId": "ee59c45f-762d-48f6-fa4d-bf4fc643cfc6"
      },
      "source": [
        "#1. Escreva um programa que pergunte ao usuário o seu nome completo e mostre na tela \"Seja bem-vindo fulado de tal\".\n",
        "\n",
        "nome_completo = input(\"Digite seu nome completo: \")\n",
        "print(f\"\\nSeja bem vindo {nome_completo.title()}.\")"
      ],
      "execution_count": 8,
      "outputs": [
        {
          "output_type": "stream",
          "text": [
            "Digite seu nome completo: Silvio Santos\n",
            "\n",
            "Seja bem vindo Silvio Santos.\n"
          ],
          "name": "stdout"
        }
      ]
    },
    {
      "cell_type": "code",
      "metadata": {
        "colab": {
          "base_uri": "https://localhost:8080/"
        },
        "id": "CxcT60M2uQQW",
        "outputId": "dad821bf-a246-48bb-828b-ab8c32c052d3"
      },
      "source": [
        "#2. Escreva um programa que pergunte ao usuario a sua idade. \n",
        "#Se for maior que 18 mostre \"Você já é maior de idade\", senão \"Você ainda é menor de idade\".\n",
        "\n",
        "idade = int(input(\"Digite sua idade: \"))\n",
        "if idade < 0:\n",
        "  print(\"Você nem nasceu, para de zoar!\")\n",
        "elif idade < 17:\n",
        "  print(\"Você ainda é menor de idade. kkk\")\n",
        "else:\n",
        "  print(\"Você já é maior de idade. Vai trabalhar!\")"
      ],
      "execution_count": 12,
      "outputs": [
        {
          "output_type": "stream",
          "text": [
            "Digite sua idade: 10\n",
            "Você ainda é menor de idade. kkk\n"
          ],
          "name": "stdout"
        }
      ]
    },
    {
      "cell_type": "code",
      "metadata": {
        "id": "-xCJ2nvqu8t2"
      },
      "source": [
        ""
      ],
      "execution_count": null,
      "outputs": []
    }
  ]
}