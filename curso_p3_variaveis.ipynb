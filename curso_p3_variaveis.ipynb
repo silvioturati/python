{
  "nbformat": 4,
  "nbformat_minor": 0,
  "metadata": {
    "colab": {
      "name": "curso_p3_variaveis.ipynb",
      "provenance": [],
      "collapsed_sections": [],
      "authorship_tag": "ABX9TyMzVAIDJQkuS8UVur5VvIjF",
      "include_colab_link": true
    },
    "kernelspec": {
      "name": "python3",
      "display_name": "Python 3"
    }
  },
  "cells": [
    {
      "cell_type": "markdown",
      "metadata": {
        "id": "view-in-github",
        "colab_type": "text"
      },
      "source": [
        "<a href=\"https://colab.research.google.com/github/silvioturati/python/blob/main/curso_p3_variaveis.ipynb\" target=\"_parent\"><img src=\"https://colab.research.google.com/assets/colab-badge.svg\" alt=\"Open In Colab\"/></a>"
      ]
    },
    {
      "cell_type": "markdown",
      "metadata": {
        "id": "t-DamLHWaLJ7"
      },
      "source": [
        "Introdução a Variaveis em Python"
      ]
    },
    {
      "cell_type": "code",
      "metadata": {
        "id": "xazWA7tRXxBo",
        "outputId": "7d3a4077-35af-4e91-cf17-4d8c432c54ad",
        "colab": {
          "base_uri": "https://localhost:8080/"
        }
      },
      "source": [
        "nome = 'Silvio Turati'\n",
        "print(nome) # imprimir o conteúdo da variavél\n",
        "print(type(nome)) # imprimir o tipo da variavél"
      ],
      "execution_count": null,
      "outputs": [
        {
          "output_type": "stream",
          "text": [
            "Silvio Turati\n",
            "<class 'str'>\n"
          ],
          "name": "stdout"
        }
      ]
    },
    {
      "cell_type": "code",
      "metadata": {
        "id": "0PDI-7fiao41",
        "outputId": "8a2d868a-4545-440a-f451-ef05c84e70d0",
        "colab": {
          "base_uri": "https://localhost:8080/"
        }
      },
      "source": [
        "numero = 18\n",
        "print(numero)\n",
        "print(type(numero))"
      ],
      "execution_count": null,
      "outputs": [
        {
          "output_type": "stream",
          "text": [
            "18\n",
            "<class 'int'>\n"
          ],
          "name": "stdout"
        }
      ]
    },
    {
      "cell_type": "code",
      "metadata": {
        "id": "exXpyEphb3zp",
        "outputId": "21015f0c-7276-4331-e6fe-fc9d2506c8bc",
        "colab": {
          "base_uri": "https://localhost:8080/"
        }
      },
      "source": [
        "verdadeiro = True #proderia ter atribuido o valor False\n",
        "print(verdadeiro)\n",
        "print(type(verdadeiro))"
      ],
      "execution_count": null,
      "outputs": [
        {
          "output_type": "stream",
          "text": [
            "True\n",
            "<class 'bool'>\n"
          ],
          "name": "stdout"
        }
      ]
    },
    {
      "cell_type": "code",
      "metadata": {
        "id": "kJwKIfXtdIdC",
        "outputId": "cd9f9fd9-5aa0-4cdb-a7c1-e5c08dbea428",
        "colab": {
          "base_uri": "https://localhost:8080/"
        }
      },
      "source": [
        "#nome da variavel precisa ser descritivo, se possivel usar camelCase\n",
        "#não pode iniciar com numero (123numero), não pode ter espeço (nome completo)\n",
        "#tomar cuidado com as pavaras chaves do Python (abs, min, max, etc). São mais de 50 palavras reservadas\n",
        "\n",
        "IDADE_MINIMA = 18 # constantes são sempre com todas as letras maiusculas\n",
        "print(IDADE_MINIMA)\n",
        "print(type(IDADE_MINIMA))"
      ],
      "execution_count": null,
      "outputs": [
        {
          "output_type": "stream",
          "text": [
            "18\n",
            "<class 'int'>\n"
          ],
          "name": "stdout"
        }
      ]
    },
    {
      "cell_type": "markdown",
      "metadata": {
        "id": "TmC6kA2Beom-"
      },
      "source": [
        "Missão 1"
      ]
    },
    {
      "cell_type": "code",
      "metadata": {
        "id": "3BTkJw4Vduji",
        "outputId": "27223be7-09a8-41b9-98bf-e2352df7cca7",
        "colab": {
          "base_uri": "https://localhost:8080/"
        }
      },
      "source": [
        "# Criar uma varivel e mostrar na tela\n",
        "nome_completo = 'Silvio Turati'\n",
        "print(nome_completo)"
      ],
      "execution_count": null,
      "outputs": [
        {
          "output_type": "stream",
          "text": [
            "Silvio Turati\n"
          ],
          "name": "stdout"
        }
      ]
    },
    {
      "cell_type": "markdown",
      "metadata": {
        "id": "79pgAc4Xe81l"
      },
      "source": [
        "Strings"
      ]
    },
    {
      "cell_type": "code",
      "metadata": {
        "id": "SqjehzJAe6s-",
        "outputId": "8b28a9b5-e733-47e1-9c36-7fbe3821bca1",
        "colab": {
          "base_uri": "https://localhost:8080/"
        }
      },
      "source": [
        "#Strings são sequencias de caracteres\n",
        "#No Python você não precisa declarar o tipo, pelo conteúdo o Python classifica o tipo da varivél\n",
        "#Abaixo exemplo de métodos para Strings\n",
        "\n",
        "nome_completo = 'silvio turati'\n",
        "print('Exemplo1: ' + nome_completo) #deste jeito vai aparecer o conteúdo da variavel\n",
        "print('Exemplo2: ' + nome_completo.title()) #deste jeito estamos aplicando o método title a varivel nome_completo"
      ],
      "execution_count": null,
      "outputs": [
        {
          "output_type": "stream",
          "text": [
            "Exemplo1: silvio turati\n",
            "Exemplo2: Silvio Turati\n"
          ],
          "name": "stdout"
        }
      ]
    },
    {
      "cell_type": "code",
      "metadata": {
        "id": "gdjd4_6CgNFk",
        "outputId": "b40fa6d4-3425-42ac-e0e6-267d7cf40fa3",
        "colab": {
          "base_uri": "https://localhost:8080/"
        }
      },
      "source": [
        "#No exemplo acima o valor da varivel não mudou. \n",
        "#Abaixo vamos imprimir novamente a mesma variavel e depois vamos mudar o valor dela usando o método\n",
        "\n",
        "print('Exemplo3: ' + nome_completo)\n",
        "nome_completo = nome_completo.title()\n",
        "print('Exemplo4: ' + nome_completo) #veja que não estou usando o método title() para imprimir a variavel"
      ],
      "execution_count": null,
      "outputs": [
        {
          "output_type": "stream",
          "text": [
            "Exemplo3: Silvio Turati\n",
            "Exemplo4: Silvio Turati\n"
          ],
          "name": "stdout"
        }
      ]
    },
    {
      "cell_type": "code",
      "metadata": {
        "id": "KjT-PtpFhGWI",
        "outputId": "2026b0ca-b67a-41c2-be90-814771131a7f",
        "colab": {
          "base_uri": "https://localhost:8080/"
        }
      },
      "source": [
        "#Existem vários métodos no Python. Para chama-los é só digitar o ponto após o nome da variavel que o IDE vai trazer as possibilidades\n",
        "#Lembrando que o Python é case sensitive, portanto é sempre bom tratar os dados imputados por usuários.\n",
        "#Por exemplo, no caso do usuário preencher um cadastro que ficará armazenado no banco de dados, o idela seria armazenar tudo em minusculo\n",
        "#Para que na recuperação você possa operar e/ou tratar a informação\n",
        "\n",
        "cadastro_nome = 'SILvio turaTi' # está digitado todo errado\n",
        "print('Exemplo Lower: ' + cadastro_nome.lower()) #transformando a variavel toda para minusculo\n",
        "print('Exemplo Upper: ' + cadastro_nome.upper()) #transformando a variavel toda para maiusculo\n",
        "#do mesmo modo que estamos tratando o dado para imprimir, podemos tratar o dados para armazenar no banco de dados"
      ],
      "execution_count": null,
      "outputs": [
        {
          "output_type": "stream",
          "text": [
            "Exemplo Lower: silvio turati\n",
            "Exemplo Upper: SILVIO TURATI\n"
          ],
          "name": "stdout"
        }
      ]
    },
    {
      "cell_type": "code",
      "metadata": {
        "id": "AZny0_EEleO3",
        "outputId": "459db300-0892-4455-eb54-7556132d3a70",
        "colab": {
          "base_uri": "https://localhost:8080/"
        }
      },
      "source": [
        "#variaveis tipo string aceitam operações de concatenação\n",
        "nome = 'Silvio'\n",
        "sobrenome = 'Turati'\n",
        "nome_concatenado = nome + sobrenome\n",
        "print(nome)\n",
        "print(sobrenome)\n",
        "print(nome + ' ' + sobrenome)\n",
        "print(nome_concatenado)\n",
        "\n",
        "#outra maneira de concatenar\n",
        "nome_completo3 = '{} {}'.format(nome, sobrenome)\n",
        "print(\"Exemplo nome completo 3: \" + nome_completo3)\n",
        "nome_completo4 = 'Sr.{}-{}'.format(nome, sobrenome)\n",
        "print(\"Exemplo nome completo 4: \" + nome_completo4)"
      ],
      "execution_count": null,
      "outputs": [
        {
          "output_type": "stream",
          "text": [
            "Silvio\n",
            "Turati\n",
            "Silvio Turati\n",
            "SilvioTurati\n",
            "Exemplo nome completo 3: Silvio Turati\n",
            "Exemplo nome completo 4: Sr.Silvio-Turati\n"
          ],
          "name": "stdout"
        }
      ]
    },
    {
      "cell_type": "code",
      "metadata": {
        "id": "LTNQdADcmNmz",
        "outputId": "fe68ea96-efc3-42d0-cf1d-c759a1aca2e4",
        "colab": {
          "base_uri": "https://localhost:8080/"
        }
      },
      "source": [
        "#também aceitam multiplicação\n",
        "print(5 * nome)\n"
      ],
      "execution_count": null,
      "outputs": [
        {
          "output_type": "stream",
          "text": [
            "SilvioSilvioSilvioSilvioSilvio\n"
          ],
          "name": "stdout"
        }
      ]
    },
    {
      "cell_type": "code",
      "metadata": {
        "id": "N_WTzOFvm0v8",
        "outputId": "907688f4-b27f-4ae1-b6e4-e94772632796",
        "colab": {
          "base_uri": "https://localhost:8080/"
        }
      },
      "source": [
        "#também podemos tabulação e quebra de linha\n",
        "print(\"Digite seu nome: \\nDigite seu sobrenome: \\n\") #exemplo pular linha\n",
        "print('Digite seu telefone: \\t\\t\\t\\tDigite seu email: \\n') #exemplo de tabulação\n",
        "#pode também combinar mais tipos de tabulação\n"
      ],
      "execution_count": null,
      "outputs": [
        {
          "output_type": "stream",
          "text": [
            "Digite seu nome: \n",
            "Digite seu sobrenome: \n",
            "\n",
            "Digite seu telefone: \t\t\t\tDigite seu email: \n",
            "\n"
          ],
          "name": "stdout"
        }
      ]
    },
    {
      "cell_type": "code",
      "metadata": {
        "id": "VWMayZgdn1KN",
        "outputId": "4950a75e-7d76-41cc-b826-6e468ea051dd",
        "colab": {
          "base_uri": "https://localhost:8080/"
        }
      },
      "source": [
        "# se eu precisar usar aspas simples no texto, então eu utilizo aspas duplas para delimitar a string\n",
        "exemplo_aspas_barras_1 = \"I don't eat pizza\"\n",
        "print(exemplo_aspas_barras_1)\n",
        "# mas a barra invertida também tem a função de ignorar o caracter posterior\n",
        "exemplo_aspas_barras_2 = 'I DON\\'T EAT PIZZA'\n",
        "print(exemplo_aspas_barras_2)\n",
        "# então para o caso abaixo onde informamos diretórios, usamos o r (raw string)\n",
        "exemplo_aspas_barras_3 = r\"C:\\windows\\users\\silvioturati\\documentos\" \n",
        "print(exemplo_aspas_barras_3)"
      ],
      "execution_count": null,
      "outputs": [
        {
          "output_type": "stream",
          "text": [
            "I don't eat pizza\n",
            "I DON'T EAT PIZZA\n",
            "C:\\windows\\users\\silvioturati\\documentos\n"
          ],
          "name": "stdout"
        }
      ]
    },
    {
      "cell_type": "code",
      "metadata": {
        "id": "ohaOCl9Apuky",
        "outputId": "94923acd-7a97-4671-8a2b-638511df80e4",
        "colab": {
          "base_uri": "https://localhost:8080/"
        }
      },
      "source": [
        "#quando precisamos informar um comentário para o usuário podemos usar \"\"\"\\\n",
        "print(\"\"\"\\\n",
        "Funcionalidades: essa função tem as [OPÇÕES]\n",
        "                -h  Mostra Ajuda\n",
        "                -v  Mostra Versão\n",
        "\"\"\")"
      ],
      "execution_count": null,
      "outputs": [
        {
          "output_type": "stream",
          "text": [
            "Funcionalidades: essa função tem as [OPÇÕES]\n",
            "                -h  Mostra Ajuda\n",
            "                -v  Mostra Versão\n",
            "\n"
          ],
          "name": "stdout"
        }
      ]
    },
    {
      "cell_type": "code",
      "metadata": {
        "id": "qg_NSh2ktYQ1"
      },
      "source": [
        "#Lembrando que strings são imutaveis, por exemplo:\n",
        "#nome = \"Silvioo\"\n",
        "#digitei errado, está com dois o no final\n",
        "#pra alterar só criando uma variavel nova\n",
        "#nome = \"Silvio\""
      ],
      "execution_count": null,
      "outputs": []
    },
    {
      "cell_type": "code",
      "metadata": {
        "id": "xh-XgMSuuBG7",
        "outputId": "31fb8eb1-b74d-442d-e1e3-349fe59fdea2",
        "colab": {
          "base_uri": "https://localhost:8080/"
        }
      },
      "source": [
        "#espaço numa string do Python é considerado valor, por exemplo:\n",
        "estado1 = 'Mato Grosso'\n",
        "estado2 = '   Mato Grosso   '\n",
        "estado3 = ' Mato Grosso'\n",
        "estado4 = 'Mato Grosso  '\n",
        "estado1 == estado2 == estado3 == estado4"
      ],
      "execution_count": null,
      "outputs": [
        {
          "output_type": "execute_result",
          "data": {
            "text/plain": [
              "False"
            ]
          },
          "metadata": {
            "tags": []
          },
          "execution_count": 58
        }
      ]
    },
    {
      "cell_type": "code",
      "metadata": {
        "id": "TQfzdQN7u5kM",
        "outputId": "ddb9bc4e-9156-4470-d94b-ada269ccdc0a",
        "colab": {
          "base_uri": "https://localhost:8080/"
        }
      },
      "source": [
        "#para remover espaço\n",
        "estado2 = estado2.strip() #remove espaços do começo e do final\n",
        "estado3 = estado3.lstrip() #remove espaços do começo (l de left)\n",
        "estado4 = estado4.rstrip() #remove espaços do final (r de right)\n",
        "estado1 == estado2 == estado3 == estado4"
      ],
      "execution_count": null,
      "outputs": [
        {
          "output_type": "execute_result",
          "data": {
            "text/plain": [
              "True"
            ]
          },
          "metadata": {
            "tags": []
          },
          "execution_count": 59
        }
      ]
    },
    {
      "cell_type": "markdown",
      "metadata": {
        "id": "Tp2BcjJC0PQK"
      },
      "source": [
        "Missão 2"
      ]
    },
    {
      "cell_type": "code",
      "metadata": {
        "id": "x-h1LkrcxsRH",
        "outputId": "5c6318aa-8c6d-4d2d-cf1d-ca49c512a84c",
        "colab": {
          "base_uri": "https://localhost:8080/"
        }
      },
      "source": [
        "#1. Armazene o nome de uma pessoa numa variável e print uma mensagem para essa pessoa. \n",
        "#Tem que ser simples como: \"Olá nome, você gostaria de aprender Python hoje?\"\n",
        "nome_missao1 = \"Silvio\"\n",
        "print(\"Olá \" + nome_missao1 + \", você gostaria de aprender Python hoje?\")"
      ],
      "execution_count": null,
      "outputs": [
        {
          "output_type": "stream",
          "text": [
            "Olá Silvio, você gostaria de aprender Python hoje?\n"
          ],
          "name": "stdout"
        }
      ]
    },
    {
      "cell_type": "code",
      "metadata": {
        "id": "DmdCvCLk0tu2",
        "outputId": "00191b61-4bc5-49f4-efe0-52b9c5e73e97",
        "colab": {
          "base_uri": "https://localhost:8080/"
        }
      },
      "source": [
        "#2. Armazene o nome de uma pessoa numa variável e print o nome dela tudo em minúsculo, maiúsculo e em modo título.\n",
        "nome_missao2 = \"sILVio\"\n",
        "print(\"Tudo minusculo: \" + nome_missao2.lower())\n",
        "print(\"Tudo maiusculo: \" + nome_missao2.upper())\n",
        "print(\"Titulo: \" + nome_missao2.title())\n"
      ],
      "execution_count": null,
      "outputs": [
        {
          "output_type": "stream",
          "text": [
            "Tudo minusculo: silvio\n",
            "Tudo maiusculo: SILVIO\n",
            "Titulo: Silvio\n"
          ],
          "name": "stdout"
        }
      ]
    },
    {
      "cell_type": "code",
      "metadata": {
        "id": "kdbIXd4l1UmF",
        "outputId": "914d1005-202b-4f45-c72b-54550ea45893",
        "colab": {
          "base_uri": "https://localhost:8080/"
        }
      },
      "source": [
        "#3. Encontre uma frase famosa de uma pessoa que você admira. Print a frase e o nome do autor. \n",
        "#A saída deve ser algo assim: \"Albert Eisten uma vez disse: 'Uma pessoa que nunca fez um erro nunca tentou nada novo.'\"\n",
        "print(\"Albert Eisten uma vez disse: 'Uma pessoa que nunca fez um erro nunca tentou nada novo.'\")"
      ],
      "execution_count": null,
      "outputs": [
        {
          "output_type": "stream",
          "text": [
            "Albert Eisten uma vez disse: 'Uma pessoa que nunca fez um erro nunca tentou nada novo.'\n"
          ],
          "name": "stdout"
        }
      ]
    },
    {
      "cell_type": "code",
      "metadata": {
        "id": "wg2IUHKA1jRm",
        "outputId": "28c03887-78da-4fb7-e746-1b4a4d3d94be",
        "colab": {
          "base_uri": "https://localhost:8080/"
        }
      },
      "source": [
        "#4. Repita o exercício anterior mas armazene o autor em uma variável pessoa_famosa e a frase numa variável mensagem. Print sua mensagem.\n",
        "famoso = \"albert eisten\"\n",
        "frase = \"'Uma pessoa que nunca fez um erro nunca tentou nada novo.'\"\n",
        "print(famoso.title() + \" uma vez disse: \" + frase)"
      ],
      "execution_count": null,
      "outputs": [
        {
          "output_type": "stream",
          "text": [
            "Albert Eisten uma vez disse: 'Uma pessoa que nunca fez um erro nunca tentou nada novo.'\n"
          ],
          "name": "stdout"
        }
      ]
    },
    {
      "cell_type": "code",
      "metadata": {
        "id": "Zh1cCE8g2FlJ",
        "outputId": "3822ab85-23b6-449b-deaf-51659ba7a3f9",
        "colab": {
          "base_uri": "https://localhost:8080/"
        }
      },
      "source": [
        "#5. Armazene o nome de alguém com espaços em branco antes e depois do nome. Use uma vez pelo menos \\t e \\n. \n",
        "#Print o nome uma vez para ver os espaços em branco e então use lstrip(), rstrip() e strip() nesta variável.\n",
        "nome_missao5 = \"  Silvio  \"\n",
        "print(\"Sem strip: \" + nome_missao5)\n",
        "print(\"Com strip: \" + nome_missao5.strip())\n"
      ],
      "execution_count": null,
      "outputs": [
        {
          "output_type": "stream",
          "text": [
            "Sem strip:   Silvio  \n",
            "Com strip: Silvio\n"
          ],
          "name": "stdout"
        }
      ]
    },
    {
      "cell_type": "markdown",
      "metadata": {
        "id": "G6POtfy0E3R5"
      },
      "source": [
        "F-Strings"
      ]
    },
    {
      "cell_type": "code",
      "metadata": {
        "id": "mOUNSCgM2jXJ",
        "outputId": "7ec909b2-bc07-469c-e151-5b792dd310ec",
        "colab": {
          "base_uri": "https://localhost:8080/"
        }
      },
      "source": [
        "mensagem = \"seja bem vindo\"\n",
        "nome = \"silvio\"\n",
        "print(\"Olá \" + nome.title() + \", \" + mensagem + \".\") # print sem F-Strings\n",
        "print(f\"Ola {nome.title()}, {mensagem}.\") # print usando F-Strings"
      ],
      "execution_count": 3,
      "outputs": [
        {
          "output_type": "stream",
          "text": [
            "Olá Silvio, seja bem vindo.\n",
            "Ola Silvio, seja bem vindo.\n"
          ],
          "name": "stdout"
        }
      ]
    },
    {
      "cell_type": "code",
      "metadata": {
        "id": "PQSXpo_7GRWK",
        "outputId": "edf73e31-6293-4258-ddc2-42060abf77a4",
        "colab": {
          "base_uri": "https://localhost:8080/",
          "height": 180
        }
      },
      "source": [
        "# o F-String também ajuda na hora de converter integers para strings\n",
        "idade = 18 # se declararmos uma variavel integer e pedir para printar diretamente, teremos um erro como abaixo\n",
        "print(\"ola \" + idade)"
      ],
      "execution_count": 4,
      "outputs": [
        {
          "output_type": "error",
          "ename": "TypeError",
          "evalue": "ignored",
          "traceback": [
            "\u001b[0;31m---------------------------------------------------------------------------\u001b[0m",
            "\u001b[0;31mTypeError\u001b[0m                                 Traceback (most recent call last)",
            "\u001b[0;32m<ipython-input-4-e29e461591ea>\u001b[0m in \u001b[0;36m<module>\u001b[0;34m()\u001b[0m\n\u001b[1;32m      1\u001b[0m \u001b[0midade\u001b[0m \u001b[0;34m=\u001b[0m \u001b[0;36m18\u001b[0m\u001b[0;34m\u001b[0m\u001b[0;34m\u001b[0m\u001b[0m\n\u001b[0;32m----> 2\u001b[0;31m \u001b[0mprint\u001b[0m\u001b[0;34m(\u001b[0m\u001b[0;34m\"ola \"\u001b[0m \u001b[0;34m+\u001b[0m \u001b[0midade\u001b[0m\u001b[0;34m)\u001b[0m\u001b[0;34m\u001b[0m\u001b[0;34m\u001b[0m\u001b[0m\n\u001b[0m",
            "\u001b[0;31mTypeError\u001b[0m: must be str, not int"
          ]
        }
      ]
    },
    {
      "cell_type": "code",
      "metadata": {
        "id": "ArqxhofvHYA5",
        "outputId": "46e1d990-548e-46b0-aae1-f9d0968f67db",
        "colab": {
          "base_uri": "https://localhost:8080/"
        }
      },
      "source": [
        "# isso porque para imprimir \"numeros\" é necessário converte-los para strings, tipo exemplo abaixo:\n",
        "print(\"ola \" + str(idade))"
      ],
      "execution_count": 6,
      "outputs": [
        {
          "output_type": "stream",
          "text": [
            "ola 18\n"
          ],
          "name": "stdout"
        }
      ]
    },
    {
      "cell_type": "code",
      "metadata": {
        "id": "r2QxYKtuH5z4",
        "outputId": "3767b00f-bd55-4d8f-896a-b55c364bbe4e",
        "colab": {
          "base_uri": "https://localhost:8080/"
        }
      },
      "source": [
        "#mas com F-String isso pode ser feito diretamente\n",
        "print(f\"Ola {idade}\")"
      ],
      "execution_count": 8,
      "outputs": [
        {
          "output_type": "stream",
          "text": [
            "Ola 18\n"
          ],
          "name": "stdout"
        }
      ]
    },
    {
      "cell_type": "markdown",
      "metadata": {
        "id": "CjUJrti8IrNB"
      },
      "source": [
        "Missão 3"
      ]
    },
    {
      "cell_type": "code",
      "metadata": {
        "id": "1rmOzZstIK4j",
        "outputId": "a417ad5d-9d0d-42ad-d019-47028afc93d9",
        "colab": {
          "base_uri": "https://localhost:8080/"
        }
      },
      "source": [
        "#Escreva uma f-string usando as variáveis nome_completo, endereco_completo e idade. A f-string deverá ter o seguinte resultado:\n",
        "#\"O usuário Jefferson Santos reside no endereço Rua Marechal Floriado Peixoto, número 10, Curitiba - PR e sua idade é 18 anos.\"​\n",
        "nome_missao3 = \"silvio\"\n",
        "sobrenome_missao3 = \"turati\"\n",
        "idade_missao3 = 43\n",
        "rua_missao3 = \"rua bernardino de campos\"\n",
        "numero_casa_missao3 = 383\n",
        "cidade_missao3 = \"araras\"\n",
        "estado_missao3 = \"sp\"\n",
        "print(f\"O usuário {nome_missao3.title()} {sobrenome_missao3.title()} reside no endereço {rua_missao3.title()}, número {numero_casa_missao3}, {cidade_missao3.title()} - {estado_missao3.upper()} e sua idade é {idade} anos.\")"
      ],
      "execution_count": 12,
      "outputs": [
        {
          "output_type": "stream",
          "text": [
            "O usuário Silvio Turati reside no endereço Rua Bernardino De Campos, número 383, Araras - SP e sua idade é 18 anos.\n"
          ],
          "name": "stdout"
        }
      ]
    },
    {
      "cell_type": "markdown",
      "metadata": {
        "id": "CZY2U56oK_fB"
      },
      "source": [
        "Números"
      ]
    },
    {
      "cell_type": "code",
      "metadata": {
        "id": "8CRUvBUgKJnQ",
        "outputId": "1498361b-32d6-428d-9cb6-38d825ac4f8a",
        "colab": {
          "base_uri": "https://localhost:8080/"
        }
      },
      "source": [
        "10 + 10 #soma"
      ],
      "execution_count": 13,
      "outputs": [
        {
          "output_type": "execute_result",
          "data": {
            "text/plain": [
              "20"
            ]
          },
          "metadata": {
            "tags": []
          },
          "execution_count": 13
        }
      ]
    },
    {
      "cell_type": "code",
      "metadata": {
        "id": "6EQQHq9bMGHq",
        "outputId": "ffaa9de4-c76d-4231-9332-1a51d2d4c7cd",
        "colab": {
          "base_uri": "https://localhost:8080/"
        }
      },
      "source": [
        "10 - 10 #subtração"
      ],
      "execution_count": 14,
      "outputs": [
        {
          "output_type": "execute_result",
          "data": {
            "text/plain": [
              "0"
            ]
          },
          "metadata": {
            "tags": []
          },
          "execution_count": 14
        }
      ]
    },
    {
      "cell_type": "code",
      "metadata": {
        "id": "zxZrhUWhMIaA",
        "outputId": "bae04ef1-e59f-44de-8486-4b1f3e2509a4",
        "colab": {
          "base_uri": "https://localhost:8080/"
        }
      },
      "source": [
        "10 * 10 #multiplicação"
      ],
      "execution_count": 15,
      "outputs": [
        {
          "output_type": "execute_result",
          "data": {
            "text/plain": [
              "100"
            ]
          },
          "metadata": {
            "tags": []
          },
          "execution_count": 15
        }
      ]
    },
    {
      "cell_type": "code",
      "metadata": {
        "id": "1n--g2mzMMFx",
        "outputId": "3f59eeea-b18b-43cd-8410-764b6bea78cf",
        "colab": {
          "base_uri": "https://localhost:8080/"
        }
      },
      "source": [
        "10 / 10 #divisão"
      ],
      "execution_count": 16,
      "outputs": [
        {
          "output_type": "execute_result",
          "data": {
            "text/plain": [
              "1.0"
            ]
          },
          "metadata": {
            "tags": []
          },
          "execution_count": 16
        }
      ]
    },
    {
      "cell_type": "code",
      "metadata": {
        "id": "Jm6NxouJMOaM",
        "outputId": "54f7088a-2152-4dec-b05c-34e9caccb9b3",
        "colab": {
          "base_uri": "https://localhost:8080/"
        }
      },
      "source": [
        "2 ** 3 #potenciação"
      ],
      "execution_count": 17,
      "outputs": [
        {
          "output_type": "execute_result",
          "data": {
            "text/plain": [
              "8"
            ]
          },
          "metadata": {
            "tags": []
          },
          "execution_count": 17
        }
      ]
    },
    {
      "cell_type": "code",
      "metadata": {
        "id": "OSf6EV43MSsw",
        "outputId": "418c7f1b-fb72-4c12-fdd0-9e12f421815d",
        "colab": {
          "base_uri": "https://localhost:8080/"
        }
      },
      "source": [
        "10 % 3 #módulo"
      ],
      "execution_count": 44,
      "outputs": [
        {
          "output_type": "execute_result",
          "data": {
            "text/plain": [
              "1"
            ]
          },
          "metadata": {
            "tags": []
          },
          "execution_count": 44
        }
      ]
    },
    {
      "cell_type": "code",
      "metadata": {
        "id": "REvL2vS_MW0Z",
        "outputId": "d7441940-f42d-463d-aa05-be338d890de0",
        "colab": {
          "base_uri": "https://localhost:8080/"
        }
      },
      "source": [
        "2 + 5 * 10 / 2 - 5 #Python segue ordem de precedência aritmética"
      ],
      "execution_count": 19,
      "outputs": [
        {
          "output_type": "execute_result",
          "data": {
            "text/plain": [
              "22.0"
            ]
          },
          "metadata": {
            "tags": []
          },
          "execution_count": 19
        }
      ]
    },
    {
      "cell_type": "code",
      "metadata": {
        "id": "-09gsKd9NKZI",
        "outputId": "efc9939e-8534-451a-c5b9-1481d8c26a29",
        "colab": {
          "base_uri": "https://localhost:8080/"
        }
      },
      "source": [
        "(2 + 5) * 10 / (2 - 5) #também respeita parenteses"
      ],
      "execution_count": 20,
      "outputs": [
        {
          "output_type": "execute_result",
          "data": {
            "text/plain": [
              "-23.333333333333332"
            ]
          },
          "metadata": {
            "tags": []
          },
          "execution_count": 20
        }
      ]
    },
    {
      "cell_type": "code",
      "metadata": {
        "id": "PYiTWeOfNZiP",
        "outputId": "59c048a9-21d8-4901-be4a-fb6d5da1f163",
        "colab": {
          "base_uri": "https://localhost:8080/"
        }
      },
      "source": [
        "5 // 3 #divide e traz só a parte inteira"
      ],
      "execution_count": 25,
      "outputs": [
        {
          "output_type": "execute_result",
          "data": {
            "text/plain": [
              "1"
            ]
          },
          "metadata": {
            "tags": []
          },
          "execution_count": 25
        }
      ]
    },
    {
      "cell_type": "code",
      "metadata": {
        "id": "1mgy2dMgOG_F",
        "outputId": "2ab32e70-32d4-4028-9c9c-5832b34ad39e",
        "colab": {
          "base_uri": "https://localhost:8080/"
        }
      },
      "source": [
        "6 + 6j #numeros complexos Exemplo: (c + 6j) sendo o c uma constante, atribui um valor qualquer"
      ],
      "execution_count": 27,
      "outputs": [
        {
          "output_type": "execute_result",
          "data": {
            "text/plain": [
              "(6+6j)"
            ]
          },
          "metadata": {
            "tags": []
          },
          "execution_count": 27
        }
      ]
    },
    {
      "cell_type": "markdown",
      "metadata": {
        "id": "IoC6WndpTUJs"
      },
      "source": [
        "Index() e Find()"
      ]
    },
    {
      "cell_type": "code",
      "metadata": {
        "id": "hPHJgNFKPfpu",
        "outputId": "15a56b1c-d507-49a9-8070-2bb825417113",
        "colab": {
          "base_uri": "https://localhost:8080/",
          "height": 231
        }
      },
      "source": [
        "str1 = \"Exemplo de uma string\" #uma frase qualquer com 11 letras antes da palavra uma\n",
        "str2 = \"uma\"\n",
        "print(str1.index(str2)) #retorna a posição onde a palavra \"uma\" começa na String\n",
        "print(str1.index(str2, 10)) #retorna a posição onde a palavra \"uma\" começa na String desconsiderando pulando a as 10 primeiras posições\n",
        "print(str1.index(str2, 15)) #vai dar erro pois depois de 15 posições não teremos a palavra uma"
      ],
      "execution_count": 36,
      "outputs": [
        {
          "output_type": "stream",
          "text": [
            "11\n",
            "11\n"
          ],
          "name": "stdout"
        },
        {
          "output_type": "error",
          "ename": "ValueError",
          "evalue": "ignored",
          "traceback": [
            "\u001b[0;31m---------------------------------------------------------------------------\u001b[0m",
            "\u001b[0;31mValueError\u001b[0m                                Traceback (most recent call last)",
            "\u001b[0;32m<ipython-input-36-1e3f2ec3d1af>\u001b[0m in \u001b[0;36m<module>\u001b[0;34m()\u001b[0m\n\u001b[1;32m      3\u001b[0m \u001b[0mprint\u001b[0m\u001b[0;34m(\u001b[0m\u001b[0mstr1\u001b[0m\u001b[0;34m.\u001b[0m\u001b[0mindex\u001b[0m\u001b[0;34m(\u001b[0m\u001b[0mstr2\u001b[0m\u001b[0;34m)\u001b[0m\u001b[0;34m)\u001b[0m \u001b[0;31m#retorna a posição onde a palavra \"uma\" começa na String\u001b[0m\u001b[0;34m\u001b[0m\u001b[0;34m\u001b[0m\u001b[0m\n\u001b[1;32m      4\u001b[0m \u001b[0mprint\u001b[0m\u001b[0;34m(\u001b[0m\u001b[0mstr1\u001b[0m\u001b[0;34m.\u001b[0m\u001b[0mindex\u001b[0m\u001b[0;34m(\u001b[0m\u001b[0mstr2\u001b[0m\u001b[0;34m,\u001b[0m \u001b[0;36m10\u001b[0m\u001b[0;34m)\u001b[0m\u001b[0;34m)\u001b[0m \u001b[0;31m#retorna a posição onde a palavra \"uma\" começa na String desconsiderando pulando a as 10 primeiras posições\u001b[0m\u001b[0;34m\u001b[0m\u001b[0;34m\u001b[0m\u001b[0m\n\u001b[0;32m----> 5\u001b[0;31m \u001b[0mprint\u001b[0m\u001b[0;34m(\u001b[0m\u001b[0mstr1\u001b[0m\u001b[0;34m.\u001b[0m\u001b[0mindex\u001b[0m\u001b[0;34m(\u001b[0m\u001b[0mstr2\u001b[0m\u001b[0;34m,\u001b[0m \u001b[0;36m15\u001b[0m\u001b[0;34m)\u001b[0m\u001b[0;34m)\u001b[0m \u001b[0;31m#vai dar erro pois depois de 15 posições não teremos a palavra uma\u001b[0m\u001b[0;34m\u001b[0m\u001b[0;34m\u001b[0m\u001b[0m\n\u001b[0m",
            "\u001b[0;31mValueError\u001b[0m: substring not found"
          ]
        }
      ]
    },
    {
      "cell_type": "code",
      "metadata": {
        "id": "q0C3SuyaR3We",
        "outputId": "2cec3f99-e072-43d8-fccf-b016a142bb31",
        "colab": {
          "base_uri": "https://localhost:8080/"
        }
      },
      "source": [
        "# as mesmas variveis só que com o método find\n",
        "print(str1.find(str2)) #vai retornar em qual posição a palavra \"uma\" começa\n",
        "print(str1.find(str2,10)) #vai retornar em qual posição a palavra \"uma\" começa\n",
        "print(str1.find(str2,15)) #vai retornar -1 que significa que não encontrou a palavra"
      ],
      "execution_count": 42,
      "outputs": [
        {
          "output_type": "stream",
          "text": [
            "11\n",
            "11\n",
            "-1\n"
          ],
          "name": "stdout"
        }
      ]
    },
    {
      "cell_type": "code",
      "metadata": {
        "id": "TQOpzLVMTfRQ"
      },
      "source": [
        "# Portanto a diferença entre os métodos Index e Find é que:\n",
        "# quando o Index não encontra a palavra (sub-string) desejada dentro da frase (string) retornar uma excessão (isso é um erro)\n",
        "# o Find retorna -1,  "
      ],
      "execution_count": null,
      "outputs": []
    }
  ]
}