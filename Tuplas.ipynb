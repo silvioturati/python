{
  "nbformat": 4,
  "nbformat_minor": 0,
  "metadata": {
    "colab": {
      "name": "Tuplas.ipynb",
      "provenance": [],
      "collapsed_sections": [],
      "authorship_tag": "ABX9TyM/HBhK9RGtoETIZ1HWuBfD",
      "include_colab_link": true
    },
    "kernelspec": {
      "name": "python3",
      "display_name": "Python 3"
    }
  },
  "cells": [
    {
      "cell_type": "markdown",
      "metadata": {
        "id": "view-in-github",
        "colab_type": "text"
      },
      "source": [
        "<a href=\"https://colab.research.google.com/github/silvioturati/python/blob/main/Tuplas.ipynb\" target=\"_parent\"><img src=\"https://colab.research.google.com/assets/colab-badge.svg\" alt=\"Open In Colab\"/></a>"
      ]
    },
    {
      "cell_type": "code",
      "metadata": {
        "id": "hwzQ3GJSNxfh",
        "outputId": "cfd916a7-72d9-4860-847d-e20fc0b8245e",
        "colab": {
          "base_uri": "https://localhost:8080/"
        }
      },
      "source": [
        "#Tuplas basicamente são lista com valores imutaveis. As listas podem ter valores alterados, inlcuidos e exlcuidos. As Tuplas não podem.\n",
        "#A maneira de trabalhar é similar as listas, mas a declaração é feita usando parenteses. Exemplo:\n",
        "#variavel = 0\n",
        "#lista = []\n",
        "#tuplas = ()\n",
        "\n",
        "primeira_tupla = (20, 50)\n",
        "print(primeira_tupla)"
      ],
      "execution_count": 1,
      "outputs": [
        {
          "output_type": "stream",
          "text": [
            "(20, 50)\n"
          ],
          "name": "stdout"
        }
      ]
    },
    {
      "cell_type": "code",
      "metadata": {
        "id": "I-CjQDa1Onm4",
        "outputId": "a6ac1ecf-6395-4b40-d71d-0d2d5cfabc66",
        "colab": {
          "base_uri": "https://localhost:8080/"
        }
      },
      "source": [
        "#fatiando a Tupla\n",
        "print(primeira_tupla[0])"
      ],
      "execution_count": 2,
      "outputs": [
        {
          "output_type": "stream",
          "text": [
            "20\n"
          ],
          "name": "stdout"
        }
      ]
    },
    {
      "cell_type": "code",
      "metadata": {
        "id": "KoU3h111Oy3i",
        "outputId": "6eb140ad-941c-4686-b050-f5f66c455e56",
        "colab": {
          "base_uri": "https://localhost:8080/"
        }
      },
      "source": [
        "#for com tuplas\n",
        "for item in primeira_tupla:\n",
        "  print(item)"
      ],
      "execution_count": 3,
      "outputs": [
        {
          "output_type": "stream",
          "text": [
            "20\n",
            "50\n"
          ],
          "name": "stdout"
        }
      ]
    },
    {
      "cell_type": "markdown",
      "metadata": {
        "id": "vya4iZPSPem6"
      },
      "source": [
        "Missao 12"
      ]
    },
    {
      "cell_type": "code",
      "metadata": {
        "id": "EhfAJSnUPNX0",
        "outputId": "3c137a8e-1333-41f0-d41b-013b7bdfde9f",
        "colab": {
          "base_uri": "https://localhost:8080/"
        }
      },
      "source": [
        "#1. Crie uma tupla com 6 items (nomes de países).\n",
        "paises = (\"brasil\", \"argentina\", \"uruguai\", \"peru\", \"chile\")\n",
        "paises"
      ],
      "execution_count": 5,
      "outputs": [
        {
          "output_type": "execute_result",
          "data": {
            "text/plain": [
              "('brasil', 'argentina', 'uruguai', 'peru', 'chile')"
            ]
          },
          "metadata": {
            "tags": []
          },
          "execution_count": 5
        }
      ]
    },
    {
      "cell_type": "code",
      "metadata": {
        "id": "CfwDtUg3PrJI",
        "outputId": "480a7b08-d116-4745-a547-55892781d863",
        "colab": {
          "base_uri": "https://localhost:8080/"
        }
      },
      "source": [
        "#a. Use for loop e mostre cada país.\n",
        "for pais in paises:\n",
        "  print(pais.title())"
      ],
      "execution_count": 7,
      "outputs": [
        {
          "output_type": "stream",
          "text": [
            "Brasil\n",
            "Argentina\n",
            "Uruguai\n",
            "Peru\n",
            "Chile\n"
          ],
          "name": "stdout"
        }
      ]
    },
    {
      "cell_type": "code",
      "metadata": {
        "id": "BBQG7BIRP317",
        "outputId": "ea1b622f-7bc5-4cb3-bf66-21d0a5a78ac5",
        "colab": {
          "base_uri": "https://localhost:8080/",
          "height": 180
        }
      },
      "source": [
        "#b. Tente modificar um item e veja o erro.\n",
        "paises[0] = \"colombia\""
      ],
      "execution_count": 8,
      "outputs": [
        {
          "output_type": "error",
          "ename": "TypeError",
          "evalue": "ignored",
          "traceback": [
            "\u001b[0;31m---------------------------------------------------------------------------\u001b[0m",
            "\u001b[0;31mTypeError\u001b[0m                                 Traceback (most recent call last)",
            "\u001b[0;32m<ipython-input-8-79af516c551c>\u001b[0m in \u001b[0;36m<module>\u001b[0;34m()\u001b[0m\n\u001b[1;32m      1\u001b[0m \u001b[0;31m#b. Tente modificar um item e veja o erro.\u001b[0m\u001b[0;34m\u001b[0m\u001b[0;34m\u001b[0m\u001b[0;34m\u001b[0m\u001b[0m\n\u001b[0;32m----> 2\u001b[0;31m \u001b[0mpaises\u001b[0m\u001b[0;34m[\u001b[0m\u001b[0;36m0\u001b[0m\u001b[0;34m]\u001b[0m \u001b[0;34m=\u001b[0m \u001b[0;34m\"colombia\"\u001b[0m\u001b[0;34m\u001b[0m\u001b[0;34m\u001b[0m\u001b[0m\n\u001b[0m",
            "\u001b[0;31mTypeError\u001b[0m: 'tuple' object does not support item assignment"
          ]
        }
      ]
    },
    {
      "cell_type": "code",
      "metadata": {
        "id": "NXWIGBhbQEXh",
        "outputId": "e745601f-c10b-4e40-b276-5b97f1043ad7",
        "colab": {
          "base_uri": "https://localhost:8080/"
        }
      },
      "source": [
        "#c. Mude os países para 6 novos.\n",
        "#para mudar os paises teria que declarar uma tupla nova\n",
        "paises2 = (\"França\", \"Inglaterra\", \"Italia\", \"Portugal\", \"Espanha\")\n",
        "paises2"
      ],
      "execution_count": 9,
      "outputs": [
        {
          "output_type": "execute_result",
          "data": {
            "text/plain": [
              "('França', 'Inglaterra', 'Italia', 'Portugal', 'Espanha')"
            ]
          },
          "metadata": {
            "tags": []
          },
          "execution_count": 9
        }
      ]
    },
    {
      "cell_type": "code",
      "metadata": {
        "id": "16k61Xf1QZ8c"
      },
      "source": [
        ""
      ],
      "execution_count": null,
      "outputs": []
    }
  ]
}