{
  "nbformat": 4,
  "nbformat_minor": 0,
  "metadata": {
    "colab": {
      "name": "while.ipynb",
      "provenance": [],
      "collapsed_sections": [],
      "authorship_tag": "ABX9TyMmFJQoMSLqAG+KWs+uK1D6",
      "include_colab_link": true
    },
    "kernelspec": {
      "name": "python3",
      "display_name": "Python 3"
    }
  },
  "cells": [
    {
      "cell_type": "markdown",
      "metadata": {
        "id": "view-in-github",
        "colab_type": "text"
      },
      "source": [
        "<a href=\"https://colab.research.google.com/github/silvioturati/python/blob/main/while.ipynb\" target=\"_parent\"><img src=\"https://colab.research.google.com/assets/colab-badge.svg\" alt=\"Open In Colab\"/></a>"
      ]
    },
    {
      "cell_type": "code",
      "metadata": {
        "colab": {
          "base_uri": "https://localhost:8080/"
        },
        "id": "0zONuUbNvi_x",
        "outputId": "c4be13a0-e2b9-4b5e-a6e1-397dad5f3638"
      },
      "source": [
        "#Um laço de repetição While executa repetidamente uma declaração alvo enquanto uma determinada condição for verdadeira\n",
        "\n",
        "num = 1 #declarei uma variavel com um valor inicial qualquer (tipo um contador)\n",
        "while num <= 10: #a condição foi declarada (num tem que menor ou igual a 10)\n",
        "  #abaixo temo o bloco de instruções que ficará sendo executado até que a condição acima seja atendida\n",
        "  print(str(num))\n",
        "  num += 1 #nesse código se esquecer de incrementar o num a condição nunca será atendida e o laço ficará sem fim\n",
        "\n",
        "print(\"\\nO laço While terminou.\")"
      ],
      "execution_count": null,
      "outputs": [
        {
          "output_type": "stream",
          "text": [
            "1\n",
            "2\n",
            "3\n",
            "4\n",
            "5\n",
            "6\n",
            "7\n",
            "8\n",
            "9\n",
            "10\n",
            "\n",
            "O laço While terminou.\n"
          ],
          "name": "stdout"
        }
      ]
    },
    {
      "cell_type": "code",
      "metadata": {
        "colab": {
          "base_uri": "https://localhost:8080/"
        },
        "id": "9JRXZG77ww3l",
        "outputId": "7270dc4c-f05a-481e-e70e-1298d1dd6532"
      },
      "source": [
        "texto = \"\\nEscreva uma mensagem e irei exbi-la na tela.\"\n",
        "texto += \"\\nDigite 'sair' para finalizar o programa.\"\n",
        "texto += \"\\n\"\n",
        "\n",
        "mensagem = \"\"\n",
        "\n",
        "while mensagem.lower() != \"sair\":\n",
        "  mensagem = input(texto)\n",
        "  if mensagem.lower() != \"sair\":\n",
        "    print(f\"\\n {mensagem}\")"
      ],
      "execution_count": null,
      "outputs": [
        {
          "output_type": "stream",
          "text": [
            "\n",
            "Escreva uma mensagem e irei exbi-la na tela.\n",
            "Digite 'sair' para finalizar o programa.\n",
            "sair\n"
          ],
          "name": "stdout"
        }
      ]
    },
    {
      "cell_type": "code",
      "metadata": {
        "colab": {
          "base_uri": "https://localhost:8080/"
        },
        "id": "6a54MP9pzB09",
        "outputId": "3cc31cb5-c63f-4b77-f03d-fc28ca8cc6d1"
      },
      "source": [
        "#outra maneira de fazer o código acima\n",
        "texto = \"\\nEscreva uma mensagem e irei exbi-la na tela.\"\n",
        "texto += \"\\nDigite 'sair' para finalizar o programa.\"\n",
        "texto += \"\\n\"\n",
        "\n",
        "ativo = True\n",
        "\n",
        "while ativo:\n",
        "  mensagem = input(texto)\n",
        "  if mensagem.lower() == \"sair\":\n",
        "    ativo = False\n",
        "  else:\n",
        "    print(f\"\\n {mensagem}\")"
      ],
      "execution_count": null,
      "outputs": [
        {
          "output_type": "stream",
          "text": [
            "\n",
            "Escreva uma mensagem e irei exbi-la na tela.\n",
            "Digite 'sair' para finalizar o programa.\n",
            "sair\n"
          ],
          "name": "stdout"
        }
      ]
    },
    {
      "cell_type": "code",
      "metadata": {
        "colab": {
          "base_uri": "https://localhost:8080/"
        },
        "id": "vu5aovHg_oz6",
        "outputId": "05bf0e2c-f1c5-4279-b13f-1a12374d327d"
      },
      "source": [
        "#outra maneira de fazer o código acima\n",
        "texto = \"\\nEscreva uma mensagem e irei exbi-la na tela.\"\n",
        "texto += \"\\nDigite 'sair' para finalizar o programa.\"\n",
        "texto += \"\\n\"\n",
        "\n",
        "while True:\n",
        "  mensagem = input(texto)\n",
        "  if mensagem.lower() == \"sair\":\n",
        "    break\n",
        "  else:\n",
        "    print(f\"\\n {mensagem}\")"
      ],
      "execution_count": null,
      "outputs": [
        {
          "output_type": "stream",
          "text": [
            "\n",
            "Escreva uma mensagem e irei exbi-la na tela.\n",
            "Digite 'sair' para finalizar o programa.\n",
            "sair\n"
          ],
          "name": "stdout"
        }
      ]
    },
    {
      "cell_type": "code",
      "metadata": {
        "colab": {
          "base_uri": "https://localhost:8080/"
        },
        "id": "1xuNun1BBCgZ",
        "outputId": "28c7334d-4abe-453b-c450-ed55aea4b103"
      },
      "source": [
        "#outra maneira de fazer o código acima\n",
        "numero = 0\n",
        "while numero < 20:\n",
        "  numero += 1\n",
        "  if numero % 2 == 0:\n",
        "    continue\n",
        "  \n",
        "  print(numero)"
      ],
      "execution_count": null,
      "outputs": [
        {
          "output_type": "stream",
          "text": [
            "1\n",
            "3\n",
            "5\n",
            "7\n",
            "9\n",
            "11\n",
            "13\n",
            "15\n",
            "17\n",
            "19\n"
          ],
          "name": "stdout"
        }
      ]
    },
    {
      "cell_type": "code",
      "metadata": {
        "colab": {
          "base_uri": "https://localhost:8080/"
        },
        "id": "TEcaZ9FVCx5K",
        "outputId": "fdaa2a62-6fc6-4564-a625-5b4b4898b15f"
      },
      "source": [
        "#outra maneira\n",
        "numero = 0\n",
        "while numero < 20:\n",
        "  numero += 1\n",
        "  if numero % 2 == 0:  \n",
        "    print(numero)"
      ],
      "execution_count": null,
      "outputs": [
        {
          "output_type": "stream",
          "text": [
            "2\n",
            "4\n",
            "6\n",
            "8\n",
            "10\n",
            "12\n",
            "14\n",
            "16\n",
            "18\n",
            "20\n"
          ],
          "name": "stdout"
        }
      ]
    },
    {
      "cell_type": "markdown",
      "metadata": {
        "id": "kpCkspQ7FAPE"
      },
      "source": [
        "Missão 19"
      ]
    },
    {
      "cell_type": "code",
      "metadata": {
        "colab": {
          "base_uri": "https://localhost:8080/"
        },
        "id": "NHj83ZSkDjrf",
        "outputId": "38010f1e-b76c-4b62-b2dd-4e0586fd4db5"
      },
      "source": [
        "#1. Faça um laço que o usuário entre com uma série de cidades até que a entrada 'sair' seja dada. \n",
        "#Durante as entradas das cidades, mostre uma mensagem e contatene com a cidade informada.\n",
        "\n",
        "lista_cidades = [] #isso foi um plus porque o exercicio foi muito fácil... rsrsrs\n",
        "\n",
        "while True:\n",
        "  cidade = input('Digite o nome de uma cidade: ')\n",
        "  if cidade.lower() == 'sair':\n",
        "    print(f\"\\nVocê digitou as cidades: \") # faz parte do plus\n",
        "    for cidade in lista_cidades:  # faz parte do plus\n",
        "      print(cidade)  # faz parte do plus\n",
        "\n",
        "    break\n",
        "  else:\n",
        "    print(f\"Você digitou {cidade}.\")\n",
        "    lista_cidades.append(cidade)  # faz parte do plus\n",
        "\n",
        "\n",
        "\n"
      ],
      "execution_count": null,
      "outputs": [
        {
          "output_type": "stream",
          "text": [
            "Digite o nome de uma cidade: araras\n",
            "Você digitou araras.\n",
            "Digite o nome de uma cidade: leme\n",
            "Você digitou leme.\n",
            "Digite o nome de uma cidade: imeira\n",
            "Você digitou imeira.\n",
            "Digite o nome de uma cidade: sair\n",
            "\n",
            "Você digitou as cidades: \n",
            "araras\n",
            "leme\n",
            "imeira\n"
          ],
          "name": "stdout"
        }
      ]
    },
    {
      "cell_type": "code",
      "metadata": {
        "colab": {
          "base_uri": "https://localhost:8080/"
        },
        "id": "xkdGZ_dDFuA5",
        "outputId": "ef85dcf3-fa18-4c8e-dadd-4e3d30144705"
      },
      "source": [
        "#2. Escreva um laço para informar ao usuário o preço da entrada num parque aquático. \n",
        "#Se a pessoa tiver menos de 2 anos a entrada é de graça, entre 2 e 12 anos paga meia entrada, 10 reais, e maior que 60 anos pagará 8 reais.\n",
        "\n",
        "while True:\n",
        "  print(\"Software para analise do preço. Digite sair para finalizar.\")\n",
        "  idade = input(\"Qual a idade? \")\n",
        "  if idade.lower() == \"sair\":\n",
        "    print(\"Obrigado por usar o software.\")\n",
        "    break\n",
        "  elif int(idade) < 0:\n",
        "    print(\"Você não nasceu\")\n",
        "  elif int(idade) < 2:\n",
        "    print(\"Entrada grátis\")\n",
        "  elif int(idade) < 12:\n",
        "    print(\"Meia entrada: R$10,00\")\n",
        "  elif int(idade) > 60:\n",
        "    print(\"Terceira idade: R$8,00\")\n",
        "  else:\n",
        "    print(\"Entrada inteira: R$20,00\")"
      ],
      "execution_count": null,
      "outputs": [
        {
          "output_type": "stream",
          "text": [
            "Software para analise do preço. Digite sair para finalizar.\n",
            "Qual a idade? 15\n",
            "Entrada inteira: R$20,00\n",
            "Software para analise do preço. Digite sair para finalizar.\n",
            "Qual a idade? 61\n",
            "Terceira idade: R$8,00\n",
            "Software para analise do preço. Digite sair para finalizar.\n",
            "Qual a idade? 2\n",
            "Meia entrada: R$10,00\n",
            "Software para analise do preço. Digite sair para finalizar.\n",
            "Qual a idade? 1\n",
            "Entrada grátis\n",
            "Software para analise do preço. Digite sair para finalizar.\n",
            "Qual a idade? sair\n",
            "Obrigado por usar o software.\n"
          ],
          "name": "stdout"
        }
      ]
    },
    {
      "cell_type": "code",
      "metadata": {
        "id": "alwL0YoMQE4u",
        "colab": {
          "base_uri": "https://localhost:8080/"
        },
        "outputId": "260b0b4c-152f-405e-c622-6c47e3f765a7"
      },
      "source": [
        "#3. Usando os exercícios anteriores:\n",
        "#a. Use uma instrução if para terminar o laço de repetição.\n",
        "#b. Use uma variável chamado ativo = True para encerrar o laço quando ela se tornar False.\n",
        "#c. Use uma instrução break para sair do laço quando usuário digitar 'sair'.\n",
        "#d. Use uma instrução continue para reiniciar o laço caso uma condição qualquer não seja atendida.\n",
        "\n",
        "texto = \"Software para conferência de idade e preço. Digite 'sair' para finalizar. \\n\"\n",
        "texto += \"Digite a idade e tecle enter: \"\n",
        "\n",
        "ativo = True\n",
        "\n",
        "while ativo:\n",
        "  idade = input(texto.lower())\n",
        "\n",
        "  if idade != 'sair' and idade.isdigit():\n",
        "    idade_int = int(idade)\n",
        "    \n",
        "    if idade_int < 2:\n",
        "      print(\"Entrada grátis\")\n",
        "    elif idade_int < 12:\n",
        "      print(\"Meia entrada: R$10,00\")\n",
        "    elif idade_int > 60:\n",
        "      print(\"Terceira idade: R$8,00\")\n",
        "    else:\n",
        "      print(\"Entrada inteira: R$20,00\")\n",
        "  \n",
        "  elif idade == 'sair':\n",
        "    print(\"Fim\")\n",
        "    break\n",
        "  else:\n",
        "    print(\"Erro! Tente novamente\")\n",
        "    continue"
      ],
      "execution_count": 5,
      "outputs": [
        {
          "output_type": "stream",
          "text": [
            "software para conferência de idade e preço. digite 'sair' para finalizar. \n",
            "digite a idade e tecle enter: a\n",
            "Erro! Tente novamente\n",
            "software para conferência de idade e preço. digite 'sair' para finalizar. \n",
            "digite a idade e tecle enter: 0\n",
            "Entrada grátis\n",
            "software para conferência de idade e preço. digite 'sair' para finalizar. \n",
            "digite a idade e tecle enter: 120\n",
            "Terceira idade: R$8,00\n",
            "software para conferência de idade e preço. digite 'sair' para finalizar. \n",
            "digite a idade e tecle enter: 50\n",
            "Entrada inteira: R$20,00\n",
            "software para conferência de idade e preço. digite 'sair' para finalizar. \n",
            "digite a idade e tecle enter: sair\n",
            "Fim\n"
          ],
          "name": "stdout"
        }
      ]
    },
    {
      "cell_type": "markdown",
      "metadata": {
        "id": "DZrvBE0a9Cr9"
      },
      "source": [
        "While com Lista ou Dicionarios"
      ]
    },
    {
      "cell_type": "code",
      "metadata": {
        "colab": {
          "base_uri": "https://localhost:8080/"
        },
        "id": "XJGwg86g2Znr",
        "outputId": "866d7b86-accd-4220-b993-b971bac13f60"
      },
      "source": [
        "pessoas_nao_confirmada = ['nome1', 'nome2', 'nome3'] #pessoas não confirmadas\n",
        "pessoas_confirmada = [] #pessoas confirmadas\n",
        "\n",
        "while pessoas_nao_confirmada:\n",
        "  pessoa_atual = pessoas_nao_confirmada.pop()\n",
        "  print(f\"Checando convidados: {pessoa_atual}\")\n",
        "  pessoas_confirmada.append(pessoa_atual)\n",
        "\n",
        "print('\\nOs seguintes convidados confirmaram suas presenças: ')\n",
        "for pessoa in pessoas_confirmada:\n",
        "  print(pessoa.title())"
      ],
      "execution_count": 16,
      "outputs": [
        {
          "output_type": "stream",
          "text": [
            "Checando convidados: nome3\n",
            "Checando convidados: nome2\n",
            "Checando convidados: nome1\n",
            "\n",
            "Os seguintes convidados confirmaram suas presenças: \n",
            "Nome3\n",
            "Nome2\n",
            "Nome1\n"
          ],
          "name": "stdout"
        }
      ]
    },
    {
      "cell_type": "code",
      "metadata": {
        "colab": {
          "base_uri": "https://localhost:8080/"
        },
        "id": "mKDcNy4M-GLV",
        "outputId": "d9b7cd68-5801-42c0-9371-6cc1764df816"
      },
      "source": [
        "paises = ['brasil', 'eua', 'brasil', 'india', 'mexico']\n",
        "\n",
        "while 'brasil' in paises:\n",
        "  paises.remove('brasil')\n",
        "print(paises)"
      ],
      "execution_count": 17,
      "outputs": [
        {
          "output_type": "stream",
          "text": [
            "['eua', 'india', 'mexico']\n"
          ],
          "name": "stdout"
        }
      ]
    },
    {
      "cell_type": "code",
      "metadata": {
        "colab": {
          "base_uri": "https://localhost:8080/"
        },
        "id": "enDH2EFzApZH",
        "outputId": "90cd47d4-10f0-488a-dd35-dc389bf987d5"
      },
      "source": [
        "entrada_usuario = {}                                                             #criando um dicionário vazio que será alimentado pelo usuário\n",
        "programa_ativo = True                                                            # flag do programa\n",
        "\n",
        "texto1 = \"\\nDigite seu nome: \"                                                   # variavel do input\n",
        "texto2 = \"Digite sua comida favorita: \"                                          # variavel do input\n",
        "\n",
        "while programa_ativo:\n",
        "  nome = input(texto1.lower())                                                   #recebendo dados do usuário\n",
        "  comida_favorita = input(texto2.lower())                                        #recebendo dados do usuário\n",
        "\n",
        "  if nome in entrada_usuario.keys():                                             #se o nome já está no dicionário\n",
        "    comidas_existente = []                                                       #cria uma lista vazia\n",
        "    for comidas in entrada_usuario[nome]:                                        #para cada comida já existente para aquele usuário\n",
        "      comidas_existente.append(comidas)                                          #adicona na lista\n",
        "    comidas_existente.append(comida_favorita)                                    #adciona mais a comida_favorita atual\n",
        "    entrada_usuario[nome] = comidas_existente                                    #coloca a lista no dicionario daquele nome\n",
        "  else:                                                                          #se não existe o nome ainda no dicionário\n",
        "    entrada_usuario[nome] = [comida_favorita]                                    #simplesmente adciona os novos dados\n",
        "\n",
        "  while True:                                                                    #esse while trata a resposta do usuário quanto a nova pergunta\n",
        "    proxima_pesquisa = input(\"\\nGostaria de perguntar para mais pessoas? (sim ou não)\")\n",
        "    if proxima_pesquisa.lower() == 'não':                                        #se for não altera o flag e sair desse laço\n",
        "      programa_ativo = False\n",
        "      break\n",
        "    elif proxima_pesquisa.lower() == \"sim\":                                      #se for sim sai desse laço sem alterar o flag e começa tudo de novo\n",
        "      break\n",
        "    else:                                                                        #se digitar qualquer coisa diferente, vai dar erro e pedir continuar nesse laço até que o usuário digite sim ou não\n",
        "      print(\"Erro: digite sim ou não\")\n",
        "      continue\n",
        "\n",
        "print(\"\\nResultado\")\n",
        "for pessoa, pratos in entrada_usuario.items():\n",
        "  print(f\"{pessoa.title()} gosta de {pratos}\")"
      ],
      "execution_count": 83,
      "outputs": [
        {
          "output_type": "stream",
          "text": [
            "\n",
            "digite seu nome: silvio\n",
            "digite sua comida favorita: churras\n",
            "\n",
            "Gostaria de perguntar para mais pessoas? (sim ou não)sim\n",
            "\n",
            "digite seu nome: maria\n",
            "digite sua comida favorita: pizza\n",
            "\n",
            "Gostaria de perguntar para mais pessoas? (sim ou não)sim\n",
            "\n",
            "digite seu nome: silvio\n",
            "digite sua comida favorita: pizza\n",
            "\n",
            "Gostaria de perguntar para mais pessoas? (sim ou não)aaa\n",
            "Erro: digite sim ou não\n",
            "\n",
            "Gostaria de perguntar para mais pessoas? (sim ou não)não\n",
            "\n",
            "Resultado\n",
            "Silvio gosta de ['churras', 'pizza']\n",
            "Maria gosta de ['pizza']\n"
          ],
          "name": "stdout"
        }
      ]
    },
    {
      "cell_type": "markdown",
      "metadata": {
        "id": "ccPDS-8Lf4aj"
      },
      "source": [
        ""
      ]
    },
    {
      "cell_type": "code",
      "metadata": {
        "colab": {
          "base_uri": "https://localhost:8080/"
        },
        "id": "s3xDVc4CMguk",
        "outputId": "30a941b7-78b6-4202-9efb-9cb6e161adec"
      },
      "source": [
        "teste = {'silvio':['aaa', 'bbb', 'ccc']} #dicionário já existente\n",
        "lista = [] #lista vazia para uso se existe a key dentro do dicionario\n",
        "for nome, letras in teste.items():\n",
        "  for letra in letras: #iterando os values existentes\n",
        "    lista.append(letra) #adicionando os values na lista\n",
        "  lista.append('d') #adicionando o novo valor a lista\n",
        "  teste[nome] = lista  #adcionando a lista ao dicionario\n",
        "\n",
        "teste"
      ],
      "execution_count": 84,
      "outputs": [
        {
          "output_type": "execute_result",
          "data": {
            "text/plain": [
              "{'silvio': ['aaa', 'bbb', 'ccc', 'd']}"
            ]
          },
          "metadata": {
            "tags": []
          },
          "execution_count": 84
        }
      ]
    },
    {
      "cell_type": "markdown",
      "metadata": {
        "id": "gK2rEC6AgJi4"
      },
      "source": [
        "Missão 20"
      ]
    },
    {
      "cell_type": "code",
      "metadata": {
        "colab": {
          "base_uri": "https://localhost:8080/"
        },
        "id": "ZB5iypkwgCcN",
        "outputId": "ee88f9bb-f717-4113-d436-15b71c9957e3"
      },
      "source": [
        "#1. Crie uma lista com o nome pedidos_carros e adicione vários carros diferentes a ela. \n",
        "#Crie então uma segunda lista vazia com o nome concluidos_carros. \n",
        "#Itere cada item da lista pedidos_carros e mostre na tela para cada carro, \n",
        "#uma mensagem \"Carro: pedido Fusion enviado a concessionária\" e transfira esse carro para\n",
        "# a nova lista que estava vazia. No final mostre na tela a lista concluidos_carros com todos os itens dentro dela.\n",
        "\n",
        "pedidos_carros = [\"carro1\", \"carro2\", \"carro3\", \"carro4\", \"carro5\"]\n",
        "concluidos_carros = []\n",
        "\n",
        "while pedidos_carros:\n",
        "  carro_pronto = pedidos_carros.pop()\n",
        "  print(f\"O carro {carro_pronto} ficou pronto e foi transferido para concessionária.\")\n",
        "  concluidos_carros.append(carro_pronto)\n",
        "\n",
        "for carro in concluidos_carros:\n",
        "  print(f\"O carro {carro} foi concluido.\")\n",
        "\n",
        "concluidos_carros"
      ],
      "execution_count": 86,
      "outputs": [
        {
          "output_type": "stream",
          "text": [
            "O carro carro5 ficou pronto e foi transferido para concessionária.\n",
            "O carro carro4 ficou pronto e foi transferido para concessionária.\n",
            "O carro carro3 ficou pronto e foi transferido para concessionária.\n",
            "O carro carro2 ficou pronto e foi transferido para concessionária.\n",
            "O carro carro1 ficou pronto e foi transferido para concessionária.\n",
            "O carro carro5 foi concluido.\n",
            "O carro carro4 foi concluido.\n",
            "O carro carro3 foi concluido.\n",
            "O carro carro2 foi concluido.\n",
            "O carro carro1 foi concluido.\n"
          ],
          "name": "stdout"
        },
        {
          "output_type": "execute_result",
          "data": {
            "text/plain": [
              "['carro5', 'carro4', 'carro3', 'carro2', 'carro1']"
            ]
          },
          "metadata": {
            "tags": []
          },
          "execution_count": 86
        }
      ]
    },
    {
      "cell_type": "code",
      "metadata": {
        "colab": {
          "base_uri": "https://localhost:8080/"
        },
        "id": "_HSLv2qlh9Po",
        "outputId": "be201c20-58ae-4594-f299-a39767c45f15"
      },
      "source": [
        "#2. Usando a lista pedidos_carros, faça com que o carro Fusion apareça umas quatro vezes na lista. \n",
        "#Escreva um código logo no início para exibir que a fábrica está sem o carro Fusion e faça um WHILE\n",
        "#para remover todos os carros Fusion na lista pedidos_carros. Certifique-se que nenhum Fusion esteja na lista concluidos_carros.\n",
        "\n",
        "pedidos_carros = [\"carro1\", \"carro2\", \"carro3\", \"carro4\", \"carro3\", \"carro3\", \"carro5\", \"carro3\"]\n",
        "concluidos_carros = []\n",
        "\n",
        "fusion = \"carro3\"\n",
        "\n",
        "print(f\"A fabrica está sem o {fusion}.\")\n",
        "while fusion in pedidos_carros:\n",
        "  for carro in pedidos_carros:\n",
        "    if carro == fusion:\n",
        "      pedidos_carros.remove(carro)\n",
        "\n",
        "pedidos_carros"
      ],
      "execution_count": 88,
      "outputs": [
        {
          "output_type": "stream",
          "text": [
            "A fabrica está sem o carro3.\n"
          ],
          "name": "stdout"
        },
        {
          "output_type": "execute_result",
          "data": {
            "text/plain": [
              "['carro1', 'carro2', 'carro4', 'carro5']"
            ]
          },
          "metadata": {
            "tags": []
          },
          "execution_count": 88
        }
      ]
    },
    {
      "cell_type": "code",
      "metadata": {
        "colab": {
          "base_uri": "https://localhost:8080/"
        },
        "id": "IxU3XuDnkMXz",
        "outputId": "36e2476b-3038-4e4e-e151-f56cdc55f114"
      },
      "source": [
        "#3. Escreva um programa sobre os times de futebol das pessoas que você conhece. \n",
        "#Escreva um prompt pedindo seu nome e o time do coração. No final exiba os resultados.\n",
        "\n",
        "times_amigos = {}\n",
        "rodando = True\n",
        "\n",
        "while rodando:\n",
        "  nome = input(\"\\nDigite o nome do amigo: \")\n",
        "  time = input(\"Digite o time do coração do seu amigo: \")\n",
        "\n",
        "  nome_min = nome.lower()\n",
        "  times_amigos[nome_min] = time.lower()\n",
        "\n",
        "  while True:\n",
        "    continua = input(\"\\nQuer digitar mais times? sim ou não: \")\n",
        "    if continua.lower() == \"não\":\n",
        "      rodando = False\n",
        "      break\n",
        "    elif continua.lower() == \"sim\":\n",
        "      break\n",
        "    else:\n",
        "      print(\"Erro: digite sim ou não!\")\n",
        "      continue\n",
        "  \n",
        "print(\"\\nSua lista de amigos e times de futebol\")\n",
        "for amigo, time in times_amigos.items():\n",
        "  print(f\"{amigo.title()} torce para o {time.title()}\")"
      ],
      "execution_count": 92,
      "outputs": [
        {
          "output_type": "stream",
          "text": [
            "\n",
            "Digite o nome do amigo: silvio\n",
            "Digite o time do coração do seu amigo: sao paulo\n",
            "\n",
            "Quer digitar mais times? sim ou não: sim\n",
            "\n",
            "Digite o nome do amigo: sergio\n",
            "Digite o time do coração do seu amigo: corinthians\n",
            "\n",
            "Quer digitar mais times? sim ou não: sim\n",
            "\n",
            "Digite o nome do amigo: muca\n",
            "Digite o time do coração do seu amigo: gremio\n",
            "\n",
            "Quer digitar mais times? sim ou não: aaa\n",
            "Erro: digite sim ou não!\n",
            "\n",
            "Quer digitar mais times? sim ou não: não\n",
            "\n",
            " Sua lista de amigos e times de futebol\n",
            "Silvio torce para o Sao Paulo\n",
            "Sergio torce para o Corinthians\n",
            "Muca torce para o Gremio\n"
          ],
          "name": "stdout"
        }
      ]
    },
    {
      "cell_type": "code",
      "metadata": {
        "colab": {
          "base_uri": "https://localhost:8080/"
        },
        "id": "AfaXEtManGW_",
        "outputId": "415fd36e-d636-4e71-8769-6afbbc9d2c15"
      },
      "source": [
        "#1 mais elaborado\n",
        "\n",
        "pedidos_carros = [\"carro1\", \"carro2\", \"carro3\", \"carro4\", \"carro3\", \"carro5\", \"carro3\"]\n",
        "concluidos_carros = []\n",
        "\n",
        "while True:\n",
        "  print(f\"\\nLista de pedidos de carros: \")\n",
        "    \n",
        "  for carro in pedidos_carros:\n",
        "    print(f\"{carro}\")\n",
        "    \n",
        "  carro_pronto_texto = input(\"\\nQual carro ficou pronto: (Digite sair para terminar)\")\n",
        "  carro_pronto = carro_pronto_texto.lower()\n",
        "\n",
        "  if carro_pronto == \"sair\":\n",
        "    break\n",
        "  elif carro_pronto not in pedidos_carros:\n",
        "    print(\"Erro! Escolha um carro da lista\")\n",
        "    continue\n",
        "  elif carro_pronto in pedidos_carros:\n",
        "    concluidos_carros.append(carro_pronto)\n",
        "    pedidos_carros.remove(carro_pronto)\n",
        "    print(f\"\\nO {carro_pronto} foi transferido para a relação de carro concluidos\")\n",
        "\n",
        "    print(\"Lista de carros concluidos: \")\n",
        "\n",
        "    for carro in concluidos_carros:\n",
        "      print(carro)\n",
        "    continue"
      ],
      "execution_count": 101,
      "outputs": [
        {
          "output_type": "stream",
          "text": [
            "\n",
            "Lista de pedidos de carros: \n",
            "carro1\n",
            "carro2\n",
            "carro3\n",
            "carro4\n",
            "carro3\n",
            "carro5\n",
            "carro3\n",
            "\n",
            "Qual carro ficou pronto: (Digite sair para terminar)carro1\n",
            "\n",
            "O carro1 foi transferido para a relação de carro concluidos\n",
            "Lista de carros concluidos: \n",
            "carro1\n",
            "\n",
            "Lista de pedidos de carros: \n",
            "carro2\n",
            "carro3\n",
            "carro4\n",
            "carro3\n",
            "carro5\n",
            "carro3\n",
            "\n",
            "Qual carro ficou pronto: (Digite sair para terminar)carro3\n",
            "\n",
            "O carro3 foi transferido para a relação de carro concluidos\n",
            "Lista de carros concluidos: \n",
            "carro1\n",
            "carro3\n",
            "\n",
            "Lista de pedidos de carros: \n",
            "carro2\n",
            "carro4\n",
            "carro3\n",
            "carro5\n",
            "carro3\n",
            "\n",
            "Qual carro ficou pronto: (Digite sair para terminar)carro3\n",
            "\n",
            "O carro3 foi transferido para a relação de carro concluidos\n",
            "Lista de carros concluidos: \n",
            "carro1\n",
            "carro3\n",
            "carro3\n",
            "\n",
            "Lista de pedidos de carros: \n",
            "carro2\n",
            "carro4\n",
            "carro5\n",
            "carro3\n",
            "\n",
            "Qual carro ficou pronto: (Digite sair para terminar)carro5\n",
            "\n",
            "O carro5 foi transferido para a relação de carro concluidos\n",
            "Lista de carros concluidos: \n",
            "carro1\n",
            "carro3\n",
            "carro3\n",
            "carro5\n",
            "\n",
            "Lista de pedidos de carros: \n",
            "carro2\n",
            "carro4\n",
            "carro3\n",
            "\n",
            "Qual carro ficou pronto: (Digite sair para terminar)sair\n"
          ],
          "name": "stdout"
        }
      ]
    },
    {
      "cell_type": "code",
      "metadata": {
        "id": "vw9WeLIKqeGL"
      },
      "source": [
        ""
      ],
      "execution_count": null,
      "outputs": []
    }
  ]
}