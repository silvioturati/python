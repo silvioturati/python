{
  "nbformat": 4,
  "nbformat_minor": 0,
  "metadata": {
    "colab": {
      "name": "aula_classes_pessoa.py",
      "provenance": [],
      "collapsed_sections": [],
      "authorship_tag": "ABX9TyP4TNC5a21zNTO6k1OCtMew",
      "include_colab_link": true
    },
    "kernelspec": {
      "name": "python3",
      "display_name": "Python 3"
    }
  },
  "cells": [
    {
      "cell_type": "markdown",
      "metadata": {
        "id": "view-in-github",
        "colab_type": "text"
      },
      "source": [
        "<a href=\"https://colab.research.google.com/github/silvioturati/python/blob/main/aula_classes_pessoa_py.ipynb\" target=\"_parent\"><img src=\"https://colab.research.google.com/assets/colab-badge.svg\" alt=\"Open In Colab\"/></a>"
      ]
    },
    {
      "cell_type": "code",
      "metadata": {
        "id": "d-PHKuxZdebX"
      },
      "source": [
        "class Pessoas():\n",
        "  \"\"\"Classe para modelar uma pessoa \"\"\"\n",
        "\n",
        "  def __init__(self, nome, idade):\n",
        "    \"\"\" Inicializa atributos nome e idade \"\"\"\n",
        "    self.nome = nome\n",
        "    self.idade = idade\n",
        "\n",
        "  def comer(self):\n",
        "    \"\"\" Simula uma pessoa comendo \"\"\"\n",
        "    print(f\"{self.nome.title()} está comendo!\")\n",
        "  \n",
        "  def dormir(self):\n",
        "    \"\"\" Simula uma pessoa dormindo \"\"\"\n",
        "    print(f\"{self.nome.title()} está dormindo!\")"
      ],
      "execution_count": null,
      "outputs": []
    },
    {
      "cell_type": "code",
      "metadata": {
        "id": "O6i8hGPwg6Mh"
      },
      "source": [
        "meu_amigo = Pessoas(\"alex\", 30)"
      ],
      "execution_count": null,
      "outputs": []
    },
    {
      "cell_type": "code",
      "metadata": {
        "id": "rVkyPho-iWXO"
      },
      "source": [
        "meu_amigo2 = Pessoas('ze', 40)"
      ],
      "execution_count": null,
      "outputs": []
    },
    {
      "cell_type": "code",
      "metadata": {
        "colab": {
          "base_uri": "https://localhost:8080/"
        },
        "id": "zq1O13EQia8F",
        "outputId": "b28dd079-b610-4bca-a99d-21560023f9d6"
      },
      "source": [
        "print(meu_amigo.idade)"
      ],
      "execution_count": null,
      "outputs": [
        {
          "output_type": "stream",
          "text": [
            "30\n"
          ],
          "name": "stdout"
        }
      ]
    },
    {
      "cell_type": "code",
      "metadata": {
        "colab": {
          "base_uri": "https://localhost:8080/"
        },
        "id": "l5OJQDtuilcV",
        "outputId": "eb10bdd0-02d4-42e4-b0cb-448cafba0428"
      },
      "source": [
        "print(meu_amigo2.nome)"
      ],
      "execution_count": null,
      "outputs": [
        {
          "output_type": "stream",
          "text": [
            "ze\n"
          ],
          "name": "stdout"
        }
      ]
    },
    {
      "cell_type": "code",
      "metadata": {
        "colab": {
          "base_uri": "https://localhost:8080/"
        },
        "id": "CiP7DiVWipi1",
        "outputId": "d33354d9-35f5-432d-c8c5-9cfc9260d52a"
      },
      "source": [
        "print(f\"Meu amigo {meu_amigo.nome.title()} tem {meu_amigo.idade} anos de idade.\")"
      ],
      "execution_count": null,
      "outputs": [
        {
          "output_type": "stream",
          "text": [
            "Meu amigo Alex tem 30 anos de idade.\n"
          ],
          "name": "stdout"
        }
      ]
    },
    {
      "cell_type": "code",
      "metadata": {
        "colab": {
          "base_uri": "https://localhost:8080/"
        },
        "id": "mRBlPvmJjNyW",
        "outputId": "cbbe6e84-866f-49ed-9c92-16e3fb701d85"
      },
      "source": [
        "meu_amigo.comer()"
      ],
      "execution_count": null,
      "outputs": [
        {
          "output_type": "stream",
          "text": [
            "Alex está comendo!\n"
          ],
          "name": "stdout"
        }
      ]
    },
    {
      "cell_type": "code",
      "metadata": {
        "colab": {
          "base_uri": "https://localhost:8080/"
        },
        "id": "wPNxwsqOje0l",
        "outputId": "c4c0f272-72bc-4385-d677-64c3f136a993"
      },
      "source": [
        "meu_amigo2.dormir()"
      ],
      "execution_count": null,
      "outputs": [
        {
          "output_type": "stream",
          "text": [
            "Ze está dormindo!\n"
          ],
          "name": "stdout"
        }
      ]
    },
    {
      "cell_type": "markdown",
      "metadata": {
        "id": "KWp4Mg3OthQR"
      },
      "source": [
        "Missao 27"
      ]
    },
    {
      "cell_type": "code",
      "metadata": {
        "id": "8uX8RLj7j38g"
      },
      "source": [
        "#1. Crie uma classe chamada Carro. O método __init__() do Carro deve armazenar os atributos modelo_carro\n",
        "# e fabricante. Crie um método chamado carro_detalhes() que mostre essas duas informações. \n",
        "#Crie um método carro_concluido() que mostre uma mensagem que o carro está pronto para ser comercializado. \n",
        "#Crie uma instância chamada carro a partir de sua classe. Mostre os dois atributos e chame os dois métodos.\n",
        "\n",
        "class Carro():\n",
        "  \"\"\"\n",
        "  Retorna detalhes sobre um carro\n",
        "  \"\"\"\n",
        "  def __init__(self, modelo, fabricante):\n",
        "    \"\"\"Declarando o construtor\"\"\"\n",
        "    self.modelo = modelo\n",
        "    self.fabricante = fabricante\n",
        "  \n",
        "  def carro_detalhes(self):\n",
        "    \"\"\" Exibe o carro informado \"\"\"\n",
        "    carro_detalhe = f\"O carro informado foi {self.modelo.title()} {self.fabricante.title()}.\"\n",
        "    return carro_detalhe\n",
        "  \n",
        "  def carro_concluido(self):\n",
        "    \"\"\" Exibe se o carro ficou pronto \"\"\"\n",
        "    carro_situacao = f\"O carro {self.modelo.title()} {self.fabricante.title()} ficou pronto.\"\n",
        "    return carro_situacao"
      ],
      "execution_count": 1,
      "outputs": []
    },
    {
      "cell_type": "code",
      "metadata": {
        "id": "IxkvTJNbv5Rg"
      },
      "source": [
        "carro = Carro(\"Fiesta\", \"Ford\") #instanciando o carro do exercicio 1\n"
      ],
      "execution_count": 2,
      "outputs": []
    },
    {
      "cell_type": "code",
      "metadata": {
        "colab": {
          "base_uri": "https://localhost:8080/"
        },
        "id": "7m2RjJeTwKQS",
        "outputId": "5bcd517e-6068-4485-da21-09623d9f9490"
      },
      "source": [
        "print(carro.carro_detalhes())\n",
        "print(carro.carro_concluido())"
      ],
      "execution_count": 4,
      "outputs": [
        {
          "output_type": "stream",
          "text": [
            "O carro informado foi Fiesta Ford.\n",
            "O carro Fiesta Ford ficou pronto.\n"
          ],
          "name": "stdout"
        }
      ]
    },
    {
      "cell_type": "code",
      "metadata": {
        "id": "KDnZ58oowVOi"
      },
      "source": [
        "#2. Com a classe Carro anterior, crie três instâncias diferentes da classe e \n",
        "#chame o carro_detalhes() para cada instância.\n",
        "\n",
        "carro_001 = Carro(\"Palio\", \"Fiat\")\n",
        "carro_002 = Carro(\"Gol\", \"Volks\")\n",
        "carro_003 = Carro(\"HB20\", \"Hynday\")"
      ],
      "execution_count": 5,
      "outputs": []
    },
    {
      "cell_type": "code",
      "metadata": {
        "colab": {
          "base_uri": "https://localhost:8080/"
        },
        "id": "lpdbCES4wyaZ",
        "outputId": "ab21be4d-2b73-4956-9c94-323ad53fee6d"
      },
      "source": [
        "print(carro_001.carro_detalhes())\n",
        "print(carro_002.carro_detalhes())\n",
        "print(carro_003.carro_detalhes())"
      ],
      "execution_count": 6,
      "outputs": [
        {
          "output_type": "stream",
          "text": [
            "O carro informado foi Palio Fiat.\n",
            "O carro informado foi Gol Volks.\n",
            "O carro informado foi Hb20 Hynday.\n"
          ],
          "name": "stdout"
        }
      ]
    },
    {
      "cell_type": "code",
      "metadata": {
        "id": "NHKu4QQYw7D5"
      },
      "source": [
        "#3. Crie uma classe chamada Animal. \n",
        "#Crie dois atributos nome e idade e então crie vários outros atributos como sexo, cor, etc. \n",
        "#Faça um método animal_detalhes() que mostre um resumo das informações do animal.\n",
        "#Faça outro método mensagem() que mostre uma mensagem usando o nome do animal.\n",
        "#Crie várias instâncias que representem vários animais e chame os dois métodos para cada animal.\n",
        "\n",
        "class Animal():\n",
        "  \"\"\" Classe com atributos e métodos animais\"\"\"\n",
        "\n",
        "  def __init__(self, nome, idade):\n",
        "    \"\"\" declarando os construtores e atributos \"\"\"\n",
        "    self.nome = nome\n",
        "    self.idade = idade\n",
        "    self.sexo = \"feminino\"\n",
        "    self.cor = \"não definida\"\n",
        "  \n",
        "  def animal_detalhes(self):\n",
        "    \"\"\" Mostra um resumo das informações dos animais instanciados \"\"\"\n",
        "    animal_info = f\"{self.nome.title()} {self.idade} {self.sexo} {self.cor}\"\n",
        "    return animal_info\n",
        "  \n",
        "  def animal_msg(self):\n",
        "    \"\"\" Mostra uma mensagem com o nome do animal \"\"\"\n",
        "    msg = f\"O nome do animal é {self.nome.title()}\"\n",
        "    return msg\n",
        "\n"
      ],
      "execution_count": 7,
      "outputs": []
    },
    {
      "cell_type": "code",
      "metadata": {
        "id": "fVOrjb_uy9Pj"
      },
      "source": [
        "animal_01 = Animal(\"Mickey\", 1)\n",
        "animal_02 = Animal(\"Pluto\", 2)\n",
        "animal_03 = Animal(\"Donald\", 1)"
      ],
      "execution_count": 8,
      "outputs": []
    },
    {
      "cell_type": "code",
      "metadata": {
        "id": "VLYL1BiOza0D"
      },
      "source": [
        "animal_01.sexo = \"masculino\"\n",
        "animal_01.cor = \"preto\"\n",
        "animal_02.sexo = \"masculino\"\n",
        "animal_02.cor = \"bege\"\n",
        "animal_03.sexo = \"masculino\"\n",
        "animal_03.cor = \"branco\""
      ],
      "execution_count": 9,
      "outputs": []
    },
    {
      "cell_type": "code",
      "metadata": {
        "id": "Su3ZI7s5z1yL"
      },
      "source": [
        "animal_04 = Animal(\"Margarida\", 1)"
      ],
      "execution_count": 10,
      "outputs": []
    },
    {
      "cell_type": "code",
      "metadata": {
        "id": "Llb4W8-uz8Xk"
      },
      "source": [
        "animal_04.cor = \"branco\""
      ],
      "execution_count": 11,
      "outputs": []
    },
    {
      "cell_type": "code",
      "metadata": {
        "colab": {
          "base_uri": "https://localhost:8080/"
        },
        "id": "bqbHjNBGz_lr",
        "outputId": "c1348f97-bdcc-4c59-e9e0-75a255543291"
      },
      "source": [
        "print(animal_01.animal_detalhes())\n",
        "print(animal_02.animal_detalhes())\n",
        "print(animal_03.animal_detalhes())\n",
        "print(animal_04.animal_detalhes())"
      ],
      "execution_count": 12,
      "outputs": [
        {
          "output_type": "stream",
          "text": [
            "Mickey 1 masculino preto\n",
            "Pluto 2 masculino bege\n",
            "Donald 1 masculino branco\n",
            "Margarida 1 feminino branco\n"
          ],
          "name": "stdout"
        }
      ]
    },
    {
      "cell_type": "code",
      "metadata": {
        "colab": {
          "base_uri": "https://localhost:8080/"
        },
        "id": "3SFy2cLh0RrE",
        "outputId": "57b2b18c-3a75-4629-87c7-9b4464c1590d"
      },
      "source": [
        "print(animal_01.animal_msg())"
      ],
      "execution_count": 13,
      "outputs": [
        {
          "output_type": "stream",
          "text": [
            "O nome do animal é Mickey\n"
          ],
          "name": "stdout"
        }
      ]
    },
    {
      "cell_type": "code",
      "metadata": {
        "id": "rdEJvALU0XEc"
      },
      "source": [
        ""
      ],
      "execution_count": null,
      "outputs": []
    }
  ]
}