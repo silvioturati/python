{
  "nbformat": 4,
  "nbformat_minor": 0,
  "metadata": {
    "colab": {
      "name": "aula_classes_pessoa.py",
      "provenance": [],
      "authorship_tag": "ABX9TyMYPUp1LvWOPqP21quNxk1k",
      "include_colab_link": true
    },
    "kernelspec": {
      "name": "python3",
      "display_name": "Python 3"
    }
  },
  "cells": [
    {
      "cell_type": "markdown",
      "metadata": {
        "id": "view-in-github",
        "colab_type": "text"
      },
      "source": [
        "<a href=\"https://colab.research.google.com/github/silvioturati/python/blob/main/aula_classes_pessoa_py.ipynb\" target=\"_parent\"><img src=\"https://colab.research.google.com/assets/colab-badge.svg\" alt=\"Open In Colab\"/></a>"
      ]
    },
    {
      "cell_type": "code",
      "metadata": {
        "id": "d-PHKuxZdebX"
      },
      "source": [
        "class Pessoas():\n",
        "  \"\"\"Classe para modelar uma pessoa \"\"\"\n",
        "\n",
        "  def __init__(self, nome, idade):\n",
        "    \"\"\" Inicializa atributos nome e idade \"\"\"\n",
        "    self.nome = nome\n",
        "    self.idade = idade\n",
        "\n",
        "  def comer(self):\n",
        "    \"\"\" Simula uma pessoa comendo \"\"\"\n",
        "    print(f\"{self.nome.title()} está comendo!\")\n",
        "  \n",
        "  def dormir(self):\n",
        "    \"\"\" Simula uma pessoa dormindo \"\"\"\n",
        "    print(f\"{self.nome.title()} está dormindo!\")"
      ],
      "execution_count": null,
      "outputs": []
    },
    {
      "cell_type": "code",
      "metadata": {
        "id": "O6i8hGPwg6Mh"
      },
      "source": [
        "meu_amigo = Pessoas(\"alex\", 30)"
      ],
      "execution_count": null,
      "outputs": []
    },
    {
      "cell_type": "code",
      "metadata": {
        "id": "rVkyPho-iWXO"
      },
      "source": [
        "meu_amigo2 = Pessoas('ze', 40)"
      ],
      "execution_count": null,
      "outputs": []
    },
    {
      "cell_type": "code",
      "metadata": {
        "colab": {
          "base_uri": "https://localhost:8080/"
        },
        "id": "zq1O13EQia8F",
        "outputId": "b28dd079-b610-4bca-a99d-21560023f9d6"
      },
      "source": [
        "print(meu_amigo.idade)"
      ],
      "execution_count": null,
      "outputs": [
        {
          "output_type": "stream",
          "text": [
            "30\n"
          ],
          "name": "stdout"
        }
      ]
    },
    {
      "cell_type": "code",
      "metadata": {
        "colab": {
          "base_uri": "https://localhost:8080/"
        },
        "id": "l5OJQDtuilcV",
        "outputId": "eb10bdd0-02d4-42e4-b0cb-448cafba0428"
      },
      "source": [
        "print(meu_amigo2.nome)"
      ],
      "execution_count": null,
      "outputs": [
        {
          "output_type": "stream",
          "text": [
            "ze\n"
          ],
          "name": "stdout"
        }
      ]
    },
    {
      "cell_type": "code",
      "metadata": {
        "colab": {
          "base_uri": "https://localhost:8080/"
        },
        "id": "CiP7DiVWipi1",
        "outputId": "d33354d9-35f5-432d-c8c5-9cfc9260d52a"
      },
      "source": [
        "print(f\"Meu amigo {meu_amigo.nome.title()} tem {meu_amigo.idade} anos de idade.\")"
      ],
      "execution_count": null,
      "outputs": [
        {
          "output_type": "stream",
          "text": [
            "Meu amigo Alex tem 30 anos de idade.\n"
          ],
          "name": "stdout"
        }
      ]
    },
    {
      "cell_type": "code",
      "metadata": {
        "colab": {
          "base_uri": "https://localhost:8080/"
        },
        "id": "mRBlPvmJjNyW",
        "outputId": "cbbe6e84-866f-49ed-9c92-16e3fb701d85"
      },
      "source": [
        "meu_amigo.comer()"
      ],
      "execution_count": null,
      "outputs": [
        {
          "output_type": "stream",
          "text": [
            "Alex está comendo!\n"
          ],
          "name": "stdout"
        }
      ]
    },
    {
      "cell_type": "code",
      "metadata": {
        "colab": {
          "base_uri": "https://localhost:8080/"
        },
        "id": "wPNxwsqOje0l",
        "outputId": "c4c0f272-72bc-4385-d677-64c3f136a993"
      },
      "source": [
        "meu_amigo2.dormir()"
      ],
      "execution_count": null,
      "outputs": [
        {
          "output_type": "stream",
          "text": [
            "Ze está dormindo!\n"
          ],
          "name": "stdout"
        }
      ]
    },
    {
      "cell_type": "code",
      "metadata": {
        "id": "8uX8RLj7j38g"
      },
      "source": [
        ""
      ],
      "execution_count": null,
      "outputs": []
    }
  ]
}