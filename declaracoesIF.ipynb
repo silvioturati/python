{
  "nbformat": 4,
  "nbformat_minor": 0,
  "metadata": {
    "colab": {
      "name": "declaracoesIF.ipynb",
      "provenance": [],
      "collapsed_sections": [],
      "authorship_tag": "ABX9TyMJM5X0u2S3cvgTrvSqdfG+",
      "include_colab_link": true
    },
    "kernelspec": {
      "name": "python3",
      "display_name": "Python 3"
    }
  },
  "cells": [
    {
      "cell_type": "markdown",
      "metadata": {
        "id": "view-in-github",
        "colab_type": "text"
      },
      "source": [
        "<a href=\"https://colab.research.google.com/github/silvioturati/python/blob/main/declaracoesIF.ipynb\" target=\"_parent\"><img src=\"https://colab.research.google.com/assets/colab-badge.svg\" alt=\"Open In Colab\"/></a>"
      ]
    },
    {
      "cell_type": "code",
      "metadata": {
        "id": "mxF7Z91vYaiG",
        "colab": {
          "base_uri": "https://localhost:8080/"
        },
        "outputId": "a59eb51b-1807-4e51-92e0-8e5150904e69"
      },
      "source": [
        "#declarações IF servem para excutar códigos obedecendo determindas condições\n",
        "#testamos condições através de operadores lógicos ou boolean\n",
        "50 == 50 #testando se um numero é igual a outro número. Poderiamos ter colocado os numeros em variveis"
      ],
      "execution_count": null,
      "outputs": [
        {
          "output_type": "execute_result",
          "data": {
            "text/plain": [
              "True"
            ]
          },
          "metadata": {
            "tags": []
          },
          "execution_count": 1
        }
      ]
    },
    {
      "cell_type": "code",
      "metadata": {
        "id": "jqy_Nz0_Zr5x",
        "colab": {
          "base_uri": "https://localhost:8080/"
        },
        "outputId": "75bed68d-6a2c-4953-c460-2330f96a57d2"
      },
      "source": [
        "50 < 60 #testando se um numero é menor que outro"
      ],
      "execution_count": null,
      "outputs": [
        {
          "output_type": "execute_result",
          "data": {
            "text/plain": [
              "True"
            ]
          },
          "metadata": {
            "tags": []
          },
          "execution_count": 2
        }
      ]
    },
    {
      "cell_type": "code",
      "metadata": {
        "id": "et6pvOnWZ570",
        "colab": {
          "base_uri": "https://localhost:8080/"
        },
        "outputId": "d0f1b729-f9c2-4207-bce1-ec102c8134fa"
      },
      "source": [
        "50 > 60 #testando se um numero é maior que outro"
      ],
      "execution_count": null,
      "outputs": [
        {
          "output_type": "execute_result",
          "data": {
            "text/plain": [
              "False"
            ]
          },
          "metadata": {
            "tags": []
          },
          "execution_count": 3
        }
      ]
    },
    {
      "cell_type": "code",
      "metadata": {
        "id": "ySkogwZVZ80n",
        "colab": {
          "base_uri": "https://localhost:8080/"
        },
        "outputId": "e3ad5816-20c9-490e-cef1-c8d300d607f8"
      },
      "source": [
        "\"alex\" == \"alex\" #também funciona com letras e palavras"
      ],
      "execution_count": null,
      "outputs": [
        {
          "output_type": "execute_result",
          "data": {
            "text/plain": [
              "True"
            ]
          },
          "metadata": {
            "tags": []
          },
          "execution_count": 7
        }
      ]
    },
    {
      "cell_type": "code",
      "metadata": {
        "id": "7bBhoZsWaA_N",
        "colab": {
          "base_uri": "https://localhost:8080/"
        },
        "outputId": "443c2af3-1f37-4cf1-f9d5-4b06a3a96dd2"
      },
      "source": [
        "num = 10 #declarando uma variavel com um valor\n",
        "if num < 20: #fazendo o teste lógico. SE a variavel for menor que 20\n",
        "  print(\"É menor\") #faz isso\n",
        "else: #senão\n",
        "  print(\"É maior\") #faz isso"
      ],
      "execution_count": null,
      "outputs": [
        {
          "output_type": "stream",
          "text": [
            "É menor\n"
          ],
          "name": "stdout"
        }
      ]
    },
    {
      "cell_type": "code",
      "metadata": {
        "id": "KKVFm1KWasOZ",
        "colab": {
          "base_uri": "https://localhost:8080/"
        },
        "outputId": "9410c6d3-f96d-4b1e-e5d7-0855070d55f8"
      },
      "source": [
        "#declarações com mais que um teste\n",
        "idade = 17\n",
        "if idade < 16:\n",
        "  print(\"No Brasil você não pode votar e nem dirigir\")\n",
        "elif idade < 18:\n",
        "  print(\"No Brasil você pode votar mas não pode dirigir\")\n",
        "else:\n",
        "  print(\"No Brasil você pode votar e dirigir\")"
      ],
      "execution_count": null,
      "outputs": [
        {
          "output_type": "stream",
          "text": [
            "No Brasil você pode votar mas não pode dirigir\n"
          ],
          "name": "stdout"
        }
      ]
    },
    {
      "cell_type": "code",
      "metadata": {
        "id": "u8wk_8x0b7HG",
        "colab": {
          "base_uri": "https://localhost:8080/"
        },
        "outputId": "8ad38f00-9d2c-4cb7-b592-2b6abf258ac4"
      },
      "source": [
        "#pode utilizar combinado com while\n",
        "idade = 10\n",
        "while idade < 21:\n",
        "  if idade < 16:\n",
        "    print(f\"Sua idade é {idade} e no Brasil você não pode votar e nem dirigir\")\n",
        "    idade = idade + 1\n",
        "  elif idade < 18:\n",
        "    print(f\"Sua idade é {idade} e no Brasil você pode votar mas não pode dirigir\")\n",
        "    idade = idade + 1\n",
        "  else:\n",
        "    print(f\"Sua idade é {idade} e no Brasil você pode votar e dirigir\")\n",
        "    idade = idade + 1"
      ],
      "execution_count": null,
      "outputs": [
        {
          "output_type": "stream",
          "text": [
            "Sua idade é 10 e no Brasil você não pode votar e nem dirigir\n",
            "Sua idade é 11 e no Brasil você não pode votar e nem dirigir\n",
            "Sua idade é 12 e no Brasil você não pode votar e nem dirigir\n",
            "Sua idade é 13 e no Brasil você não pode votar e nem dirigir\n",
            "Sua idade é 14 e no Brasil você não pode votar e nem dirigir\n",
            "Sua idade é 15 e no Brasil você não pode votar e nem dirigir\n",
            "Sua idade é 16 e no Brasil você pode votar mas não pode dirigir\n",
            "Sua idade é 17 e no Brasil você pode votar mas não pode dirigir\n",
            "Sua idade é 18 e no Brasil você pode votar e dirigir\n",
            "Sua idade é 19 e no Brasil você pode votar e dirigir\n",
            "Sua idade é 20 e no Brasil você pode votar e dirigir\n"
          ],
          "name": "stdout"
        }
      ]
    },
    {
      "cell_type": "code",
      "metadata": {
        "id": "IyQaJCzJd976",
        "colab": {
          "base_uri": "https://localhost:8080/"
        },
        "outputId": "717c37ef-4fd1-4da0-fb5d-975237b73c24"
      },
      "source": [
        "#pode utilizar combinado com for\n",
        "cardapio = [\"Hamburguer\", \"Batata frita\", \"Refrigerante\", \"MilkShake\"]\n",
        "solicitacoes = [\"Hamburguer\", \"Batata frita\", \"MilkShake\"]\n",
        "\n",
        "for itens in cardapio:\n",
        "  if itens in solicitacoes:\n",
        "    print(f\"Colocando {itens} no pedido\")\n",
        "print(\"Pedido Concluido\")"
      ],
      "execution_count": null,
      "outputs": [
        {
          "output_type": "stream",
          "text": [
            "Colocando Hamburguer no pedido\n",
            "Colocando Batata frita no pedido\n",
            "Colocando MilkShake no pedido\n",
            "Pedido Concluido\n"
          ],
          "name": "stdout"
        }
      ]
    },
    {
      "cell_type": "markdown",
      "metadata": {
        "id": "Fn0nL38ogfNP"
      },
      "source": [
        "Missao 13"
      ]
    },
    {
      "cell_type": "code",
      "metadata": {
        "id": "1cDISHVKfmYv",
        "colab": {
          "base_uri": "https://localhost:8080/"
        },
        "outputId": "e60f449b-96e1-4f0a-f70b-6c16249e47d3"
      },
      "source": [
        "#3. Vamos supor que um cliente no seu site foi bloqueado. \n",
        "#Crie uma variável chamada status_cliente igual a 'ativo', 'inativo' ou 'bloqueado'.\n",
        "#a. Escreva uma declaração if para testar se o status do cliente é bloqueado. \n",
        "#Se sim (True), print que o cliente está bloqueado.\n",
        "\n",
        "status = [\"ativo\", \"inativo\", \"bloqueado\"]\n",
        "clientes = \"bloqueado\"\n",
        "\n",
        "for situacao in status:\n",
        "  if clientes == situacao:\n",
        "    print(\"Cliente bloqueado\")"
      ],
      "execution_count": null,
      "outputs": [
        {
          "output_type": "stream",
          "text": [
            "Cliente bloqueado\n"
          ],
          "name": "stdout"
        }
      ]
    },
    {
      "cell_type": "code",
      "metadata": {
        "id": "izn3rUY_h2mB",
        "colab": {
          "base_uri": "https://localhost:8080/"
        },
        "outputId": "802ad4cb-27f7-4bae-e61a-07a247715f72"
      },
      "source": [
        "#4. Usando o mesmo exemplo acima:\n",
        "#a. Faça ​uma declaração if-else, se o cliente for ativo print \"cliente ativo\" \n",
        "#senão print \"cliente pode estar bloqueado ou inativo\"\n",
        "\n",
        "clientes = \"bloqueado\"\n",
        "\n",
        "if clientes == \"ativo\":\n",
        "  print(\"Cliente ativo\")\n",
        "else:\n",
        "  print(\"Cliente pode estar bloqueado ou inativo\") "
      ],
      "execution_count": null,
      "outputs": [
        {
          "output_type": "stream",
          "text": [
            "Cliente pode estar bloqueado ou inativo\n"
          ],
          "name": "stdout"
        }
      ]
    },
    {
      "cell_type": "code",
      "metadata": {
        "id": "moM_88dKjvMp",
        "colab": {
          "base_uri": "https://localhost:8080/"
        },
        "outputId": "edc51bf1-377f-4d4e-f8c8-4903b7a14fe9"
      },
      "source": [
        "#5. Mesma lista acima:\n",
        "#a. Faça uma declaração ​if-elif-else, se o cliente for ativo, \n",
        "#print \"cliente ativo\" se for inativo print \"cliente inativo\" e no else \n",
        "#como \"cliente bloqueado\"\n",
        "\n",
        "clientes = \"bloqueado\"\n",
        "\n",
        "if clientes == \"ativo\":\n",
        "  print(\"Cliente ativo\")\n",
        "elif clientes == \"bloqueado\":\n",
        "  print(\"Cliente bloqueado\")\n",
        "else:\n",
        "  print(\"Cliente inativo\")   "
      ],
      "execution_count": null,
      "outputs": [
        {
          "output_type": "stream",
          "text": [
            "Cliente bloqueado\n"
          ],
          "name": "stdout"
        }
      ]
    },
    {
      "cell_type": "code",
      "metadata": {
        "id": "iuGKQoJQj8EG",
        "colab": {
          "base_uri": "https://localhost:8080/"
        },
        "outputId": "dcd8c190-a354-4488-d05a-a303b3e911c0"
      },
      "source": [
        "produtos = ['pão', 'tomate', 'pizza']\n",
        "\n",
        "for itens in produtos:\n",
        "  if itens == 'tomate':\n",
        "    print('Item sem estoque: ' + itens)\n",
        "  else:\n",
        "    print('Colocando no pedido o item: ' + itens)\n",
        "print('Pedido finalizado')"
      ],
      "execution_count": 1,
      "outputs": [
        {
          "output_type": "stream",
          "text": [
            "Colocando no pedido o item: pão\n",
            "Item sem estoque: tomate\n",
            "Colocando no pedido o item: pizza\n",
            "Pedido finalizado\n"
          ],
          "name": "stdout"
        }
      ]
    },
    {
      "cell_type": "code",
      "metadata": {
        "colab": {
          "base_uri": "https://localhost:8080/"
        },
        "id": "5akkG1kfLfl0",
        "outputId": "7a0edce0-c884-4f18-f030-70b856d0d102"
      },
      "source": [
        "#no Python quandoa lista está fazia ela é uma lista com resultado falso\n",
        "compras = [] #declarei uma lista vazia\n",
        "if compras: #chequei se a lista possui ou não itens\n",
        "  for item_compras in compras:\n",
        "    print(f'O {item_compras} está na sua lista')\n",
        "else:\n",
        "  print(\"A lista de compras está vazia\") "
      ],
      "execution_count": 2,
      "outputs": [
        {
          "output_type": "stream",
          "text": [
            "A lista de compras está vazia\n"
          ],
          "name": "stdout"
        }
      ]
    },
    {
      "cell_type": "markdown",
      "metadata": {
        "id": "JZS2A-DKNIGF"
      },
      "source": [
        "Missão 14"
      ]
    },
    {
      "cell_type": "code",
      "metadata": {
        "colab": {
          "base_uri": "https://localhost:8080/"
        },
        "id": "j9b3DNdCMK0N",
        "outputId": "218cc97c-099a-4888-b7c7-873867e07ab9"
      },
      "source": [
        "#1. Crie uma lista de 5 nomes de fruta:\n",
        "#a. Se a fruta for limão, escreva a mensagem: \"Vamos fazer uma limonada?\"\n",
        "#b. Se não for, escreva: \"Vamos ficar sem suco hoje\"\n",
        "\n",
        "frutas = ['limão', \"maçã\", \"laranja\", 'abacaxi', 'maracujá']\n",
        "\n",
        "for fruta in frutas:\n",
        "  if fruta == 'limão':\n",
        "    print(f'Faça do {fruta} uma limonada')\n",
        "  else:\n",
        "    print(f'Vamos ficar sem suco hoje')\n"
      ],
      "execution_count": 4,
      "outputs": [
        {
          "output_type": "stream",
          "text": [
            "Faça do limão uma limonada\n",
            "Vamos ficar sem suco hoje\n",
            "Vamos ficar sem suco hoje\n",
            "Vamos ficar sem suco hoje\n",
            "Vamos ficar sem suco hoje\n"
          ],
          "name": "stdout"
        }
      ]
    },
    {
      "cell_type": "code",
      "metadata": {
        "colab": {
          "base_uri": "https://localhost:8080/"
        },
        "id": "ShDQky0hOS_8",
        "outputId": "f51a8645-9142-49d7-d67e-cce9bdc22b15"
      },
      "source": [
        "#2. Da mesma lista, adicione um if pra garantir que não ​esteja vazia\n",
        "#a. Se estiver vazia mostre a mensagem \"Vamos a feira!\"\n",
        "#b. Remova todas as frutas e faça a mensagem acima ser exibida.\n",
        "\n",
        "frutas2 = []\n",
        "\n",
        "if frutas2:\n",
        "  for fruta2 in frutas2:\n",
        "    if fruta2 == 'limão':\n",
        "      print(f'Faça do {fruta2} uma limonada')\n",
        "    else:\n",
        "      print(f'Vamos ficar sem suco hoje')\n",
        "else:\n",
        "  print('Vamos a feira')"
      ],
      "execution_count": 9,
      "outputs": [
        {
          "output_type": "stream",
          "text": [
            "Vamos a feira\n"
          ],
          "name": "stdout"
        }
      ]
    },
    {
      "cell_type": "code",
      "metadata": {
        "colab": {
          "base_uri": "https://localhost:8080/"
        },
        "id": "ia0p0NuhO0LZ",
        "outputId": "8fef3989-273b-4b71-9ad7-7581877a1d0d"
      },
      "source": [
        "#3. Crie 2 listas. Primeira com estoque_frutas e adicione 5 frutas e crie outra \n",
        "#com o nome lista_de_compras e adicione 3 frutas sendo que 1 não tem no estoque_frutas\n",
        "#a. Percorra a lista lista_de_compras e verifique se tem no estoque_frutas. \n",
        "#Se tiver, mostre a mensagem \"Comprando a fruta x\", se não \"Vamos comprar na proxima vez\"\n",
        "\n",
        "estoque_frutas = ['limão', \"maçã\", \"laranja\", 'abacaxi', 'maracujá']\n",
        "lista_de_compras = ['limão', 'pera', 'laranja']\n",
        "\n",
        "for fruta in lista_de_compras:\n",
        "  if fruta in estoque_frutas:\n",
        "    print(f\"Comprando {fruta}!\")\n",
        "  else:\n",
        "    print(f\"Vamos comprar {fruta} na próxima vez\")\n"
      ],
      "execution_count": 13,
      "outputs": [
        {
          "output_type": "stream",
          "text": [
            "Comprando limão!\n",
            "Vamos comprar pera na próxima vez\n",
            "Comprando laranja!\n"
          ],
          "name": "stdout"
        }
      ]
    },
    {
      "cell_type": "code",
      "metadata": {
        "colab": {
          "base_uri": "https://localhost:8080/"
        },
        "id": "r60RNNDAUl6E",
        "outputId": "38cc3f01-29ef-4821-c2d4-a5336c75fc68"
      },
      "source": [
        "#4. Crie uma lista de números usando função range() de 70 a 100\n",
        "\n",
        "numeros = list(range(70, 101))\n",
        "numeros"
      ],
      "execution_count": 17,
      "outputs": [
        {
          "output_type": "execute_result",
          "data": {
            "text/plain": [
              "[70,\n",
              " 71,\n",
              " 72,\n",
              " 73,\n",
              " 74,\n",
              " 75,\n",
              " 76,\n",
              " 77,\n",
              " 78,\n",
              " 79,\n",
              " 80,\n",
              " 81,\n",
              " 82,\n",
              " 83,\n",
              " 84,\n",
              " 85,\n",
              " 86,\n",
              " 87,\n",
              " 88,\n",
              " 89,\n",
              " 90,\n",
              " 91,\n",
              " 92,\n",
              " 93,\n",
              " 94,\n",
              " 95,\n",
              " 96,\n",
              " 97,\n",
              " 98,\n",
              " 99,\n",
              " 100]"
            ]
          },
          "metadata": {
            "tags": []
          },
          "execution_count": 17
        }
      ]
    },
    {
      "cell_type": "code",
      "metadata": {
        "colab": {
          "base_uri": "https://localhost:8080/"
        },
        "id": "Q2_A9LR_VWcC",
        "outputId": "0fceaf6f-e084-46ff-d4a0-2bb006ee7328"
      },
      "source": [
        "#5. Percorra a lista usando for loop\n",
        "\n",
        "for numero in numeros:\n",
        "  print(numero)"
      ],
      "execution_count": 18,
      "outputs": [
        {
          "output_type": "stream",
          "text": [
            "70\n",
            "71\n",
            "72\n",
            "73\n",
            "74\n",
            "75\n",
            "76\n",
            "77\n",
            "78\n",
            "79\n",
            "80\n",
            "81\n",
            "82\n",
            "83\n",
            "84\n",
            "85\n",
            "86\n",
            "87\n",
            "88\n",
            "89\n",
            "90\n",
            "91\n",
            "92\n",
            "93\n",
            "94\n",
            "95\n",
            "96\n",
            "97\n",
            "98\n",
            "99\n",
            "100\n"
          ],
          "name": "stdout"
        }
      ]
    },
    {
      "cell_type": "code",
      "metadata": {
        "colab": {
          "base_uri": "https://localhost:8080/"
        },
        "id": "d6ZAIpI2XTuQ",
        "outputId": "7d0f8fe8-d40c-4e6b-ca6f-5b5bd4f47861"
      },
      "source": [
        "#6. Use if-elif-else para quem tirar nota abaixo de 70 receba a mensgem \n",
        "#\"Sua nota é F\", se tirar abaixo de 80 \"Sua nota é C\", se tirar menor que 90 \n",
        "#\"Sua nota é B\" e se nenhuma delas, \"sua nota é A\"\n",
        "\n",
        "nota = int(input('Digite a nota: '))\n",
        "\n",
        "if nota < 70:\n",
        "  print(f'Sua nota é F')\n",
        "elif nota < 80:\n",
        "  print(f'Sua nota é C')\n",
        "elif nota < 90:\n",
        "  print(f'Sua nota é B')\n",
        "else:\n",
        "  print(f'Sua nota é A')\n"
      ],
      "execution_count": 23,
      "outputs": [
        {
          "output_type": "stream",
          "text": [
            "Digite a nota: 71\n",
            "Sua nota é C\n"
          ],
          "name": "stdout"
        }
      ]
    }
  ]
}