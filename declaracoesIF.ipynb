{
  "nbformat": 4,
  "nbformat_minor": 0,
  "metadata": {
    "colab": {
      "name": "declaracoesIF.ipynb",
      "provenance": [],
      "collapsed_sections": [],
      "authorship_tag": "ABX9TyO4ob9pLsej/vOlRr7W1vvd",
      "include_colab_link": true
    },
    "kernelspec": {
      "name": "python3",
      "display_name": "Python 3"
    }
  },
  "cells": [
    {
      "cell_type": "markdown",
      "metadata": {
        "id": "view-in-github",
        "colab_type": "text"
      },
      "source": [
        "<a href=\"https://colab.research.google.com/github/silvioturati/python/blob/main/declaracoesIF.ipynb\" target=\"_parent\"><img src=\"https://colab.research.google.com/assets/colab-badge.svg\" alt=\"Open In Colab\"/></a>"
      ]
    },
    {
      "cell_type": "code",
      "metadata": {
        "id": "mxF7Z91vYaiG",
        "outputId": "a59eb51b-1807-4e51-92e0-8e5150904e69",
        "colab": {
          "base_uri": "https://localhost:8080/"
        }
      },
      "source": [
        "#declarações IF servem para excutar códigos obedecendo determindas condições\n",
        "#testamos condições através de operadores lógicos ou boolean\n",
        "50 == 50 #testando se um numero é igual a outro número. Poderiamos ter colocado os numeros em variveis"
      ],
      "execution_count": 1,
      "outputs": [
        {
          "output_type": "execute_result",
          "data": {
            "text/plain": [
              "True"
            ]
          },
          "metadata": {
            "tags": []
          },
          "execution_count": 1
        }
      ]
    },
    {
      "cell_type": "code",
      "metadata": {
        "id": "jqy_Nz0_Zr5x",
        "outputId": "75bed68d-6a2c-4953-c460-2330f96a57d2",
        "colab": {
          "base_uri": "https://localhost:8080/"
        }
      },
      "source": [
        "50 < 60 #testando se um numero é menor que outro"
      ],
      "execution_count": 2,
      "outputs": [
        {
          "output_type": "execute_result",
          "data": {
            "text/plain": [
              "True"
            ]
          },
          "metadata": {
            "tags": []
          },
          "execution_count": 2
        }
      ]
    },
    {
      "cell_type": "code",
      "metadata": {
        "id": "et6pvOnWZ570",
        "outputId": "d0f1b729-f9c2-4207-bce1-ec102c8134fa",
        "colab": {
          "base_uri": "https://localhost:8080/"
        }
      },
      "source": [
        "50 > 60 #testando se um numero é maior que outro"
      ],
      "execution_count": 3,
      "outputs": [
        {
          "output_type": "execute_result",
          "data": {
            "text/plain": [
              "False"
            ]
          },
          "metadata": {
            "tags": []
          },
          "execution_count": 3
        }
      ]
    },
    {
      "cell_type": "code",
      "metadata": {
        "id": "ySkogwZVZ80n",
        "outputId": "e3ad5816-20c9-490e-cef1-c8d300d607f8",
        "colab": {
          "base_uri": "https://localhost:8080/"
        }
      },
      "source": [
        "\"alex\" == \"alex\" #também funciona com letras e palavras"
      ],
      "execution_count": 7,
      "outputs": [
        {
          "output_type": "execute_result",
          "data": {
            "text/plain": [
              "True"
            ]
          },
          "metadata": {
            "tags": []
          },
          "execution_count": 7
        }
      ]
    },
    {
      "cell_type": "code",
      "metadata": {
        "id": "7bBhoZsWaA_N",
        "outputId": "443c2af3-1f37-4cf1-f9d5-4b06a3a96dd2",
        "colab": {
          "base_uri": "https://localhost:8080/"
        }
      },
      "source": [
        "num = 10 #declarando uma variavel com um valor\n",
        "if num < 20: #fazendo o teste lógico. SE a variavel for menor que 20\n",
        "  print(\"É menor\") #faz isso\n",
        "else: #senão\n",
        "  print(\"É maior\") #faz isso"
      ],
      "execution_count": 9,
      "outputs": [
        {
          "output_type": "stream",
          "text": [
            "É menor\n"
          ],
          "name": "stdout"
        }
      ]
    },
    {
      "cell_type": "code",
      "metadata": {
        "id": "KKVFm1KWasOZ",
        "outputId": "9410c6d3-f96d-4b1e-e5d7-0855070d55f8",
        "colab": {
          "base_uri": "https://localhost:8080/"
        }
      },
      "source": [
        "#declarações com mais que um teste\n",
        "idade = 17\n",
        "if idade < 16:\n",
        "  print(\"No Brasil você não pode votar e nem dirigir\")\n",
        "elif idade < 18:\n",
        "  print(\"No Brasil você pode votar mas não pode dirigir\")\n",
        "else:\n",
        "  print(\"No Brasil você pode votar e dirigir\")"
      ],
      "execution_count": 11,
      "outputs": [
        {
          "output_type": "stream",
          "text": [
            "No Brasil você pode votar mas não pode dirigir\n"
          ],
          "name": "stdout"
        }
      ]
    },
    {
      "cell_type": "code",
      "metadata": {
        "id": "u8wk_8x0b7HG",
        "outputId": "8ad38f00-9d2c-4cb7-b592-2b6abf258ac4",
        "colab": {
          "base_uri": "https://localhost:8080/"
        }
      },
      "source": [
        "#pode utilizar combinado com while\n",
        "idade = 10\n",
        "while idade < 21:\n",
        "  if idade < 16:\n",
        "    print(f\"Sua idade é {idade} e no Brasil você não pode votar e nem dirigir\")\n",
        "    idade = idade + 1\n",
        "  elif idade < 18:\n",
        "    print(f\"Sua idade é {idade} e no Brasil você pode votar mas não pode dirigir\")\n",
        "    idade = idade + 1\n",
        "  else:\n",
        "    print(f\"Sua idade é {idade} e no Brasil você pode votar e dirigir\")\n",
        "    idade = idade + 1"
      ],
      "execution_count": 18,
      "outputs": [
        {
          "output_type": "stream",
          "text": [
            "Sua idade é 10 e no Brasil você não pode votar e nem dirigir\n",
            "Sua idade é 11 e no Brasil você não pode votar e nem dirigir\n",
            "Sua idade é 12 e no Brasil você não pode votar e nem dirigir\n",
            "Sua idade é 13 e no Brasil você não pode votar e nem dirigir\n",
            "Sua idade é 14 e no Brasil você não pode votar e nem dirigir\n",
            "Sua idade é 15 e no Brasil você não pode votar e nem dirigir\n",
            "Sua idade é 16 e no Brasil você pode votar mas não pode dirigir\n",
            "Sua idade é 17 e no Brasil você pode votar mas não pode dirigir\n",
            "Sua idade é 18 e no Brasil você pode votar e dirigir\n",
            "Sua idade é 19 e no Brasil você pode votar e dirigir\n",
            "Sua idade é 20 e no Brasil você pode votar e dirigir\n"
          ],
          "name": "stdout"
        }
      ]
    },
    {
      "cell_type": "code",
      "metadata": {
        "id": "IyQaJCzJd976",
        "outputId": "717c37ef-4fd1-4da0-fb5d-975237b73c24",
        "colab": {
          "base_uri": "https://localhost:8080/"
        }
      },
      "source": [
        "#pode utilizar combinado com for\n",
        "cardapio = [\"Hamburguer\", \"Batata frita\", \"Refrigerante\", \"MilkShake\"]\n",
        "solicitacoes = [\"Hamburguer\", \"Batata frita\", \"MilkShake\"]\n",
        "\n",
        "for itens in cardapio:\n",
        "  if itens in solicitacoes:\n",
        "    print(f\"Colocando {itens} no pedido\")\n",
        "print(\"Pedido Concluido\")"
      ],
      "execution_count": 16,
      "outputs": [
        {
          "output_type": "stream",
          "text": [
            "Colocando Hamburguer no pedido\n",
            "Colocando Batata frita no pedido\n",
            "Colocando MilkShake no pedido\n",
            "Pedido Concluido\n"
          ],
          "name": "stdout"
        }
      ]
    },
    {
      "cell_type": "markdown",
      "metadata": {
        "id": "Fn0nL38ogfNP"
      },
      "source": [
        "Missao 13"
      ]
    },
    {
      "cell_type": "code",
      "metadata": {
        "id": "1cDISHVKfmYv",
        "outputId": "e60f449b-96e1-4f0a-f70b-6c16249e47d3",
        "colab": {
          "base_uri": "https://localhost:8080/"
        }
      },
      "source": [
        "#3. Vamos supor que um cliente no seu site foi bloqueado. \n",
        "#Crie uma variável chamada status_cliente igual a 'ativo', 'inativo' ou 'bloqueado'.\n",
        "#a. Escreva uma declaração if para testar se o status do cliente é bloqueado. \n",
        "#Se sim (True), print que o cliente está bloqueado.\n",
        "\n",
        "status = [\"ativo\", \"inativo\", \"bloqueado\"]\n",
        "clientes = \"bloqueado\"\n",
        "\n",
        "for situacao in status:\n",
        "  if clientes == situacao:\n",
        "    print(\"Cliente bloqueado\")"
      ],
      "execution_count": 23,
      "outputs": [
        {
          "output_type": "stream",
          "text": [
            "Cliente bloqueado\n"
          ],
          "name": "stdout"
        }
      ]
    },
    {
      "cell_type": "code",
      "metadata": {
        "id": "izn3rUY_h2mB",
        "outputId": "802ad4cb-27f7-4bae-e61a-07a247715f72",
        "colab": {
          "base_uri": "https://localhost:8080/"
        }
      },
      "source": [
        "#4. Usando o mesmo exemplo acima:\n",
        "#a. Faça ​uma declaração if-else, se o cliente for ativo print \"cliente ativo\" \n",
        "#senão print \"cliente pode estar bloqueado ou inativo\"\n",
        "\n",
        "clientes = \"bloqueado\"\n",
        "\n",
        "if clientes == \"ativo\":\n",
        "  print(\"Cliente ativo\")\n",
        "else:\n",
        "  print(\"Cliente pode estar bloqueado ou inativo\") "
      ],
      "execution_count": 25,
      "outputs": [
        {
          "output_type": "stream",
          "text": [
            "Cliente pode estar bloqueado ou inativo\n"
          ],
          "name": "stdout"
        }
      ]
    },
    {
      "cell_type": "code",
      "metadata": {
        "id": "moM_88dKjvMp",
        "outputId": "edc51bf1-377f-4d4e-f8c8-4903b7a14fe9",
        "colab": {
          "base_uri": "https://localhost:8080/"
        }
      },
      "source": [
        "#5. Mesma lista acima:\n",
        "#a. Faça uma declaração ​if-elif-else, se o cliente for ativo, \n",
        "#print \"cliente ativo\" se for inativo print \"cliente inativo\" e no else \n",
        "#como \"cliente bloqueado\"\n",
        "\n",
        "clientes = \"bloqueado\"\n",
        "\n",
        "if clientes == \"ativo\":\n",
        "  print(\"Cliente ativo\")\n",
        "elif clientes == \"bloqueado\":\n",
        "  print(\"Cliente bloqueado\")\n",
        "else:\n",
        "  print(\"Cliente inativo\")   "
      ],
      "execution_count": 27,
      "outputs": [
        {
          "output_type": "stream",
          "text": [
            "Cliente bloqueado\n"
          ],
          "name": "stdout"
        }
      ]
    },
    {
      "cell_type": "code",
      "metadata": {
        "id": "iuGKQoJQj8EG"
      },
      "source": [
        ""
      ],
      "execution_count": null,
      "outputs": []
    }
  ]
}