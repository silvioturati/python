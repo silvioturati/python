{
  "nbformat": 4,
  "nbformat_minor": 0,
  "metadata": {
    "colab": {
      "name": "arquivos_excecoes.ipynb",
      "provenance": [],
      "mount_file_id": "1ScOJvgsTWtvuuLGnnyqJUWDVSbGOO1z2",
      "authorship_tag": "ABX9TyOpYfmZkiC5Cyti85rPf8TN",
      "include_colab_link": true
    },
    "kernelspec": {
      "name": "python3",
      "display_name": "Python 3"
    }
  },
  "cells": [
    {
      "cell_type": "markdown",
      "metadata": {
        "id": "view-in-github",
        "colab_type": "text"
      },
      "source": [
        "<a href=\"https://colab.research.google.com/github/silvioturati/python/blob/main/arquivos_excecoes.ipynb\" target=\"_parent\"><img src=\"https://colab.research.google.com/assets/colab-badge.svg\" alt=\"Open In Colab\"/></a>"
      ]
    },
    {
      "cell_type": "markdown",
      "metadata": {
        "id": "GumwMXjuRGfi"
      },
      "source": [
        "Abrindo um arquivo"
      ]
    },
    {
      "cell_type": "code",
      "metadata": {
        "id": "qdJKrCqPKFsm"
      },
      "source": [
        "#comando o with abre e fecha o arquivo\n",
        "#open abre o arquivo se não usasse o with, o arquivo não fecharia\n",
        "#as objeto_arquivo está sendo criado um objeto do tipo arquivo\n",
        "#lemos o objeto com a read() carregando seu conteudo na variavel conteudo\n",
        "\n",
        "with open(\"/content/drive/MyDrive/Colab_Notebooks/arquivos_excecoes/digitos_pi.txt\") as objeto_arquivo:\n",
        "  conteudo = objeto_arquivo.read()\n",
        "  print(conteudo)"
      ],
      "execution_count": null,
      "outputs": []
    },
    {
      "cell_type": "markdown",
      "metadata": {
        "id": "cSJts0NERJE0"
      },
      "source": [
        "Caminhos depende do sistema operacional"
      ]
    },
    {
      "cell_type": "code",
      "metadata": {
        "id": "Kiyp34X2PWLj"
      },
      "source": [
        "caminho_windows = \"C:\\Users\\Teste\\digitos_pi.txt\"\n",
        "caminho_linux = '/home/usuario/teste/digitos_pi.txt'"
      ],
      "execution_count": null,
      "outputs": []
    },
    {
      "cell_type": "markdown",
      "metadata": {
        "id": "CjEFU2grRM0r"
      },
      "source": [
        "Usando os.path.join para identificar o sistema operacional"
      ]
    },
    {
      "cell_type": "code",
      "metadata": {
        "colab": {
          "base_uri": "https://localhost:8080/"
        },
        "id": "wH-mjccwM3WI",
        "outputId": "58ca8c6d-6800-422e-e156-020bfda28f6e"
      },
      "source": [
        "#usando o import os, o python já identifica o sistema operacional\n",
        "\n",
        "import os\n",
        "\n",
        "caminho = '/content/drive/MyDrive/Colab_Notebooks/arquivos_excecoes'\n",
        "arquivo = 'digitos_pi.txt'\n",
        "caminho_completo = os.path.join(caminho, arquivo)\n",
        "print(caminho_completo)"
      ],
      "execution_count": null,
      "outputs": [
        {
          "output_type": "stream",
          "text": [
            "/content/drive/MyDrive/Colab_Notebooks/arquivos_excecoes/digitos_pi.txt\n"
          ],
          "name": "stdout"
        }
      ]
    },
    {
      "cell_type": "markdown",
      "metadata": {
        "id": "WIruIMkORYeW"
      },
      "source": [
        "Lendo um arquivo linha a linha"
      ]
    },
    {
      "cell_type": "code",
      "metadata": {
        "id": "qAZOIc4oQkSy"
      },
      "source": [
        "with open(\"/content/drive/MyDrive/Colab_Notebooks/arquivos_excecoes/digitos_pi.txt\") as linhas:\n",
        "  for linha in linhas:\n",
        "    print(linha)"
      ],
      "execution_count": null,
      "outputs": []
    },
    {
      "cell_type": "markdown",
      "metadata": {
        "id": "dwt4mlo7SEOR"
      },
      "source": [
        "Criando uma lista de linhas"
      ]
    },
    {
      "cell_type": "code",
      "metadata": {
        "id": "0CJGGNpuR5Kz"
      },
      "source": [
        "with open(\"/content/drive/MyDrive/Colab_Notebooks/arquivos_excecoes/digitos_pi.txt\") as obj:\n",
        "  linhas = obj.readlines()\n",
        "\n",
        "for linha in linhas:\n",
        "  print(linha.rstrip())  #rstrip elimina o espaços em branco da direita"
      ],
      "execution_count": null,
      "outputs": []
    },
    {
      "cell_type": "code",
      "metadata": {
        "id": "m30-cQ_-SeuS"
      },
      "source": [
        "with open(\"/content/drive/MyDrive/Colab_Notebooks/arquivos_excecoes/digitos_pi.txt\") as obj:\n",
        "  linhas = obj.readlines()\n",
        "\n",
        "string_pi = ''\n",
        "for linha in linhas:\n",
        "  string_pi += linha.rstrip()\n",
        "\n",
        "print(string_pi)"
      ],
      "execution_count": null,
      "outputs": []
    },
    {
      "cell_type": "code",
      "metadata": {
        "colab": {
          "base_uri": "https://localhost:8080/"
        },
        "id": "_5S43JCWTKu1",
        "outputId": "89549ad7-fc93-4a9a-8e23-6cce766f823a"
      },
      "source": [
        "print(\"%.2f\" % float(string_pi)) #só uma forma de arredondar o numero"
      ],
      "execution_count": null,
      "outputs": [
        {
          "output_type": "stream",
          "text": [
            "3.14\n"
          ],
          "name": "stdout"
        }
      ]
    },
    {
      "cell_type": "code",
      "metadata": {
        "colab": {
          "base_uri": "https://localhost:8080/"
        },
        "id": "CtBdYuAEUgV5",
        "outputId": "7a5f45ca-56a0-47e8-b3b8-4faaf22fb46c"
      },
      "source": [
        "print(string_pi[:52] + \"...\") #fatiando a lista mostrando até a posição 52"
      ],
      "execution_count": null,
      "outputs": [
        {
          "output_type": "stream",
          "text": [
            "3.14159265358979323846264338327950288419716939937510...\n"
          ],
          "name": "stdout"
        }
      ]
    },
    {
      "cell_type": "code",
      "metadata": {
        "colab": {
          "base_uri": "https://localhost:8080/"
        },
        "id": "CQ661UdbVNz6",
        "outputId": "12fa28d8-33dc-43d5-f802-40e98daa36d6"
      },
      "source": [
        "aniversario = input(\"Digite sua data de nascimento (ddmmyy): \")\n",
        "if aniversario in string_pi:\n",
        "  print(\"Seu aniversario aparece no primeiro milhao do numero pi.\")\n",
        "else:\n",
        "  print(\"Seu aniversario não aparece no primeiro milhao do numero pi.\")"
      ],
      "execution_count": null,
      "outputs": [
        {
          "output_type": "stream",
          "text": [
            "Digite sua data de nascimento (ddmmyy): 140277\n",
            "Seu aniversario aparece no primeiro milhao do numero pi.\n"
          ],
          "name": "stdout"
        }
      ]
    },
    {
      "cell_type": "markdown",
      "metadata": {
        "id": "j5BYwkGoXR9V"
      },
      "source": [
        "Missao 32"
      ]
    },
    {
      "cell_type": "code",
      "metadata": {
        "id": "x02nvKKkWnVL"
      },
      "source": [
        "#1. Abra um arquivo em branco em seu editor de texto e escreva algumas linhas que \n",
        "#sintetizem o que você aprendeu sobre Python até agora. Comece cada linha com a expressão \n",
        "#\"Em Python podemos....\" Salve o arquivo como learning_python.txt no mesmo diretório em \n",
        "#que estão seus exercícios desta aula. Escreva um programa que leia o arquivo e mostre o \n",
        "#que você escreveu, três vezes. Exiba o conteúdo uma vez lendo o arquivo todo, uma vez \n",
        "#percorrendo o objeto arquivo com um laço e outra armazenando as linhas em uma lista e \n",
        "#então trabalhando com ela fora do bloco with.\n",
        "\n",
        "with open('/content/drive/MyDrive/Colab_Notebooks/arquivos_excecoes/alice.txt') as obj:\n",
        "  alice = obj.read()\n",
        "  \n",
        "  print(alice)\n",
        "\n",
        "with open('/content/drive/MyDrive/Colab_Notebooks/arquivos_excecoes/alice.txt') as obj:\n",
        "  alice_lines = obj.readlines()\n",
        "  \n",
        "  alice_string = ''\n",
        "  for linha in alice_lines:\n",
        "    alice_string += linha.rstrip()\n",
        "  \n",
        "  print(alice_string)\n"
      ],
      "execution_count": null,
      "outputs": []
    },
    {
      "cell_type": "code",
      "metadata": {
        "colab": {
          "base_uri": "https://localhost:8080/",
          "height": 35
        },
        "id": "sJBtREENX7BX",
        "outputId": "42143c38-71e8-4f96-94ee-cf77cc215ca7"
      },
      "source": [
        "#2. Você pode usar o método replace() para substituir qualquer palavra por uma \n",
        "#palavra diferente em uma string. Eis um exemplo rápido que mostra como substituir \n",
        "#a palavra 'dog' por 'cat' em uma frase:\n",
        "\n",
        "message = \"I really like dogs.\"\n",
        "message.replace('dog', 'cat')"
      ],
      "execution_count": null,
      "outputs": [
        {
          "output_type": "execute_result",
          "data": {
            "application/vnd.google.colaboratory.intrinsic+json": {
              "type": "string"
            },
            "text/plain": [
              "'I really like cats.'"
            ]
          },
          "metadata": {
            "tags": []
          },
          "execution_count": 22
        }
      ]
    },
    {
      "cell_type": "code",
      "metadata": {
        "id": "5q0utd9KaEPM"
      },
      "source": [
        "#3. Leia cada linha do arquivo learning_python.txt que você acabou de criar e \n",
        "#substitua a palavra Python pelo nome de outra linguagem, por exemplo, C. \n",
        "#Mostre cada linha modificada na tela.\n",
        "\n",
        "alice_string.replace('Alice', 'Silvio')"
      ],
      "execution_count": null,
      "outputs": []
    },
    {
      "cell_type": "markdown",
      "metadata": {
        "id": "oInNuy2Fas-s"
      },
      "source": [
        "Escrevendo dados em arquivo"
      ]
    },
    {
      "cell_type": "code",
      "metadata": {
        "id": "dW450B3aabFr"
      },
      "source": [
        "nome_arquivo = '/content/drive/MyDrive/Colab_Notebooks/arquivos_excecoes/programando.txt'\n",
        "\n",
        "#ao abrir o arquivo no modo w estamos abriando no modo de escrita\n",
        "#usar esse modo, significa que o py vai apagar o arquivo e fazer um novo\n",
        "#para adcionar pode-se usar o modo a de append que vai acrescentar a informação no final\n",
        "#também tem o modo r+ que é ler e escrever\n",
        "with open(nome_arquivo, 'w') as arquivo_objeto:\n",
        "  arquivo_objeto.write(\"Teste de escrita no arquivo\")"
      ],
      "execution_count": null,
      "outputs": []
    },
    {
      "cell_type": "code",
      "metadata": {
        "id": "5Kzwe51ccTIi"
      },
      "source": [
        "nome_arquivo = '/content/drive/MyDrive/Colab_Notebooks/arquivos_excecoes/programando.txt'\n",
        "\n",
        "with open(nome_arquivo, 'w') as arquivo_objeto:\n",
        "  arquivo_objeto.write(\"Teste de escrita no arquivo\")\n",
        "  arquivo_objeto.write(\"\\nAdcionando uma linha no modo w, por isso mantivemos a linha anterior\")"
      ],
      "execution_count": null,
      "outputs": []
    },
    {
      "cell_type": "code",
      "metadata": {
        "id": "JM9dv-fadDdF"
      },
      "source": [
        "nome_arquivo = '/content/drive/MyDrive/Colab_Notebooks/arquivos_excecoes/programando.txt'\n",
        "\n",
        "with open(nome_arquivo, 'a') as arquivo_objeto:\n",
        "  arquivo_objeto.write(\"\\nAdcionando linha com o modo append, assim eu não precisei repetir as linhas.\")"
      ],
      "execution_count": null,
      "outputs": []
    },
    {
      "cell_type": "markdown",
      "metadata": {
        "id": "AV0NTXPieZXh"
      },
      "source": [
        "Missao 33"
      ]
    },
    {
      "cell_type": "code",
      "metadata": {
        "colab": {
          "base_uri": "https://localhost:8080/"
        },
        "id": "DntOUMvPeGi9",
        "outputId": "3bd1e0d5-fcae-4775-ad05-83b9356cf805"
      },
      "source": [
        "nome_usuario = input(\"Digite seu nome: \")\n",
        "\n",
        "arquivo_missao33 = '/content/drive/MyDrive/Colab_Notebooks/arquivos_excecoes/missao33.txt'\n",
        "\n",
        "with open(arquivo_missao33, 'w') as arq_33:\n",
        "  arq_33.write(nome_usuario)\n"
      ],
      "execution_count": null,
      "outputs": [
        {
          "output_type": "stream",
          "text": [
            "Digite seu nome: silvio\n"
          ],
          "name": "stdout"
        }
      ]
    },
    {
      "cell_type": "code",
      "metadata": {
        "colab": {
          "base_uri": "https://localhost:8080/"
        },
        "id": "4btxCEX2fB9N",
        "outputId": "76c73df7-42a4-4fc0-d901-a922814bf76f"
      },
      "source": [
        "#2. Lista de convidados - Escreva um laço while que pergunte o nome aos usuários.\n",
        "#Quando fornecerem seus nomes, apresente uma saudação na tela e acrescente uma linha\n",
        "#que registre a visita do usuário em um arquivo chamado livro_convidados.txt. \n",
        "#Certifique-se de que cada entrada esteja em uma nova linha do arquivo.\n",
        "\n",
        "flag = True\n",
        "while flag:\n",
        "\n",
        "  print(\"Seja bem vindo e assine nosso livro de convidados.\")\n",
        "  nome_convidado = input(\"Digite seu nome e tecle enter, se quiser terminar escreva sair: \")\n",
        "\n",
        "  if nome_convidado.lower() == 'sair':\n",
        "    flag = False\n",
        "    break\n",
        "  else:\n",
        "    arquivo_missao33 = '/content/drive/MyDrive/Colab_Notebooks/arquivos_excecoes/missao33.txt'\n",
        "    with open(arquivo_missao33, \"a\") as arq_33:\n",
        "      arq_33.write(\"\\n\" + nome_convidado.title())\n",
        "    continue\n",
        "\n"
      ],
      "execution_count": null,
      "outputs": [
        {
          "output_type": "stream",
          "text": [
            "Seja bem vindo e assine nosso livro de convidados.\n",
            "Digite seu nome e tecle enter, se quiser terminar escreva sair: teste exercicio2 missao 33\n",
            "Seja bem vindo e assine nosso livro de convidados.\n",
            "Digite seu nome e tecle enter, se quiser terminar escreva sair: sair\n"
          ],
          "name": "stdout"
        }
      ]
    },
    {
      "cell_type": "code",
      "metadata": {
        "colab": {
          "base_uri": "https://localhost:8080/"
        },
        "id": "YiHlRCzMib2-",
        "outputId": "a5948800-0e2a-4521-8809-1be552886abd"
      },
      "source": [
        "#3. Enquete sobre programação - Escreva um laço while que pergunte às pessoas \n",
        "#por que elas gostam de programação. Sempre que alguém fornecer um motivo, \n",
        "#acrescente-o em um arquivo que armazene todas as respostas.\n",
        "\n",
        "rodando = True\n",
        "while rodando:\n",
        "\n",
        "  print(\"Por favor, responda nossa enquete sobre programação.\")\n",
        "  resposta = input(\"Responda porque você gosta de programar ou digite sair: \")\n",
        "\n",
        "  if resposta.lower() == \"sair\":\n",
        "    rodando = False\n",
        "    break\n",
        "  else:\n",
        "    respostas = '/content/drive/MyDrive/Colab_Notebooks/arquivos_excecoes/missao33.txt'\n",
        "    with open(respostas, 'a') as obj:\n",
        "      obj.write(\"\\n\" + resposta.lower())\n",
        "      continue\n",
        "\n"
      ],
      "execution_count": null,
      "outputs": [
        {
          "output_type": "stream",
          "text": [
            "Por favor, responda nossa enquete sobre programação.\n",
            "Responda porque você gosta de programar ou digite sair: o software rodando é muito legal de ver\n",
            "Por favor, responda nossa enquete sobre programação.\n",
            "Responda porque você gosta de programar ou digite sair: sair\n"
          ],
          "name": "stdout"
        }
      ]
    },
    {
      "cell_type": "markdown",
      "metadata": {
        "id": "TSPLxIQtk261"
      },
      "source": [
        "Exceções"
      ]
    },
    {
      "cell_type": "code",
      "metadata": {
        "colab": {
          "base_uri": "https://localhost:8080/"
        },
        "id": "4cmCx6s8kPnO",
        "outputId": "84f439e3-2ef6-4115-fb2c-1362c198485f"
      },
      "source": [
        "#sempre que ocorrer um erro que o Python não tenha certeza do que fazer, ele vai levantar uma excessão\n",
        "#por exemplo, num determinado momento o usuário pode digitar algo errado e causar um erro e o software\n",
        "#travaria, se a gente trata o erro, isso é a exceção, o software pode contiunuar rodando\n",
        "\n",
        "#por exemplo, um número dividido por zero, sabemos que vai dar erro. Vai que fazemos uma calculadora\n",
        "\n",
        "try:\n",
        "  print(5/0)\n",
        "except ZeroDivisionError:\n",
        "  print(\"Nunca dividiras por zero!\")\n",
        "\n",
        "print(\"O PYTHON tratou o erro informando o usuário e continuou rodando, pois está printando essa frase\")"
      ],
      "execution_count": null,
      "outputs": [
        {
          "output_type": "stream",
          "text": [
            "Nunca dividiras por zero!\n",
            "O PYTHON tratou o erro informando o usuário e continuou rodando, pois está printando essa frase\n"
          ],
          "name": "stdout"
        }
      ]
    },
    {
      "cell_type": "code",
      "metadata": {
        "colab": {
          "base_uri": "https://localhost:8080/"
        },
        "id": "xduCl5ZbmK-0",
        "outputId": "d02a73a0-d35f-4f9a-986b-39189b2c87c7"
      },
      "source": [
        "print(\"Informe dois numeros para divisão.\")\n",
        "print(\"Digite q para sair.\")\n",
        "\n",
        "while True:\n",
        "  num1 = input(\"Digite o dividendo: \")\n",
        "  if num1.lower() == 'q':\n",
        "    break\n",
        "  \n",
        "  num2 = input(\"Digite o divisor: \")\n",
        "  if num2.lower() == 'q':\n",
        "    break\n",
        "  \n",
        "  try:\n",
        "    resposta = int(num1)/int(num2)\n",
        "  except ZeroDivisionError:\n",
        "    print(\"Não pode dividir por zero.\")\n",
        "  else:\n",
        "    print(resposta)"
      ],
      "execution_count": null,
      "outputs": [
        {
          "output_type": "stream",
          "text": [
            "Informe dois numeros para divisão.\n",
            "Digite q para sair.\n",
            "Digite o dividendo: 5\n",
            "Digite o divisor: 0\n",
            "Não pode dividir por zero.\n",
            "Digite o dividendo: 5\n",
            "Digite o divisor: 1\n",
            "5.0\n",
            "Digite o dividendo: q\n"
          ],
          "name": "stdout"
        }
      ]
    },
    {
      "cell_type": "code",
      "metadata": {
        "colab": {
          "base_uri": "https://localhost:8080/"
        },
        "id": "__9xhbdoogXs",
        "outputId": "0c5fe9db-22ef-482a-bc93-90413a2c9989"
      },
      "source": [
        "#outro caso é tratar quando não encontramos o arquivo\n",
        "\n",
        "arquivo2 = 'alice2.txt'\n",
        "\n",
        "try:\n",
        "  with open(arquivo2) as obj:\n",
        "    conteudo = obj.read()\n",
        "except FileNotFoundError:\n",
        "  print(f\"Arquivo {arquivo2} não encontrado.\")\n",
        "  "
      ],
      "execution_count": null,
      "outputs": [
        {
          "output_type": "stream",
          "text": [
            "Arquivo alice2.txt não encontrado.\n"
          ],
          "name": "stdout"
        }
      ]
    },
    {
      "cell_type": "markdown",
      "metadata": {
        "id": "x0hNUaZzqtct"
      },
      "source": [
        "Analisando textos"
      ]
    },
    {
      "cell_type": "code",
      "metadata": {
        "colab": {
          "base_uri": "https://localhost:8080/"
        },
        "id": "uEUlOQqEqZK-",
        "outputId": "f87a3db0-7d2e-43fd-a276-8446f5a4588b"
      },
      "source": [
        "titulo = \"Alice no país das maravilhas\"\n",
        "titulo.split() #a função split pega cada palavra e coloca numa lista"
      ],
      "execution_count": null,
      "outputs": [
        {
          "output_type": "execute_result",
          "data": {
            "text/plain": [
              "['Alice', 'no', 'país', 'das', 'maravilhas']"
            ]
          },
          "metadata": {
            "tags": []
          },
          "execution_count": 43
        }
      ]
    },
    {
      "cell_type": "code",
      "metadata": {
        "colab": {
          "base_uri": "https://localhost:8080/"
        },
        "id": "tf1UEehIq5ea",
        "outputId": "5afa2e73-35b7-4dfb-ebe4-f5180fcdd6c2"
      },
      "source": [
        "import os\n",
        "\n",
        "caminho_arquivo3 = \"/content/drive/MyDrive/Colab_Notebooks/arquivos_excecoes/\"\n",
        "nome_arquivo3 = \"alice.txt\"\n",
        "arquivo_completo = os.path.join(caminho_arquivo3, nome_arquivo3)\n",
        "\n",
        "try:\n",
        "  with open(arquivo_completo) as obj_arq:\n",
        "    conteudo = obj_arq.read()\n",
        "except FileNotFoundError:\n",
        "  print(f\"Arquivo {nome_arquivo3} não encontrado\")\n",
        "else:\n",
        "  #contar o numero aproximado de palavras\n",
        "  palavras = conteudo.split()\n",
        "  print(f\"O arquivo {nome_arquivo3} contem {len(palavras)} palavras\")\n",
        "  print(palavras[:10])"
      ],
      "execution_count": null,
      "outputs": [
        {
          "output_type": "stream",
          "text": [
            "O arquivo alice.txt contem 29608 palavras\n",
            "['The', 'Project', 'Gutenberg', 'EBook', 'of', 'Alice’s', 'Adventures', 'in', 'Wonderland,', 'by']\n"
          ],
          "name": "stdout"
        }
      ]
    },
    {
      "cell_type": "code",
      "metadata": {
        "colab": {
          "base_uri": "https://localhost:8080/"
        },
        "id": "5-rSy1FCr91W",
        "outputId": "97fdcba5-6902-404f-8044-8afbdd428788"
      },
      "source": [
        "#se criamos um contador de palavras de um arquivo e isso é uma tarefa repetitiva, então\n",
        "#podemos criar uma função para chama-la toda vez que quisermos contar as plavaras de um arquivo\n",
        "\n",
        "def contador_palavras(arquivo_completo4, nome_arquivo4):\n",
        "  \"\"\"Conta o número de palavras de um arquivo.\"\"\"\n",
        "\n",
        "  try:\n",
        "    with open(arquivo_completo4) as obj4:\n",
        "      conteudo4 = obj4.read()\n",
        "  except FileNotFoundError:\n",
        "    print(f\"Arquivo {arquivo_completo4} não encontrado.\")\n",
        "  else:\n",
        "    palavras = conteudo.split()\n",
        "    print(f\"O arquivo {nome_arquivo4} contem {len(palavras)} palavras\")\n",
        "\n",
        "\n",
        "import os\n",
        "\n",
        "caminho_arquivo4 = \"/content/drive/MyDrive/Colab_Notebooks/arquivos_excecoes/\"\n",
        "nome_arquivo4 = \"alice.txt\"\n",
        "arquivo_completo4 = os.path.join(caminho_arquivo4, nome_arquivo3)\n",
        "\n",
        "contador_palavras(arquivo_completo4, nome_arquivo4)"
      ],
      "execution_count": null,
      "outputs": [
        {
          "output_type": "stream",
          "text": [
            "O arquivo alice.txt contem 29608 palavras\n"
          ],
          "name": "stdout"
        }
      ]
    },
    {
      "cell_type": "code",
      "metadata": {
        "colab": {
          "base_uri": "https://localhost:8080/"
        },
        "id": "HLFYlIjSu9FN",
        "outputId": "d536697b-de61-461a-909f-3056eac7620b"
      },
      "source": [
        "#criando uma lista e lendo arquivo por arquivo da lista\n",
        "\n",
        "def contador_palavras(arquivo_completo5, nome_arquivo5):\n",
        "  \"\"\"Conta o número de palavras de um arquivo.\"\"\"\n",
        "\n",
        "  try:\n",
        "    with open(arquivo_completo5) as obj5:\n",
        "      conteudo5 = obj5.read()\n",
        "  except FileNotFoundError:\n",
        "    print(f\"Arquivo {arquivo_completo5} não encontrado.\")\n",
        "  else:\n",
        "    palavras5 = conteudo5.split()\n",
        "    print(f\"O arquivo {nome_arquivo5} contem {len(palavras5)} palavras\")\n",
        "\n",
        "\n",
        "import os\n",
        "\n",
        "caminho_arquivo5 = \"/content/drive/MyDrive/Colab_Notebooks/arquivos_excecoes/\"\n",
        "nomes_arquivo5 = [\"alice.txt\", \"littlewomen.txt\", \"essenaotenho.txt\", \"mobydick.txt\", \"essenaoexiste.txt\"]\n",
        "\n",
        "for nome_arquivo5 in nomes_arquivo5:\n",
        "  arquivo_completo5 = os.path.join(caminho_arquivo5, nome_arquivo5)\n",
        "  contador_palavras(arquivo_completo5, nome_arquivo5)\n",
        "  "
      ],
      "execution_count": null,
      "outputs": [
        {
          "output_type": "stream",
          "text": [
            "O arquivo alice.txt contem 29608 palavras\n",
            "O arquivo littlewomen.txt contem 189092 palavras\n",
            "Arquivo /content/drive/MyDrive/Colab_Notebooks/arquivos_excecoes/essenaotenho.txt não encontrado.\n",
            "O arquivo mobydick.txt contem 215830 palavras\n",
            "Arquivo /content/drive/MyDrive/Colab_Notebooks/arquivos_excecoes/essenaoexiste.txt não encontrado.\n"
          ],
          "name": "stdout"
        }
      ]
    },
    {
      "cell_type": "markdown",
      "metadata": {
        "id": "GyGni01EySmi"
      },
      "source": [
        "Falhar em silêncio (não informa o usuário)"
      ]
    },
    {
      "cell_type": "code",
      "metadata": {
        "colab": {
          "base_uri": "https://localhost:8080/"
        },
        "id": "GKMHDweixXr3",
        "outputId": "95cb111a-7bce-4447-8f02-9394772fbe72"
      },
      "source": [
        "def contador_palavras(arquivo_completo5, nome_arquivo5):\n",
        "  \"\"\"Conta o número de palavras de um arquivo.\"\"\"\n",
        "\n",
        "  try:\n",
        "    with open(arquivo_completo5) as obj5:\n",
        "      conteudo5 = obj5.read()\n",
        "  except FileNotFoundError:\n",
        "    pass #simplesmente passamos\n",
        "  else:\n",
        "    palavras5 = conteudo5.split()\n",
        "    print(f\"O arquivo {nome_arquivo5} contem {len(palavras5)} palavras\")\n",
        "\n",
        "\n",
        "import os\n",
        "\n",
        "caminho_arquivo5 = \"/content/drive/MyDrive/Colab_Notebooks/arquivos_excecoes/\"\n",
        "nomes_arquivo5 = [\"alice.txt\", \"littlewomen.txt\", \"essenaotenho.txt\", \"mobydick.txt\", \"essenaoexiste.txt\"]\n",
        "\n",
        "for nome_arquivo5 in nomes_arquivo5:\n",
        "  arquivo_completo5 = os.path.join(caminho_arquivo5, nome_arquivo5)\n",
        "  contador_palavras(arquivo_completo5, nome_arquivo5)\n",
        "  "
      ],
      "execution_count": null,
      "outputs": [
        {
          "output_type": "stream",
          "text": [
            "O arquivo alice.txt contem 29608 palavras\n",
            "O arquivo littlewomen.txt contem 189092 palavras\n",
            "O arquivo mobydick.txt contem 215830 palavras\n"
          ],
          "name": "stdout"
        }
      ]
    },
    {
      "cell_type": "markdown",
      "metadata": {
        "id": "_vunrMGczOyO"
      },
      "source": [
        "Missao34"
      ]
    },
    {
      "cell_type": "code",
      "metadata": {
        "colab": {
          "base_uri": "https://localhost:8080/"
        },
        "id": "BNGXmFGOymVY",
        "outputId": "196c8707-e641-4f83-927a-fe110c11487a"
      },
      "source": [
        "#1. Um problema comum quando pedir entradas numéricas ocorre quando as pessoas \n",
        "#fornecem texto no lugar de números. Ao tentar converter a entrada para um int, \n",
        "#você obterá um TypeError. Escreva um programa que peça dois números ao usuário. \n",
        "#Some-os e mostre o resultado. Capture o TypeError caso algum dos valores de entrada \n",
        "#não seja um número e apresente uma mensagem de erro simpática. Teste seu programa\n",
        "#fornecendo dois números e, em seguida, digite um texto no lugar de um número.\n",
        "\n",
        "while True:\n",
        "  entrada1 = input('Digite um número: ')\n",
        "  try:\n",
        "    num1 = int(entrada1)\n",
        "  except ValueError:\n",
        "    print(\"Você não digitou um número. Tente novamente\")\n",
        "    continue\n",
        "  else:\n",
        "    break\n",
        "\n",
        "while True:\n",
        "  entrada2 = input(\"Digite outro número: \")\n",
        "  try:\n",
        "    num2 = int(entrada2)\n",
        "  except ValueError:\n",
        "    print(\"Você não digitou um número. Tente novamente\")\n",
        "    continue\n",
        "  else:\n",
        "    break\n",
        "\n",
        "result = num1 + num2\n",
        "print(result)"
      ],
      "execution_count": null,
      "outputs": [
        {
          "output_type": "stream",
          "text": [
            "Digite um número: a\n",
            "Você não digitou um número.\n",
            "Digite um número: 2\n",
            "Digite outro número: a\n",
            "Você não digitou um número.\n",
            "Digite outro número: 2\n",
            "4\n"
          ],
          "name": "stdout"
        }
      ]
    },
    {
      "cell_type": "code",
      "metadata": {
        "colab": {
          "base_uri": "https://localhost:8080/"
        },
        "id": "FpDGD6cJknrY",
        "outputId": "ddf42e71-1429-4c63-d852-6b47e5a324dc"
      },
      "source": [
        "#2. Gatos e cachorros - Crie dois arquivos, cats.txt e dogs.txt. Armazene pelo menos \r\n",
        "#três nomes de gatos no primeiro arquivo e três nomes de cachorros no segundo arquivo. \r\n",
        "#Escreva um programa que tente ler esses arquivos e mostre o conteúdo do arquivo na tela. \r\n",
        "#Coloque seu código em um bloco try-except para capturar o erro FileNotFound e apresente \r\n",
        "#uma mensagem simpática caso o arquivo não esteja presente. Mova um dos arquivos para um\r\n",
        "#local diferente de seu sistema e garanta que o código no bloco except seja executado de forma apropriada.\r\n",
        "\r\n",
        "cat_file = \"/content/drive/MyDrive/Colab_Notebooks/arquivos_excecoes/cats.txt\"\r\n",
        "dog_file = \"/content/drive/MyDrive/Colab_Notebooks/arquivos_excecoes/dogs.txt\"\r\n",
        "\r\n",
        "try:\r\n",
        "  with open(cat_file) as cat_obj:\r\n",
        "    cats = cat_obj.read()\r\n",
        "except FileNotFoundError:\r\n",
        "  print(f\"\\nArquivo {cat_file} não encontrado.\")\r\n",
        "else:\r\n",
        "  print(\"\\n\" + cats)\r\n",
        "\r\n",
        "try:\r\n",
        "  with open(dog_file) as dog_obj:\r\n",
        "    dogs = dog_obj.read()\r\n",
        "except FileNotFoundError:\r\n",
        "  print(f\"\\nArquivo {cat_file} não encontrado.\")\r\n",
        "else:\r\n",
        "  print(\"\\n\" + dogs)\r\n"
      ],
      "execution_count": 12,
      "outputs": [
        {
          "output_type": "stream",
          "text": [
            "\n",
            "Gato Felix\n",
            "Tom & Jerry\n",
            "Manda Chuva\n",
            "\n",
            "Arquivo /content/drive/MyDrive/Colab_Notebooks/arquivos_excecoes/cats.txt não encontrado.\n"
          ],
          "name": "stdout"
        }
      ]
    },
    {
      "cell_type": "code",
      "metadata": {
        "colab": {
          "base_uri": "https://localhost:8080/"
        },
        "id": "Q6A0F3B8m2qt",
        "outputId": "a907b41c-47d4-400a-bb29-0e1559bc3beb"
      },
      "source": [
        "#3. Gatos e cachorros silenciosos - Modifique o seu bloco except do exercício \r\n",
        "#anterior para falhar silenciosamente caso um dos arquivos esteja ausente.\r\n",
        "\r\n",
        "cat_file = \"/content/drive/MyDrive/Colab_Notebooks/arquivos_excecoes/cats.txt\"\r\n",
        "dog_file = \"/content/drive/MyDrive/Colab_Notebooks/arquivos_excecoes/dogs.txt\"\r\n",
        "\r\n",
        "try:\r\n",
        "  with open(cat_file) as cat_obj:\r\n",
        "    cats = cat_obj.read()\r\n",
        "except FileNotFoundError:\r\n",
        "  pass\r\n",
        "else:\r\n",
        "  print(\"\\n\" + cats)\r\n",
        "\r\n",
        "try:\r\n",
        "  with open(dog_file) as dog_obj:\r\n",
        "    dogs = dog_obj.read()\r\n",
        "except FileNotFoundError:\r\n",
        "  pass\r\n",
        "else:\r\n",
        "  print(\"\\n\" + dogs)"
      ],
      "execution_count": 13,
      "outputs": [
        {
          "output_type": "stream",
          "text": [
            "\n",
            "Gato Felix\n",
            "Tom & Jerry\n",
            "Manda Chuva\n"
          ],
          "name": "stdout"
        }
      ]
    },
    {
      "cell_type": "code",
      "metadata": {
        "colab": {
          "base_uri": "https://localhost:8080/"
        },
        "id": "FrcjjJexp2X8",
        "outputId": "fc67152c-4e69-4a06-f07d-60a0489533f7"
      },
      "source": [
        "#4. Palavras comuns: Acesse o Projeto Gutenberg (http://gutenberg.org/ ) e encontre \r\n",
        "#alguns textos que você gostaria de analisar. Faça download dos arquivos-texto dessas \r\n",
        "#obras ou copie o texto puro de seu navegador para um arquivo-texto em seu computador. \r\n",
        "#Você pode usar o método count() para descobrir quantas vezes uma palavra ou expressão \r\n",
        "#aparece em uma string. Por exemplo, o código a seguir conta quantas vezes a palavra \r\n",
        "#'row' aparece em uma string:\r\n",
        "#\r\n",
        "#linha = \"Row, row, row your boat\"\r\n",
        "#linha.count('row')\r\n",
        "#\r\n",
        "#linha.lower().count('row')\r\n",
        "\r\n",
        "#Observe que converter a string para letras minúsculas usando lower() faz com que todas\r\n",
        "# as formas da palavra que você está procurando sejam capturadas, independentemente do \r\n",
        "#modo como elas estiverem grafadas.\r\n",
        "\r\n",
        "with open(\"/content/drive/MyDrive/Colab_Notebooks/arquivos_excecoes/littlewomen.txt\") as obj:\r\n",
        "  conteudo = obj.read()\r\n",
        "\r\n",
        "print(f\"\\nPesquise uma palavra em inglês no texto littlewomen.\")\r\n",
        "print(f\"        Digite sair quando quiser parar.\")\r\n",
        "\r\n",
        "while True:\r\n",
        " \r\n",
        "  word = input(\"\\nDigite uma palavra em inglês: \")\r\n",
        "\r\n",
        "  if word.lower() == \"sair\":\r\n",
        "    break\r\n",
        "  else:\r\n",
        "    repeticoes = conteudo.lower().count(word)\r\n",
        "    print(f\"\\nA palavra {word} aparece {repeticoes} vezes no texto.\")\r\n",
        "    continue"
      ],
      "execution_count": 21,
      "outputs": [
        {
          "output_type": "stream",
          "text": [
            "\n",
            "Pesquise uma palavra em inglês no texto littlewomen.\n",
            "        Digite sair quando quiser parar.\n",
            "\n",
            "Digite uma palavra em inglês: little\n",
            "\n",
            "A palavra little aparece 732 vezes no texto.\n",
            "\n",
            "Digite uma palavra em inglês: women\n",
            "\n",
            "A palavra women aparece 54 vezes no texto.\n",
            "\n",
            "Digite uma palavra em inglês: a\n",
            "\n",
            "A palavra a aparece 63880 vezes no texto.\n",
            "\n",
            "Digite uma palavra em inglês: sair\n"
          ],
          "name": "stdout"
        }
      ]
    },
    {
      "cell_type": "code",
      "metadata": {
        "id": "xw0Q9SnntKe0"
      },
      "source": [
        ""
      ],
      "execution_count": null,
      "outputs": []
    }
  ]
}