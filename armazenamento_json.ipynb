{
  "nbformat": 4,
  "nbformat_minor": 0,
  "metadata": {
    "colab": {
      "name": "armazenamento-json.ipynb",
      "provenance": [],
      "authorship_tag": "ABX9TyOWHx7y6JbmJtRnNAY4iEps",
      "include_colab_link": true
    },
    "kernelspec": {
      "name": "python3",
      "display_name": "Python 3"
    }
  },
  "cells": [
    {
      "cell_type": "markdown",
      "metadata": {
        "id": "view-in-github",
        "colab_type": "text"
      },
      "source": [
        "<a href=\"https://colab.research.google.com/github/silvioturati/python/blob/main/armazenamento_json.ipynb\" target=\"_parent\"><img src=\"https://colab.research.google.com/assets/colab-badge.svg\" alt=\"Open In Colab\"/></a>"
      ]
    },
    {
      "cell_type": "code",
      "metadata": {
        "id": "E-eSlcImuY3c"
      },
      "source": [
        "#criando um arquivo tipo json\r\n",
        "\r\n",
        "import json\r\n",
        "\r\n",
        "numeros = [1, 2, 3, 4, 5, 6]\r\n",
        "\r\n",
        "nome_arq = \"numero.json\"\r\n",
        "\r\n",
        "with open(nome_arq, 'w') as obj:\r\n",
        "  json.dump(numeros, obj)"
      ],
      "execution_count": 3,
      "outputs": []
    },
    {
      "cell_type": "code",
      "metadata": {
        "colab": {
          "base_uri": "https://localhost:8080/"
        },
        "id": "vpEepwhrutw-",
        "outputId": "b7c4a2d7-fcaa-4ecd-b440-1f2796711d6b"
      },
      "source": [
        "#abrindo um arquivo tipo json\r\n",
        "\r\n",
        "with open(nome_arq) as obj:\r\n",
        "  conteudo = json.load(obj)\r\n",
        "\r\n",
        "print(conteudo)"
      ],
      "execution_count": 4,
      "outputs": [
        {
          "output_type": "stream",
          "text": [
            "[1, 2, 3, 4, 5, 6]\n"
          ],
          "name": "stdout"
        }
      ]
    },
    {
      "cell_type": "code",
      "metadata": {
        "colab": {
          "base_uri": "https://localhost:8080/"
        },
        "id": "6jjs4L6Bv112",
        "outputId": "7824191f-4d8b-4664-97df-89101131141e"
      },
      "source": [
        "#json com dados do usuário\r\n",
        "\r\n",
        "import json\r\n",
        "\r\n",
        "nome_arq2 = \"usuario.json\"\r\n",
        "\r\n",
        "usuario = input(\"Digite seu nome: \")\r\n",
        "\r\n",
        "with open(nome_arq2, \"w\") as obj:\r\n",
        "  json.dump(usuario, obj)\r\n",
        "  print(f\"Nos lembraremos de você {usuario}.\")"
      ],
      "execution_count": 5,
      "outputs": [
        {
          "output_type": "stream",
          "text": [
            "Digite seu nome: Silvio\n",
            "Nos lembraremos de você Silvio.\n"
          ],
          "name": "stdout"
        }
      ]
    },
    {
      "cell_type": "code",
      "metadata": {
        "colab": {
          "base_uri": "https://localhost:8080/"
        },
        "id": "xmLBf4onxiwD",
        "outputId": "c4e78e4f-075e-45d1-acf6-e0da72ee6af1"
      },
      "source": [
        "import json\r\n",
        "\r\n",
        "with open(nome_arq2) as obj:\r\n",
        "  usuario2 = json.load(obj)\r\n",
        "  print(f\"Você voltou {usuario2}\")"
      ],
      "execution_count": 6,
      "outputs": [
        {
          "output_type": "stream",
          "text": [
            "Você voltou Silvio\n"
          ],
          "name": "stdout"
        }
      ]
    },
    {
      "cell_type": "code",
      "metadata": {
        "colab": {
          "base_uri": "https://localhost:8080/"
        },
        "id": "JpC-EQrYx9Q1",
        "outputId": "72589ff1-b8cf-4614-9494-0a7f9795dcb6"
      },
      "source": [
        "#usando o json com excessoes\r\n",
        "\r\n",
        "#exemplo tenta abrir o arquivo, se não existe, cria um arquivo com foco em saudar um usuário\r\n",
        "\r\n",
        "import json\r\n",
        "\r\n",
        "nome_arq3 = \"usuario3.json\"\r\n",
        "\r\n",
        "try:\r\n",
        "  with open(nome_arq3) as obj:\r\n",
        "    usuario3 = json.load(obj)\r\n",
        "except FileNotFoundError:\r\n",
        "  nome_user = input(\"Digite seu nome: \")\r\n",
        "  with open(nome_arq3, 'w') as obj:\r\n",
        "    json.dump(nome_user, obj)\r\n",
        "    print(\"Conta criada.\")\r\n",
        "else:\r\n",
        "  print(f\"Bem vindo de volta {usuario3}\")"
      ],
      "execution_count": 9,
      "outputs": [
        {
          "output_type": "stream",
          "text": [
            "Digite seu nome: silvio\n",
            "Conta criada.\n"
          ],
          "name": "stdout"
        }
      ]
    },
    {
      "cell_type": "markdown",
      "metadata": {
        "id": "Cb3Z5nmr1nMr"
      },
      "source": [
        "Refatoração"
      ]
    },
    {
      "cell_type": "code",
      "metadata": {
        "colab": {
          "base_uri": "https://localhost:8080/"
        },
        "id": "ETLseCRs0eQB",
        "outputId": "968414e3-304e-4c35-af82-f9927103995b"
      },
      "source": [
        "#refatorar um código é organiza-lo em funções que permitam o entendimento e manutenção\r\n",
        "#exemplo com o código de cima\r\n",
        "\r\n",
        "import json\r\n",
        "\r\n",
        "nome_arquivo = \"user.json\"\r\n",
        "\r\n",
        "def saudar_usuario():\r\n",
        "  \"\"\"Saudar o usuario pelo nome\"\"\"\r\n",
        "  usuario = recuperar_usuario()\r\n",
        "  if usuario:\r\n",
        "    print(f\"Bem vindo novamente, {usuario.title()}.\")\r\n",
        "  else:\r\n",
        "    usuario = input(\"Digite seu nome: \")\r\n",
        "    with open(nome_arquivo, 'w') as obj:\r\n",
        "      json.dump(usuario, obj)\r\n",
        "      print(f\"Nome registrado\")\r\n",
        "\r\n",
        "def recuperar_usuario():\r\n",
        "  \"\"\"obtem o nome do usuario\"\"\"\r\n",
        "  try:\r\n",
        "    with open(nome_arquivo) as obj:\r\n",
        "      usuario = json.load(obj)\r\n",
        "  except FileNotFoundError:\r\n",
        "    return None\r\n",
        "  else:\r\n",
        "    return usuario\r\n",
        "\r\n",
        "saudar_usuario()"
      ],
      "execution_count": 13,
      "outputs": [
        {
          "output_type": "stream",
          "text": [
            "Digite seu nome: silvio\n",
            "Nome registrado\n"
          ],
          "name": "stdout"
        }
      ]
    },
    {
      "cell_type": "code",
      "metadata": {
        "colab": {
          "base_uri": "https://localhost:8080/"
        },
        "id": "mr8jQIC87kVl",
        "outputId": "ba2f3176-9a88-4991-aba5-0d36f7708463"
      },
      "source": [
        "#o código já ficou mais separado, mas da para refatorar novamente \r\n",
        "\r\n",
        "import json\r\n",
        "\r\n",
        "nome_arquivo = \"user2.json\"\r\n",
        "\r\n",
        "def saudar_usuario():\r\n",
        "  \"\"\"Saudar o usuario pelo nome\"\"\"\r\n",
        "  usuario = recuperar_usuario()\r\n",
        "  if usuario:\r\n",
        "    print(f\"Bem vindo novamente, {usuario.title()}.\")\r\n",
        "  else:\r\n",
        "    usuario = captura_usuario()\r\n",
        "    print(f\"Nome registrado\")\r\n",
        "\r\n",
        "def recuperar_usuario():\r\n",
        "  \"\"\"obtem o nome do usuario\"\"\"\r\n",
        "  try:\r\n",
        "    with open(nome_arquivo) as obj:\r\n",
        "      usuario = json.load(obj)\r\n",
        "  except FileNotFoundError:\r\n",
        "    return None\r\n",
        "  else:\r\n",
        "    return usuario\r\n",
        "\r\n",
        "def captura_usuario():\r\n",
        "  \"\"\"pede um novo nome de usuario\"\"\"\r\n",
        "  usuario = input(\"Digite seu nome: \")\r\n",
        "  with open(nome_arquivo, 'w') as obj:\r\n",
        "    json.dump(usuario, obj)\r\n",
        "  return usuario\r\n",
        "\r\n",
        "saudar_usuario()"
      ],
      "execution_count": 15,
      "outputs": [
        {
          "output_type": "stream",
          "text": [
            "Bem vindo novamente, Silvio.\n"
          ],
          "name": "stdout"
        }
      ]
    },
    {
      "cell_type": "code",
      "metadata": {
        "colab": {
          "base_uri": "https://localhost:8080/"
        },
        "id": "hQL6IggL9pVZ",
        "outputId": "eee6f7db-b766-4e2d-9ef9-3f37c77cca3c"
      },
      "source": [
        "#fiz uma variação onde o nome do arquivo é o nome do usuario e eu passo\r\n",
        "#o nome do usuario e do arquivo na chamada da função\r\n",
        "\r\n",
        "import json\r\n",
        "\r\n",
        "def saudar_usuario(nome_do_arquivo, usuario):\r\n",
        "  \"\"\"Saudar o usuario pelo nome\"\"\"\r\n",
        "  usuario = recuperar_usuario()\r\n",
        "  if usuario:\r\n",
        "    print(f\"Bem vindo novamente, {usuario.title()}.\")\r\n",
        "  else:\r\n",
        "    usuario = captura_usuario()\r\n",
        "    print(f\"Nome registrado\")\r\n",
        "\r\n",
        "def recuperar_usuario():\r\n",
        "  \"\"\"obtem o nome do usuario\"\"\"\r\n",
        "  try:\r\n",
        "    with open(nome_do_arquivo) as obj:\r\n",
        "      usuario = json.load(obj)\r\n",
        "  except FileNotFoundError:\r\n",
        "    return None\r\n",
        "  else:\r\n",
        "    return usuario\r\n",
        "\r\n",
        "def captura_usuario():\r\n",
        "  \"\"\"pede um novo nome de usuario\"\"\"\r\n",
        "  with open(nome_do_arquivo, 'w') as obj:\r\n",
        "    json.dump(usuario, obj)\r\n",
        "  return usuario\r\n",
        "\r\n",
        "usuario = input(\"Digite seu nome: \")\r\n",
        "nome_do_arquivo = usuario + \".txt\"\r\n",
        "saudar_usuario(nome_do_arquivo, usuario)\r\n"
      ],
      "execution_count": 19,
      "outputs": [
        {
          "output_type": "stream",
          "text": [
            "Digite seu nome: silvio\n",
            "Bem vindo novamente, Silvio.\n"
          ],
          "name": "stdout"
        }
      ]
    },
    {
      "cell_type": "markdown",
      "metadata": {
        "id": "p3NgRBBRBQTt"
      },
      "source": [
        "Missao 35"
      ]
    },
    {
      "cell_type": "code",
      "metadata": {
        "colab": {
          "base_uri": "https://localhost:8080/"
        },
        "id": "fokmPcP__dWJ",
        "outputId": "a7767874-35dd-4e87-fd5d-9064412add17"
      },
      "source": [
        "#1. Número favorito - Escreva um programa que pergunte qual é o número favorito de um usuário. \r\n",
        "#Use json.dump() para armazenar esse número em um arquivo. Escreva um programa separado que \r\n",
        "#leia esse valor e apresente a mensagem “Eu sei qual é o seu número favorito! É _____.”.\r\n",
        "\r\n",
        "import json\r\n",
        "\r\n",
        "def verifica_dados_usuario(nome_arquivo, nome_usuario):\r\n",
        "  \"\"\"continuando a aula\"\"\"\r\n",
        "  try:\r\n",
        "    with open(nome_arquivo) as obj:\r\n",
        "      dados_arquivo = json.load(obj)\r\n",
        "      print(f\"{nome_usuario.title()}, seu numero é {dados_arquivo}.\")\r\n",
        "  except FileNotFoundError:\r\n",
        "    num_favorito = input(\"Digite seu número favorito: \")\r\n",
        "    with open(nome_arquivo, \"w\") as obj:\r\n",
        "      json.dump(num_favorito, obj)\r\n",
        "      print(f\"{nome_usuario.title()}, seu numero foi registrado.\")\r\n",
        "\r\n",
        "nome_user_m35 = input(\"Digite seu nome: \")\r\n",
        "nome_arq_m35 = nome_user_m35.lower() + \".txt\"\r\n",
        "verifica_dados_usuario(nome_arq_m35, nome_user_m35)"
      ],
      "execution_count": 28,
      "outputs": [
        {
          "output_type": "stream",
          "text": [
            "Digite seu nome: Fernanda\n",
            "Fernanda, seu numero é 3.\n"
          ],
          "name": "stdout"
        }
      ]
    },
    {
      "cell_type": "code",
      "metadata": {
        "id": "-80yMXtbEMLj"
      },
      "source": [
        "#2. Lembrando o número favorito - Combine os dois programas do exercício em um único arquivo.\r\n",
        "#Se o número já estiver armazenado, informe o número favorito ao usuário. Caso contrário, \r\n",
        "#pergunte ao usuário qual é o seu número favorito e armazene-o em um arquivo. Execute o \r\n",
        "#programa duas vezes para garantir que ele funciona."
      ],
      "execution_count": 29,
      "outputs": []
    },
    {
      "cell_type": "code",
      "metadata": {
        "colab": {
          "base_uri": "https://localhost:8080/"
        },
        "id": "nA3wmNmBFo17",
        "outputId": "64f7f95b-551b-49f0-f614-d1bbefce37b0"
      },
      "source": [
        "#3. Verificando se é o usuário correto - A última atualização do programa usuario que \r\n",
        "#fizemos na aula supõe que o usuário já forneceu seu nome ou que o programa está \r\n",
        "#executando pela primeira vez. Devemos modificá-lo para o caso de o usuário atual não \r\n",
        "#ser a pessoa que usou o programa pela última vez. Antes de exibir uma mensagem de \r\n",
        "#boas-vindas de volta em saudar_usuario(), pergunte ao usuário se seu nome está correto. \r\n",
        "#Se não estiver, chame captura_novo_usuario() para obter o nome correto.\r\n",
        "\r\n",
        "import json\r\n",
        "\r\n",
        "def saudar_usuario(nome_do_arquivo, usuario):\r\n",
        "  \"\"\"Saudar o usuario pelo nome\"\"\"\r\n",
        "  usuario = recuperar_usuario()\r\n",
        "  if usuario:\r\n",
        "    print(f\"Bem vindo novamente, {usuario.title()}.\")\r\n",
        "  else:\r\n",
        "    usuario = captura_usuario()\r\n",
        "    print(f\"Nome registrado\")\r\n",
        "\r\n",
        "def recuperar_usuario():\r\n",
        "  \"\"\"obtem o nome do usuario\"\"\"\r\n",
        "  try:\r\n",
        "    with open(nome_do_arquivo) as obj:\r\n",
        "      usuario = json.load(obj)\r\n",
        "  except FileNotFoundError:\r\n",
        "    return None\r\n",
        "  else:\r\n",
        "    return usuario\r\n",
        "\r\n",
        "def captura_usuario():\r\n",
        "  \"\"\"pede um novo nome de usuario\"\"\"\r\n",
        "  with open(nome_do_arquivo, 'w') as obj:\r\n",
        "    json.dump(usuario, obj)\r\n",
        "  return usuario\r\n",
        "\r\n",
        "usuario = input(\"Digite seu nome: \")\r\n",
        "nome_do_arquivo = usuario + \".txt\"\r\n",
        "saudar_usuario(nome_do_arquivo, usuario)"
      ],
      "execution_count": 30,
      "outputs": [
        {
          "output_type": "stream",
          "text": [
            "Digite seu nome: Tuca\n",
            "Nome registrado\n"
          ],
          "name": "stdout"
        }
      ]
    }
  ]
}