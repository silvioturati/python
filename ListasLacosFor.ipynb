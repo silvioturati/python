{
  "nbformat": 4,
  "nbformat_minor": 0,
  "metadata": {
    "colab": {
      "name": "ListasLacosFor.ipynb",
      "provenance": [],
      "collapsed_sections": [],
      "authorship_tag": "ABX9TyOaqtiZPcHT9WcyneYxLVAW",
      "include_colab_link": true
    },
    "kernelspec": {
      "name": "python3",
      "display_name": "Python 3"
    }
  },
  "cells": [
    {
      "cell_type": "markdown",
      "metadata": {
        "id": "view-in-github",
        "colab_type": "text"
      },
      "source": [
        "<a href=\"https://colab.research.google.com/github/silvioturati/python/blob/main/ListasLacosFor.ipynb\" target=\"_parent\"><img src=\"https://colab.research.google.com/assets/colab-badge.svg\" alt=\"Open In Colab\"/></a>"
      ]
    },
    {
      "cell_type": "markdown",
      "metadata": {
        "id": "4W-BHzKteRk6"
      },
      "source": [
        "Listas em Python3"
      ]
    },
    {
      "cell_type": "code",
      "metadata": {
        "id": "3Z85ukv2YIkt",
        "outputId": "76c95cca-4eb4-48b6-d553-8d8cf0c04cfc",
        "colab": {
          "base_uri": "https://localhost:8080/"
        }
      },
      "source": [
        "#criando uma lista é quase como uma variavel, só que os valores da lista estão dentro de colchetes. \n",
        "comidas = [\"pizza\", \"hamburguer\", \"churrasco\", 10, 10.5, 200.0] #o nomes geralmente no plural, e os valores podem ser de diferentes tipos\n",
        "comidas"
      ],
      "execution_count": 156,
      "outputs": [
        {
          "output_type": "execute_result",
          "data": {
            "text/plain": [
              "['pizza', 'hamburguer', 'churrasco', 10, 10.5, 200.0]"
            ]
          },
          "metadata": {
            "tags": []
          },
          "execution_count": 156
        }
      ]
    },
    {
      "cell_type": "code",
      "metadata": {
        "id": "TGnIjLM4fIx6",
        "outputId": "714ec6db-8a8b-412f-8663-df0429d06154",
        "colab": {
          "base_uri": "https://localhost:8080/"
        }
      },
      "source": [
        "#você pode ter lista dentro de lista\n",
        "carros = [[\"gol\", \"palio\", \"ka\"],[\"volks\", \"fiat\", \"ford\"], [20000.0, 22000.0, 19000.0]]\n",
        "carros"
      ],
      "execution_count": 157,
      "outputs": [
        {
          "output_type": "execute_result",
          "data": {
            "text/plain": [
              "[['gol', 'palio', 'ka'],\n",
              " ['volks', 'fiat', 'ford'],\n",
              " [20000.0, 22000.0, 19000.0]]"
            ]
          },
          "metadata": {
            "tags": []
          },
          "execution_count": 157
        }
      ]
    },
    {
      "cell_type": "code",
      "metadata": {
        "id": "biTtLJ0Zf_3z",
        "outputId": "1c62dd21-6d17-4f4b-e3cb-9c310561bef2",
        "colab": {
          "base_uri": "https://localhost:8080/"
        }
      },
      "source": [
        "#acessando a lista\n",
        "#a lista tem o indexador começando em 0, então o primeiro item da lista é o idex 0, por exemplo:\n",
        "#comidas = [\"pizza\", \"hamburguer\", \"churrasco\", 10, 10.5, 200.0]\n",
        "#comidas = [0      , 1           , 2          , 3 , 4   , 5    ]\n",
        "print(\"Eu comi \" + comidas[0] + \" e gastei \" + str(comidas[3]) + \" reais ontem na pizzaria.\")\n",
        "print(\"Eu comi {} e gastei {} reais ontem a noite\".format(comidas[2], comidas[5]))\n",
        "print(f\"Eu comi {comidas[1]} e gastei {comidas[4]} reais ontem na hamburgueria\")\n",
        "print(f\"Eu tenho um {carros[0][0]} da {carros[1][0]} e comprei por {carros[2][0]}\")"
      ],
      "execution_count": 158,
      "outputs": [
        {
          "output_type": "stream",
          "text": [
            "Eu comi pizza e gastei 10 reais ontem na pizzaria.\n",
            "Eu comi churrasco e gastei 200.0 reais ontem a noite\n",
            "Eu comi hamburguer e gastei 10.5 reais ontem na hamburgueria\n",
            "Eu tenho um gol da volks e comprei por 20000.0\n"
          ],
          "name": "stdout"
        }
      ]
    },
    {
      "cell_type": "code",
      "metadata": {
        "id": "2QlohZhQhZuu",
        "outputId": "613a9ab1-eb18-4959-8ad3-6da00923c43a",
        "colab": {
          "base_uri": "https://localhost:8080/"
        }
      },
      "source": [
        "#também pode declarar uma varivel com o valor escolhido da lista\n",
        "preco_do_carro = carros[2][2]\n",
        "preco_do_carro"
      ],
      "execution_count": 159,
      "outputs": [
        {
          "output_type": "execute_result",
          "data": {
            "text/plain": [
              "19000.0"
            ]
          },
          "metadata": {
            "tags": []
          },
          "execution_count": 159
        }
      ]
    },
    {
      "cell_type": "code",
      "metadata": {
        "id": "xbhlS9Knjwpt",
        "outputId": "9099123c-4812-4c3f-d4cf-ee2ab8891d80",
        "colab": {
          "base_uri": "https://localhost:8080/",
          "height": 35
        }
      },
      "source": [
        "#também pode usar métodos\n",
        "nome_da_comida = comidas[0].title()\n",
        "nome_da_comida"
      ],
      "execution_count": 160,
      "outputs": [
        {
          "output_type": "execute_result",
          "data": {
            "application/vnd.google.colaboratory.intrinsic+json": {
              "type": "string"
            },
            "text/plain": [
              "'Pizza'"
            ]
          },
          "metadata": {
            "tags": []
          },
          "execution_count": 160
        }
      ]
    },
    {
      "cell_type": "code",
      "metadata": {
        "id": "E_rf-LD-k_PM",
        "outputId": "6a7de121-9d97-446d-918f-9d7167ee2292",
        "colab": {
          "base_uri": "https://localhost:8080/"
        }
      },
      "source": [
        "#para acessar o ultimo numero da lista\n",
        "comidas[-1] #é só pedir o -1. Se quiser o penultimo -2 e assim vai"
      ],
      "execution_count": 161,
      "outputs": [
        {
          "output_type": "execute_result",
          "data": {
            "text/plain": [
              "200.0"
            ]
          },
          "metadata": {
            "tags": []
          },
          "execution_count": 161
        }
      ]
    },
    {
      "cell_type": "code",
      "metadata": {
        "id": "TgUOFApLpAln",
        "outputId": "8f746d1e-81a9-429b-e114-f2f655196e2d",
        "colab": {
          "base_uri": "https://localhost:8080/"
        }
      },
      "source": [
        "#para acessar o último item da lista carros.Veja que ele retorna a última lista porque a lista carros é composta por 3 listas\n",
        "carros[-1]"
      ],
      "execution_count": 162,
      "outputs": [
        {
          "output_type": "execute_result",
          "data": {
            "text/plain": [
              "[20000.0, 22000.0, 19000.0]"
            ]
          },
          "metadata": {
            "tags": []
          },
          "execution_count": 162
        }
      ]
    },
    {
      "cell_type": "code",
      "metadata": {
        "id": "nGxyVRmmpgOk",
        "outputId": "fa71e4fb-d989-48e0-c635-489b5d1b40cd",
        "colab": {
          "base_uri": "https://localhost:8080/"
        }
      },
      "source": [
        "#então para acessar o último dentro da última lista da lista carros\n",
        "carros[-1][-1]"
      ],
      "execution_count": 163,
      "outputs": [
        {
          "output_type": "execute_result",
          "data": {
            "text/plain": [
              "19000.0"
            ]
          },
          "metadata": {
            "tags": []
          },
          "execution_count": 163
        }
      ]
    },
    {
      "cell_type": "code",
      "metadata": {
        "id": "JUbfNkAgmLRv",
        "outputId": "87c8f5f4-acd0-441b-cf4d-5d7c7ba34067",
        "colab": {
          "base_uri": "https://localhost:8080/"
        }
      },
      "source": [
        "#para saber quantos itens uma lista\n",
        "len(comidas)\n"
      ],
      "execution_count": 164,
      "outputs": [
        {
          "output_type": "execute_result",
          "data": {
            "text/plain": [
              "6"
            ]
          },
          "metadata": {
            "tags": []
          },
          "execution_count": 164
        }
      ]
    },
    {
      "cell_type": "code",
      "metadata": {
        "id": "RkxSZAAGoiCW",
        "outputId": "5cf96c50-0ab8-4c0f-a23b-a5624e30400e",
        "colab": {
          "base_uri": "https://localhost:8080/"
        }
      },
      "source": [
        "#veja que para a lista de carros, apesas dela ter 3 listas dentro de uma lista o tamanho da lista é 3\n",
        "len(carros)"
      ],
      "execution_count": 165,
      "outputs": [
        {
          "output_type": "execute_result",
          "data": {
            "text/plain": [
              "3"
            ]
          },
          "metadata": {
            "tags": []
          },
          "execution_count": 165
        }
      ]
    },
    {
      "cell_type": "code",
      "metadata": {
        "id": "3SEV8bv4owyh",
        "outputId": "0825ff90-e338-4f27-e027-e41a499db98a",
        "colab": {
          "base_uri": "https://localhost:8080/"
        }
      },
      "source": [
        "#abaixo estamos então sabendo o tamanho da lista 0 dentro da lista carros\n",
        "len(carros[0])"
      ],
      "execution_count": 166,
      "outputs": [
        {
          "output_type": "execute_result",
          "data": {
            "text/plain": [
              "3"
            ]
          },
          "metadata": {
            "tags": []
          },
          "execution_count": 166
        }
      ]
    },
    {
      "cell_type": "markdown",
      "metadata": {
        "id": "ugeraKBgMiVH"
      },
      "source": [
        "Missão 6"
      ]
    },
    {
      "cell_type": "code",
      "metadata": {
        "id": "vdMmQ0xEqAwX",
        "outputId": "f94308b5-e37e-4411-d422-10f7126d4f29",
        "colab": {
          "base_uri": "https://localhost:8080/"
        }
      },
      "source": [
        "#1. Armazene os nomes dos seus amigos numa lista e accesse cada elemento da lista, um por vez.\n",
        "amigos = [\"Fulano\", \"Beltrano\", \"Cicrano\"]\n",
        "print(\"amigo 1: \" + amigos[0])\n",
        "print(\"amigo 2: \" + amigos[1])\n",
        "print(\"amigo 3: \" + amigos[2])"
      ],
      "execution_count": 167,
      "outputs": [
        {
          "output_type": "stream",
          "text": [
            "amigo 1: Fulano\n",
            "amigo 2: Beltrano\n",
            "amigo 3: Cicrano\n"
          ],
          "name": "stdout"
        }
      ]
    },
    {
      "cell_type": "code",
      "metadata": {
        "id": "f33O-vyYNAax",
        "outputId": "412369f9-0bf6-45d5-fdce-278aad054c70",
        "colab": {
          "base_uri": "https://localhost:8080/"
        }
      },
      "source": [
        "#2. Agora usando a mesma lista acima, mostre o nome dos seus amigos com uma mensagem para cada um. Mensagem sempre a mesma, o nome do amigo precisa ser diferente.\n",
        "print(f\"{amigos[0].title()} é meu amigo\")\n",
        "print(f\"{amigos[1].title()} é meu amigo\")\n",
        "print(f\"{amigos[2].title()} é meu amigo\")"
      ],
      "execution_count": 168,
      "outputs": [
        {
          "output_type": "stream",
          "text": [
            "Fulano é meu amigo\n",
            "Beltrano é meu amigo\n",
            "Cicrano é meu amigo\n"
          ],
          "name": "stdout"
        }
      ]
    },
    {
      "cell_type": "markdown",
      "metadata": {
        "id": "DxYG_PHmOICa"
      },
      "source": [
        "Alterar, adicionar e remover elementos de uma lista"
      ]
    },
    {
      "cell_type": "code",
      "metadata": {
        "id": "fowgWGtVN1mF",
        "outputId": "6eeb7933-d136-4915-d591-6de19be3a51b",
        "colab": {
          "base_uri": "https://localhost:8080/"
        }
      },
      "source": [
        "#alterando um elemento da lista\n",
        "marcas_carros = [\"Ferrari\", \"Ford\", \"GM\"] #lista inicial\n",
        "marcas_carros"
      ],
      "execution_count": 169,
      "outputs": [
        {
          "output_type": "execute_result",
          "data": {
            "text/plain": [
              "['Ferrari', 'Ford', 'GM']"
            ]
          },
          "metadata": {
            "tags": []
          },
          "execution_count": 169
        }
      ]
    },
    {
      "cell_type": "code",
      "metadata": {
        "id": "Tz5gI7IvOwsi",
        "outputId": "b1c251b9-4b7e-444a-acb9-790296b51b68",
        "colab": {
          "base_uri": "https://localhost:8080/"
        }
      },
      "source": [
        "marcas_carros[0] = \"Fiat\" #alterando o elemento 0 de Ferrari para Fiat\n",
        "marcas_carros"
      ],
      "execution_count": 170,
      "outputs": [
        {
          "output_type": "execute_result",
          "data": {
            "text/plain": [
              "['Fiat', 'Ford', 'GM']"
            ]
          },
          "metadata": {
            "tags": []
          },
          "execution_count": 170
        }
      ]
    },
    {
      "cell_type": "code",
      "metadata": {
        "id": "z_Vf4nVHO9vj",
        "outputId": "329f22e6-b49b-47f4-9a2f-1875dbed3c5b",
        "colab": {
          "base_uri": "https://localhost:8080/"
        }
      },
      "source": [
        "#adicionando um elemento no final da lista\n",
        "marcas_carros.append(\"Porsche\")\n",
        "marcas_carros"
      ],
      "execution_count": 171,
      "outputs": [
        {
          "output_type": "execute_result",
          "data": {
            "text/plain": [
              "['Fiat', 'Ford', 'GM', 'Porsche']"
            ]
          },
          "metadata": {
            "tags": []
          },
          "execution_count": 171
        }
      ]
    },
    {
      "cell_type": "code",
      "metadata": {
        "id": "OUNkiNEBPZLc",
        "outputId": "9970d973-d077-421e-8a43-89e56b670b4e",
        "colab": {
          "base_uri": "https://localhost:8080/"
        }
      },
      "source": [
        "#adcionando um elemento numa posição escolhida\n",
        "marcas_carros.insert(0, \"Ferrari\") #estou incluindo a marca Ferrari no indice 0 e todos os outros itens irão correr uma posição para direita\n",
        "marcas_carros"
      ],
      "execution_count": 172,
      "outputs": [
        {
          "output_type": "execute_result",
          "data": {
            "text/plain": [
              "['Ferrari', 'Fiat', 'Ford', 'GM', 'Porsche']"
            ]
          },
          "metadata": {
            "tags": []
          },
          "execution_count": 172
        }
      ]
    },
    {
      "cell_type": "code",
      "metadata": {
        "id": "EQ5TgDw6QRZM",
        "outputId": "fd1cfc88-c8bd-480c-9222-93332d86dec6",
        "colab": {
          "base_uri": "https://localhost:8080/"
        }
      },
      "source": [
        "#removendo um elemento da lista\n",
        "del marcas_carros[0] #dessa maneira deletamos o item pela posição do index\n",
        "marcas_carros.remove(\"Fiat\") #dessa maneira deletamos o item pelo valor\n",
        "marcas_carros"
      ],
      "execution_count": 173,
      "outputs": [
        {
          "output_type": "execute_result",
          "data": {
            "text/plain": [
              "['Ford', 'GM', 'Porsche']"
            ]
          },
          "metadata": {
            "tags": []
          },
          "execution_count": 173
        }
      ]
    },
    {
      "cell_type": "code",
      "metadata": {
        "id": "te9nrt5NRLD9",
        "outputId": "df7424a0-00ad-439f-b1b3-aaa471b115bb",
        "colab": {
          "base_uri": "https://localhost:8080/"
        }
      },
      "source": [
        "#removendo e salvando numa variavel o valor removido\n",
        "lista_emails = [\"Cicrano\", \"Beltrano\", \"Fulano\", \"Jose\", \"João\"]\n",
        "#o método .pop() remove o item permitindo salvar o seu valor numa variavel para que possa ser usado num outro momento\n",
        "removido = lista_emails.pop() #.pop() com parenteses vazio vai excluir o último item da lista. Mas pode-se colocar o idexador no parenteses e escolher a posição desejada\n",
        "print(f\"{removido} foi removido da lista de e-mails\")\n",
        "print(f\"A lsita de e-mails agora ficou com os valores {lista_emails}\")"
      ],
      "execution_count": 174,
      "outputs": [
        {
          "output_type": "stream",
          "text": [
            "João foi removido da lista de e-mails\n",
            "A lsita de e-mails agora ficou com os valores ['Cicrano', 'Beltrano', 'Fulano', 'Jose']\n"
          ],
          "name": "stdout"
        }
      ]
    },
    {
      "cell_type": "markdown",
      "metadata": {
        "id": "b04qhxQUU-WL"
      },
      "source": [
        "Missão 7"
      ]
    },
    {
      "cell_type": "code",
      "metadata": {
        "id": "lBKgtrBcSAqy",
        "outputId": "6b9ff870-459f-409d-ea0b-b531d5bb91e4",
        "colab": {
          "base_uri": "https://localhost:8080/"
        }
      },
      "source": [
        "#1. Faça uma lista de amigos que gostaria de convidar para seu casamento. Agora use sua lista para convidar cada um deles e print uma mensagem.\n",
        "lista_convidados = [\"Jose\", \"João\", \"Luiz\", \"Santos\"]\n",
        "for convidado in lista_convidados:\n",
        "  print(f\"{convidado} espero você no meu casamento\")\n"
      ],
      "execution_count": 175,
      "outputs": [
        {
          "output_type": "stream",
          "text": [
            "Jose espero você no meu casamento\n",
            "João espero você no meu casamento\n",
            "Luiz espero você no meu casamento\n",
            "Santos espero você no meu casamento\n"
          ],
          "name": "stdout"
        }
      ]
    },
    {
      "cell_type": "code",
      "metadata": {
        "id": "S2Va1ENQV4XW",
        "outputId": "c24d85a6-d823-48d3-f9c7-0b840d198bfd",
        "colab": {
          "base_uri": "https://localhost:8080/"
        }
      },
      "source": [
        "#2. Infelizmente alguns não poderão vir para seu casamento e então teria que enviar um convite para novos amigos.\n",
        "#Print uma frase com o nome dos seus amigos que nao poderão vir;\n",
        "#Modifique sua lista, trocando o nome dos que não virão para o nome de novas pessoas que serão convidadas;\n",
        "#Print um segundo conjunto de mensagens convidando essa lista para cada pessoa que está na sua lista.\n",
        "lista_convidados = [\"Jose\", \"João\", \"Luiz\", \"Santos\"]\n",
        "lista_desistentes = []\n",
        "lista_desistentes.append(lista_convidados.pop(0)) #quero retirar Jose\n",
        "lista_desistentes.append(lista_convidados.pop(0)) #quero retirar João\n",
        "lista_convidados.append(\"Carlos\")\n",
        "lista_convidados.append(\"Pedro\")\n",
        "\n",
        "for desistente in lista_desistentes:\n",
        "  print(f\"{desistente} que pena, mas obrigado!\")\n",
        "\n",
        "for convidado in lista_convidados:\n",
        "  print(f\"{convidado} espero você no meu casamento\")"
      ],
      "execution_count": 176,
      "outputs": [
        {
          "output_type": "stream",
          "text": [
            "Jose que pena, mas obrigado!\n",
            "João que pena, mas obrigado!\n",
            "Luiz espero você no meu casamento\n",
            "Santos espero você no meu casamento\n",
            "Carlos espero você no meu casamento\n",
            "Pedro espero você no meu casamento\n"
          ],
          "name": "stdout"
        }
      ]
    },
    {
      "cell_type": "code",
      "metadata": {
        "id": "LB1qNCHeXhfT",
        "outputId": "fde6aa52-5208-455d-c349-f497037a1e65",
        "colab": {
          "base_uri": "https://localhost:8080/"
        }
      },
      "source": [
        "#3. Você descobriu que o local aceitará mais pessoas para seu casamento.\n",
        "#Envie uma mensagem para cada um informando-as que teremos mais espaço para convidados;\n",
        "#Use insert() para adicionar um novo convidado no começo da sua lista;\n",
        "#Use insert() para adicionar um novo no meio da sua lista;\n",
        "#Use append() para adicionar um novo no final da sua lista; \n",
        "#Print um novo convite para todos da sua lista.\n",
        "lista_convidados = [\"Luiz\", \"Santos\", \"Carlos\", \"Pedro\"]\n",
        "for convidado in lista_convidados:\n",
        "  print(f\"{convidado} Temos mais espaço\")\n",
        "\n",
        "lista_convidados.insert(0, \"Margarida\")\n",
        "lista_convidados.insert(3, \"Donald\")\n",
        "lista_convidados.append(\"Emilia\")\n",
        "for convidado in lista_convidados:\n",
        "  print(f\"{convidado} espero você no meu casamento\")\n",
        "\n",
        "lista_convidados"
      ],
      "execution_count": 177,
      "outputs": [
        {
          "output_type": "stream",
          "text": [
            "Luiz Temos mais espaço\n",
            "Santos Temos mais espaço\n",
            "Carlos Temos mais espaço\n",
            "Pedro Temos mais espaço\n",
            "Margarida espero você no meu casamento\n",
            "Luiz espero você no meu casamento\n",
            "Santos espero você no meu casamento\n",
            "Donald espero você no meu casamento\n",
            "Carlos espero você no meu casamento\n",
            "Pedro espero você no meu casamento\n",
            "Emilia espero você no meu casamento\n"
          ],
          "name": "stdout"
        },
        {
          "output_type": "execute_result",
          "data": {
            "text/plain": [
              "['Margarida', 'Luiz', 'Santos', 'Donald', 'Carlos', 'Pedro', 'Emilia']"
            ]
          },
          "metadata": {
            "tags": []
          },
          "execution_count": 177
        }
      ]
    },
    {
      "cell_type": "code",
      "metadata": {
        "id": "4F_GWutsZyxr",
        "outputId": "797d390a-1600-4fd4-943e-c68342dd7fbd",
        "colab": {
          "base_uri": "https://localhost:8080/"
        }
      },
      "source": [
        "#4. Infelizmente no último dia, somente 3 pessoas poderão ir no seu casamento.\n",
        "#Apartir da ultima lista que você tem, print uma mensagem dizendo que somente 3 pessoas poderão vir para seu casamento;\n",
        "#Use pop() para remover os convidados um por vez até ficar somente 3 na lista. Sempre que usar o pop() print uma mensagem para essa pessoa pedindo desculpas pelo engano;\n",
        "#Print uma mensagem para os 3 que sobraram na lista;\n",
        "#Use del para remover os últimos 3 da lista, para ter então uma lista vazia. Print sua lista vazia para garantir que esteja realmente vazia.\n",
        "lista_convidados = ['Margarida', 'Luiz', 'Santos', 'Donald', 'Carlos', 'Pedro', 'Emilia']\n",
        "\n",
        "for convidado in lista_convidados:\n",
        "  print(f\"{convidado} desculpe o transtorno, mas só tenho espaço para 3 convidados\")\n",
        "\n",
        "print(\"---------------\")\n",
        "\n",
        "lista_removidos = []\n",
        "lista_removidos.append(lista_convidados.pop(1)) #excluindo Luiz\n",
        "lista_removidos.append(lista_convidados.pop(1)) #excluindo Santos\n",
        "lista_removidos.append(lista_convidados.pop(2)) #excluindo Carlos\n",
        "lista_removidos.append(lista_convidados.pop(2)) #excluindo Pedro\n",
        "for removido in lista_removidos:\n",
        "  print(f\"{removido} você não vai caber na festa.\")\n",
        "\n",
        "print(\"---------------\")\n",
        "\n",
        "for convidado in lista_convidados:\n",
        "  print(f\"{convidado} você vai caber na festa\")\n",
        "\n",
        "print(\"---------------\")\n",
        "\n",
        "contador = 0\n",
        "while (contador < len(lista_convidados)):\n",
        "  del lista_convidados[contador]\n",
        "\n",
        "contador = 0\n",
        "while (contador < len(lista_removidos)):\n",
        "  del lista_removidos[contador]\n",
        "\n",
        "lista_convidados"
      ],
      "execution_count": 178,
      "outputs": [
        {
          "output_type": "stream",
          "text": [
            "Margarida desculpe o transtorno, mas só tenho espaço para 3 convidados\n",
            "Luiz desculpe o transtorno, mas só tenho espaço para 3 convidados\n",
            "Santos desculpe o transtorno, mas só tenho espaço para 3 convidados\n",
            "Donald desculpe o transtorno, mas só tenho espaço para 3 convidados\n",
            "Carlos desculpe o transtorno, mas só tenho espaço para 3 convidados\n",
            "Pedro desculpe o transtorno, mas só tenho espaço para 3 convidados\n",
            "Emilia desculpe o transtorno, mas só tenho espaço para 3 convidados\n",
            "---------------\n",
            "Luiz você não vai caber na festa.\n",
            "Santos você não vai caber na festa.\n",
            "Carlos você não vai caber na festa.\n",
            "Pedro você não vai caber na festa.\n",
            "---------------\n",
            "Margarida você vai caber na festa\n",
            "Donald você vai caber na festa\n",
            "Emilia você vai caber na festa\n",
            "---------------\n"
          ],
          "name": "stdout"
        },
        {
          "output_type": "execute_result",
          "data": {
            "text/plain": [
              "[]"
            ]
          },
          "metadata": {
            "tags": []
          },
          "execution_count": 178
        }
      ]
    },
    {
      "cell_type": "markdown",
      "metadata": {
        "id": "BVwDyOZBmej1"
      },
      "source": [
        "Organizando listas"
      ]
    },
    {
      "cell_type": "code",
      "metadata": {
        "id": "ov-Nu0UDcypD",
        "outputId": "22af5f61-e790-4989-f75f-0d0bb0241963",
        "colab": {
          "base_uri": "https://localhost:8080/"
        }
      },
      "source": [
        "carros2 = [\"Ferrai\", \"Fiat\", \"Toyota\", \"Honda\", \"Volks\", \"Ford\", \"BMW\"]\n",
        "sorted(carros2) #apresenta a lista ordenada por ordem crescente, mas não altera a lista"
      ],
      "execution_count": 179,
      "outputs": [
        {
          "output_type": "execute_result",
          "data": {
            "text/plain": [
              "['BMW', 'Ferrai', 'Fiat', 'Ford', 'Honda', 'Toyota', 'Volks']"
            ]
          },
          "metadata": {
            "tags": []
          },
          "execution_count": 179
        }
      ]
    },
    {
      "cell_type": "code",
      "metadata": {
        "id": "u20N7akDmnFK",
        "outputId": "a81615b5-7b78-4309-cc6a-842302473929",
        "colab": {
          "base_uri": "https://localhost:8080/"
        }
      },
      "source": [
        "carros2 = [\"Ferrai\", \"Fiat\", \"Toyota\", \"Honda\", \"Volks\", \"Ford\", \"BMW\"]\n",
        "sorted(carros2, reverse=True) #apresenta a lista ordenada por ordem decrescente, mas não altera a lista"
      ],
      "execution_count": 180,
      "outputs": [
        {
          "output_type": "execute_result",
          "data": {
            "text/plain": [
              "['Volks', 'Toyota', 'Honda', 'Ford', 'Fiat', 'Ferrai', 'BMW']"
            ]
          },
          "metadata": {
            "tags": []
          },
          "execution_count": 180
        }
      ]
    },
    {
      "cell_type": "code",
      "metadata": {
        "id": "GOzvX2qAnTcd",
        "outputId": "6fc7b5f7-6e0a-4a1d-ed59-def7772c90d5",
        "colab": {
          "base_uri": "https://localhost:8080/"
        }
      },
      "source": [
        "carros2 #veja abaixo que a lista continua como original"
      ],
      "execution_count": 181,
      "outputs": [
        {
          "output_type": "execute_result",
          "data": {
            "text/plain": [
              "['Ferrai', 'Fiat', 'Toyota', 'Honda', 'Volks', 'Ford', 'BMW']"
            ]
          },
          "metadata": {
            "tags": []
          },
          "execution_count": 181
        }
      ]
    },
    {
      "cell_type": "code",
      "metadata": {
        "id": "rL27_uz9ngE1",
        "outputId": "fe5b0da8-bbf2-4418-c035-a199925f8b2d",
        "colab": {
          "base_uri": "https://localhost:8080/"
        }
      },
      "source": [
        "#se quisesse manter a ordenação poderia carregar a lista numa nova lista\n",
        "carros2_ordenado = sorted(carros2)\n",
        "carros2_ordenado"
      ],
      "execution_count": 182,
      "outputs": [
        {
          "output_type": "execute_result",
          "data": {
            "text/plain": [
              "['BMW', 'Ferrai', 'Fiat', 'Ford', 'Honda', 'Toyota', 'Volks']"
            ]
          },
          "metadata": {
            "tags": []
          },
          "execution_count": 182
        }
      ]
    },
    {
      "cell_type": "code",
      "metadata": {
        "id": "kEQYdDcjn6JT",
        "outputId": "3e3b229d-52a6-49b8-b7b9-cf62881b1b69",
        "colab": {
          "base_uri": "https://localhost:8080/"
        }
      },
      "source": [
        "carros2 #mas a lista carros 2 continua original"
      ],
      "execution_count": 183,
      "outputs": [
        {
          "output_type": "execute_result",
          "data": {
            "text/plain": [
              "['Ferrai', 'Fiat', 'Toyota', 'Honda', 'Volks', 'Ford', 'BMW']"
            ]
          },
          "metadata": {
            "tags": []
          },
          "execution_count": 183
        }
      ]
    },
    {
      "cell_type": "code",
      "metadata": {
        "id": "nhP_QGIfn_gD",
        "outputId": "130d1d7b-fcd1-4616-8c1d-f98e1b8027a8",
        "colab": {
          "base_uri": "https://localhost:8080/"
        }
      },
      "source": [
        "#se quiser inverter a lista, o ultimo será o primeiro e o primeiro será o ultimo.\n",
        "#não importa a ordenação, mas o método altera a lista inicial\n",
        "carros2.reverse()\n",
        "carros2"
      ],
      "execution_count": 184,
      "outputs": [
        {
          "output_type": "execute_result",
          "data": {
            "text/plain": [
              "['BMW', 'Ford', 'Volks', 'Honda', 'Toyota', 'Fiat', 'Ferrai']"
            ]
          },
          "metadata": {
            "tags": []
          },
          "execution_count": 184
        }
      ]
    },
    {
      "cell_type": "code",
      "metadata": {
        "id": "SHPYtBHQpaU6",
        "outputId": "fa21745c-e7f9-462e-93ec-64fbfddf0987",
        "colab": {
          "base_uri": "https://localhost:8080/"
        }
      },
      "source": [
        "#para saber o tamanho da lista\n",
        "len(carros2)"
      ],
      "execution_count": 185,
      "outputs": [
        {
          "output_type": "execute_result",
          "data": {
            "text/plain": [
              "7"
            ]
          },
          "metadata": {
            "tags": []
          },
          "execution_count": 185
        }
      ]
    },
    {
      "cell_type": "markdown",
      "metadata": {
        "id": "4jygSlNmsede"
      },
      "source": [
        "Estrutura de repetição FOR"
      ]
    },
    {
      "cell_type": "code",
      "metadata": {
        "id": "jfqXB4--qt2H",
        "outputId": "a14917a4-a8ef-43cf-9cce-487d1d2c0236",
        "colab": {
          "base_uri": "https://localhost:8080/"
        }
      },
      "source": [
        "#Laço for com lista conciste em criar uma variavel, geralmente no singular (cidade) que \n",
        "#vai receber um a um os valores da lista e executar determinada função que esta declarada dentro do laço FOR\n",
        "cidades = [\"araras\", \"campinas\", \"ribeirão preto\", \"são paulo\"]\n",
        "for cidade in cidades:\n",
        "  print(\"O nome da cidade é: \" + cidade.title())\n"
      ],
      "execution_count": 186,
      "outputs": [
        {
          "output_type": "stream",
          "text": [
            "O nome da cidade é: Araras\n",
            "O nome da cidade é: Campinas\n",
            "O nome da cidade é: Ribeirão Preto\n",
            "O nome da cidade é: São Paulo\n"
          ],
          "name": "stdout"
        }
      ]
    },
    {
      "cell_type": "code",
      "metadata": {
        "id": "DiRvUYz_tosU",
        "outputId": "7762188d-8780-48f5-9b5f-12c019179e85",
        "colab": {
          "base_uri": "https://localhost:8080/"
        }
      },
      "source": [
        "# o laço for é delimitado pela identação (os espaço de tabulação no começo da linha de comando)\n",
        "for cidade in cidades:\n",
        "  print(\"1a linha de comando do laço: \" + cidade.upper()) #está dentro do laço\n",
        "\n",
        "  print(\"2a linha de comando do laço: \" + cidade.title()) #está dentro do laço\n",
        "\n",
        "\n",
        "print(\"Aqui o laço já terminou\") # está fora do laço"
      ],
      "execution_count": 187,
      "outputs": [
        {
          "output_type": "stream",
          "text": [
            "1a linha de comando do laço: ARARAS\n",
            "2a linha de comando do laço: Araras\n",
            "1a linha de comando do laço: CAMPINAS\n",
            "2a linha de comando do laço: Campinas\n",
            "1a linha de comando do laço: RIBEIRÃO PRETO\n",
            "2a linha de comando do laço: Ribeirão Preto\n",
            "1a linha de comando do laço: SÃO PAULO\n",
            "2a linha de comando do laço: São Paulo\n",
            "Aqui o laço já terminou\n"
          ],
          "name": "stdout"
        }
      ]
    },
    {
      "cell_type": "markdown",
      "metadata": {
        "id": "ZhpkRM_7zd1R"
      },
      "source": [
        "Missão 9"
      ]
    },
    {
      "cell_type": "code",
      "metadata": {
        "id": "xaxY7IozxS-7",
        "outputId": "5fb68197-522c-4b67-c88c-4d58627f8f2d",
        "colab": {
          "base_uri": "https://localhost:8080/"
        }
      },
      "source": [
        "#1. Pense em 3 marcas que você gosta e crie uma lista com eles. Use for loop para mostrá-los na tela.\n",
        "brands = [\"nestlé\", \"danone\", \"cacau show\"]\n",
        "\n",
        "for brand in brands:\n",
        "  print(brand.title())\n",
        "\n"
      ],
      "execution_count": 188,
      "outputs": [
        {
          "output_type": "stream",
          "text": [
            "Nestlé\n",
            "Danone\n",
            "Cacau Show\n"
          ],
          "name": "stdout"
        }
      ]
    },
    {
      "cell_type": "code",
      "metadata": {
        "id": "coPUj1Lx0Hef",
        "outputId": "fbec256e-ff5d-4684-ca19-2d89bcba023d",
        "colab": {
          "base_uri": "https://localhost:8080/"
        }
      },
      "source": [
        "#a. Modifique seu for loop para mostrar o nome da marca e mais uma mensagem, tipo: \"Eu gosto de usar Nike\".\n",
        "for brand in brands:\n",
        "  print(f\"Eu gosto de {brand.title()}\")\n"
      ],
      "execution_count": 189,
      "outputs": [
        {
          "output_type": "stream",
          "text": [
            "Eu gosto de Nestlé\n",
            "Eu gosto de Danone\n",
            "Eu gosto de Cacau Show\n"
          ],
          "name": "stdout"
        }
      ]
    },
    {
      "cell_type": "code",
      "metadata": {
        "id": "56JxdnDP0b2e",
        "outputId": "c00aa03f-f059-4c3c-aa8b-1afd3f42d5e7",
        "colab": {
          "base_uri": "https://localhost:8080/"
        }
      },
      "source": [
        "#b. Adicione uma linha fora do seu loop com uma mensagem genérica: \"Eu gosto de todas essas marcas.\"\n",
        "for brand in brands:\n",
        "  print(brand.title())\n",
        "\n",
        "print(\"Eu gosto de todas as marcas\")"
      ],
      "execution_count": 190,
      "outputs": [
        {
          "output_type": "stream",
          "text": [
            "Nestlé\n",
            "Danone\n",
            "Cacau Show\n",
            "Eu gosto de todas as marcas\n"
          ],
          "name": "stdout"
        }
      ]
    },
    {
      "cell_type": "markdown",
      "metadata": {
        "id": "EUm8oYtB0zS1"
      },
      "source": [
        "Lista de Números"
      ]
    },
    {
      "cell_type": "code",
      "metadata": {
        "id": "FGYzXtJY0sqg",
        "outputId": "dc453b6c-aae0-4a07-f233-6a78107e7f94",
        "colab": {
          "base_uri": "https://localhost:8080/"
        }
      },
      "source": [
        "#função range() cria uma faixa de numeros que pode ser utilizada dentro de um laço FOR para executar determinados comandos repetidas vezes\n",
        "for num in range(1, 6): # para num dentro do range de 1 a 5 (o seis não vai rodar. É o mesmo que (num < 6)) faça. \n",
        "  print(num)"
      ],
      "execution_count": 191,
      "outputs": [
        {
          "output_type": "stream",
          "text": [
            "1\n",
            "2\n",
            "3\n",
            "4\n",
            "5\n"
          ],
          "name": "stdout"
        }
      ]
    },
    {
      "cell_type": "code",
      "metadata": {
        "id": "vA68iLHQ16Me",
        "outputId": "80c8052a-06e5-4375-9aca-6d5b56d8e27a",
        "colab": {
          "base_uri": "https://localhost:8080/"
        }
      },
      "source": [
        "#para criação de uma lista de números podemos então utilziar o range() combinado com o list()\n",
        "lista_numeros1 = list(range(1,10)) #isso é o mesmo que digitar lista_numeros1 = [1, 2, 3, 4, 5, 6, 7, 8, 9]\n",
        "lista_numeros1"
      ],
      "execution_count": 192,
      "outputs": [
        {
          "output_type": "execute_result",
          "data": {
            "text/plain": [
              "[1, 2, 3, 4, 5, 6, 7, 8, 9]"
            ]
          },
          "metadata": {
            "tags": []
          },
          "execution_count": 192
        }
      ]
    },
    {
      "cell_type": "code",
      "metadata": {
        "id": "cF3yJBqt2qRg",
        "outputId": "871cd226-f1a8-4e4b-c6c1-1b8a2257462a",
        "colab": {
          "base_uri": "https://localhost:8080/"
        }
      },
      "source": [
        "lista_numeros_pares = list(range(2, 21, 2))\n",
        "lista_numeros_pares"
      ],
      "execution_count": 193,
      "outputs": [
        {
          "output_type": "execute_result",
          "data": {
            "text/plain": [
              "[2, 4, 6, 8, 10, 12, 14, 16, 18, 20]"
            ]
          },
          "metadata": {
            "tags": []
          },
          "execution_count": 193
        }
      ]
    },
    {
      "cell_type": "code",
      "metadata": {
        "id": "BFQmdJvx3ZWP",
        "outputId": "8da94081-a5ce-42d2-f99f-82afe9322306",
        "colab": {
          "base_uri": "https://localhost:8080/"
        }
      },
      "source": [
        "lista_numeros_impares = list(range(1, 20, 2))\n",
        "lista_numeros_impares"
      ],
      "execution_count": 194,
      "outputs": [
        {
          "output_type": "execute_result",
          "data": {
            "text/plain": [
              "[1, 3, 5, 7, 9, 11, 13, 15, 17, 19]"
            ]
          },
          "metadata": {
            "tags": []
          },
          "execution_count": 194
        }
      ]
    },
    {
      "cell_type": "code",
      "metadata": {
        "id": "UIXUTKf-3i3J",
        "outputId": "3f2e7da0-4ee6-4cec-e7a5-8af91b9622e9",
        "colab": {
          "base_uri": "https://localhost:8080/"
        }
      },
      "source": [
        "#lista com numeros ao cubo\n",
        "lista_numeros_aocubo = [] #criei uma lista em branco\n",
        "for num in range(1, 11):\n",
        "  numero_aocubo = num ** 3 #fiz a operação e guardei na variavel\n",
        "  lista_numeros_aocubo.append(numero_aocubo) #guardei o valor da variavel na lista\n",
        "\n",
        "lista_numeros_aocubo #imprimi a lista"
      ],
      "execution_count": 195,
      "outputs": [
        {
          "output_type": "execute_result",
          "data": {
            "text/plain": [
              "[1, 8, 27, 64, 125, 216, 343, 512, 729, 1000]"
            ]
          },
          "metadata": {
            "tags": []
          },
          "execution_count": 195
        }
      ]
    },
    {
      "cell_type": "code",
      "metadata": {
        "id": "GPyk54VD4KE9",
        "outputId": "d8f38a86-24b2-4443-b948-18dbd74691ba",
        "colab": {
          "base_uri": "https://localhost:8080/"
        }
      },
      "source": [
        "#podemos usar funções de estatistica\n",
        "print(f\"Minimo: {min(lista_numeros_aocubo)}\") #mostra o menor numero da lista\n",
        "print(f\"Máximo: {max(lista_numeros_aocubo)}\") #mostra o maior nuemro da lista\n",
        "print(f\"Soma:   {sum(lista_numeros_aocubo)}\") #mostra a soma da lista"
      ],
      "execution_count": 196,
      "outputs": [
        {
          "output_type": "stream",
          "text": [
            "Minimo: 1\n",
            "Máximo: 1000\n",
            "Soma:   3025\n"
          ],
          "name": "stdout"
        }
      ]
    },
    {
      "cell_type": "code",
      "metadata": {
        "id": "LTNROpMg6UTJ",
        "outputId": "d288c4e0-b5a3-4451-e5ba-2562559333d3",
        "colab": {
          "base_uri": "https://localhost:8080/"
        }
      },
      "source": [
        "#mas essa lista com numeros ao cubo poderia ser criada diferente, com apenas uma linha de código\n",
        "lista2_numeros_aocubo = [num ** 3 for num in range(1, 11)] #teremos a mesma lista anterior\n",
        "lista2_numeros_aocubo"
      ],
      "execution_count": 197,
      "outputs": [
        {
          "output_type": "execute_result",
          "data": {
            "text/plain": [
              "[1, 8, 27, 64, 125, 216, 343, 512, 729, 1000]"
            ]
          },
          "metadata": {
            "tags": []
          },
          "execution_count": 197
        }
      ]
    },
    {
      "cell_type": "markdown",
      "metadata": {
        "id": "psJCcKPE8ZmL"
      },
      "source": [
        "Missão 10"
      ]
    },
    {
      "cell_type": "code",
      "metadata": {
        "id": "qaPtqSrg7vv6",
        "outputId": "d1f8c03d-52ea-42f0-9da5-3b46eded17ad",
        "colab": {
          "base_uri": "https://localhost:8080/"
        }
      },
      "source": [
        "#1. Mostre com print uma lista de números de 1 a 5.\n",
        "lista_missao10 = list(range(1, 6))\n",
        "lista_missao10"
      ],
      "execution_count": 198,
      "outputs": [
        {
          "output_type": "execute_result",
          "data": {
            "text/plain": [
              "[1, 2, 3, 4, 5]"
            ]
          },
          "metadata": {
            "tags": []
          },
          "execution_count": 198
        }
      ]
    },
    {
      "cell_type": "code",
      "metadata": {
        "id": "7VGrG86D8mjv",
        "outputId": "2b627327-e5a3-4e0e-ba7a-ad25d6da5c6d",
        "colab": {
          "base_uri": "https://localhost:8080/"
        }
      },
      "source": [
        "#2. Mostre com print uma lista de números de 1 a 10.\n",
        "lista2_missao10 = list(range(1, 11))\n",
        "lista2_missao10"
      ],
      "execution_count": 199,
      "outputs": [
        {
          "output_type": "execute_result",
          "data": {
            "text/plain": [
              "[1, 2, 3, 4, 5, 6, 7, 8, 9, 10]"
            ]
          },
          "metadata": {
            "tags": []
          },
          "execution_count": 199
        }
      ]
    },
    {
      "cell_type": "code",
      "metadata": {
        "id": "ELrXYevw83DC",
        "outputId": "d097d7ec-0cd8-47b5-8e08-f1f5ae4256b6",
        "colab": {
          "base_uri": "https://localhost:8080/"
        }
      },
      "source": [
        "#3. Nesta lista até 1000, use as funções min, max e sum e print os seus valores para ter certeza que a lista esta certa.\n",
        "print(f\"MIN da lista2_missao10: {min(lista2_missao10)}\")\n",
        "print(f\"MAX da lista2_missao10: {max(lista2_missao10)}\")\n",
        "print(f\"SUM da lista2_missao10: {sum(lista2_missao10)}\")"
      ],
      "execution_count": 200,
      "outputs": [
        {
          "output_type": "stream",
          "text": [
            "MIN da lista2_missao10: 1\n",
            "MAX da lista2_missao10: 10\n",
            "SUM da lista2_missao10: 55\n"
          ],
          "name": "stdout"
        }
      ]
    },
    {
      "cell_type": "code",
      "metadata": {
        "id": "exgK7KAy9jDn",
        "outputId": "72982152-b51c-4c60-f329-018f372d174a",
        "colab": {
          "base_uri": "https://localhost:8080/"
        }
      },
      "source": [
        "#4. Crie uma lista de números pares numa sequência de 1 a 40.\n",
        "lista_pares_missao10 = list(range(2, 41, 2))\n",
        "lista_pares_missao10"
      ],
      "execution_count": 201,
      "outputs": [
        {
          "output_type": "execute_result",
          "data": {
            "text/plain": [
              "[2, 4, 6, 8, 10, 12, 14, 16, 18, 20, 22, 24, 26, 28, 30, 32, 34, 36, 38, 40]"
            ]
          },
          "metadata": {
            "tags": []
          },
          "execution_count": 201
        }
      ]
    },
    {
      "cell_type": "code",
      "metadata": {
        "id": "SqLv7pMc91tt",
        "outputId": "86c4bb7f-253f-411b-b86e-ef18c2853ddd",
        "colab": {
          "base_uri": "https://localhost:8080/"
        }
      },
      "source": [
        "#5. Crie uma lista de números ao quadrado de 1 ate 10.\n",
        "lista_sqr_missao10 = [num ** 2 for num in range(1, 11)]\n",
        "lista_sqr_missao10"
      ],
      "execution_count": 202,
      "outputs": [
        {
          "output_type": "execute_result",
          "data": {
            "text/plain": [
              "[1, 4, 9, 16, 25, 36, 49, 64, 81, 100]"
            ]
          },
          "metadata": {
            "tags": []
          },
          "execution_count": 202
        }
      ]
    },
    {
      "cell_type": "markdown",
      "metadata": {
        "id": "bvXkCHmqA25G"
      },
      "source": [
        "Fatiando uma lista"
      ]
    },
    {
      "cell_type": "code",
      "metadata": {
        "id": "c_nTo_Xl-bF5",
        "outputId": "24f68edb-9997-439a-d5cb-8d63e050e8e1",
        "colab": {
          "base_uri": "https://localhost:8080/"
        }
      },
      "source": [
        "#listar apenas alguns nomes da lista\n",
        "nomes = [\"pedro\", \"maria\", \"joão\", \"jose\", \"Lucas\"]\n",
        "print(nomes[1:3]) # nesse caso estou pedindo do item 1 até o 3"
      ],
      "execution_count": 203,
      "outputs": [
        {
          "output_type": "stream",
          "text": [
            "['maria', 'joão']\n"
          ],
          "name": "stdout"
        }
      ]
    },
    {
      "cell_type": "code",
      "metadata": {
        "id": "_ivsfL7JBa-O",
        "outputId": "ebf8a0fc-3a5d-4763-bad7-95ff9984c661",
        "colab": {
          "base_uri": "https://localhost:8080/"
        }
      },
      "source": [
        "print(nomes[:2]) #nesse caso o python entende que o padrão do inicio é 0"
      ],
      "execution_count": 204,
      "outputs": [
        {
          "output_type": "stream",
          "text": [
            "['pedro', 'maria']\n"
          ],
          "name": "stdout"
        }
      ]
    },
    {
      "cell_type": "code",
      "metadata": {
        "id": "fsPSHQ5JCLob",
        "outputId": "9cb2ad6b-6506-43c2-c47c-8f7cf4bf8dc0",
        "colab": {
          "base_uri": "https://localhost:8080/"
        }
      },
      "source": [
        "print(nomes[2:]) #nesse caso o python entende que o padrão é até o final"
      ],
      "execution_count": 205,
      "outputs": [
        {
          "output_type": "stream",
          "text": [
            "['joão', 'jose', 'Lucas']\n"
          ],
          "name": "stdout"
        }
      ]
    },
    {
      "cell_type": "code",
      "metadata": {
        "id": "ti1IqER3CYTf",
        "outputId": "54120d6b-ba61-47db-a844-13a2688e8d51",
        "colab": {
          "base_uri": "https://localhost:8080/"
        }
      },
      "source": [
        "print(nomes[-3:]) #nesse caso o python pega os ultimos 3"
      ],
      "execution_count": 206,
      "outputs": [
        {
          "output_type": "stream",
          "text": [
            "['joão', 'jose', 'Lucas']\n"
          ],
          "name": "stdout"
        }
      ]
    },
    {
      "cell_type": "code",
      "metadata": {
        "id": "Y2XVQRB0CozH",
        "outputId": "0266de46-80db-4f85-84c5-aa6bc16b9a79",
        "colab": {
          "base_uri": "https://localhost:8080/"
        }
      },
      "source": [
        "#copiando uma lista para outra lista (porque as vezes você quer trabalhar na cópia e depois comparar para ver como ficou)\n",
        "meus_carros = [\"fiat\", \"ford\", \"volks\", \"kia\"] #essa lista é a original\n",
        "meus_carros_copia = meus_carros[:] #dessa maneira eu crio uma cópia\n",
        "meus_carros_link = meus_carros #dessa maneira eu crio um link\n",
        "\n",
        "print(f\"meus_carros:        {meus_carros}\")\n",
        "print(f\"meus_carros_copia : {meus_carros_copia}\")\n",
        "print(f\"meus_carros_link :  {meus_carros_link}\")"
      ],
      "execution_count": 207,
      "outputs": [
        {
          "output_type": "stream",
          "text": [
            "meus_carros:        ['fiat', 'ford', 'volks', 'kia']\n",
            "meus_carros_copia : ['fiat', 'ford', 'volks', 'kia']\n",
            "meus_carros_link :  ['fiat', 'ford', 'volks', 'kia']\n"
          ],
          "name": "stdout"
        }
      ]
    },
    {
      "cell_type": "code",
      "metadata": {
        "id": "VHV9Un4sFTvT",
        "outputId": "916e98a5-80f3-4c53-8254-2e82f6db8c30",
        "colab": {
          "base_uri": "https://localhost:8080/"
        }
      },
      "source": [
        "#vemos que agora temos 3 listas\n",
        "#mas se alterar meus_carros_copia, não vamos alterar a lista original\n",
        "meus_carros_copia.append(\"Hyndai\")\n",
        "print(f\"meus_carros:        {meus_carros}\")\n",
        "print(f\"meus_carros_copia : {meus_carros_copia}\")\n",
        "print(f\"meus_carros_link :  {meus_carros_link}\")"
      ],
      "execution_count": 208,
      "outputs": [
        {
          "output_type": "stream",
          "text": [
            "meus_carros:        ['fiat', 'ford', 'volks', 'kia']\n",
            "meus_carros_copia : ['fiat', 'ford', 'volks', 'kia', 'Hyndai']\n",
            "meus_carros_link :  ['fiat', 'ford', 'volks', 'kia']\n"
          ],
          "name": "stdout"
        }
      ]
    },
    {
      "cell_type": "code",
      "metadata": {
        "id": "bCPNw3T9Fp48",
        "outputId": "60b95155-28e2-487d-960e-560b8ab9d84d",
        "colab": {
          "base_uri": "https://localhost:8080/"
        }
      },
      "source": [
        "#mas se alterar meus_carros_link, vamos alterar a lista original também\n",
        "meus_carros_link.append(\"bmw\")\n",
        "print(f\"meus_carros:        {meus_carros}\")\n",
        "print(f\"meus_carros_copia : {meus_carros_copia}\")\n",
        "print(f\"meus_carros_link :  {meus_carros_link}\")"
      ],
      "execution_count": 209,
      "outputs": [
        {
          "output_type": "stream",
          "text": [
            "meus_carros:        ['fiat', 'ford', 'volks', 'kia', 'bmw']\n",
            "meus_carros_copia : ['fiat', 'ford', 'volks', 'kia', 'Hyndai']\n",
            "meus_carros_link :  ['fiat', 'ford', 'volks', 'kia', 'bmw']\n"
          ],
          "name": "stdout"
        }
      ]
    },
    {
      "cell_type": "code",
      "metadata": {
        "id": "F49FtQynF5kV"
      },
      "source": [
        "#então tomar cuidado ao fazer a cópia ou link.\n",
        "#podemos também copiar apenas alguma parte da lista usando [:] com valores e usar o mesmo conceito no for"
      ],
      "execution_count": 210,
      "outputs": []
    },
    {
      "cell_type": "markdown",
      "metadata": {
        "id": "lm3BQy1aHPkG"
      },
      "source": [
        "MIssao 11"
      ]
    },
    {
      "cell_type": "code",
      "metadata": {
        "id": "0Qb-2K1AGNhD",
        "outputId": "5310c9c9-680c-4301-cdf7-dcefcd9679c7",
        "colab": {
          "base_uri": "https://localhost:8080/"
        }
      },
      "source": [
        "#1. Dos exercícios anteriores de listas, mostre os três primeiros items de uma lista usando a opção de fatia [:].\n",
        "lista_missao11 = ['fiat', 'ford', 'volks', 'kia', 'bmw']\n",
        "lista_missao11[0:3]"
      ],
      "execution_count": 211,
      "outputs": [
        {
          "output_type": "execute_result",
          "data": {
            "text/plain": [
              "['fiat', 'ford', 'volks']"
            ]
          },
          "metadata": {
            "tags": []
          },
          "execution_count": 211
        }
      ]
    },
    {
      "cell_type": "code",
      "metadata": {
        "id": "oDJ7nhL8H4mk",
        "outputId": "f187893b-eb2c-47b9-f4f9-22e279c8cabf",
        "colab": {
          "base_uri": "https://localhost:8080/"
        }
      },
      "source": [
        "#2. Dos exercícios anteriores de listas, mostre três items do meio de uma lista usando a opção de fatia [:].\n",
        "lista_missao11[1:4]"
      ],
      "execution_count": 212,
      "outputs": [
        {
          "output_type": "execute_result",
          "data": {
            "text/plain": [
              "['ford', 'volks', 'kia']"
            ]
          },
          "metadata": {
            "tags": []
          },
          "execution_count": 212
        }
      ]
    },
    {
      "cell_type": "code",
      "metadata": {
        "id": "r7B-VF2oIMI4",
        "outputId": "b55862f0-bfec-4fa8-fb79-1fc3b3c0de0b",
        "colab": {
          "base_uri": "https://localhost:8080/"
        }
      },
      "source": [
        "#3. Dos exercícios anteriores de listas, mostre os três últimos items de uma lista usando a opção de fatia [:].\n",
        "lista_missao11[-3:]"
      ],
      "execution_count": 213,
      "outputs": [
        {
          "output_type": "execute_result",
          "data": {
            "text/plain": [
              "['volks', 'kia', 'bmw']"
            ]
          },
          "metadata": {
            "tags": []
          },
          "execution_count": 213
        }
      ]
    },
    {
      "cell_type": "code",
      "metadata": {
        "id": "qDOsvBniIU7a",
        "outputId": "9f9787da-e55d-4452-b402-5974463cd19a",
        "colab": {
          "base_uri": "https://localhost:8080/"
        }
      },
      "source": [
        "#4. Crie uma lista de minhas_cidades e amigos_cidades e depois adicione a cada lista uma nova cidade. \n",
        "#Mostre ambas e tenha certeza que são duas listas diferentes.\n",
        "cidades_minhas = [\"araras\", \"sao paulo\", \"ribeirao preto\"]\n",
        "cidades_amigos = cidades_minhas[:]\n",
        "cidades_amigos.append(\"leme\")\n",
        "for minhas in cidades_minhas:\n",
        "  print(f\"Minhas cidades:     {minhas}\")\n",
        "\n",
        "for amigos in cidades_amigos:\n",
        "  print(f\"Cidades dos amigos: {amigos}\")"
      ],
      "execution_count": 214,
      "outputs": [
        {
          "output_type": "stream",
          "text": [
            "Minhas cidades:     araras\n",
            "Minhas cidades:     sao paulo\n",
            "Minhas cidades:     ribeirao preto\n",
            "Cidades dos amigos: araras\n",
            "Cidades dos amigos: sao paulo\n",
            "Cidades dos amigos: ribeirao preto\n",
            "Cidades dos amigos: leme\n"
          ],
          "name": "stdout"
        }
      ]
    },
    {
      "cell_type": "code",
      "metadata": {
        "id": "CIxQxCDxJSgk"
      },
      "source": [
        ""
      ],
      "execution_count": 214,
      "outputs": []
    }
  ]
}