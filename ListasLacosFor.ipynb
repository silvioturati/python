{
  "nbformat": 4,
  "nbformat_minor": 0,
  "metadata": {
    "colab": {
      "name": "ListasLacosFor.ipynb",
      "provenance": [],
      "collapsed_sections": [],
      "authorship_tag": "ABX9TyNGpsuuhdxpP54zGzfMfVxp",
      "include_colab_link": true
    },
    "kernelspec": {
      "name": "python3",
      "display_name": "Python 3"
    }
  },
  "cells": [
    {
      "cell_type": "markdown",
      "metadata": {
        "id": "view-in-github",
        "colab_type": "text"
      },
      "source": [
        "<a href=\"https://colab.research.google.com/github/silvioturati/python/blob/main/ListasLacosFor.ipynb\" target=\"_parent\"><img src=\"https://colab.research.google.com/assets/colab-badge.svg\" alt=\"Open In Colab\"/></a>"
      ]
    },
    {
      "cell_type": "markdown",
      "metadata": {
        "id": "4W-BHzKteRk6"
      },
      "source": [
        "Listas em Python3"
      ]
    },
    {
      "cell_type": "code",
      "metadata": {
        "id": "3Z85ukv2YIkt",
        "outputId": "f6bafc23-0efc-40e5-cc99-4b7212108308",
        "colab": {
          "base_uri": "https://localhost:8080/"
        }
      },
      "source": [
        "#criando uma lista é quase como uma variavel, só que os valores da lista estão dentro de colchetes. \n",
        "comidas = [\"pizza\", \"hamburguer\", \"churrasco\", 10, 10.5, 200.0] #o nomes geralmente no plural, e os valores podem ser de diferentes tipos\n",
        "comidas"
      ],
      "execution_count": null,
      "outputs": [
        {
          "output_type": "execute_result",
          "data": {
            "text/plain": [
              "['pizza', 'hamburguer', 'churrasco', 10, 10.5, 200.0]"
            ]
          },
          "metadata": {
            "tags": []
          },
          "execution_count": 3
        }
      ]
    },
    {
      "cell_type": "code",
      "metadata": {
        "id": "TGnIjLM4fIx6",
        "outputId": "0afed194-3cab-4bfc-ac04-2a29018b422f",
        "colab": {
          "base_uri": "https://localhost:8080/"
        }
      },
      "source": [
        "#você pode ter lista dentro de lista\n",
        "carros = [[\"gol\", \"palio\", \"ka\"],[\"volks\", \"fiat\", \"ford\"], [20000.0, 22000.0, 19000.0]]\n",
        "carros"
      ],
      "execution_count": null,
      "outputs": [
        {
          "output_type": "execute_result",
          "data": {
            "text/plain": [
              "[['gol', 'palio', 'ka'],\n",
              " ['volks', 'fiat', 'ford'],\n",
              " [20000.0, 22000.0, 19000.0]]"
            ]
          },
          "metadata": {
            "tags": []
          },
          "execution_count": 6
        }
      ]
    },
    {
      "cell_type": "code",
      "metadata": {
        "id": "biTtLJ0Zf_3z",
        "outputId": "f376a649-dceb-42a6-9e47-4af637b36068",
        "colab": {
          "base_uri": "https://localhost:8080/"
        }
      },
      "source": [
        "#acessando a lista\n",
        "#a lista tem o indexador começando em 0, então o primeiro item da lista é o idex 0, por exemplo:\n",
        "#comidas = [\"pizza\", \"hamburguer\", \"churrasco\", 10, 10.5, 200.0]\n",
        "#comidas = [0      , 1           , 2          , 3 , 4   , 5    ]\n",
        "print(\"Eu comi \" + comidas[0] + \" e gastei \" + str(comidas[3]) + \" reais ontem na pizzaria.\")\n",
        "print(\"Eu comi {} e gastei {} reais ontem a noite\".format(comidas[2], comidas[5]))\n",
        "print(f\"Eu comi {comidas[1]} e gastei {comidas[4]} reais ontem na hamburgueria\")\n",
        "print(f\"Eu tenho um {carros[0][0]} da {carros[1][0]} e comprei por {carros[2][0]}\")"
      ],
      "execution_count": null,
      "outputs": [
        {
          "output_type": "stream",
          "text": [
            "Eu comi pizza e gastei 10 reais ontem na pizzaria.\n",
            "Eu comi churrasco e gastei 200.0 reais ontem a noite\n",
            "Eu comi hamburguer e gastei 10.5 reais ontem na hamburgueria\n",
            "Eu tenho um gol da volks e comprei por 20000.0\n"
          ],
          "name": "stdout"
        }
      ]
    },
    {
      "cell_type": "code",
      "metadata": {
        "id": "2QlohZhQhZuu",
        "outputId": "25506617-79de-4adf-f630-f334afb6c55a",
        "colab": {
          "base_uri": "https://localhost:8080/"
        }
      },
      "source": [
        "#também pode declarar uma varivel com o valor escolhido da lista\n",
        "preco_do_carro = carros[2][2]\n",
        "preco_do_carro"
      ],
      "execution_count": null,
      "outputs": [
        {
          "output_type": "execute_result",
          "data": {
            "text/plain": [
              "19000.0"
            ]
          },
          "metadata": {
            "tags": []
          },
          "execution_count": 17
        }
      ]
    },
    {
      "cell_type": "code",
      "metadata": {
        "id": "xbhlS9Knjwpt",
        "outputId": "b656dc01-a68f-46f6-f5d4-3c0700ad1afc",
        "colab": {
          "base_uri": "https://localhost:8080/",
          "height": 35
        }
      },
      "source": [
        "#também pode usar métodos\n",
        "nome_da_comida = comidas[0].title()\n",
        "nome_da_comida"
      ],
      "execution_count": null,
      "outputs": [
        {
          "output_type": "execute_result",
          "data": {
            "application/vnd.google.colaboratory.intrinsic+json": {
              "type": "string"
            },
            "text/plain": [
              "'Pizza'"
            ]
          },
          "metadata": {
            "tags": []
          },
          "execution_count": 19
        }
      ]
    },
    {
      "cell_type": "code",
      "metadata": {
        "id": "E_rf-LD-k_PM",
        "outputId": "28e8b314-20ea-4467-edb9-3bb72831de7b",
        "colab": {
          "base_uri": "https://localhost:8080/"
        }
      },
      "source": [
        "#para acessar o ultimo numero da lista\n",
        "comidas[-1] #é só pedir o -1. Se quiser o penultimo -2 e assim vai"
      ],
      "execution_count": null,
      "outputs": [
        {
          "output_type": "execute_result",
          "data": {
            "text/plain": [
              "200.0"
            ]
          },
          "metadata": {
            "tags": []
          },
          "execution_count": 22
        }
      ]
    },
    {
      "cell_type": "code",
      "metadata": {
        "id": "TgUOFApLpAln",
        "outputId": "fc8e7789-660b-4bdf-e6d6-6a2d2954de18",
        "colab": {
          "base_uri": "https://localhost:8080/"
        }
      },
      "source": [
        "#para acessar o último item da lista carros.Veja que ele retorna a última lista porque a lista carros é composta por 3 listas\n",
        "carros[-1]"
      ],
      "execution_count": null,
      "outputs": [
        {
          "output_type": "execute_result",
          "data": {
            "text/plain": [
              "[20000.0, 22000.0, 19000.0]"
            ]
          },
          "metadata": {
            "tags": []
          },
          "execution_count": 41
        }
      ]
    },
    {
      "cell_type": "code",
      "metadata": {
        "id": "nGxyVRmmpgOk",
        "outputId": "e73dd9a9-2bfe-48b0-e845-e5a4663c0c36",
        "colab": {
          "base_uri": "https://localhost:8080/"
        }
      },
      "source": [
        "#então para acessar o último dentro da última lista da lista carros\n",
        "carros[-1][-1]"
      ],
      "execution_count": null,
      "outputs": [
        {
          "output_type": "execute_result",
          "data": {
            "text/plain": [
              "19000.0"
            ]
          },
          "metadata": {
            "tags": []
          },
          "execution_count": 43
        }
      ]
    },
    {
      "cell_type": "code",
      "metadata": {
        "id": "JUbfNkAgmLRv",
        "outputId": "345a39d3-65e9-4313-8113-45da20e4004b",
        "colab": {
          "base_uri": "https://localhost:8080/"
        }
      },
      "source": [
        "#para saber quantos itens uma lista\n",
        "len(comidas)\n"
      ],
      "execution_count": null,
      "outputs": [
        {
          "output_type": "execute_result",
          "data": {
            "text/plain": [
              "6"
            ]
          },
          "metadata": {
            "tags": []
          },
          "execution_count": 35
        }
      ]
    },
    {
      "cell_type": "code",
      "metadata": {
        "id": "RkxSZAAGoiCW",
        "outputId": "636ead57-59b2-43fd-aa35-2fc1d50a8af6",
        "colab": {
          "base_uri": "https://localhost:8080/"
        }
      },
      "source": [
        "#veja que para a lista de carros, apesas dela ter 3 listas dentro de uma lista o tamanho da lista é 3\n",
        "len(carros)"
      ],
      "execution_count": null,
      "outputs": [
        {
          "output_type": "execute_result",
          "data": {
            "text/plain": [
              "3"
            ]
          },
          "metadata": {
            "tags": []
          },
          "execution_count": 32
        }
      ]
    },
    {
      "cell_type": "code",
      "metadata": {
        "id": "3SEV8bv4owyh",
        "outputId": "6b1d6d95-85a0-4ff9-ea03-8d3ba4d19288",
        "colab": {
          "base_uri": "https://localhost:8080/"
        }
      },
      "source": [
        "#abaixo estamos então sabendo o tamanho da lista 0 dentro da lista carros\n",
        "len(carros[0])"
      ],
      "execution_count": null,
      "outputs": [
        {
          "output_type": "execute_result",
          "data": {
            "text/plain": [
              "3"
            ]
          },
          "metadata": {
            "tags": []
          },
          "execution_count": 38
        }
      ]
    },
    {
      "cell_type": "markdown",
      "metadata": {
        "id": "ugeraKBgMiVH"
      },
      "source": [
        "Missão 6"
      ]
    },
    {
      "cell_type": "code",
      "metadata": {
        "id": "vdMmQ0xEqAwX",
        "outputId": "5df588d0-c0f4-4e17-cddb-4a1a2b8e6dce",
        "colab": {
          "base_uri": "https://localhost:8080/"
        }
      },
      "source": [
        "#1. Armazene os nomes dos seus amigos numa lista e accesse cada elemento da lista, um por vez.\n",
        "amigos = [\"Fulano\", \"Beltrano\", \"Cicrano\"]\n",
        "print(\"amigo 1: \" + amigos[0])\n",
        "print(\"amigo 2: \" + amigos[1])\n",
        "print(\"amigo 3: \" + amigos[2])"
      ],
      "execution_count": null,
      "outputs": [
        {
          "output_type": "stream",
          "text": [
            "amigo 1: Fulano\n",
            "amigo 2: Beltrano\n",
            "amigo 3: Cicrano\n"
          ],
          "name": "stdout"
        }
      ]
    },
    {
      "cell_type": "code",
      "metadata": {
        "id": "f33O-vyYNAax",
        "outputId": "47b1992a-275d-4577-8400-be1ca7e04e13",
        "colab": {
          "base_uri": "https://localhost:8080/"
        }
      },
      "source": [
        "#2. Agora usando a mesma lista acima, mostre o nome dos seus amigos com uma mensagem para cada um. Mensagem sempre a mesma, o nome do amigo precisa ser diferente.\n",
        "print(f\"{amigos[0].title()} é meu amigo\")\n",
        "print(f\"{amigos[1].title()} é meu amigo\")\n",
        "print(f\"{amigos[2].title()} é meu amigo\")"
      ],
      "execution_count": null,
      "outputs": [
        {
          "output_type": "stream",
          "text": [
            "Fulano é meu amigo\n",
            "Beltrano é meu amigo\n",
            "Cicrano é meu amigo\n"
          ],
          "name": "stdout"
        }
      ]
    },
    {
      "cell_type": "markdown",
      "metadata": {
        "id": "DxYG_PHmOICa"
      },
      "source": [
        "Alterar, adicionar e remover elementos de uma lista"
      ]
    },
    {
      "cell_type": "code",
      "metadata": {
        "id": "fowgWGtVN1mF",
        "outputId": "a97c0646-8c09-4cf2-e890-666d91cbb081",
        "colab": {
          "base_uri": "https://localhost:8080/"
        }
      },
      "source": [
        "#alterando um elemento da lista\n",
        "marcas_carros = [\"Ferrari\", \"Ford\", \"GM\"] #lista inicial\n",
        "marcas_carros"
      ],
      "execution_count": null,
      "outputs": [
        {
          "output_type": "execute_result",
          "data": {
            "text/plain": [
              "['Ferrari', 'Ford', 'GM']"
            ]
          },
          "metadata": {
            "tags": []
          },
          "execution_count": 6
        }
      ]
    },
    {
      "cell_type": "code",
      "metadata": {
        "id": "Tz5gI7IvOwsi",
        "outputId": "5386e120-f9da-4062-de20-eaaf57892efb",
        "colab": {
          "base_uri": "https://localhost:8080/"
        }
      },
      "source": [
        "marcas_carros[0] = \"Fiat\" #alterando o elemento 0 de Ferrari para Fiat\n",
        "marcas_carros"
      ],
      "execution_count": null,
      "outputs": [
        {
          "output_type": "execute_result",
          "data": {
            "text/plain": [
              "['Fiat', 'Ford', 'GM']"
            ]
          },
          "metadata": {
            "tags": []
          },
          "execution_count": 7
        }
      ]
    },
    {
      "cell_type": "code",
      "metadata": {
        "id": "z_Vf4nVHO9vj",
        "outputId": "07c9f0f1-edd8-4af9-bbf6-faff47a403ea",
        "colab": {
          "base_uri": "https://localhost:8080/"
        }
      },
      "source": [
        "#adicionando um elemento no final da lista\n",
        "marcas_carros.append(\"Porsche\")\n",
        "marcas_carros"
      ],
      "execution_count": null,
      "outputs": [
        {
          "output_type": "execute_result",
          "data": {
            "text/plain": [
              "['Fiat', 'Ford', 'GM', 'Porsche']"
            ]
          },
          "metadata": {
            "tags": []
          },
          "execution_count": 8
        }
      ]
    },
    {
      "cell_type": "code",
      "metadata": {
        "id": "OUNkiNEBPZLc",
        "outputId": "7b40f466-77a3-445e-b9a9-a9d35a1f99e4",
        "colab": {
          "base_uri": "https://localhost:8080/"
        }
      },
      "source": [
        "#adcionando um elemento numa posição escolhida\n",
        "marcas_carros.insert(0, \"Ferrari\") #estou incluindo a marca Ferrari no indice 0 e todos os outros itens irão correr uma posição para direita\n",
        "marcas_carros"
      ],
      "execution_count": null,
      "outputs": [
        {
          "output_type": "execute_result",
          "data": {
            "text/plain": [
              "['Ferrari', 'Fiat', 'Ford', 'GM', 'Porsche']"
            ]
          },
          "metadata": {
            "tags": []
          },
          "execution_count": 15
        }
      ]
    },
    {
      "cell_type": "code",
      "metadata": {
        "id": "EQ5TgDw6QRZM",
        "outputId": "dac3202a-6e1b-42d9-9db8-5cd031a038b1",
        "colab": {
          "base_uri": "https://localhost:8080/"
        }
      },
      "source": [
        "#removendo um elemento da lista\n",
        "del marcas_carros[0] #dessa maneira deletamos o item pela posição do index\n",
        "marcas_carros.remove(\"Fiat\") #dessa maneira deletamos o item pelo valor\n",
        "marcas_carros"
      ],
      "execution_count": null,
      "outputs": [
        {
          "output_type": "execute_result",
          "data": {
            "text/plain": [
              "['Ford', 'GM', 'Porsche']"
            ]
          },
          "metadata": {
            "tags": []
          },
          "execution_count": 16
        }
      ]
    },
    {
      "cell_type": "code",
      "metadata": {
        "id": "te9nrt5NRLD9",
        "outputId": "e09bcbc2-4991-43da-b725-93306e1eba3d",
        "colab": {
          "base_uri": "https://localhost:8080/"
        }
      },
      "source": [
        "#removendo e salvando numa variavel o valor removido\n",
        "lista_emails = [\"Cicrano\", \"Beltrano\", \"Fulano\", \"Jose\", \"João\"]\n",
        "#o método .pop() remove o item permitindo salvar o seu valor numa variavel para que possa ser usado num outro momento\n",
        "removido = lista_emails.pop() #.pop() com parenteses vazio vai excluir o último item da lista. Mas pode-se colocar o idexador no parenteses e escolher a posição desejada\n",
        "print(f\"{removido} foi removido da lista de e-mails\")\n",
        "print(f\"A lsita de e-mails agora ficou com os valores {lista_emails}\")"
      ],
      "execution_count": null,
      "outputs": [
        {
          "output_type": "stream",
          "text": [
            "João foi removido da lista de e-mails\n",
            "A lsita de e-mails agora ficou com os valores ['Cicrano', 'Beltrano', 'Fulano', 'Jose']\n"
          ],
          "name": "stdout"
        }
      ]
    },
    {
      "cell_type": "markdown",
      "metadata": {
        "id": "b04qhxQUU-WL"
      },
      "source": [
        "Missão 7"
      ]
    },
    {
      "cell_type": "code",
      "metadata": {
        "id": "lBKgtrBcSAqy",
        "outputId": "5d3d7e18-cbff-40ed-f486-d96a3d754306",
        "colab": {
          "base_uri": "https://localhost:8080/"
        }
      },
      "source": [
        "#1. Faça uma lista de amigos que gostaria de convidar para seu casamento. Agora use sua lista para convidar cada um deles e print uma mensagem.\n",
        "lista_convidados = [\"Jose\", \"João\", \"Luiz\", \"Santos\"]\n",
        "for convidado in lista_convidados:\n",
        "  print(f\"{convidado} espero você no meu casamento\")\n"
      ],
      "execution_count": null,
      "outputs": [
        {
          "output_type": "stream",
          "text": [
            "Jose espero você no meu casamento\n",
            "João espero você no meu casamento\n",
            "Luiz espero você no meu casamento\n",
            "Santos espero você no meu casamento\n"
          ],
          "name": "stdout"
        }
      ]
    },
    {
      "cell_type": "code",
      "metadata": {
        "id": "S2Va1ENQV4XW",
        "outputId": "05bbc339-e46c-49e2-b790-7e05f0129f11",
        "colab": {
          "base_uri": "https://localhost:8080/"
        }
      },
      "source": [
        "#2. Infelizmente alguns não poderão vir para seu casamento e então teria que enviar um convite para novos amigos.\n",
        "#Print uma frase com o nome dos seus amigos que nao poderão vir;\n",
        "#Modifique sua lista, trocando o nome dos que não virão para o nome de novas pessoas que serão convidadas;\n",
        "#Print um segundo conjunto de mensagens convidando essa lista para cada pessoa que está na sua lista.\n",
        "lista_convidados = [\"Jose\", \"João\", \"Luiz\", \"Santos\"]\n",
        "lista_desistentes = []\n",
        "lista_desistentes.append(lista_convidados.pop(0)) #quero retirar Jose\n",
        "lista_desistentes.append(lista_convidados.pop(0)) #quero retirar João\n",
        "lista_convidados.append(\"Carlos\")\n",
        "lista_convidados.append(\"Pedro\")\n",
        "\n",
        "for desistente in lista_desistentes:\n",
        "  print(f\"{desistente} que pena, mas obrigado!\")\n",
        "\n",
        "for convidado in lista_convidados:\n",
        "  print(f\"{convidado} espero você no meu casamento\")"
      ],
      "execution_count": null,
      "outputs": [
        {
          "output_type": "stream",
          "text": [
            "Jose que pena, mas obrigado!\n",
            "João que pena, mas obrigado!\n",
            "Luiz espero você no meu casamento\n",
            "Santos espero você no meu casamento\n",
            "Carlos espero você no meu casamento\n",
            "Pedro espero você no meu casamento\n"
          ],
          "name": "stdout"
        }
      ]
    },
    {
      "cell_type": "code",
      "metadata": {
        "id": "LB1qNCHeXhfT",
        "outputId": "c1ca61cc-e1b8-4711-c8fe-77c7c55193bb",
        "colab": {
          "base_uri": "https://localhost:8080/"
        }
      },
      "source": [
        "#3. Você descobriu que o local aceitará mais pessoas para seu casamento.\n",
        "#Envie uma mensagem para cada um informando-as que teremos mais espaço para convidados;\n",
        "#Use insert() para adicionar um novo convidado no começo da sua lista;\n",
        "#Use insert() para adicionar um novo no meio da sua lista;\n",
        "#Use append() para adicionar um novo no final da sua lista; \n",
        "#Print um novo convite para todos da sua lista.\n",
        "lista_convidados = [\"Luiz\", \"Santos\", \"Carlos\", \"Pedro\"]\n",
        "for convidado in lista_convidados:\n",
        "  print(f\"{convidado} Temos mais espaço\")\n",
        "\n",
        "lista_convidados.insert(0, \"Margarida\")\n",
        "lista_convidados.insert(3, \"Donald\")\n",
        "lista_convidados.append(\"Emilia\")\n",
        "for convidado in lista_convidados:\n",
        "  print(f\"{convidado} espero você no meu casamento\")\n",
        "\n",
        "lista_convidados"
      ],
      "execution_count": null,
      "outputs": [
        {
          "output_type": "stream",
          "text": [
            "Luiz Temos mais espaço\n",
            "Santos Temos mais espaço\n",
            "Carlos Temos mais espaço\n",
            "Pedro Temos mais espaço\n",
            "Margarida espero você no meu casamento\n",
            "Luiz espero você no meu casamento\n",
            "Santos espero você no meu casamento\n",
            "Donald espero você no meu casamento\n",
            "Carlos espero você no meu casamento\n",
            "Pedro espero você no meu casamento\n",
            "Emilia espero você no meu casamento\n"
          ],
          "name": "stdout"
        },
        {
          "output_type": "execute_result",
          "data": {
            "text/plain": [
              "['Margarida', 'Luiz', 'Santos', 'Donald', 'Carlos', 'Pedro', 'Emilia']"
            ]
          },
          "metadata": {
            "tags": []
          },
          "execution_count": 48
        }
      ]
    },
    {
      "cell_type": "code",
      "metadata": {
        "id": "4F_GWutsZyxr",
        "outputId": "92dfe75d-851a-4b88-cd52-cacf02cb8ec4",
        "colab": {
          "base_uri": "https://localhost:8080/"
        }
      },
      "source": [
        "#4. Infelizmente no último dia, somente 3 pessoas poderão ir no seu casamento.\n",
        "#Apartir da ultima lista que você tem, print uma mensagem dizendo que somente 3 pessoas poderão vir para seu casamento;\n",
        "#Use pop() para remover os convidados um por vez até ficar somente 3 na lista. Sempre que usar o pop() print uma mensagem para essa pessoa pedindo desculpas pelo engano;\n",
        "#Print uma mensagem para os 3 que sobraram na lista;\n",
        "#Use del para remover os últimos 3 da lista, para ter então uma lista vazia. Print sua lista vazia para garantir que esteja realmente vazia.\n",
        "lista_convidados = ['Margarida', 'Luiz', 'Santos', 'Donald', 'Carlos', 'Pedro', 'Emilia']\n",
        "\n",
        "for convidado in lista_convidados:\n",
        "  print(f\"{convidado} desculpe o transtorno, mas só tenho espaço para 3 convidados\")\n",
        "\n",
        "print(\"---------------\")\n",
        "\n",
        "lista_removidos = []\n",
        "lista_removidos.append(lista_convidados.pop(1)) #excluindo Luiz\n",
        "lista_removidos.append(lista_convidados.pop(1)) #excluindo Santos\n",
        "lista_removidos.append(lista_convidados.pop(2)) #excluindo Carlos\n",
        "lista_removidos.append(lista_convidados.pop(2)) #excluindo Pedro\n",
        "for removido in lista_removidos:\n",
        "  print(f\"{removido} você não vai caber na festa.\")\n",
        "\n",
        "print(\"---------------\")\n",
        "\n",
        "for convidado in lista_convidados:\n",
        "  print(f\"{convidado} você vai caber na festa\")\n",
        "\n",
        "print(\"---------------\")\n",
        "\n",
        "contador = 0\n",
        "while (contador < len(lista_convidados)):\n",
        "  del lista_convidados[contador]\n",
        "\n",
        "contador = 0\n",
        "while (contador < len(lista_removidos)):\n",
        "  del lista_removidos[contador]\n",
        "\n",
        "lista_convidados"
      ],
      "execution_count": null,
      "outputs": [
        {
          "output_type": "stream",
          "text": [
            "Margarida desculpe o transtorno, mas só tenho espaço para 3 convidados\n",
            "Luiz desculpe o transtorno, mas só tenho espaço para 3 convidados\n",
            "Santos desculpe o transtorno, mas só tenho espaço para 3 convidados\n",
            "Donald desculpe o transtorno, mas só tenho espaço para 3 convidados\n",
            "Carlos desculpe o transtorno, mas só tenho espaço para 3 convidados\n",
            "Pedro desculpe o transtorno, mas só tenho espaço para 3 convidados\n",
            "Emilia desculpe o transtorno, mas só tenho espaço para 3 convidados\n",
            "---------------\n",
            "Luiz você não vai caber na festa.\n",
            "Santos você não vai caber na festa.\n",
            "Carlos você não vai caber na festa.\n",
            "Pedro você não vai caber na festa.\n",
            "---------------\n",
            "Margarida você vai caber na festa\n",
            "Donald você vai caber na festa\n",
            "Emilia você vai caber na festa\n",
            "---------------\n",
            "---------------\n"
          ],
          "name": "stdout"
        },
        {
          "output_type": "execute_result",
          "data": {
            "text/plain": [
              "[]"
            ]
          },
          "metadata": {
            "tags": []
          },
          "execution_count": 67
        }
      ]
    },
    {
      "cell_type": "markdown",
      "metadata": {
        "id": "BVwDyOZBmej1"
      },
      "source": [
        "Organizando listas"
      ]
    },
    {
      "cell_type": "code",
      "metadata": {
        "id": "ov-Nu0UDcypD",
        "outputId": "cb5cf8b4-9b70-48ad-a1e0-496efbb97b10",
        "colab": {
          "base_uri": "https://localhost:8080/"
        }
      },
      "source": [
        "carros2 = [\"Ferrai\", \"Fiat\", \"Toyota\", \"Honda\", \"Volks\", \"Ford\", \"BMW\"]\n",
        "sorted(carros2) #apresenta a lista ordenada por ordem crescente, mas não altera a lista"
      ],
      "execution_count": null,
      "outputs": [
        {
          "output_type": "execute_result",
          "data": {
            "text/plain": [
              "['BMW', 'Ferrai', 'Fiat', 'Ford', 'Honda', 'Toyota', 'Volks']"
            ]
          },
          "metadata": {
            "tags": []
          },
          "execution_count": 87
        }
      ]
    },
    {
      "cell_type": "code",
      "metadata": {
        "id": "u20N7akDmnFK",
        "outputId": "7829c4bc-af6c-49e1-d940-78f65eaa0deb",
        "colab": {
          "base_uri": "https://localhost:8080/"
        }
      },
      "source": [
        "carros2 = [\"Ferrai\", \"Fiat\", \"Toyota\", \"Honda\", \"Volks\", \"Ford\", \"BMW\"]\n",
        "sorted(carros2, reverse=True) #apresenta a lista ordenada por ordem decrescente, mas não altera a lista"
      ],
      "execution_count": null,
      "outputs": [
        {
          "output_type": "execute_result",
          "data": {
            "text/plain": [
              "['Volks', 'Toyota', 'Honda', 'Ford', 'Fiat', 'Ferrai', 'BMW']"
            ]
          },
          "metadata": {
            "tags": []
          },
          "execution_count": 88
        }
      ]
    },
    {
      "cell_type": "code",
      "metadata": {
        "id": "GOzvX2qAnTcd",
        "outputId": "d1b3636d-ce3b-4fc0-99fc-50f60fcc9e08",
        "colab": {
          "base_uri": "https://localhost:8080/"
        }
      },
      "source": [
        "carros2 #veja abaixo que a lista continua como original"
      ],
      "execution_count": null,
      "outputs": [
        {
          "output_type": "execute_result",
          "data": {
            "text/plain": [
              "['Ferrai', 'Fiat', 'Toyota', 'Honda', 'Volks', 'Ford', 'BMW']"
            ]
          },
          "metadata": {
            "tags": []
          },
          "execution_count": 89
        }
      ]
    },
    {
      "cell_type": "code",
      "metadata": {
        "id": "rL27_uz9ngE1",
        "outputId": "a7361642-e530-4647-9447-9a06868353e2",
        "colab": {
          "base_uri": "https://localhost:8080/"
        }
      },
      "source": [
        "#se quisesse manter a ordenação poderia carregar a lista numa nova lista\n",
        "carros2_ordenado = sorted(carros2)\n",
        "carros2_ordenado"
      ],
      "execution_count": null,
      "outputs": [
        {
          "output_type": "execute_result",
          "data": {
            "text/plain": [
              "['BMW', 'Ferrai', 'Fiat', 'Ford', 'Honda', 'Toyota', 'Volks']"
            ]
          },
          "metadata": {
            "tags": []
          },
          "execution_count": 90
        }
      ]
    },
    {
      "cell_type": "code",
      "metadata": {
        "id": "kEQYdDcjn6JT",
        "outputId": "c3cd2152-1b13-40e8-bc8d-129bc9972232",
        "colab": {
          "base_uri": "https://localhost:8080/"
        }
      },
      "source": [
        "carros2 #mas a lista carros 2 continua original"
      ],
      "execution_count": null,
      "outputs": [
        {
          "output_type": "execute_result",
          "data": {
            "text/plain": [
              "['BMW', 'Ford', 'Volks', 'Honda', 'Toyota', 'Fiat', 'Ferrai']"
            ]
          },
          "metadata": {
            "tags": []
          },
          "execution_count": 93
        }
      ]
    },
    {
      "cell_type": "code",
      "metadata": {
        "id": "nhP_QGIfn_gD",
        "outputId": "896c0bed-be56-4597-8bf2-dc10a3c1cc0d",
        "colab": {
          "base_uri": "https://localhost:8080/"
        }
      },
      "source": [
        "#se quiser inverter a lista, o ultimo será o primeiro e o primeiro será o ultimo.\n",
        "#não importa a ordenação, mas o método altera a lista inicial\n",
        "carros2.reverse()\n",
        "carros2"
      ],
      "execution_count": null,
      "outputs": [
        {
          "output_type": "execute_result",
          "data": {
            "text/plain": [
              "['BMW', 'Ford', 'Volks', 'Honda', 'Toyota', 'Fiat', 'Ferrai']"
            ]
          },
          "metadata": {
            "tags": []
          },
          "execution_count": 95
        }
      ]
    },
    {
      "cell_type": "code",
      "metadata": {
        "id": "SHPYtBHQpaU6",
        "outputId": "38d464d6-8ba3-495e-daa8-5dfb745a50e9",
        "colab": {
          "base_uri": "https://localhost:8080/"
        }
      },
      "source": [
        "#para saber o tamanho da lista\n",
        "len(carros2)"
      ],
      "execution_count": null,
      "outputs": [
        {
          "output_type": "execute_result",
          "data": {
            "text/plain": [
              "7"
            ]
          },
          "metadata": {
            "tags": []
          },
          "execution_count": 96
        }
      ]
    },
    {
      "cell_type": "markdown",
      "metadata": {
        "id": "4jygSlNmsede"
      },
      "source": [
        "Estrutura de repetição FOR"
      ]
    },
    {
      "cell_type": "code",
      "metadata": {
        "id": "jfqXB4--qt2H",
        "outputId": "9588129c-874a-4507-a201-4046033f5f2a",
        "colab": {
          "base_uri": "https://localhost:8080/"
        }
      },
      "source": [
        "#Laço for com lista conciste em criar uma variavel, geralmente no singular (cidade) que \n",
        "#vai receber um a um os valores da lista e executar determinada função que esta declarada dentro do laço FOR\n",
        "cidades = [\"araras\", \"campinas\", \"ribeirão preto\", \"são paulo\"]\n",
        "for cidade in cidades:\n",
        "  print(\"O nome da cidade é: \" + cidade.title())\n"
      ],
      "execution_count": null,
      "outputs": [
        {
          "output_type": "stream",
          "text": [
            "O nome da cidade é: Araras\n",
            "O nome da cidade é: Campinas\n",
            "O nome da cidade é: Ribeirão Preto\n",
            "O nome da cidade é: São Paulo\n"
          ],
          "name": "stdout"
        }
      ]
    },
    {
      "cell_type": "code",
      "metadata": {
        "id": "DiRvUYz_tosU",
        "outputId": "4993a411-7885-46b2-ce86-d4d5f2bf4395",
        "colab": {
          "base_uri": "https://localhost:8080/"
        }
      },
      "source": [
        "# o laço for é delimitado pela identação (os espaço de tabulação no começo da linha de comando)\n",
        "for cidade in cidades:\n",
        "  print(\"1a linha de comando do laço: \" + cidade.upper()) #está dentro do laço\n",
        "\n",
        "  print(\"2a linha de comando do laço: \" + cidade.title()) #está dentro do laço\n",
        "\n",
        "\n",
        "print(\"Aqui o laço já terminou\") # está fora do laço"
      ],
      "execution_count": null,
      "outputs": [
        {
          "output_type": "stream",
          "text": [
            "1a linha de comando do laço: ARARAS\n",
            "2a linha de comando do laço: Araras\n",
            "1a linha de comando do laço: CAMPINAS\n",
            "2a linha de comando do laço: Campinas\n",
            "1a linha de comando do laço: RIBEIRÃO PRETO\n",
            "2a linha de comando do laço: Ribeirão Preto\n",
            "1a linha de comando do laço: SÃO PAULO\n",
            "2a linha de comando do laço: São Paulo\n",
            "Aqui o laço já terminou\n"
          ],
          "name": "stdout"
        }
      ]
    },
    {
      "cell_type": "markdown",
      "metadata": {
        "id": "ZhpkRM_7zd1R"
      },
      "source": [
        "Missão 9"
      ]
    },
    {
      "cell_type": "code",
      "metadata": {
        "id": "xaxY7IozxS-7",
        "outputId": "73b55780-541d-491b-aa7c-5be76eb55309",
        "colab": {
          "base_uri": "https://localhost:8080/"
        }
      },
      "source": [
        "#1. Pense em 3 marcas que você gosta e crie uma lista com eles. Use for loop para mostrá-los na tela.\n",
        "brands = [\"nestlé\", \"danone\", \"cacau show\"]\n",
        "\n",
        "for brand in brands:\n",
        "  print(brand.title())\n",
        "\n"
      ],
      "execution_count": null,
      "outputs": [
        {
          "output_type": "stream",
          "text": [
            "Nestlé\n",
            "Danone\n",
            "Cacau Show\n"
          ],
          "name": "stdout"
        }
      ]
    },
    {
      "cell_type": "code",
      "metadata": {
        "id": "coPUj1Lx0Hef",
        "outputId": "68ba1a62-062a-4a8a-d4ed-6630f925423f",
        "colab": {
          "base_uri": "https://localhost:8080/"
        }
      },
      "source": [
        "#a. Modifique seu for loop para mostrar o nome da marca e mais uma mensagem, tipo: \"Eu gosto de usar Nike\".\n",
        "for brand in brands:\n",
        "  print(f\"Eu gosto de {brand.title()}\")\n"
      ],
      "execution_count": null,
      "outputs": [
        {
          "output_type": "stream",
          "text": [
            "Eu gosto de Nestlé\n",
            "Eu gosto de Danone\n",
            "Eu gosto de Cacau Show\n"
          ],
          "name": "stdout"
        }
      ]
    },
    {
      "cell_type": "code",
      "metadata": {
        "id": "56JxdnDP0b2e",
        "outputId": "3d44eafb-9381-4309-b433-5424c6277f4d",
        "colab": {
          "base_uri": "https://localhost:8080/"
        }
      },
      "source": [
        "#b. Adicione uma linha fora do seu loop com uma mensagem genérica: \"Eu gosto de todas essas marcas.\"\n",
        "for brand in brands:\n",
        "  print(brand.title())\n",
        "\n",
        "print(\"Eu gosto de todas as marcas\")"
      ],
      "execution_count": null,
      "outputs": [
        {
          "output_type": "stream",
          "text": [
            "Nestlé\n",
            "Danone\n",
            "Cacau Show\n",
            "Eu gosto de todas as marcas\n"
          ],
          "name": "stdout"
        }
      ]
    },
    {
      "cell_type": "markdown",
      "metadata": {
        "id": "EUm8oYtB0zS1"
      },
      "source": [
        "Lista de Números"
      ]
    },
    {
      "cell_type": "code",
      "metadata": {
        "id": "FGYzXtJY0sqg",
        "outputId": "e3dce20d-a484-4b1f-d1cf-7605e193cb7f",
        "colab": {
          "base_uri": "https://localhost:8080/"
        }
      },
      "source": [
        "#função range() cria uma faixa de numeros que pode ser utilizada dentro de um laço FOR para executar determinados comandos repetidas vezes\n",
        "for num in range(1, 6): # para num dentro do range de 1 a 5 (o seis não vai rodar. É o mesmo que (num < 6)) faça. \n",
        "  print(num)"
      ],
      "execution_count": null,
      "outputs": [
        {
          "output_type": "stream",
          "text": [
            "1\n",
            "2\n",
            "3\n",
            "4\n",
            "5\n"
          ],
          "name": "stdout"
        }
      ]
    },
    {
      "cell_type": "code",
      "metadata": {
        "id": "vA68iLHQ16Me",
        "outputId": "5b361705-5bd0-40aa-8dd4-8344131c2d4e",
        "colab": {
          "base_uri": "https://localhost:8080/"
        }
      },
      "source": [
        "#para criação de uma lista de números podemos então utilziar o range() combinado com o list()\n",
        "lista_numeros1 = list(range(1,10)) #isso é o mesmo que digitar lista_numeros1 = [1, 2, 3, 4, 5, 6, 7, 8, 9]\n",
        "lista_numeros1"
      ],
      "execution_count": null,
      "outputs": [
        {
          "output_type": "execute_result",
          "data": {
            "text/plain": [
              "[1, 2, 3, 4, 5, 6, 7, 8, 9]"
            ]
          },
          "metadata": {
            "tags": []
          },
          "execution_count": 114
        }
      ]
    },
    {
      "cell_type": "code",
      "metadata": {
        "id": "cF3yJBqt2qRg",
        "outputId": "aa3f5218-6f93-4967-d40a-dae97b7e44f0",
        "colab": {
          "base_uri": "https://localhost:8080/"
        }
      },
      "source": [
        "lista_numeros_pares = list(range(2, 21, 2))\n",
        "lista_numeros_pares"
      ],
      "execution_count": null,
      "outputs": [
        {
          "output_type": "execute_result",
          "data": {
            "text/plain": [
              "[2, 4, 6, 8, 10, 12, 14, 16, 18, 20]"
            ]
          },
          "metadata": {
            "tags": []
          },
          "execution_count": 115
        }
      ]
    },
    {
      "cell_type": "code",
      "metadata": {
        "id": "BFQmdJvx3ZWP",
        "outputId": "126acfa9-3df5-40cd-f3e6-4e330094196d",
        "colab": {
          "base_uri": "https://localhost:8080/"
        }
      },
      "source": [
        "lista_numeros_impares = list(range(1, 20, 2))\n",
        "lista_numeros_impares"
      ],
      "execution_count": null,
      "outputs": [
        {
          "output_type": "execute_result",
          "data": {
            "text/plain": [
              "[1, 3, 5, 7, 9, 11, 13, 15, 17, 19]"
            ]
          },
          "metadata": {
            "tags": []
          },
          "execution_count": 116
        }
      ]
    },
    {
      "cell_type": "code",
      "metadata": {
        "id": "UIXUTKf-3i3J",
        "outputId": "a472b23d-4057-4b9c-a973-c72bdc66f48e",
        "colab": {
          "base_uri": "https://localhost:8080/"
        }
      },
      "source": [
        "#lista com numeros ao cubo\n",
        "lista_numeros_aocubo = [] #criei uma lista em branco\n",
        "for num in range(1, 11):\n",
        "  numero_aocubo = num ** 3 #fiz a operação e guardei na variavel\n",
        "  lista_numeros_aocubo.append(numero_aocubo) #guardei o valor da variavel na lista\n",
        "\n",
        "lista_numeros_aocubo #imprimi a lista"
      ],
      "execution_count": null,
      "outputs": [
        {
          "output_type": "execute_result",
          "data": {
            "text/plain": [
              "[1, 8, 27, 64, 125, 216, 343, 512, 729, 1000]"
            ]
          },
          "metadata": {
            "tags": []
          },
          "execution_count": 118
        }
      ]
    },
    {
      "cell_type": "code",
      "metadata": {
        "id": "GPyk54VD4KE9",
        "outputId": "e6cb10bf-d8c5-4c51-d2d3-55a0a3b1d3e9",
        "colab": {
          "base_uri": "https://localhost:8080/"
        }
      },
      "source": [
        "#podemos usar funções de estatistica\n",
        "print(f\"Minimo: {min(lista_numeros_aocubo)}\") #mostra o menor numero da lista\n",
        "print(f\"Máximo: {max(lista_numeros_aocubo)}\") #mostra o maior nuemro da lista\n",
        "print(f\"Soma:   {sum(lista_numeros_aocubo)}\") #mostra a soma da lista"
      ],
      "execution_count": null,
      "outputs": [
        {
          "output_type": "stream",
          "text": [
            "Minimo: 1\n",
            "Máximo: 1000\n",
            "Soma:   3025\n"
          ],
          "name": "stdout"
        }
      ]
    },
    {
      "cell_type": "code",
      "metadata": {
        "id": "LTNROpMg6UTJ",
        "outputId": "663aa75b-fc45-483e-e01c-c96063a3e62a",
        "colab": {
          "base_uri": "https://localhost:8080/"
        }
      },
      "source": [
        "#mas essa lista com numeros ao cubo poderia ser criada diferente, com apenas uma linha de código\n",
        "lista2_numeros_aocubo = [num ** 3 for num in range(1, 11)] #teremos a mesma lista anterior\n",
        "lista2_numeros_aocubo"
      ],
      "execution_count": null,
      "outputs": [
        {
          "output_type": "execute_result",
          "data": {
            "text/plain": [
              "[1, 8, 27, 64, 125, 216, 343, 512, 729, 1000]"
            ]
          },
          "metadata": {
            "tags": []
          },
          "execution_count": 121
        }
      ]
    },
    {
      "cell_type": "markdown",
      "metadata": {
        "id": "psJCcKPE8ZmL"
      },
      "source": [
        "Missão 10"
      ]
    },
    {
      "cell_type": "code",
      "metadata": {
        "id": "qaPtqSrg7vv6",
        "outputId": "313d7ff2-0c3d-479a-b1d7-89de3c1e7761",
        "colab": {
          "base_uri": "https://localhost:8080/"
        }
      },
      "source": [
        "#1. Mostre com print uma lista de números de 1 a 50.\n",
        "lista_missao10 = list(range(1, 51))\n",
        "lista_missao10"
      ],
      "execution_count": null,
      "outputs": [
        {
          "output_type": "execute_result",
          "data": {
            "text/plain": [
              "[1,\n",
              " 2,\n",
              " 3,\n",
              " 4,\n",
              " 5,\n",
              " 6,\n",
              " 7,\n",
              " 8,\n",
              " 9,\n",
              " 10,\n",
              " 11,\n",
              " 12,\n",
              " 13,\n",
              " 14,\n",
              " 15,\n",
              " 16,\n",
              " 17,\n",
              " 18,\n",
              " 19,\n",
              " 20,\n",
              " 21,\n",
              " 22,\n",
              " 23,\n",
              " 24,\n",
              " 25,\n",
              " 26,\n",
              " 27,\n",
              " 28,\n",
              " 29,\n",
              " 30,\n",
              " 31,\n",
              " 32,\n",
              " 33,\n",
              " 34,\n",
              " 35,\n",
              " 36,\n",
              " 37,\n",
              " 38,\n",
              " 39,\n",
              " 40,\n",
              " 41,\n",
              " 42,\n",
              " 43,\n",
              " 44,\n",
              " 45,\n",
              " 46,\n",
              " 47,\n",
              " 48,\n",
              " 49,\n",
              " 50]"
            ]
          },
          "metadata": {
            "tags": []
          },
          "execution_count": 122
        }
      ]
    },
    {
      "cell_type": "code",
      "metadata": {
        "id": "7VGrG86D8mjv",
        "outputId": "af1451f6-d84c-4dc3-e30a-e25eb0895ac4",
        "colab": {
          "base_uri": "https://localhost:8080/"
        }
      },
      "source": [
        "#2. Mostre com print uma lista de números de 1 a 1000.\n",
        "lista2_missao10 = list(range(1, 1001))\n",
        "lista2_missao10"
      ],
      "execution_count": null,
      "outputs": [
        {
          "output_type": "execute_result",
          "data": {
            "text/plain": [
              "[1,\n",
              " 2,\n",
              " 3,\n",
              " 4,\n",
              " 5,\n",
              " 6,\n",
              " 7,\n",
              " 8,\n",
              " 9,\n",
              " 10,\n",
              " 11,\n",
              " 12,\n",
              " 13,\n",
              " 14,\n",
              " 15,\n",
              " 16,\n",
              " 17,\n",
              " 18,\n",
              " 19,\n",
              " 20,\n",
              " 21,\n",
              " 22,\n",
              " 23,\n",
              " 24,\n",
              " 25,\n",
              " 26,\n",
              " 27,\n",
              " 28,\n",
              " 29,\n",
              " 30,\n",
              " 31,\n",
              " 32,\n",
              " 33,\n",
              " 34,\n",
              " 35,\n",
              " 36,\n",
              " 37,\n",
              " 38,\n",
              " 39,\n",
              " 40,\n",
              " 41,\n",
              " 42,\n",
              " 43,\n",
              " 44,\n",
              " 45,\n",
              " 46,\n",
              " 47,\n",
              " 48,\n",
              " 49,\n",
              " 50,\n",
              " 51,\n",
              " 52,\n",
              " 53,\n",
              " 54,\n",
              " 55,\n",
              " 56,\n",
              " 57,\n",
              " 58,\n",
              " 59,\n",
              " 60,\n",
              " 61,\n",
              " 62,\n",
              " 63,\n",
              " 64,\n",
              " 65,\n",
              " 66,\n",
              " 67,\n",
              " 68,\n",
              " 69,\n",
              " 70,\n",
              " 71,\n",
              " 72,\n",
              " 73,\n",
              " 74,\n",
              " 75,\n",
              " 76,\n",
              " 77,\n",
              " 78,\n",
              " 79,\n",
              " 80,\n",
              " 81,\n",
              " 82,\n",
              " 83,\n",
              " 84,\n",
              " 85,\n",
              " 86,\n",
              " 87,\n",
              " 88,\n",
              " 89,\n",
              " 90,\n",
              " 91,\n",
              " 92,\n",
              " 93,\n",
              " 94,\n",
              " 95,\n",
              " 96,\n",
              " 97,\n",
              " 98,\n",
              " 99,\n",
              " 100,\n",
              " 101,\n",
              " 102,\n",
              " 103,\n",
              " 104,\n",
              " 105,\n",
              " 106,\n",
              " 107,\n",
              " 108,\n",
              " 109,\n",
              " 110,\n",
              " 111,\n",
              " 112,\n",
              " 113,\n",
              " 114,\n",
              " 115,\n",
              " 116,\n",
              " 117,\n",
              " 118,\n",
              " 119,\n",
              " 120,\n",
              " 121,\n",
              " 122,\n",
              " 123,\n",
              " 124,\n",
              " 125,\n",
              " 126,\n",
              " 127,\n",
              " 128,\n",
              " 129,\n",
              " 130,\n",
              " 131,\n",
              " 132,\n",
              " 133,\n",
              " 134,\n",
              " 135,\n",
              " 136,\n",
              " 137,\n",
              " 138,\n",
              " 139,\n",
              " 140,\n",
              " 141,\n",
              " 142,\n",
              " 143,\n",
              " 144,\n",
              " 145,\n",
              " 146,\n",
              " 147,\n",
              " 148,\n",
              " 149,\n",
              " 150,\n",
              " 151,\n",
              " 152,\n",
              " 153,\n",
              " 154,\n",
              " 155,\n",
              " 156,\n",
              " 157,\n",
              " 158,\n",
              " 159,\n",
              " 160,\n",
              " 161,\n",
              " 162,\n",
              " 163,\n",
              " 164,\n",
              " 165,\n",
              " 166,\n",
              " 167,\n",
              " 168,\n",
              " 169,\n",
              " 170,\n",
              " 171,\n",
              " 172,\n",
              " 173,\n",
              " 174,\n",
              " 175,\n",
              " 176,\n",
              " 177,\n",
              " 178,\n",
              " 179,\n",
              " 180,\n",
              " 181,\n",
              " 182,\n",
              " 183,\n",
              " 184,\n",
              " 185,\n",
              " 186,\n",
              " 187,\n",
              " 188,\n",
              " 189,\n",
              " 190,\n",
              " 191,\n",
              " 192,\n",
              " 193,\n",
              " 194,\n",
              " 195,\n",
              " 196,\n",
              " 197,\n",
              " 198,\n",
              " 199,\n",
              " 200,\n",
              " 201,\n",
              " 202,\n",
              " 203,\n",
              " 204,\n",
              " 205,\n",
              " 206,\n",
              " 207,\n",
              " 208,\n",
              " 209,\n",
              " 210,\n",
              " 211,\n",
              " 212,\n",
              " 213,\n",
              " 214,\n",
              " 215,\n",
              " 216,\n",
              " 217,\n",
              " 218,\n",
              " 219,\n",
              " 220,\n",
              " 221,\n",
              " 222,\n",
              " 223,\n",
              " 224,\n",
              " 225,\n",
              " 226,\n",
              " 227,\n",
              " 228,\n",
              " 229,\n",
              " 230,\n",
              " 231,\n",
              " 232,\n",
              " 233,\n",
              " 234,\n",
              " 235,\n",
              " 236,\n",
              " 237,\n",
              " 238,\n",
              " 239,\n",
              " 240,\n",
              " 241,\n",
              " 242,\n",
              " 243,\n",
              " 244,\n",
              " 245,\n",
              " 246,\n",
              " 247,\n",
              " 248,\n",
              " 249,\n",
              " 250,\n",
              " 251,\n",
              " 252,\n",
              " 253,\n",
              " 254,\n",
              " 255,\n",
              " 256,\n",
              " 257,\n",
              " 258,\n",
              " 259,\n",
              " 260,\n",
              " 261,\n",
              " 262,\n",
              " 263,\n",
              " 264,\n",
              " 265,\n",
              " 266,\n",
              " 267,\n",
              " 268,\n",
              " 269,\n",
              " 270,\n",
              " 271,\n",
              " 272,\n",
              " 273,\n",
              " 274,\n",
              " 275,\n",
              " 276,\n",
              " 277,\n",
              " 278,\n",
              " 279,\n",
              " 280,\n",
              " 281,\n",
              " 282,\n",
              " 283,\n",
              " 284,\n",
              " 285,\n",
              " 286,\n",
              " 287,\n",
              " 288,\n",
              " 289,\n",
              " 290,\n",
              " 291,\n",
              " 292,\n",
              " 293,\n",
              " 294,\n",
              " 295,\n",
              " 296,\n",
              " 297,\n",
              " 298,\n",
              " 299,\n",
              " 300,\n",
              " 301,\n",
              " 302,\n",
              " 303,\n",
              " 304,\n",
              " 305,\n",
              " 306,\n",
              " 307,\n",
              " 308,\n",
              " 309,\n",
              " 310,\n",
              " 311,\n",
              " 312,\n",
              " 313,\n",
              " 314,\n",
              " 315,\n",
              " 316,\n",
              " 317,\n",
              " 318,\n",
              " 319,\n",
              " 320,\n",
              " 321,\n",
              " 322,\n",
              " 323,\n",
              " 324,\n",
              " 325,\n",
              " 326,\n",
              " 327,\n",
              " 328,\n",
              " 329,\n",
              " 330,\n",
              " 331,\n",
              " 332,\n",
              " 333,\n",
              " 334,\n",
              " 335,\n",
              " 336,\n",
              " 337,\n",
              " 338,\n",
              " 339,\n",
              " 340,\n",
              " 341,\n",
              " 342,\n",
              " 343,\n",
              " 344,\n",
              " 345,\n",
              " 346,\n",
              " 347,\n",
              " 348,\n",
              " 349,\n",
              " 350,\n",
              " 351,\n",
              " 352,\n",
              " 353,\n",
              " 354,\n",
              " 355,\n",
              " 356,\n",
              " 357,\n",
              " 358,\n",
              " 359,\n",
              " 360,\n",
              " 361,\n",
              " 362,\n",
              " 363,\n",
              " 364,\n",
              " 365,\n",
              " 366,\n",
              " 367,\n",
              " 368,\n",
              " 369,\n",
              " 370,\n",
              " 371,\n",
              " 372,\n",
              " 373,\n",
              " 374,\n",
              " 375,\n",
              " 376,\n",
              " 377,\n",
              " 378,\n",
              " 379,\n",
              " 380,\n",
              " 381,\n",
              " 382,\n",
              " 383,\n",
              " 384,\n",
              " 385,\n",
              " 386,\n",
              " 387,\n",
              " 388,\n",
              " 389,\n",
              " 390,\n",
              " 391,\n",
              " 392,\n",
              " 393,\n",
              " 394,\n",
              " 395,\n",
              " 396,\n",
              " 397,\n",
              " 398,\n",
              " 399,\n",
              " 400,\n",
              " 401,\n",
              " 402,\n",
              " 403,\n",
              " 404,\n",
              " 405,\n",
              " 406,\n",
              " 407,\n",
              " 408,\n",
              " 409,\n",
              " 410,\n",
              " 411,\n",
              " 412,\n",
              " 413,\n",
              " 414,\n",
              " 415,\n",
              " 416,\n",
              " 417,\n",
              " 418,\n",
              " 419,\n",
              " 420,\n",
              " 421,\n",
              " 422,\n",
              " 423,\n",
              " 424,\n",
              " 425,\n",
              " 426,\n",
              " 427,\n",
              " 428,\n",
              " 429,\n",
              " 430,\n",
              " 431,\n",
              " 432,\n",
              " 433,\n",
              " 434,\n",
              " 435,\n",
              " 436,\n",
              " 437,\n",
              " 438,\n",
              " 439,\n",
              " 440,\n",
              " 441,\n",
              " 442,\n",
              " 443,\n",
              " 444,\n",
              " 445,\n",
              " 446,\n",
              " 447,\n",
              " 448,\n",
              " 449,\n",
              " 450,\n",
              " 451,\n",
              " 452,\n",
              " 453,\n",
              " 454,\n",
              " 455,\n",
              " 456,\n",
              " 457,\n",
              " 458,\n",
              " 459,\n",
              " 460,\n",
              " 461,\n",
              " 462,\n",
              " 463,\n",
              " 464,\n",
              " 465,\n",
              " 466,\n",
              " 467,\n",
              " 468,\n",
              " 469,\n",
              " 470,\n",
              " 471,\n",
              " 472,\n",
              " 473,\n",
              " 474,\n",
              " 475,\n",
              " 476,\n",
              " 477,\n",
              " 478,\n",
              " 479,\n",
              " 480,\n",
              " 481,\n",
              " 482,\n",
              " 483,\n",
              " 484,\n",
              " 485,\n",
              " 486,\n",
              " 487,\n",
              " 488,\n",
              " 489,\n",
              " 490,\n",
              " 491,\n",
              " 492,\n",
              " 493,\n",
              " 494,\n",
              " 495,\n",
              " 496,\n",
              " 497,\n",
              " 498,\n",
              " 499,\n",
              " 500,\n",
              " 501,\n",
              " 502,\n",
              " 503,\n",
              " 504,\n",
              " 505,\n",
              " 506,\n",
              " 507,\n",
              " 508,\n",
              " 509,\n",
              " 510,\n",
              " 511,\n",
              " 512,\n",
              " 513,\n",
              " 514,\n",
              " 515,\n",
              " 516,\n",
              " 517,\n",
              " 518,\n",
              " 519,\n",
              " 520,\n",
              " 521,\n",
              " 522,\n",
              " 523,\n",
              " 524,\n",
              " 525,\n",
              " 526,\n",
              " 527,\n",
              " 528,\n",
              " 529,\n",
              " 530,\n",
              " 531,\n",
              " 532,\n",
              " 533,\n",
              " 534,\n",
              " 535,\n",
              " 536,\n",
              " 537,\n",
              " 538,\n",
              " 539,\n",
              " 540,\n",
              " 541,\n",
              " 542,\n",
              " 543,\n",
              " 544,\n",
              " 545,\n",
              " 546,\n",
              " 547,\n",
              " 548,\n",
              " 549,\n",
              " 550,\n",
              " 551,\n",
              " 552,\n",
              " 553,\n",
              " 554,\n",
              " 555,\n",
              " 556,\n",
              " 557,\n",
              " 558,\n",
              " 559,\n",
              " 560,\n",
              " 561,\n",
              " 562,\n",
              " 563,\n",
              " 564,\n",
              " 565,\n",
              " 566,\n",
              " 567,\n",
              " 568,\n",
              " 569,\n",
              " 570,\n",
              " 571,\n",
              " 572,\n",
              " 573,\n",
              " 574,\n",
              " 575,\n",
              " 576,\n",
              " 577,\n",
              " 578,\n",
              " 579,\n",
              " 580,\n",
              " 581,\n",
              " 582,\n",
              " 583,\n",
              " 584,\n",
              " 585,\n",
              " 586,\n",
              " 587,\n",
              " 588,\n",
              " 589,\n",
              " 590,\n",
              " 591,\n",
              " 592,\n",
              " 593,\n",
              " 594,\n",
              " 595,\n",
              " 596,\n",
              " 597,\n",
              " 598,\n",
              " 599,\n",
              " 600,\n",
              " 601,\n",
              " 602,\n",
              " 603,\n",
              " 604,\n",
              " 605,\n",
              " 606,\n",
              " 607,\n",
              " 608,\n",
              " 609,\n",
              " 610,\n",
              " 611,\n",
              " 612,\n",
              " 613,\n",
              " 614,\n",
              " 615,\n",
              " 616,\n",
              " 617,\n",
              " 618,\n",
              " 619,\n",
              " 620,\n",
              " 621,\n",
              " 622,\n",
              " 623,\n",
              " 624,\n",
              " 625,\n",
              " 626,\n",
              " 627,\n",
              " 628,\n",
              " 629,\n",
              " 630,\n",
              " 631,\n",
              " 632,\n",
              " 633,\n",
              " 634,\n",
              " 635,\n",
              " 636,\n",
              " 637,\n",
              " 638,\n",
              " 639,\n",
              " 640,\n",
              " 641,\n",
              " 642,\n",
              " 643,\n",
              " 644,\n",
              " 645,\n",
              " 646,\n",
              " 647,\n",
              " 648,\n",
              " 649,\n",
              " 650,\n",
              " 651,\n",
              " 652,\n",
              " 653,\n",
              " 654,\n",
              " 655,\n",
              " 656,\n",
              " 657,\n",
              " 658,\n",
              " 659,\n",
              " 660,\n",
              " 661,\n",
              " 662,\n",
              " 663,\n",
              " 664,\n",
              " 665,\n",
              " 666,\n",
              " 667,\n",
              " 668,\n",
              " 669,\n",
              " 670,\n",
              " 671,\n",
              " 672,\n",
              " 673,\n",
              " 674,\n",
              " 675,\n",
              " 676,\n",
              " 677,\n",
              " 678,\n",
              " 679,\n",
              " 680,\n",
              " 681,\n",
              " 682,\n",
              " 683,\n",
              " 684,\n",
              " 685,\n",
              " 686,\n",
              " 687,\n",
              " 688,\n",
              " 689,\n",
              " 690,\n",
              " 691,\n",
              " 692,\n",
              " 693,\n",
              " 694,\n",
              " 695,\n",
              " 696,\n",
              " 697,\n",
              " 698,\n",
              " 699,\n",
              " 700,\n",
              " 701,\n",
              " 702,\n",
              " 703,\n",
              " 704,\n",
              " 705,\n",
              " 706,\n",
              " 707,\n",
              " 708,\n",
              " 709,\n",
              " 710,\n",
              " 711,\n",
              " 712,\n",
              " 713,\n",
              " 714,\n",
              " 715,\n",
              " 716,\n",
              " 717,\n",
              " 718,\n",
              " 719,\n",
              " 720,\n",
              " 721,\n",
              " 722,\n",
              " 723,\n",
              " 724,\n",
              " 725,\n",
              " 726,\n",
              " 727,\n",
              " 728,\n",
              " 729,\n",
              " 730,\n",
              " 731,\n",
              " 732,\n",
              " 733,\n",
              " 734,\n",
              " 735,\n",
              " 736,\n",
              " 737,\n",
              " 738,\n",
              " 739,\n",
              " 740,\n",
              " 741,\n",
              " 742,\n",
              " 743,\n",
              " 744,\n",
              " 745,\n",
              " 746,\n",
              " 747,\n",
              " 748,\n",
              " 749,\n",
              " 750,\n",
              " 751,\n",
              " 752,\n",
              " 753,\n",
              " 754,\n",
              " 755,\n",
              " 756,\n",
              " 757,\n",
              " 758,\n",
              " 759,\n",
              " 760,\n",
              " 761,\n",
              " 762,\n",
              " 763,\n",
              " 764,\n",
              " 765,\n",
              " 766,\n",
              " 767,\n",
              " 768,\n",
              " 769,\n",
              " 770,\n",
              " 771,\n",
              " 772,\n",
              " 773,\n",
              " 774,\n",
              " 775,\n",
              " 776,\n",
              " 777,\n",
              " 778,\n",
              " 779,\n",
              " 780,\n",
              " 781,\n",
              " 782,\n",
              " 783,\n",
              " 784,\n",
              " 785,\n",
              " 786,\n",
              " 787,\n",
              " 788,\n",
              " 789,\n",
              " 790,\n",
              " 791,\n",
              " 792,\n",
              " 793,\n",
              " 794,\n",
              " 795,\n",
              " 796,\n",
              " 797,\n",
              " 798,\n",
              " 799,\n",
              " 800,\n",
              " 801,\n",
              " 802,\n",
              " 803,\n",
              " 804,\n",
              " 805,\n",
              " 806,\n",
              " 807,\n",
              " 808,\n",
              " 809,\n",
              " 810,\n",
              " 811,\n",
              " 812,\n",
              " 813,\n",
              " 814,\n",
              " 815,\n",
              " 816,\n",
              " 817,\n",
              " 818,\n",
              " 819,\n",
              " 820,\n",
              " 821,\n",
              " 822,\n",
              " 823,\n",
              " 824,\n",
              " 825,\n",
              " 826,\n",
              " 827,\n",
              " 828,\n",
              " 829,\n",
              " 830,\n",
              " 831,\n",
              " 832,\n",
              " 833,\n",
              " 834,\n",
              " 835,\n",
              " 836,\n",
              " 837,\n",
              " 838,\n",
              " 839,\n",
              " 840,\n",
              " 841,\n",
              " 842,\n",
              " 843,\n",
              " 844,\n",
              " 845,\n",
              " 846,\n",
              " 847,\n",
              " 848,\n",
              " 849,\n",
              " 850,\n",
              " 851,\n",
              " 852,\n",
              " 853,\n",
              " 854,\n",
              " 855,\n",
              " 856,\n",
              " 857,\n",
              " 858,\n",
              " 859,\n",
              " 860,\n",
              " 861,\n",
              " 862,\n",
              " 863,\n",
              " 864,\n",
              " 865,\n",
              " 866,\n",
              " 867,\n",
              " 868,\n",
              " 869,\n",
              " 870,\n",
              " 871,\n",
              " 872,\n",
              " 873,\n",
              " 874,\n",
              " 875,\n",
              " 876,\n",
              " 877,\n",
              " 878,\n",
              " 879,\n",
              " 880,\n",
              " 881,\n",
              " 882,\n",
              " 883,\n",
              " 884,\n",
              " 885,\n",
              " 886,\n",
              " 887,\n",
              " 888,\n",
              " 889,\n",
              " 890,\n",
              " 891,\n",
              " 892,\n",
              " 893,\n",
              " 894,\n",
              " 895,\n",
              " 896,\n",
              " 897,\n",
              " 898,\n",
              " 899,\n",
              " 900,\n",
              " 901,\n",
              " 902,\n",
              " 903,\n",
              " 904,\n",
              " 905,\n",
              " 906,\n",
              " 907,\n",
              " 908,\n",
              " 909,\n",
              " 910,\n",
              " 911,\n",
              " 912,\n",
              " 913,\n",
              " 914,\n",
              " 915,\n",
              " 916,\n",
              " 917,\n",
              " 918,\n",
              " 919,\n",
              " 920,\n",
              " 921,\n",
              " 922,\n",
              " 923,\n",
              " 924,\n",
              " 925,\n",
              " 926,\n",
              " 927,\n",
              " 928,\n",
              " 929,\n",
              " 930,\n",
              " 931,\n",
              " 932,\n",
              " 933,\n",
              " 934,\n",
              " 935,\n",
              " 936,\n",
              " 937,\n",
              " 938,\n",
              " 939,\n",
              " 940,\n",
              " 941,\n",
              " 942,\n",
              " 943,\n",
              " 944,\n",
              " 945,\n",
              " 946,\n",
              " 947,\n",
              " 948,\n",
              " 949,\n",
              " 950,\n",
              " 951,\n",
              " 952,\n",
              " 953,\n",
              " 954,\n",
              " 955,\n",
              " 956,\n",
              " 957,\n",
              " 958,\n",
              " 959,\n",
              " 960,\n",
              " 961,\n",
              " 962,\n",
              " 963,\n",
              " 964,\n",
              " 965,\n",
              " 966,\n",
              " 967,\n",
              " 968,\n",
              " 969,\n",
              " 970,\n",
              " 971,\n",
              " 972,\n",
              " 973,\n",
              " 974,\n",
              " 975,\n",
              " 976,\n",
              " 977,\n",
              " 978,\n",
              " 979,\n",
              " 980,\n",
              " 981,\n",
              " 982,\n",
              " 983,\n",
              " 984,\n",
              " 985,\n",
              " 986,\n",
              " 987,\n",
              " 988,\n",
              " 989,\n",
              " 990,\n",
              " 991,\n",
              " 992,\n",
              " 993,\n",
              " 994,\n",
              " 995,\n",
              " 996,\n",
              " 997,\n",
              " 998,\n",
              " 999,\n",
              " 1000]"
            ]
          },
          "metadata": {
            "tags": []
          },
          "execution_count": 124
        }
      ]
    },
    {
      "cell_type": "code",
      "metadata": {
        "id": "ELrXYevw83DC",
        "outputId": "ef32a0e9-e442-4406-db7b-de7630e8ca13",
        "colab": {
          "base_uri": "https://localhost:8080/"
        }
      },
      "source": [
        "#3. Nesta lista até 1000, use as funções min, max e sum e print os seus valores para ter certeza que a lista esta certa.\n",
        "print(f\"MIN da lista2_missao10: {min(lista2_missao10)}\")\n",
        "print(f\"MAX da lista2_missao10: {max(lista2_missao10)}\")\n",
        "print(f\"SUM da lista2_missao10: {sum(lista2_missao10)}\")"
      ],
      "execution_count": null,
      "outputs": [
        {
          "output_type": "stream",
          "text": [
            "MIN da lista2_missao10: 1\n",
            "MAX da lista2_missao10: 1000\n",
            "SUM da lista2_missao10: 500500\n"
          ],
          "name": "stdout"
        }
      ]
    },
    {
      "cell_type": "code",
      "metadata": {
        "id": "exgK7KAy9jDn",
        "outputId": "49c3d21b-353e-4d45-f90c-521197ed5f2e",
        "colab": {
          "base_uri": "https://localhost:8080/"
        }
      },
      "source": [
        "#4. Crie uma lista de números pares numa sequência de 1 a 40.\n",
        "lista_pares_missao10 = list(range(2, 41, 2))\n",
        "lista_pares_missao10"
      ],
      "execution_count": null,
      "outputs": [
        {
          "output_type": "execute_result",
          "data": {
            "text/plain": [
              "[2, 4, 6, 8, 10, 12, 14, 16, 18, 20, 22, 24, 26, 28, 30, 32, 34, 36, 38, 40]"
            ]
          },
          "metadata": {
            "tags": []
          },
          "execution_count": 126
        }
      ]
    },
    {
      "cell_type": "code",
      "metadata": {
        "id": "SqLv7pMc91tt",
        "outputId": "1c358eb1-2bd2-4532-992b-509a874a6e9d",
        "colab": {
          "base_uri": "https://localhost:8080/"
        }
      },
      "source": [
        "#5. Crie uma lista de números ao quadrado de 1 ate 10.\n",
        "lista_sqr_missao10 = [num ** 2 for num in range(1, 11)]\n",
        "lista_sqr_missao10"
      ],
      "execution_count": null,
      "outputs": [
        {
          "output_type": "execute_result",
          "data": {
            "text/plain": [
              "[1, 4, 9, 16, 25, 36, 49, 64, 81, 100]"
            ]
          },
          "metadata": {
            "tags": []
          },
          "execution_count": 128
        }
      ]
    },
    {
      "cell_type": "markdown",
      "metadata": {
        "id": "bvXkCHmqA25G"
      },
      "source": [
        "Fatiando uma lista"
      ]
    },
    {
      "cell_type": "code",
      "metadata": {
        "id": "c_nTo_Xl-bF5",
        "outputId": "f1683d75-5a56-4b68-c7bf-2fc269b8e8c4",
        "colab": {
          "base_uri": "https://localhost:8080/"
        }
      },
      "source": [
        "#listar apenas alguns nomes da lista\n",
        "nomes = [\"pedro\", \"maria\", \"joão\", \"jose\", \"Lucas\"]\n",
        "print(nomes[1:3]) # nesse caso estou pedindo do item 1 até o 3"
      ],
      "execution_count": 131,
      "outputs": [
        {
          "output_type": "stream",
          "text": [
            "['maria', 'joão']\n"
          ],
          "name": "stdout"
        }
      ]
    },
    {
      "cell_type": "code",
      "metadata": {
        "id": "_ivsfL7JBa-O",
        "outputId": "bed15ca4-d956-40b2-be46-1989c5be65be",
        "colab": {
          "base_uri": "https://localhost:8080/"
        }
      },
      "source": [
        "print(nomes[:2]) #nesse caso o python entende que o padrão do inicio é 0"
      ],
      "execution_count": 133,
      "outputs": [
        {
          "output_type": "stream",
          "text": [
            "['pedro', 'maria']\n"
          ],
          "name": "stdout"
        }
      ]
    },
    {
      "cell_type": "code",
      "metadata": {
        "id": "fsPSHQ5JCLob",
        "outputId": "b7d33a13-cc6a-4a93-f98b-d6eabf83e26b",
        "colab": {
          "base_uri": "https://localhost:8080/"
        }
      },
      "source": [
        "print(nomes[2:]) #nesse caso o python entende que o padrão é até o final"
      ],
      "execution_count": 134,
      "outputs": [
        {
          "output_type": "stream",
          "text": [
            "['joão', 'jose', 'Lucas']\n"
          ],
          "name": "stdout"
        }
      ]
    },
    {
      "cell_type": "code",
      "metadata": {
        "id": "ti1IqER3CYTf",
        "outputId": "cf7dac89-daca-4c9f-f8ac-d1945d544acd",
        "colab": {
          "base_uri": "https://localhost:8080/"
        }
      },
      "source": [
        "print(nomes[-3:]) #nesse caso o python pega os ultimos 3"
      ],
      "execution_count": 136,
      "outputs": [
        {
          "output_type": "stream",
          "text": [
            "['joão', 'jose', 'Lucas']\n"
          ],
          "name": "stdout"
        }
      ]
    },
    {
      "cell_type": "code",
      "metadata": {
        "id": "Y2XVQRB0CozH",
        "outputId": "0260afc9-1a85-40b3-db6a-ad94976a1706",
        "colab": {
          "base_uri": "https://localhost:8080/"
        }
      },
      "source": [
        "#copiando uma lista para outra lista (porque as vezes você quer trabalhar na cópia e depois comparar para ver como ficou)\n",
        "meus_carros = [\"fiat\", \"ford\", \"volks\", \"kia\"] #essa lista é a original\n",
        "meus_carros_copia = meus_carros[:] #dessa maneira eu crio uma cópia\n",
        "meus_carros_link = meus_carros #dessa maneira eu crio um link\n",
        "\n",
        "print(f\"meus_carros : {meus_carros}\")\n",
        "print(f\"meus_carros_copia : {meus_carros_copia}\")\n",
        "print(f\"meus_carros_link : {meus_carros_link}\")"
      ],
      "execution_count": 137,
      "outputs": [
        {
          "output_type": "stream",
          "text": [
            "meus_carros : ['fiat', 'ford', 'volks', 'kia']\n",
            "meus_carros_copia : ['fiat', 'ford', 'volks', 'kia']\n",
            "meus_carros_link : ['fiat', 'ford', 'volks', 'kia']\n"
          ],
          "name": "stdout"
        }
      ]
    },
    {
      "cell_type": "code",
      "metadata": {
        "id": "VHV9Un4sFTvT",
        "outputId": "c97157a7-2064-4e1c-de2c-55b0e2f064d4",
        "colab": {
          "base_uri": "https://localhost:8080/"
        }
      },
      "source": [
        "#vemos que agora temos 3 listas\n",
        "#mas se alterar meus_carros_copia, não vamos alterar a lista original\n",
        "meus_carros_copia.append(\"Hyndai\")\n",
        "print(f\"meus_carros : {meus_carros}\")\n",
        "print(f\"meus_carros_copia : {meus_carros_copia}\")\n",
        "print(f\"meus_carros_link : {meus_carros_link}\")"
      ],
      "execution_count": 138,
      "outputs": [
        {
          "output_type": "stream",
          "text": [
            "meus_carros : ['fiat', 'ford', 'volks', 'kia']\n",
            "meus_carros_copia : ['fiat', 'ford', 'volks', 'kia', 'Hyndai']\n",
            "meus_carros_link : ['fiat', 'ford', 'volks', 'kia']\n"
          ],
          "name": "stdout"
        }
      ]
    },
    {
      "cell_type": "code",
      "metadata": {
        "id": "bCPNw3T9Fp48",
        "outputId": "b169693e-a5f6-4751-80e5-04322e0160e1",
        "colab": {
          "base_uri": "https://localhost:8080/"
        }
      },
      "source": [
        "#mas se alterar meus_carros_link, vamos alterar a lista original também\n",
        "meus_carros_link.append(\"bmw\")\n",
        "print(f\"meus_carros : {meus_carros}\")\n",
        "print(f\"meus_carros_copia : {meus_carros_copia}\")\n",
        "print(f\"meus_carros_link : {meus_carros_link}\")"
      ],
      "execution_count": 139,
      "outputs": [
        {
          "output_type": "stream",
          "text": [
            "meus_carros : ['fiat', 'ford', 'volks', 'kia', 'bmw']\n",
            "meus_carros_copia : ['fiat', 'ford', 'volks', 'kia', 'Hyndai']\n",
            "meus_carros_link : ['fiat', 'ford', 'volks', 'kia', 'bmw']\n"
          ],
          "name": "stdout"
        }
      ]
    },
    {
      "cell_type": "code",
      "metadata": {
        "id": "F49FtQynF5kV"
      },
      "source": [
        "#então tomar cuidado ao fazer a cópia ou link.\n",
        "#podemos também copiar apenas alguma parte da lista usando [:] com valores e usar o mesmo conceito no for"
      ],
      "execution_count": 140,
      "outputs": []
    },
    {
      "cell_type": "markdown",
      "metadata": {
        "id": "lm3BQy1aHPkG"
      },
      "source": [
        "MIssao 11"
      ]
    },
    {
      "cell_type": "code",
      "metadata": {
        "id": "0Qb-2K1AGNhD",
        "outputId": "a170213a-84c0-4f3f-d620-d6697ee65657",
        "colab": {
          "base_uri": "https://localhost:8080/"
        }
      },
      "source": [
        "#1. Dos exercícios anteriores de listas, mostre os três primeiros items de uma lista usando a opção de fatia [:].\n",
        "lista_missao11 = ['fiat', 'ford', 'volks', 'kia', 'bmw']\n",
        "lista_missao11[0:3]"
      ],
      "execution_count": 143,
      "outputs": [
        {
          "output_type": "execute_result",
          "data": {
            "text/plain": [
              "['fiat', 'ford', 'volks']"
            ]
          },
          "metadata": {
            "tags": []
          },
          "execution_count": 143
        }
      ]
    },
    {
      "cell_type": "code",
      "metadata": {
        "id": "oDJ7nhL8H4mk",
        "outputId": "2eb4100f-11c6-4d40-b25b-bce1366f1c6f",
        "colab": {
          "base_uri": "https://localhost:8080/"
        }
      },
      "source": [
        "#2. Dos exercícios anteriores de listas, mostre três items do meio de uma lista usando a opção de fatia [:].\n",
        "lista_missao11[1:4]"
      ],
      "execution_count": 144,
      "outputs": [
        {
          "output_type": "execute_result",
          "data": {
            "text/plain": [
              "['ford', 'volks', 'kia']"
            ]
          },
          "metadata": {
            "tags": []
          },
          "execution_count": 144
        }
      ]
    },
    {
      "cell_type": "code",
      "metadata": {
        "id": "r7B-VF2oIMI4",
        "outputId": "c43eb44d-42df-47b3-b185-a254c361144f",
        "colab": {
          "base_uri": "https://localhost:8080/"
        }
      },
      "source": [
        "#3. Dos exercícios anteriores de listas, mostre os três últimos items de uma lista usando a opção de fatia [:].\n",
        "lista_missao11[-3:]"
      ],
      "execution_count": 145,
      "outputs": [
        {
          "output_type": "execute_result",
          "data": {
            "text/plain": [
              "['volks', 'kia', 'bmw']"
            ]
          },
          "metadata": {
            "tags": []
          },
          "execution_count": 145
        }
      ]
    },
    {
      "cell_type": "code",
      "metadata": {
        "id": "qDOsvBniIU7a",
        "outputId": "dd85db05-e7b3-4281-d4c2-cdfd3db9f960",
        "colab": {
          "base_uri": "https://localhost:8080/"
        }
      },
      "source": [
        "#4. Crie uma lista de minhas_cidades e amigos_cidades e depois adicione a cada lista uma nova cidade. \n",
        "#Mostre ambas e tenha certeza que são duas listas diferentes.\n",
        "cidades_minhas = [\"araras\", \"sao paulo\", \"ribeirao preto\"]\n",
        "cidades_amigos = cidades_minhas[:]\n",
        "cidades_amigos.append(\"leme\")\n",
        "for minhas in cidades_minhas:\n",
        "  print(f\"Minhas cidades: {minhas}\")\n",
        "\n",
        "for amigos in cidades_amigos:\n",
        "  print(f\"Cidades dos amigos: {amigos}\")"
      ],
      "execution_count": 147,
      "outputs": [
        {
          "output_type": "stream",
          "text": [
            "Minhas cidades: araras\n",
            "Minhas cidades: sao paulo\n",
            "Minhas cidades: ribeirao preto\n",
            "Cidades dos amigos: araras\n",
            "Cidades dos amigos: sao paulo\n",
            "Cidades dos amigos: ribeirao preto\n",
            "Cidades dos amigos: leme\n"
          ],
          "name": "stdout"
        }
      ]
    },
    {
      "cell_type": "code",
      "metadata": {
        "id": "CIxQxCDxJSgk"
      },
      "source": [
        ""
      ],
      "execution_count": null,
      "outputs": []
    }
  ]
}