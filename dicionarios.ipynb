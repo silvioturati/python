{
  "nbformat": 4,
  "nbformat_minor": 0,
  "metadata": {
    "colab": {
      "name": "dicionarios.ipynb",
      "provenance": [],
      "collapsed_sections": [],
      "authorship_tag": "ABX9TyNkWuFMTeLm1OenZlSfX5+u",
      "include_colab_link": true
    },
    "kernelspec": {
      "name": "python3",
      "display_name": "Python 3"
    }
  },
  "cells": [
    {
      "cell_type": "markdown",
      "metadata": {
        "id": "view-in-github",
        "colab_type": "text"
      },
      "source": [
        "<a href=\"https://colab.research.google.com/github/silvioturati/python/blob/main/dicionarios.ipynb\" target=\"_parent\"><img src=\"https://colab.research.google.com/assets/colab-badge.svg\" alt=\"Open In Colab\"/></a>"
      ]
    },
    {
      "cell_type": "code",
      "metadata": {
        "id": "FJghdweXa1K2"
      },
      "source": [
        "#dicionarios é um conjunto de pares de chaves e valores (key and values) \n",
        "#as chaves são unicas dentro de um dicionario\n",
        "#cada chave é conectada um valor\n",
        "#os valores podem ser string, numeros, listas e até mesmo outro dicionário\n",
        "#a declaração de um dicionario é através de {}\n",
        "#um diocnário é imutável\n",
        "#tuplas podem ser usadas como chaves de um diconário desde que seja uma tupla contendo só strings\n",
        "\n",
        "primeiro_dicionario = {'marca':'ford', 'modelo':'fiesta'}\n",
        "#                        key  : value,   chave : valor"
      ],
      "execution_count": 1,
      "outputs": []
    },
    {
      "cell_type": "code",
      "metadata": {
        "colab": {
          "base_uri": "https://localhost:8080/"
        },
        "id": "GHSSJh0tdYez",
        "outputId": "352625a0-178b-4df7-f8a2-17d5871fabf3"
      },
      "source": [
        "carro_01 = {'marca':'ford', 'modelo':'fiesta', 'portas':4} #criando um dicionario\n",
        "print(carro_01['marca']) #acessando as informações\n",
        "print(carro_01['modelo'])\n",
        "print(carro_01['portas'])\n",
        "print(f\"O carro {carro_01['marca'].title()} {carro_01['modelo'].title()} possui {carro_01['portas']} portas.\")"
      ],
      "execution_count": 11,
      "outputs": [
        {
          "output_type": "stream",
          "text": [
            "ford\n",
            "fiesta\n",
            "4\n",
            "O carro Ford Fiesta possui 4 portas.\n"
          ],
          "name": "stdout"
        }
      ]
    },
    {
      "cell_type": "code",
      "metadata": {
        "colab": {
          "base_uri": "https://localhost:8080/"
        },
        "id": "UdnTtlj5eSjU",
        "outputId": "a3926f5c-0e77-417b-8819-9d1cc7271c5a"
      },
      "source": [
        "#adcionando informações num dicionário\n",
        "carro_01['motor'] = 1.0\n",
        "carro_01 #veja que o resultado vai ficar em ordem crescente pela chave"
      ],
      "execution_count": 14,
      "outputs": [
        {
          "output_type": "execute_result",
          "data": {
            "text/plain": [
              "{'marca': 'ford', 'modelo': 'fiesta', 'motor': 1.0, 'portas': 4}"
            ]
          },
          "metadata": {
            "tags": []
          },
          "execution_count": 14
        }
      ]
    },
    {
      "cell_type": "code",
      "metadata": {
        "colab": {
          "base_uri": "https://localhost:8080/"
        },
        "id": "GDAWtwY1gSoq",
        "outputId": "6b82a4db-ecb3-4d62-f464-1013312e75a4"
      },
      "source": [
        "carro_01['marchas'] = 5\n",
        "carro_01"
      ],
      "execution_count": 15,
      "outputs": [
        {
          "output_type": "execute_result",
          "data": {
            "text/plain": [
              "{'marca': 'ford', 'marchas': 5, 'modelo': 'fiesta', 'motor': 1.0, 'portas': 4}"
            ]
          },
          "metadata": {
            "tags": []
          },
          "execution_count": 15
        }
      ]
    },
    {
      "cell_type": "code",
      "metadata": {
        "colab": {
          "base_uri": "https://localhost:8080/"
        },
        "id": "W2p0mJhugxhH",
        "outputId": "aa480b41-a58f-4168-fb8b-1bec87083643"
      },
      "source": [
        "#modificando o valor (lembrando que não pode mudaro nome da chave, apenas seu valor)\n",
        "carro_01['motor'] = 1.3\n",
        "carro_01"
      ],
      "execution_count": 16,
      "outputs": [
        {
          "output_type": "execute_result",
          "data": {
            "text/plain": [
              "{'marca': 'ford', 'marchas': 5, 'modelo': 'fiesta', 'motor': 1.3, 'portas': 4}"
            ]
          },
          "metadata": {
            "tags": []
          },
          "execution_count": 16
        }
      ]
    },
    {
      "cell_type": "code",
      "metadata": {
        "colab": {
          "base_uri": "https://localhost:8080/"
        },
        "id": "dOsmze3EhhmD",
        "outputId": "ab150c8c-2db6-4799-e5a0-74defca63ee6"
      },
      "source": [
        "carro_02 = {'cor':'vermelho'}\n",
        "if carro_02['cor'] == 'azul':\n",
        "  carro_02['motor'] = 1.0\n",
        "else:\n",
        "  carro_02['motor'] = 2.0\n",
        "\n",
        "carro_02"
      ],
      "execution_count": 18,
      "outputs": [
        {
          "output_type": "execute_result",
          "data": {
            "text/plain": [
              "{'cor': 'vermelho', 'motor': 2.0}"
            ]
          },
          "metadata": {
            "tags": []
          },
          "execution_count": 18
        }
      ]
    },
    {
      "cell_type": "code",
      "metadata": {
        "colab": {
          "base_uri": "https://localhost:8080/"
        },
        "id": "S-_DLBHYiYSl",
        "outputId": "403e2d0b-4cef-4684-a58c-bff39eb846f0"
      },
      "source": [
        "#removendo chaves ou pares do dicionário\n",
        "del carro_02['cor']\n",
        "carro_02"
      ],
      "execution_count": 19,
      "outputs": [
        {
          "output_type": "execute_result",
          "data": {
            "text/plain": [
              "{'motor': 2.0}"
            ]
          },
          "metadata": {
            "tags": []
          },
          "execution_count": 19
        }
      ]
    },
    {
      "cell_type": "code",
      "metadata": {
        "colab": {
          "base_uri": "https://localhost:8080/"
        },
        "id": "nhmAW2BBi5Vk",
        "outputId": "cdcbed98-b663-4f2b-ae57-cea88a1b8fbd"
      },
      "source": [
        "lista_nomes = ['alex', 'fernanda', 'ana silvia', 'ana livia']\n",
        "comidas_favoritas = {'alex':'churrasco', 'fernanda':'macarrão', 'ana silvia':'lanche', 'ana livia':'pizza'}\n",
        "\n",
        "for nome in lista_nomes:\n",
        "  print(f\"A comida preferida do {nome.title()} é {comidas_favoritas[nome].title()}.\")"
      ],
      "execution_count": 22,
      "outputs": [
        {
          "output_type": "stream",
          "text": [
            "A comida preferida do Alex é Churrasco.\n",
            "A comida preferida do Fernanda é Macarrão.\n",
            "A comida preferida do Ana Silvia é Lanche.\n",
            "A comida preferida do Ana Livia é Pizza.\n"
          ],
          "name": "stdout"
        }
      ]
    },
    {
      "cell_type": "markdown",
      "metadata": {
        "id": "w0kgdIwfnj4-"
      },
      "source": [
        "Missão 15"
      ]
    },
    {
      "cell_type": "code",
      "metadata": {
        "colab": {
          "base_uri": "https://localhost:8080/"
        },
        "id": "eejVKjWTjHNa",
        "outputId": "f7c3d37b-da81-442e-eaa7-97e05133064d"
      },
      "source": [
        "#1. Crie um dicionário com suas informações como primeiro nome, nome do meio, último nome, idade, cidade que nasceu. \n",
        "#Mostre cada informação do seu dicionário usando print()\n",
        "\n",
        "dados_cadastrais = {'nome':'José', 'sobrenome':'Silva', 'idade':43, 'cidade':'Araras'}\n",
        "print(f\"O {dados_cadastrais['nome'].title()} {dados_cadastrais['sobrenome'].title()} nasceu em {dados_cadastrais['cidade'].title()} e tem {dados_cadastrais['idade']} anos de idade\")"
      ],
      "execution_count": 24,
      "outputs": [
        {
          "output_type": "stream",
          "text": [
            "O José Silva nasceu em Araras e tem 43 anos de idade\n"
          ],
          "name": "stdout"
        }
      ]
    },
    {
      "cell_type": "code",
      "metadata": {
        "colab": {
          "base_uri": "https://localhost:8080/"
        },
        "id": "AdM1_916o3La",
        "outputId": "5440602b-be59-4e2a-f741-e8620d0beee3"
      },
      "source": [
        "#2. Use um dicionário para armazenar carros favoritos de 5 amigos. \n",
        "#Mostre na tela os carros de seus amigos concatenando com uma frase do tipo: \"O carro favorito do Marcos é Ferrari.\"\n",
        "\n",
        "lista_nomes = ['alex', 'fernanda', 'ana silvia', 'ana livia']\n",
        "carros_favoritos = {'alex':'ferrari', 'fernanda':'porsche', 'ana silvia':'mini cooper', 'ana livia':'mercedes'}\n",
        "\n",
        "for nome in lista_nomes:\n",
        "  print(f\"O carro favorito do {nome.title()} é {carros_favoritos[nome].title()}.\")"
      ],
      "execution_count": 27,
      "outputs": [
        {
          "output_type": "stream",
          "text": [
            "O carro preferido do Alex é Ferrari.\n",
            "O carro preferido do Fernanda é Porsche.\n",
            "O carro preferido do Ana Silvia é Mini Cooper.\n",
            "O carro preferido do Ana Livia é Mercedes.\n"
          ],
          "name": "stdout"
        }
      ]
    },
    {
      "cell_type": "code",
      "metadata": {
        "colab": {
          "base_uri": "https://localhost:8080/"
        },
        "id": "fxZ2XPCAqH8d",
        "outputId": "6ee5f3b9-2cfa-496f-f449-eef18f054c59"
      },
      "source": [
        "#outra resolução para o exerciio 2\n",
        "carros_favoritos = {'alex':'ferrari', 'fernanda':'porsche', 'ana silvia':'mini cooper', 'ana livia':'mercedes'}\n",
        "\n",
        "for nome in carros_favoritos.keys():\n",
        "  print(f\"O carro favorito do {nome.title()} é {carros_favoritos[nome].title()}.\")"
      ],
      "execution_count": 28,
      "outputs": [
        {
          "output_type": "stream",
          "text": [
            "O carro favorito do Alex é Ferrari.\n",
            "O carro favorito do Fernanda é Porsche.\n",
            "O carro favorito do Ana Silvia é Mini Cooper.\n",
            "O carro favorito do Ana Livia é Mercedes.\n"
          ],
          "name": "stdout"
        }
      ]
    },
    {
      "cell_type": "code",
      "metadata": {
        "colab": {
          "base_uri": "https://localhost:8080/"
        },
        "id": "W70XaaLhrZCL",
        "outputId": "80e7693c-fe9d-41ab-b5de-07dfcadc5814"
      },
      "source": [
        "#outra resolução para o exerciio 2\n",
        "carros_favoritos = {'alex':'ferrari', 'fernanda':'porsche', 'ana silvia':'mini cooper', 'ana livia':'mercedes'}\n",
        "\n",
        "for nome, carros in carros_favoritos.items():\n",
        "  print(f\"O carro favorito do {nome.title()} é {carros.title()}.\")"
      ],
      "execution_count": 30,
      "outputs": [
        {
          "output_type": "stream",
          "text": [
            "O carro favorito do Alex é Ferrari.\n",
            "O carro favorito do Fernanda é Porsche.\n",
            "O carro favorito do Ana Silvia é Mini Cooper.\n",
            "O carro favorito do Ana Livia é Mercedes.\n"
          ],
          "name": "stdout"
        }
      ]
    },
    {
      "cell_type": "markdown",
      "metadata": {
        "id": "QjszLWvMtjC_"
      },
      "source": [
        "Uso do GET() para acessar dicionários"
      ]
    },
    {
      "cell_type": "code",
      "metadata": {
        "colab": {
          "base_uri": "https://localhost:8080/"
        },
        "id": "_gmbH8yjs-MF",
        "outputId": "feaba759-9982-4554-ae36-81246bd1dc55"
      },
      "source": [
        "comidas_favoritas = {'alex':'churrasco', 'fernanda':'macarrão', 'ana silvia':'lanche', 'ana livia':'pizza'}\n",
        "\n",
        "#vamo supor que o usuário escolha um nome que não esteje no dicionpario acima, o sistema retornaria um erro\n",
        "#por exemplo jonas como no exemplo abaixo.\n",
        "#então usamos o get() e passamos um segundo argumento\n",
        "comida = comidas_favoritas.get('jonas', 'Essa pessoa não está em nossos dados')\n",
        "print(comida)"
      ],
      "execution_count": 34,
      "outputs": [
        {
          "output_type": "stream",
          "text": [
            "Essa pessoa não está em nossos dados\n"
          ],
          "name": "stdout"
        }
      ]
    },
    {
      "cell_type": "markdown",
      "metadata": {
        "id": "I8gpih3N9VD4"
      },
      "source": [
        "Laço de repetição em dicionários"
      ]
    },
    {
      "cell_type": "code",
      "metadata": {
        "colab": {
          "base_uri": "https://localhost:8080/"
        },
        "id": "BctnlQxkuTcx",
        "outputId": "cb8b0582-8461-41cd-f3bc-cd5a5ba1db4b"
      },
      "source": [
        "#pegando chaves e valores do dicionário\n",
        "\n",
        "comidas_favoritas = {'alex':'churrasco', 'fernanda':'macarrão', 'ana silvia':'lanche', 'ana livia':'pizza'}\n",
        "\n",
        "for key, value in comidas_favoritas.items():\n",
        "  print(\"\\nKey: \" + key)\n",
        "  print(\"Value: \" + value)\n"
      ],
      "execution_count": 37,
      "outputs": [
        {
          "output_type": "stream",
          "text": [
            "\n",
            "Key: alex\n",
            "Value: churrasco\n",
            "\n",
            "Key: fernanda\n",
            "Value: macarrão\n",
            "\n",
            "Key: ana silvia\n",
            "Value: lanche\n",
            "\n",
            "Key: ana livia\n",
            "Value: pizza\n"
          ],
          "name": "stdout"
        }
      ]
    },
    {
      "cell_type": "code",
      "metadata": {
        "colab": {
          "base_uri": "https://localhost:8080/"
        },
        "id": "Yabznt1B9p7X",
        "outputId": "3692a5d9-7ede-4d4a-ab20-03d2bea643b7"
      },
      "source": [
        "comidas_favoritas = {'alex':'churrasco', 'fernanda':'macarrão', 'ana silvia':'lanche', 'ana livia':'pizza'}\n",
        "\n",
        "for nome, comida in comidas_favoritas.items():\n",
        "  print(\"\\nNome: \" + nome)\n",
        "  print(\"Comida: \" + comida)\n"
      ],
      "execution_count": 39,
      "outputs": [
        {
          "output_type": "stream",
          "text": [
            "\n",
            "Nome: alex\n",
            "Comida: churrasco\n",
            "\n",
            "Nome: fernanda\n",
            "Comida: macarrão\n",
            "\n",
            "Nome: ana silvia\n",
            "Comida: lanche\n",
            "\n",
            "Nome: ana livia\n",
            "Comida: pizza\n"
          ],
          "name": "stdout"
        }
      ]
    },
    {
      "cell_type": "code",
      "metadata": {
        "colab": {
          "base_uri": "https://localhost:8080/"
        },
        "id": "V2gTb3ZI-FRV",
        "outputId": "67b5eb23-8bf5-4247-8daa-f68363da92cc"
      },
      "source": [
        "#pegando só as chaves do dicionário\n",
        "\n",
        "comidas_favoritas = {'alex':'churrasco', 'fernanda':'macarrão', 'ana silvia':'lanche', 'ana livia':'pizza'}\n",
        "\n",
        "for nome in comidas_favoritas.keys():\n",
        "    print(\"\\nNome: \" + nome)\n"
      ],
      "execution_count": 41,
      "outputs": [
        {
          "output_type": "stream",
          "text": [
            "\n",
            "Nome: alex\n",
            "\n",
            "Nome: fernanda\n",
            "\n",
            "Nome: ana silvia\n",
            "\n",
            "Nome: ana livia\n"
          ],
          "name": "stdout"
        }
      ]
    },
    {
      "cell_type": "code",
      "metadata": {
        "colab": {
          "base_uri": "https://localhost:8080/"
        },
        "id": "8CijPniK-2xM",
        "outputId": "81980e37-8b9b-4f81-9a39-38cb745955e5"
      },
      "source": [
        "#pegando só os valores do dicionario\n",
        "\n",
        "comidas_favoritas = {'alex':'churrasco', 'fernanda':'macarrão', 'ana silvia':'lanche', 'ana livia':'pizza'}\n",
        "\n",
        "for v in comidas_favoritas.values():\n",
        "    print(\"\\nValor: \" + v)\n"
      ],
      "execution_count": 42,
      "outputs": [
        {
          "output_type": "stream",
          "text": [
            "\n",
            "Valor: churrasco\n",
            "\n",
            "Valor: macarrão\n",
            "\n",
            "Valor: lanche\n",
            "\n",
            "Valor: pizza\n"
          ],
          "name": "stdout"
        }
      ]
    },
    {
      "cell_type": "code",
      "metadata": {
        "colab": {
          "base_uri": "https://localhost:8080/"
        },
        "id": "koM3T18W_DcV",
        "outputId": "343e4ca8-1a8c-4f73-d257-64053aa617a3"
      },
      "source": [
        "comidas_favoritas = {'alex':'churrasco', 'fernanda':'macarrão', 'ana silvia':'lanche', 'ana livia':'pizza', 'tom':'sushi'}\n",
        "famosos = ['antonio', 'tom']\n",
        "\n",
        "for nome in comidas_favoritas.keys():\n",
        "  if nome not in famosos:\n",
        "    print(f\"{nome.title()} seu nome não é famoso, é xinfrim, mas você gosta de {comidas_favoritas[nome]}.\")\n",
        "  else:\n",
        "    print(f\"{nome.title()} seu nome é famosão mesmo hein?!? Vai comer {comidas_favoritas[nome]} que eu sei é disso que você gosta!\")"
      ],
      "execution_count": 47,
      "outputs": [
        {
          "output_type": "stream",
          "text": [
            "Alex seu nome não é famoso, é xinfrim, mas você gosta de churrasco.\n",
            "Fernanda seu nome não é famoso, é xinfrim, mas você gosta de macarrão.\n",
            "Ana Silvia seu nome não é famoso, é xinfrim, mas você gosta de lanche.\n",
            "Ana Livia seu nome não é famoso, é xinfrim, mas você gosta de pizza.\n",
            "Tom seu nome é famosão mesmo hein?!? Vai comer sushi que eu sei é disso que você gosta!\n"
          ],
          "name": "stdout"
        }
      ]
    },
    {
      "cell_type": "code",
      "metadata": {
        "colab": {
          "base_uri": "https://localhost:8080/"
        },
        "id": "MLk7VRWvCTOX",
        "outputId": "a7065b24-72eb-438c-e586-8e1d8cc6bdef"
      },
      "source": [
        "#então temos valores para as keys e valores para os values\n",
        "print(comidas_favoritas.keys())\n",
        "print(comidas_favoritas.values())"
      ],
      "execution_count": 49,
      "outputs": [
        {
          "output_type": "stream",
          "text": [
            "dict_keys(['alex', 'fernanda', 'ana silvia', 'ana livia', 'tom'])\n",
            "dict_values(['churrasco', 'macarrão', 'lanche', 'pizza', 'sushi'])\n"
          ],
          "name": "stdout"
        }
      ]
    },
    {
      "cell_type": "code",
      "metadata": {
        "colab": {
          "base_uri": "https://localhost:8080/"
        },
        "id": "_o6wC7IzDdfl",
        "outputId": "57ba1671-deee-4347-a21f-01b3b8230c2b"
      },
      "source": [
        "#se quiser aprensentar os valores de forma ordenada\n",
        "print(sorted(comidas_favoritas.keys()))\n",
        "print(sorted(comidas_favoritas.values()))\n",
        "\n",
        "#veja que não alterou o dicionário, só alterou  a apresentação\n",
        "print(comidas_favoritas.keys())\n",
        "print(comidas_favoritas.values())"
      ],
      "execution_count": 54,
      "outputs": [
        {
          "output_type": "stream",
          "text": [
            "['alex', 'ana livia', 'ana silvia', 'fernanda', 'tom']\n",
            "['churrasco', 'lanche', 'macarrão', 'pizza', 'sushi']\n",
            "dict_keys(['alex', 'fernanda', 'ana silvia', 'ana livia', 'tom'])\n",
            "dict_values(['churrasco', 'macarrão', 'lanche', 'pizza', 'sushi'])\n"
          ],
          "name": "stdout"
        }
      ]
    },
    {
      "cell_type": "code",
      "metadata": {
        "colab": {
          "base_uri": "https://localhost:8080/"
        },
        "id": "Q0WYbiKTFNwo",
        "outputId": "e0e4e2a8-1d4f-4838-cba3-996e6aa79aed"
      },
      "source": [
        "#podemos colocar os valores das chaves numa lista e também os valores dos values numa lista. E combinar com métodos como o sorted\n",
        "nome_comidas_favoritas = sorted(comidas_favoritas.keys())\n",
        "pratos_comidas_favoritas = sorted(comidas_favoritas.values())\n",
        "\n",
        "print(nome_comidas_favoritas)\n",
        "print(pratos_comidas_favoritas)"
      ],
      "execution_count": 56,
      "outputs": [
        {
          "output_type": "stream",
          "text": [
            "['alex', 'ana livia', 'ana silvia', 'fernanda', 'tom']\n",
            "['churrasco', 'lanche', 'macarrão', 'pizza', 'sushi']\n"
          ],
          "name": "stdout"
        }
      ]
    },
    {
      "cell_type": "code",
      "metadata": {
        "colab": {
          "base_uri": "https://localhost:8080/"
        },
        "id": "dFrnux67GFsX",
        "outputId": "3384209b-77d7-4005-987f-2ffd9a6d575b"
      },
      "source": [
        "#o método set traz valores unicos, pode-se ter valores repeticos e você quer trazer só uma vez \n",
        "\n",
        "comidas_favoritas = {'alex':'churrasco', 'fernanda':'macarrão', 'ana silvia':'lanche', 'ana livia':'pizza', 'tom':'pizza'}\n",
        "\n",
        "for comida in set(comidas_favoritas.values()):\n",
        "    print(comida)"
      ],
      "execution_count": 58,
      "outputs": [
        {
          "output_type": "stream",
          "text": [
            "churrasco\n",
            "pizza\n",
            "lanche\n",
            "macarrão\n"
          ],
          "name": "stdout"
        }
      ]
    },
    {
      "cell_type": "markdown",
      "metadata": {
        "id": "6hoegW1AI2gi"
      },
      "source": [
        "Missão 16"
      ]
    },
    {
      "cell_type": "code",
      "metadata": {
        "colab": {
          "base_uri": "https://localhost:8080/"
        },
        "id": "JgbmFbwKI3zn",
        "outputId": "f3dd1258-085c-4ae9-e998-8a2ef82ec738"
      },
      "source": [
        "#1. Crie um dicionário com 3 marcas de carro e um modelo que tal marca fabrica. **'ford': 'fusion'**\n",
        "carros_m16 = {'ford':'mustang', 'gm':'camaro', 'fiat':'ferrari'}\n",
        "\n",
        "#a. Com um laço de repetição exiba uma frase sobre cada marca, \"A Ford foi fundada nos EUA\".\n",
        "for marca in carros_m16:\n",
        "  if marca == 'ford':\n",
        "    print(f\"{marca} foi fundada nos EUA\")\n",
        "  elif marca == 'gm':\n",
        "    print(f\"{marca} também é dona da Cadillac\")\n",
        "  else:\n",
        "    print(f\"{marca} comprou a ferrari\")\n",
        "\n",
        "#b. Faça um laço para mostrar o nome de cada marca.\n",
        "for marca in carros_m16:\n",
        "  print(\"\\n\" + marca)\n",
        "\n",
        "#c. Faça um laço para exibir o modelo de cada marca.\n",
        "for carro in carros_m16.values():\n",
        "  print(\"\\n\" + carro)"
      ],
      "execution_count": 62,
      "outputs": [
        {
          "output_type": "stream",
          "text": [
            "ford foi fundada nos EUA\n",
            "gm também é dona da Cadillac\n",
            "fiat comprou a ferrari\n",
            "\n",
            "ford\n",
            "\n",
            "gm\n",
            "\n",
            "fiat\n",
            "\n",
            "mustang\n",
            "\n",
            "camaro\n",
            "\n",
            "ferrari\n"
          ],
          "name": "stdout"
        }
      ]
    },
    {
      "cell_type": "code",
      "metadata": {
        "colab": {
          "base_uri": "https://localhost:8080/"
        },
        "id": "GMXbNVOhLdba",
        "outputId": "fc564b33-fe29-44d0-fd94-a9a2333405b7"
      },
      "source": [
        "#2. Usando o dicionário comidas_favoritas:\n",
        "comidas_favoritas_m16 = {'alex':'churrasco', 'fernanda':'macarrão', 'ana silvia':'lanche', 'ana livia':'pizza', 'tom':'pizza'}\n",
        "\n",
        "#a. Crie uma lista de nomes. Alguns nomes devem estar no dicionário e outros não.\n",
        "nomes_m16 = ['alex', 'fernanda', 'tom', 'miguel', 'joão']\n",
        "\n",
        "#b. Iterando esta lista (percorrendo, navegando esta lista), se elas já informaram \n",
        "#a comida favorita delas, dê-lhes os parabéns, senão, mostre uma mensagem informando que ainda não informaram.\n",
        "for nome in nomes_m16:\n",
        "  if nome in comidas_favoritas_m16.keys():\n",
        "    print(f\"{nome.title()} você informou que sua comida favoria é {comidas_favoritas_m16[nome]}.\")\n",
        "  else:\n",
        "    print(f\"{nome.title()} você não informou qual sua comida favoria.\")\n",
        "\n"
      ],
      "execution_count": 67,
      "outputs": [
        {
          "output_type": "stream",
          "text": [
            "Alex você informou que sua comida favoria é churrasco.\n",
            "Fernanda você informou que sua comida favoria é macarrão.\n",
            "Tom você informou que sua comida favoria é pizza.\n",
            "Miguel você não informou qual sua comida favoria.\n",
            "João você não informou qual sua comida favoria.\n"
          ],
          "name": "stdout"
        }
      ]
    },
    {
      "cell_type": "markdown",
      "metadata": {
        "id": "inxVvr7fPR6y"
      },
      "source": [
        "Lista de dicionários"
      ]
    },
    {
      "cell_type": "code",
      "metadata": {
        "colab": {
          "base_uri": "https://localhost:8080/"
        },
        "id": "s4cKnsNLPTu4",
        "outputId": "83a7ba7d-4279-428c-d62c-0c70451a45ee"
      },
      "source": [
        "carro_01 = {'marca':'ford', 'modelo':'fusion', 'motor':2.0}\n",
        "carro_02 = {'marca':'fiat', 'modelo':'palio', 'motor':1.0}\n",
        "carro_03 = {'marca':'gm', 'modelo':'prisma', 'motor':1.4}\n",
        "\n",
        "carros = [carro_01, carro_02, carro_03]\n",
        "\n",
        "for carro in carros:\n",
        "  print(carro)"
      ],
      "execution_count": 73,
      "outputs": [
        {
          "output_type": "stream",
          "text": [
            "{'marca': 'ford', 'modelo': 'fusion', 'motor': 2.0}\n",
            "{'marca': 'fiat', 'modelo': 'palio', 'motor': 1.0}\n",
            "{'marca': 'gm', 'modelo': 'prisma', 'motor': 1.4}\n"
          ],
          "name": "stdout"
        }
      ]
    },
    {
      "cell_type": "code",
      "metadata": {
        "colab": {
          "base_uri": "https://localhost:8080/"
        },
        "id": "YngEedLSNNFV",
        "outputId": "9d86e331-2e30-446f-8878-c648ed560bc0"
      },
      "source": [
        "carros_lista = []\n",
        "\n",
        "for carro_numero in range(20):\n",
        "  novo_carro = {'marca':'toyotta', 'modelo':'corolla', 'motor':2.5}\n",
        "  carros_lista.append(novo_carro)\n",
        "\n",
        "for carro in carros_lista:\n",
        "  print(carro)\n",
        "print(len(carros_lista))"
      ],
      "execution_count": 74,
      "outputs": [
        {
          "output_type": "stream",
          "text": [
            "{'marca': 'toyotta', 'modelo': 'corolla', 'motor': 2.5}\n",
            "{'marca': 'toyotta', 'modelo': 'corolla', 'motor': 2.5}\n",
            "{'marca': 'toyotta', 'modelo': 'corolla', 'motor': 2.5}\n",
            "{'marca': 'toyotta', 'modelo': 'corolla', 'motor': 2.5}\n",
            "{'marca': 'toyotta', 'modelo': 'corolla', 'motor': 2.5}\n",
            "{'marca': 'toyotta', 'modelo': 'corolla', 'motor': 2.5}\n",
            "{'marca': 'toyotta', 'modelo': 'corolla', 'motor': 2.5}\n",
            "{'marca': 'toyotta', 'modelo': 'corolla', 'motor': 2.5}\n",
            "{'marca': 'toyotta', 'modelo': 'corolla', 'motor': 2.5}\n",
            "{'marca': 'toyotta', 'modelo': 'corolla', 'motor': 2.5}\n",
            "{'marca': 'toyotta', 'modelo': 'corolla', 'motor': 2.5}\n",
            "{'marca': 'toyotta', 'modelo': 'corolla', 'motor': 2.5}\n",
            "{'marca': 'toyotta', 'modelo': 'corolla', 'motor': 2.5}\n",
            "{'marca': 'toyotta', 'modelo': 'corolla', 'motor': 2.5}\n",
            "{'marca': 'toyotta', 'modelo': 'corolla', 'motor': 2.5}\n",
            "{'marca': 'toyotta', 'modelo': 'corolla', 'motor': 2.5}\n",
            "{'marca': 'toyotta', 'modelo': 'corolla', 'motor': 2.5}\n",
            "{'marca': 'toyotta', 'modelo': 'corolla', 'motor': 2.5}\n",
            "{'marca': 'toyotta', 'modelo': 'corolla', 'motor': 2.5}\n",
            "{'marca': 'toyotta', 'modelo': 'corolla', 'motor': 2.5}\n",
            "20\n"
          ],
          "name": "stdout"
        }
      ]
    },
    {
      "cell_type": "code",
      "metadata": {
        "colab": {
          "base_uri": "https://localhost:8080/"
        },
        "id": "95h8GZP6RgJm",
        "outputId": "6ae62681-6466-4a9d-aa51-fcea9f790e72"
      },
      "source": [
        "carros_lista = []\n",
        "\n",
        "for carro_numero in range(20):\n",
        "  novo_carro = {'marca':'toyotta', 'modelo':'corolla', 'motor':2.5}\n",
        "  carros_lista.append(novo_carro)\n",
        "\n",
        "for carro in carros_lista[0:4]:\n",
        "  if carro['marca'] == 'toyotta':\n",
        "    carro['marca'] = 'honda'\n",
        "    carro['modelo'] = 'civic'\n",
        "    carro['motor'] = 2.0\n",
        "\n",
        "for carro in carros_lista:\n",
        "  print(carro)\n",
        "print(len(carros_lista))"
      ],
      "execution_count": 76,
      "outputs": [
        {
          "output_type": "stream",
          "text": [
            "{'marca': 'honda', 'modelo': 'civic', 'motor': 2.0}\n",
            "{'marca': 'honda', 'modelo': 'civic', 'motor': 2.0}\n",
            "{'marca': 'honda', 'modelo': 'civic', 'motor': 2.0}\n",
            "{'marca': 'honda', 'modelo': 'civic', 'motor': 2.0}\n",
            "{'marca': 'toyotta', 'modelo': 'corolla', 'motor': 2.5}\n",
            "{'marca': 'toyotta', 'modelo': 'corolla', 'motor': 2.5}\n",
            "{'marca': 'toyotta', 'modelo': 'corolla', 'motor': 2.5}\n",
            "{'marca': 'toyotta', 'modelo': 'corolla', 'motor': 2.5}\n",
            "{'marca': 'toyotta', 'modelo': 'corolla', 'motor': 2.5}\n",
            "{'marca': 'toyotta', 'modelo': 'corolla', 'motor': 2.5}\n",
            "{'marca': 'toyotta', 'modelo': 'corolla', 'motor': 2.5}\n",
            "{'marca': 'toyotta', 'modelo': 'corolla', 'motor': 2.5}\n",
            "{'marca': 'toyotta', 'modelo': 'corolla', 'motor': 2.5}\n",
            "{'marca': 'toyotta', 'modelo': 'corolla', 'motor': 2.5}\n",
            "{'marca': 'toyotta', 'modelo': 'corolla', 'motor': 2.5}\n",
            "{'marca': 'toyotta', 'modelo': 'corolla', 'motor': 2.5}\n",
            "{'marca': 'toyotta', 'modelo': 'corolla', 'motor': 2.5}\n",
            "{'marca': 'toyotta', 'modelo': 'corolla', 'motor': 2.5}\n",
            "{'marca': 'toyotta', 'modelo': 'corolla', 'motor': 2.5}\n",
            "{'marca': 'toyotta', 'modelo': 'corolla', 'motor': 2.5}\n",
            "20\n"
          ],
          "name": "stdout"
        }
      ]
    },
    {
      "cell_type": "markdown",
      "metadata": {
        "id": "6EI6of5mWJO0"
      },
      "source": [
        "Trabalhando com listas em dicionários"
      ]
    },
    {
      "cell_type": "code",
      "metadata": {
        "colab": {
          "base_uri": "https://localhost:8080/"
        },
        "id": "1SuX8x6TVff0",
        "outputId": "f507709e-5dfb-4d34-cc5e-047d880973c4"
      },
      "source": [
        "carro_01 = {'marca':'ford', \n",
        "            'modelo':'fusion', \n",
        "            'motor':2.0,\n",
        "            'opcionais': ['teto solar', 'bancos de couro', 'alarme', 'som']\n",
        "            }\n",
        "\n",
        "carro_01\n"
      ],
      "execution_count": 77,
      "outputs": [
        {
          "output_type": "execute_result",
          "data": {
            "text/plain": [
              "{'marca': 'ford',\n",
              " 'modelo': 'fusion',\n",
              " 'motor': 2.0,\n",
              " 'opcionais': ['teto solar', 'bancos de couro', 'alarme', 'som']}"
            ]
          },
          "metadata": {
            "tags": []
          },
          "execution_count": 77
        }
      ]
    },
    {
      "cell_type": "code",
      "metadata": {
        "colab": {
          "base_uri": "https://localhost:8080/"
        },
        "id": "1j-8H3ecWs5i",
        "outputId": "bb86174b-f21d-4a98-8f6a-5cafab51d955"
      },
      "source": [
        "carro_11 = {'marca':'ford', \n",
        "            'modelo':'fusion', \n",
        "            'motor':2.0,\n",
        "            'opcionais': ['teto solar', 'bancos de couro', 'alarme', 'som']\n",
        "            }\n",
        "\n",
        "print(f\"Seu carro {carro_11['marca'].title()}, {carro_11['modelo'].title()}, possui os seguintes opcionais:\\n\")\n",
        "for opcional in carro_11['opcionais']:\n",
        "  print(\"\\t - \" + opcional)"
      ],
      "execution_count": 84,
      "outputs": [
        {
          "output_type": "stream",
          "text": [
            "Seu carro Ford, Fusion, possui os seguintes opcionais:\n",
            "\n",
            "\t - teto solar\n",
            "\t - bancos de couro\n",
            "\t - alarme\n",
            "\t - som\n"
          ],
          "name": "stdout"
        }
      ]
    },
    {
      "cell_type": "code",
      "metadata": {
        "colab": {
          "base_uri": "https://localhost:8080/"
        },
        "id": "iaTGxsG8ZgS2",
        "outputId": "0e666935-d9e1-4abf-e204-f68564faff12"
      },
      "source": [
        "comidas_favoritas = {'alex':['churrasco', 'pizza', 'lanche'], 'fernanda':['macarrão'], 'ana silvia':['lanche', 'sushi'], 'ana livia':['pizza', 'sushi'], 'tom':['sushi']}\n",
        "                                                                                           \n",
        "for nome, comidas in comidas_favoritas.items():\n",
        "  if len(comidas) >= 2:\n",
        "    print(f\"\\n {nome.title()} gosta das seguintes comidas: \")\n",
        "  else:\n",
        "    print(f\"\\n {nome.title()} gosta das seguinte comida: \")\n",
        "  for comida in comidas:\n",
        "    print(f\"\\t {comida.title()}\")\n"
      ],
      "execution_count": 4,
      "outputs": [
        {
          "output_type": "stream",
          "text": [
            "\n",
            " Alex gosta das seguintes comidas: \n",
            "\t Churrasco\n",
            "\t Pizza\n",
            "\t Lanche\n",
            "\n",
            " Fernanda gosta das seguinte comida: \n",
            "\t Macarrão\n",
            "\n",
            " Ana Silvia gosta das seguintes comidas: \n",
            "\t Lanche\n",
            "\t Sushi\n",
            "\n",
            " Ana Livia gosta das seguintes comidas: \n",
            "\t Pizza\n",
            "\t Sushi\n",
            "\n",
            " Tom gosta das seguinte comida: \n",
            "\t Sushi\n"
          ],
          "name": "stdout"
        }
      ]
    },
    {
      "cell_type": "markdown",
      "metadata": {
        "id": "HgcfD2aiaNwp"
      },
      "source": [
        "Trabalhando com dicionario dentro de um dicionario"
      ]
    },
    {
      "cell_type": "code",
      "metadata": {
        "colab": {
          "base_uri": "https://localhost:8080/"
        },
        "id": "sDWQbQC_ZIfO",
        "outputId": "0ee2c754-b198-417c-fbe2-532446f8cd6a"
      },
      "source": [
        "pizzas = {\n",
        "          'portuguesa':{\n",
        "                        'base':'molho de tomate', \n",
        "                        'recheio':['cebola', 'ovo', 'ervilha', 'mussarela'], \n",
        "                        'massa':'fina com borda'\n",
        "                        },\n",
        "          'marguerita':{'base':'molho de tomate', \n",
        "                        'recheio':['mussarela', 'tomate', 'manjericão'], \n",
        "                        'massa':'fina'\n",
        "                        },\n",
        "          'mussarela':{\n",
        "                       'base':'molhe de tomate', \n",
        "                       'recheio':['mussarela'], \n",
        "                       'massa':'fina'\n",
        "                       }\n",
        "          }\n",
        "\n",
        "for pizza, detalhes_pizza in pizzas.items():\n",
        "  print(f\"\\n Pizza: {pizza.title()}\")\n",
        "  ingrediente = detalhes_pizza['recheio']\n",
        "  massa = detalhes_pizza['massa']\n",
        "\n",
        "  print(f'\\t Ingredientes: {ingrediente}, \\n\\t Massa: {massa}')\n"
      ],
      "execution_count": 15,
      "outputs": [
        {
          "output_type": "stream",
          "text": [
            "\n",
            " Pizza: Portuguesa\n",
            "\t Ingredientes: ['cebola', 'ovo', 'ervilha', 'mussarela'], \n",
            "\t Massa: fina com borda\n",
            "\n",
            " Pizza: Marguerita\n",
            "\t Ingredientes: ['mussarela', 'tomate', 'manjericão'], \n",
            "\t Massa: fina\n",
            "\n",
            " Pizza: Mussarela\n",
            "\t Ingredientes: ['mussarela'], \n",
            "\t Massa: fina\n"
          ],
          "name": "stdout"
        }
      ]
    },
    {
      "cell_type": "markdown",
      "metadata": {
        "id": "Io_jOl5kjdU6"
      },
      "source": [
        "Missão 17"
      ]
    },
    {
      "cell_type": "code",
      "metadata": {
        "colab": {
          "base_uri": "https://localhost:8080/"
        },
        "id": "2e9zM8sciQDZ",
        "outputId": "012a8633-20b4-4b7c-a516-c1d0579af410"
      },
      "source": [
        "#1. Crie três dicionários que contenham cidades diferentes com algumas características, como\n",
        "#cidade = {'nome': 'curitiba', 'ano_fundacao': '1932', 'estado': 'PR'} e os guarde em uma lista\n",
        "#chamada cidades. Itere sua lista de cidades com um laço de repetição. Mostre na tela todas as características da cidade.\n",
        "\n",
        "cidade_01 = {'nome':'araras', 'estado':'SP', 'pais':'brasil'}\n",
        "cidade_02 = {'nome':'belo horizonte', 'estado':'MG', 'pais':'brasil'}\n",
        "cidade_03 = {'nome':'Porto Alegre', 'estado':'RS', 'pais':'brasil'}\n",
        "\n",
        "cidades = [cidade_01, cidade_02, cidade_03]\n",
        "\n",
        "for cidade in cidades:\n",
        "  print(f\"\\nNome da cidade:   {cidade['nome'].title()}\")\n",
        "  print(f\"Estado da cidade: {cidade['estado']}\")\n",
        "  print(f\"País da cidade:   {cidade['pais'].title()}\")"
      ],
      "execution_count": 20,
      "outputs": [
        {
          "output_type": "stream",
          "text": [
            "\n",
            "Nome da cidade:   Araras\n",
            "Estado da cidade: SP\n",
            "País da cidade:   Brasil\n",
            "\n",
            "Nome da cidade:   Belo Horizonte\n",
            "Estado da cidade: MG\n",
            "País da cidade:   Brasil\n",
            "\n",
            "Nome da cidade:   Porto Alegre\n",
            "Estado da cidade: RS\n",
            "País da cidade:   Brasil\n"
          ],
          "name": "stdout"
        }
      ]
    },
    {
      "cell_type": "code",
      "metadata": {
        "colab": {
          "base_uri": "https://localhost:8080/"
        },
        "id": "eLeR3ooBlh1F",
        "outputId": "8538a20f-8296-420c-e96a-34d28178578b"
      },
      "source": [
        "#2. Crie vários dicionários, na qual cada possua uma chave nome, que receberá o nome de uma fruta. \n",
        "#Nestes dicionários inclua além do nome, a cor da fruta e o mês da estação. \n",
        "#Guarde esses dicionários numa lista chamada frutas. Itere essa lista com FOR e mostre na tela tudo que criou sobre as frutas.\n",
        "\n",
        "fruta_01 = {'nome':'laranja', 'cor':'laranja'}\n",
        "fruta_02 = {'nome':'limão taiti', 'cor':'verde'}\n",
        "fruta_03 = {'nome':'maça gala', 'cor':'vermelha'}\n",
        "\n",
        "frutas = [fruta_01, fruta_02, fruta_03]\n",
        "\n",
        "for fruta in frutas:\n",
        "  print(f\"\\nNome da fruta: {fruta['nome'].title()}\")\n",
        "  print(f\"Cor da fruta:  {fruta['cor']}\")"
      ],
      "execution_count": 22,
      "outputs": [
        {
          "output_type": "stream",
          "text": [
            "\n",
            "Nome da fruta: Laranja\n",
            "Cor da fruta:  laranja\n",
            "\n",
            "Nome da fruta: Limão Taiti\n",
            "Cor da fruta:  verde\n",
            "\n",
            "Nome da fruta: Maça Gala\n",
            "Cor da fruta:  vermelha\n"
          ],
          "name": "stdout"
        }
      ]
    },
    {
      "cell_type": "code",
      "metadata": {
        "colab": {
          "base_uri": "https://localhost:8080/"
        },
        "id": "ehHvk7l8nriP",
        "outputId": "0d86cfe7-0f00-4633-b87a-3e20a5966bf6"
      },
      "source": [
        "#3. Crie um dicionário chamado comidas_favoritas. Pense em nomes de amigos para \n",
        "#ser as chaves do dicionário e então guarde um ou duas comidas favoritas para \n",
        "#cada amigo. Itere esse dicionário e apresente o nome de cada pessoa e sua(s) comidas favoritas.\n",
        "\n",
        "comidas_favoritas = {'alex':['churrasco', 'pizza', 'lanche'], 'fernanda':['macarrão'], 'ana silvia':['lanche', 'sushi'], 'ana livia':['pizza', 'sushi'], 'tom':['sushi']}\n",
        "                                                                                           \n",
        "for nome, comidas in comidas_favoritas.items():\n",
        "  if len(comidas) >= 2:\n",
        "    print(f\"\\n {nome.title()} gosta das seguintes comidas: \")\n",
        "  else:\n",
        "    print(f\"\\n {nome.title()} gosta das seguinte comida: \")\n",
        "  for comida in comidas:\n",
        "    print(f\"\\t {comida.title()}\")\n"
      ],
      "execution_count": 23,
      "outputs": [
        {
          "output_type": "stream",
          "text": [
            "\n",
            " Alex gosta das seguintes comidas: \n",
            "\t Churrasco\n",
            "\t Pizza\n",
            "\t Lanche\n",
            "\n",
            " Fernanda gosta das seguinte comida: \n",
            "\t Macarrão\n",
            "\n",
            " Ana Silvia gosta das seguintes comidas: \n",
            "\t Lanche\n",
            "\t Sushi\n",
            "\n",
            " Ana Livia gosta das seguintes comidas: \n",
            "\t Pizza\n",
            "\t Sushi\n",
            "\n",
            " Tom gosta das seguinte comida: \n",
            "\t Sushi\n"
          ],
          "name": "stdout"
        }
      ]
    },
    {
      "cell_type": "code",
      "metadata": {
        "id": "0SsKmMjgoCcO"
      },
      "source": [
        ""
      ],
      "execution_count": null,
      "outputs": []
    }
  ]
}