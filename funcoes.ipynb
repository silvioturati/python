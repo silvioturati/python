{
  "nbformat": 4,
  "nbformat_minor": 0,
  "metadata": {
    "colab": {
      "name": "funcoes.ipynb",
      "provenance": [],
      "authorship_tag": "ABX9TyO/FBg+MebGh+7w9ITZl7dL",
      "include_colab_link": true
    },
    "kernelspec": {
      "name": "python3",
      "display_name": "Python 3"
    }
  },
  "cells": [
    {
      "cell_type": "markdown",
      "metadata": {
        "id": "view-in-github",
        "colab_type": "text"
      },
      "source": [
        "<a href=\"https://colab.research.google.com/github/silvioturati/python/blob/main/funcoes.ipynb\" target=\"_parent\"><img src=\"https://colab.research.google.com/assets/colab-badge.svg\" alt=\"Open In Colab\"/></a>"
      ]
    },
    {
      "cell_type": "code",
      "metadata": {
        "colab": {
          "base_uri": "https://localhost:8080/"
        },
        "id": "v-sWPYZIHE_v",
        "outputId": "c2baf549-3799-44ad-dbba-1807c4972363"
      },
      "source": [
        "#declarando uma função\n",
        "def funcao_mensagem():\n",
        "  \"\"\"Esse texto é doc da função e explica para que serve a função\"\"\"\n",
        "  print(\"\\nDeclarando funções em Python\")\n",
        "\n",
        "### está pronta a função.\n",
        "\n",
        "teste = input(\"Digite sim para ver o resultado da função\")\n",
        "if teste == \"sim\":\n",
        "  funcao_mensagem()"
      ],
      "execution_count": 4,
      "outputs": [
        {
          "output_type": "stream",
          "text": [
            "Digite sim para ver o resultado da funçãosim\n",
            "\n",
            "Declarando funções em Python\n"
          ],
          "name": "stdout"
        }
      ]
    },
    {
      "cell_type": "code",
      "metadata": {
        "colab": {
          "base_uri": "https://localhost:8080/"
        },
        "id": "FQyxuAKEJGJT",
        "outputId": "562a0a03-a259-4868-82c0-f9227948b645"
      },
      "source": [
        "#para saber oque uma função faz, isso é, ver o doc dela é só digitar\n",
        "print(funcao_mensagem.__doc__)"
      ],
      "execution_count": 6,
      "outputs": [
        {
          "output_type": "stream",
          "text": [
            "Esse texto é doc da função e explica para que serve a função\n"
          ],
          "name": "stdout"
        }
      ]
    },
    {
      "cell_type": "code",
      "metadata": {
        "colab": {
          "base_uri": "https://localhost:8080/"
        },
        "id": "TT2bCGwsJnCW",
        "outputId": "0d24b5f6-69fb-40ee-8b0b-705885e3bcbb"
      },
      "source": [
        "#esse jeito de saber a documentação da função se aplica a qualquer função do python\n",
        "#por exemplo\n",
        "print(range.__doc__) #aqui veremos a documentação da função range"
      ],
      "execution_count": 7,
      "outputs": [
        {
          "output_type": "stream",
          "text": [
            "range(stop) -> range object\n",
            "range(start, stop[, step]) -> range object\n",
            "\n",
            "Return an object that produces a sequence of integers from start (inclusive)\n",
            "to stop (exclusive) by step.  range(i, j) produces i, i+1, i+2, ..., j-1.\n",
            "start defaults to 0, and stop is omitted!  range(4) produces 0, 1, 2, 3.\n",
            "These are exactly the valid indices for a list of 4 elements.\n",
            "When step is given, it specifies the increment (or decrement).\n"
          ],
          "name": "stdout"
        }
      ]
    },
    {
      "cell_type": "code",
      "metadata": {
        "id": "kqu9qxuCKcg6"
      },
      "source": [
        " #dentro do parenteses você pode definir parametros\n",
        " def aviso_usuario(usuario):\n",
        "   \"\"\"Exibe um aviso ao usuário\"\"\"\n",
        "   print(f\"Aviso ao usuário {usuario.title()}!\")"
      ],
      "execution_count": 9,
      "outputs": []
    },
    {
      "cell_type": "code",
      "metadata": {
        "colab": {
          "base_uri": "https://localhost:8080/"
        },
        "id": "v1fCW51eLehN",
        "outputId": "8e81898b-5290-40a2-ee07-a3357035f224"
      },
      "source": [
        "aviso_usuario(\"Silvio\") #quando chamar a função passa-se o argumento no caso: silvio"
      ],
      "execution_count": 13,
      "outputs": [
        {
          "output_type": "stream",
          "text": [
            "Aviso ao usuário Silvio!\n"
          ],
          "name": "stdout"
        }
      ]
    },
    {
      "cell_type": "markdown",
      "metadata": {
        "id": "pj07rpKENuzg"
      },
      "source": [
        "Missão 21"
      ]
    },
    {
      "cell_type": "code",
      "metadata": {
        "colab": {
          "base_uri": "https://localhost:8080/"
        },
        "id": "WW5EGuguLkOz",
        "outputId": "16841da7-0317-4e33-e432-ed8fb2bafb12"
      },
      "source": [
        "#1. Escreva uma funcao mostra_mensagem() que exiba uma frase a todos o que você esta aprendendo neste vídeo. \n",
        "#Chame a função e tenha certeza que a mensagem realmente foi exibida.\n",
        "\n",
        "def mostra_mensagem(msg):\n",
        "    ''' exibir uma mensagem na tela'''\n",
        "    print('-'*150)\n",
        "    print(msg.center(150, '*'))\n",
        "    print('-'*150)\n",
        "\n",
        "\n",
        "mostra_mensagem(' Aprendendo Python 3 ')"
      ],
      "execution_count": 16,
      "outputs": [
        {
          "output_type": "stream",
          "text": [
            "------------------------------------------------------------------------------------------------------------------------------------------------------\n",
            "**************************************************************** Aprendendo Python 3 *****************************************************************\n",
            "------------------------------------------------------------------------------------------------------------------------------------------------------\n"
          ],
          "name": "stdout"
        }
      ]
    },
    {
      "cell_type": "code",
      "metadata": {
        "colab": {
          "base_uri": "https://localhost:8080/"
        },
        "id": "bysAJHpKNw-Y",
        "outputId": "3f8e83fa-4e5f-46b0-8f2a-f56d32323375"
      },
      "source": [
        "#2. Escreva uma função carro_favorito() que aceite um parâmetro modelo_carro. \n",
        "#A função tem que exibir a mensagem \"Um dos meus carros favoritos é Fusion. \" \n",
        "#Chame a função e não se esqueça de informar o modelo do carro como argumento na chamada função.\n",
        "\n",
        "def carro_favorito(modelo_carro):\n",
        "  \"\"\" exibe uma mensagem \n",
        "  carro_favorito('arg')\"\"\"\n",
        "  print(\"Um dos meus carros favoritos é \" + modelo_carro)\n",
        "\n",
        "\n",
        "carro_favorito(\"Ferrari\")"
      ],
      "execution_count": 17,
      "outputs": [
        {
          "output_type": "stream",
          "text": [
            "Um dos meus carros favoritos é Ferrari\n"
          ],
          "name": "stdout"
        }
      ]
    },
    {
      "cell_type": "markdown",
      "metadata": {
        "id": "x6YJM1Q1Pjnp"
      },
      "source": [
        "Criando funções com parametros para ARGUMENTOS POSICIONAIS"
      ]
    },
    {
      "cell_type": "code",
      "metadata": {
        "colab": {
          "base_uri": "https://localhost:8080/"
        },
        "id": "jvh_C3-DO4aR",
        "outputId": "cbb345a1-673f-49e7-963e-199012433847"
      },
      "source": [
        "#argumentos posicionais são argumentos passafos na mesma ordem dos paramentros\n",
        "#por exemplo de na função eu tenho os parametros (nome, idade), quando eu chamar a função terei que colocar os argumentos nessa ordem\n",
        "\n",
        "def detalhes_carros(marca, modelo):\n",
        "  \"\"\"Mostra informações sobre carros\"\"\"\n",
        "  print(f\"\\nEu tenho um {marca.title()}\")\n",
        "  print(f\"O modelo dele é {modelo.title()}\")\n",
        "\n",
        "detalhes_carros(\"ford\", \"fiesta\")"
      ],
      "execution_count": 21,
      "outputs": [
        {
          "output_type": "stream",
          "text": [
            "\n",
            "Eu tenho um Ford\n",
            "O modelo dele é Fiesta\n"
          ],
          "name": "stdout"
        }
      ]
    },
    {
      "cell_type": "code",
      "metadata": {
        "colab": {
          "base_uri": "https://localhost:8080/"
        },
        "id": "Pqs1L6s-Q7p9",
        "outputId": "9582bfad-5813-4969-de11-5b793fb90909"
      },
      "source": [
        "def detalhes_carros(marca, modelo, ano):\n",
        "  \"\"\"Mostra informações sobre carros\"\"\"\n",
        "  ### as informações no bloco de códigos podem estar em qualquer posição, só importa a ordem dos argumentos na chamada da função\n",
        "  print(f\"\\nEu tenho um {marca.title()}\")\n",
        "  print(f\"O modelo dele é {modelo.title()}\")\n",
        "  print(f\"O ano dele é {str(ano)}\")\n",
        "\n",
        "detalhes_carros(\"ford\", \"fiesta\", 1999)"
      ],
      "execution_count": 22,
      "outputs": [
        {
          "output_type": "stream",
          "text": [
            "\n",
            "Eu tenho um Ford\n",
            "O modelo dele é Fiesta\n",
            "O ano dele é 1999\n"
          ],
          "name": "stdout"
        }
      ]
    },
    {
      "cell_type": "markdown",
      "metadata": {
        "id": "Bzt-BR5GYnkC"
      },
      "source": [
        "Criando funções com parametros para ARGUMENTOS NOMEADOS (Keyword Arguments)"
      ]
    },
    {
      "cell_type": "code",
      "metadata": {
        "colab": {
          "base_uri": "https://localhost:8080/"
        },
        "id": "h8jaruuSRpX1",
        "outputId": "25d3da0e-cb4d-4ba6-cfe6-f157bb0d9953"
      },
      "source": [
        "### nesse tipo de função a ordem dos argumentos não importam\n",
        "\n",
        "def detalhes_carros2(marca, modelo):\n",
        "  \"\"\"Mostra informações passadas pelos argumentos\"\"\"\n",
        "  print(f\"\\nEu tenho um {marca.title()}\")\n",
        "  print(f\"O modelo dele é {modelo.title()}\")\n",
        "\n",
        "#ao chamar a função, você passa o argumento nomeado\n",
        "detalhes_carros2(modelo=\"fiesta\", marca=\"ford\") #passei ao contrario e o resultado foi certo\n"
      ],
      "execution_count": 24,
      "outputs": [
        {
          "output_type": "stream",
          "text": [
            "\n",
            "Eu tenho um Ford\n",
            "O modelo dele é Fiesta\n"
          ],
          "name": "stdout"
        }
      ]
    },
    {
      "cell_type": "markdown",
      "metadata": {
        "id": "DX8BFo1AYhy6"
      },
      "source": [
        "Criando funções com parametros DEFAULT"
      ]
    },
    {
      "cell_type": "code",
      "metadata": {
        "colab": {
          "base_uri": "https://localhost:8080/"
        },
        "id": "0KdLnGEOTMfB",
        "outputId": "689f15c2-712f-412a-da98-22c3438eb9d6"
      },
      "source": [
        "def detalhes_carros3(marca, modelo=\"corolla\"): #na declaração da função passei um valor default para o parametro modelo\n",
        "  \"\"\"Mostra informações passadas pelos argumentos\"\"\"\n",
        "  print(f\"\\nEu tenho um {marca.title()}\")\n",
        "  print(f\"O modelo dele é {modelo.title()}\")\n",
        "\n",
        "detalhes_carros3(marca=\"ford\") #não passei o argumento modelo e então o sistema assumiu o valor default declarado na função\n",
        "detalhes_carros3(marca=\"ford\", modelo=\"fiesta\") #e agora que passei o argumento ele esqueceu o default e assumiu o valor passado\n"
      ],
      "execution_count": 28,
      "outputs": [
        {
          "output_type": "stream",
          "text": [
            "\n",
            "Eu tenho um Ford\n",
            "O modelo dele é Corolla\n",
            "\n",
            "Eu tenho um Ford\n",
            "O modelo dele é Fiesta\n"
          ],
          "name": "stdout"
        }
      ]
    },
    {
      "cell_type": "markdown",
      "metadata": {
        "id": "nVOK1ptNa0xY"
      },
      "source": [
        "Missão 22"
      ]
    },
    {
      "cell_type": "code",
      "metadata": {
        "colab": {
          "base_uri": "https://localhost:8080/"
        },
        "id": "d-PZNc9OZA6M",
        "outputId": "08025de3-3846-4c0b-ab69-b4c5b9f8b2a0"
      },
      "source": [
        "#1. Escreva uma função com o nome fazer_pedido_refri() que aceite o sabor do refri e o tamanho. \n",
        "#A função deve exibir uma frase que diga o tamanho do refri e o sabor.\n",
        "#a. Chame a função usando argumentos posicionais.\n",
        "#b. Chame a função usando argumentos nomeados.\n",
        "\n",
        "def fazer_pedido_refri(sabor, tamanho):\n",
        "  \"\"\"Função para pedido do refri\"\"\"\n",
        "  print(f\"\\nO sabor do refrigerante escolhido foi {sabor.upper()} no tamnanho {tamanho.upper()}.\")\n",
        "  pedidos[sabor] = tamanho\n",
        "\n",
        "sabores = [\"coca-cola\", \"fanta\", \"fanta uva\", \"sprite\"]\n",
        "tamanhos = [\"300ml\", \"500ml\"]\n",
        "pedidos = {}\n",
        "rodando = True\n",
        "\n",
        "while rodando:\n",
        "  \n",
        "  while True: #laço do sabor\n",
        "    print(f\"\\nTemos os seguintes sabores de refrigerante: \")\n",
        "  \n",
        "    for sabor in sabores:\n",
        "      print(f\"{sabor.title()}\")\n",
        "  \n",
        "    sabor_digitado = input(\"Escolha o sabor do refrigerante: \")\n",
        "    sabor_escolhido = sabor_digitado.lower()\n",
        "  \n",
        "    if sabor_escolhido not in sabores:\n",
        "      print(\"Não temos esse sabor!\")\n",
        "      continue\n",
        "    else:\n",
        "      sabor = sabor_escolhido\n",
        "      break\n",
        "  \n",
        "  while True: #laço do tamanho\n",
        "    print(f\"\\nTemos os seguintes tamanhos de refrigerante: \")\n",
        "  \n",
        "    for tamanho in tamanhos:\n",
        "      print(f\"{tamanho}\")\n",
        "  \n",
        "    tam_digitado = input(\"Escolha o tamanho do refrigerante: \")\n",
        "    tam_escolhido = tam_digitado.lower()\n",
        "  \n",
        "    if tam_escolhido not in tamanhos:\n",
        "      print(\"Não temos esse tamanho!\")\n",
        "      continue\n",
        "    else:\n",
        "      tamanho = tam_escolhido\n",
        "      break\n",
        "  \n",
        "  fazer_pedido_refri(sabor, tamanho)\n",
        "\n",
        "  while True: #laço do rodando\n",
        "    continua = input(\"Quer fazer outro pedido? (sim ou não): \")\n",
        "    teste_continua = continua.lower()\n",
        "    if teste_continua == \"sim\":\n",
        "      break\n",
        "    elif teste_continua == \"não\":\n",
        "      rodando = False\n",
        "      print(\"\\nOs pedidos de hoje foram: \")\n",
        "      print(pedidos)\n",
        "      break \n",
        "    else:\n",
        "      print(\"Erro! Você precisa digitar sim ou não\")\n",
        "      continue"
      ],
      "execution_count": 42,
      "outputs": [
        {
          "output_type": "stream",
          "text": [
            "\n",
            "Temos os seguintes sabores de refrigerante: \n",
            "Coca-Cola\n",
            "Fanta\n",
            "Fanta Uva\n",
            "Sprite\n",
            "Escolha o sabor do refrigerante: coca-cola\n",
            "\n",
            "Temos os seguintes tamanhos de refrigerante: \n",
            "300ml\n",
            "500ml\n",
            "Escolha o tamanho do refrigerante: 300ml\n",
            "\n",
            "O sabor do refrigerante escolhido foi COCA-COLA no tamnanho 300ML.\n",
            "Quer fazer outro pedido? (sim ou não): sin\n",
            "Erro! Você precisa digitar sim ou não\n",
            "Quer fazer outro pedido? (sim ou não): sim\n",
            "\n",
            "Temos os seguintes sabores de refrigerante: \n",
            "Coca-Cola\n",
            "Fanta\n",
            "Fanta Uva\n",
            "Sprite\n",
            "Escolha o sabor do refrigerante: sprite\n",
            "\n",
            "Temos os seguintes tamanhos de refrigerante: \n",
            "300ml\n",
            "500ml\n",
            "Escolha o tamanho do refrigerante: 1000\n",
            "Não temos esse tamanho!\n",
            "\n",
            "Temos os seguintes tamanhos de refrigerante: \n",
            "300ml\n",
            "500ml\n",
            "Escolha o tamanho do refrigerante: 500ml\n",
            "\n",
            "O sabor do refrigerante escolhido foi SPRITE no tamnanho 500ML.\n",
            "Quer fazer outro pedido? (sim ou não): fanta\n",
            "Erro! Você precisa digitar sim ou não\n",
            "Quer fazer outro pedido? (sim ou não): 300ml\n",
            "Erro! Você precisa digitar sim ou não\n",
            "Quer fazer outro pedido? (sim ou não): não\n",
            "\n",
            "Os pedidos de hoje foram: \n",
            "{'coca-cola': '300ml', 'sprite': '500ml'}\n"
          ],
          "name": "stdout"
        }
      ]
    },
    {
      "cell_type": "code",
      "metadata": {
        "colab": {
          "base_uri": "https://localhost:8080/"
        },
        "id": "qdNgZMHNiiT5",
        "outputId": "9fee1e9c-8a6d-4288-dde9-9614c5346aae"
      },
      "source": [
        "#2. Modifique a função fazer_pedido_refri() de modo que o tamanho seja sempre pequeno por ‘default’ (padrão) e o sabor seja por default ‘Laranja’.\n",
        "#a. Chame a função e crie um refri médio e grande com a mesma mensagem default\n",
        "#b. Chame a função e crie um refri com o tamanho default com o sabor diferente\n",
        "\n",
        "def fazer_pedido_refri(sabor='coca-cola', tamanho='300ml'):\n",
        "  \"\"\"Função para pedido do refri\"\"\"\n",
        "  print(f\"\\nO sabor do refrigerante escolhido foi {sabor.upper()} no tamnanho {tamanho.upper()}.\")\n",
        "  pedidos[sabor] = tamanho\n",
        "\n",
        "sabores = [\"coca-cola\", \"fanta\", \"fanta uva\", \"sprite\"]\n",
        "tamanhos = [\"300ml\", \"500ml\"]\n",
        "pedidos = {}\n",
        "rodando = True\n",
        "\n",
        "while rodando:\n",
        "  \n",
        "  while True: #laço do sabor\n",
        "    print(f\"\\nTemos os seguintes sabores de refrigerante: \")\n",
        "  \n",
        "    for cada_sabor in sabores:\n",
        "      print(f\"{cada_sabor.title()}\")\n",
        "  \n",
        "    sabor_digitado = input(\"Escolha o sabor do refrigerante: \")\n",
        "    sabor_escolhido = sabor_digitado.lower()\n",
        "  \n",
        "    if sabor_escolhido == \"\":\n",
        "      break\n",
        "    elif sabor_escolhido not in sabores:\n",
        "      print(\"Não temos esse sabor!\")\n",
        "      continue\n",
        "    else:\n",
        "      sabor = sabor_escolhido\n",
        "      break\n",
        "  \n",
        "  while True: #laço do tamanho\n",
        "    print(f\"\\nTemos os seguintes tamanhos de refrigerante: \")\n",
        "  \n",
        "    for cada_tamanho in tamanhos:\n",
        "      print(f\"{cada_tamanho}\")\n",
        "  \n",
        "    tam_digitado = input(\"Escolha o tamanho do refrigerante: \")\n",
        "    tam_escolhido = tam_digitado.lower()\n",
        "  \n",
        "    if tam_escolhido == \"\":\n",
        "      break\n",
        "    elif tam_escolhido not in tamanhos:\n",
        "      print(\"Não temos esse tamanho!\")\n",
        "      continue\n",
        "    else:\n",
        "      tamanho = tam_escolhido\n",
        "      break\n",
        "  \n",
        "  fazer_pedido_refri(sabor, tamanho)\n",
        "\n",
        "  while True: #laço do rodando\n",
        "    continua = input(\"Quer fazer outro pedido? (sim ou não): \")\n",
        "    teste_continua = continua.lower()\n",
        "    if teste_continua == \"sim\":\n",
        "      break\n",
        "    elif teste_continua == \"não\":\n",
        "      rodando = False\n",
        "      print(\"\\nOs pedidos de hoje foram: \")\n",
        "      print(pedidos)\n",
        "      break \n",
        "    else:\n",
        "      print(\"Erro! Você precisa digitar sim ou não\")\n",
        "      continue"
      ],
      "execution_count": 57,
      "outputs": [
        {
          "output_type": "stream",
          "text": [
            "\n",
            "Temos os seguintes sabores de refrigerante: \n",
            "Coca-Cola\n",
            "Fanta\n",
            "Fanta Uva\n",
            "Sprite\n",
            "Escolha o sabor do refrigerante: \n",
            "\n",
            "Temos os seguintes tamanhos de refrigerante: \n",
            "300ml\n",
            "500ml\n",
            "Escolha o tamanho do refrigerante: \n",
            "\n",
            "O sabor do refrigerante escolhido foi  no tamnanho 300ML.\n",
            "Quer fazer outro pedido? (sim ou não): não\n",
            "\n",
            "Os pedidos de hoje foram: \n",
            "{'': '300ml'}\n"
          ],
          "name": "stdout"
        }
      ]
    },
    {
      "cell_type": "code",
      "metadata": {
        "colab": {
          "base_uri": "https://localhost:8080/"
        },
        "id": "aE8Av54-lFrK",
        "outputId": "bd89eab8-4e77-426d-ece3-2d2d362ce8c0"
      },
      "source": [
        "#3. Crie uma função chamada detalhes_pizza() que aceite o nome de um ingrediente qualquer e o nome do sabor. \n",
        "#A função deve mostrar uma frase, tipo: ‘Cebola é um ingrediente fundamental da pizza portuguesa’. \n",
        "#Insira um valor default para o parâmetro sabor. \n",
        "#Chame a função para três ingredientes diferentes em que pelo menos uma delas não esteja no sabor default.\n",
        "\n",
        "def detalhes_pizza(ingrediente, sabor='portuguesa'):\n",
        "    \"\"\"\n",
        "    Função detalhes_pizza com entrada de ingrediente qualquer, nome \n",
        "    do sabor default. A função deve mostrar a frase, O ingrediente \n",
        "    {ingrediente} é fundamental da pizza {sabor}.\n",
        "    \"\"\"\n",
        "    print(f'\\nO sabor da padrão da pizza é {sabor.upper()}')\n",
        "    \n",
        "    if ingrediente == 'cebola':\n",
        "        print(f'{ingrediente.upper()} é um ingrediente fundamental da pizza {sabor.upper()}!')\n",
        "    elif ingrediente == 'tomate':\n",
        "        print(f'{ingrediente.upper()} é um ingrediente fundamental da pizza {sabor.upper()}!')\n",
        "    elif ingrediente == 'ovo':\n",
        "        print(f'{ingrediente.upper()} é um ingrediente fundamental da pizza {sabor.upper()}!')\n",
        "    elif ingrediente == 'calabresa':\n",
        "        print(f'{ingrediente.upper()} é um ingrediente fundamental da pizza {sabor.upper()}!')\n",
        "    elif ingrediente == 'presunto':\n",
        "        print(f'{ingrediente.upper()} é um ingrediente fundamental da pizza {sabor.upper()}!')\n",
        "    elif ingrediente == 'queijo':\n",
        "        print(f'{ingrediente.upper()} é um ingrediente fundamental da pizza {sabor.upper()}!')\n",
        "    else:\n",
        "        print(f'O ingrediente {ingrediente.upper()} não faz parte da pizza {sabor.upper()}!')\n",
        "       \n",
        "ingrediente= input(\"Incluir ingrediente na pizza.\").lower()\n",
        "print(detalhes_pizza(ingrediente))\n"
      ],
      "execution_count": 58,
      "outputs": [
        {
          "output_type": "stream",
          "text": [
            "Incluir ingrediente na pizza.queijo\n",
            "\n",
            "O sabor da padrão da pizza é PORTUGUESA\n",
            "QUEIJO é um ingrediente fundamental da pizza PORTUGUESA!\n",
            "None\n"
          ],
          "name": "stdout"
        }
      ]
    },
    {
      "cell_type": "markdown",
      "metadata": {
        "id": "xy3lYhOb7DmE"
      },
      "source": [
        "Retornando valores na função"
      ]
    },
    {
      "cell_type": "code",
      "metadata": {
        "colab": {
          "base_uri": "https://localhost:8080/"
        },
        "id": "ZYyqaXGVsJAW",
        "outputId": "a94a015e-52b8-430f-e405-662cdab089eb"
      },
      "source": [
        "def marca_modelo_carro(marca, modelo):\n",
        "  \"\"\"Devolve a marca e modelo do carro numa variavel\"\"\"\n",
        "  marca_modelo = f\"{marca.title()} {modelo.title()}\"\n",
        "  return marca_modelo.title() #retornando o valor que está dentro da variavel marca_modelo\n",
        "\n",
        "carro = marca_modelo_carro(\"ford\", \"fiesta\") #pode guardar numa variavel\n",
        "print(carro)\n",
        "\n",
        "print(marca_modelo_carro(\"Toyotta\", \"Corolla\")) ##pode chamar dentro do print direto"
      ],
      "execution_count": 65,
      "outputs": [
        {
          "output_type": "stream",
          "text": [
            "Ford Fiesta\n",
            "Toyotta Corolla\n"
          ],
          "name": "stdout"
        }
      ]
    },
    {
      "cell_type": "code",
      "metadata": {
        "colab": {
          "base_uri": "https://localhost:8080/"
        },
        "id": "M4V-Ijks6bpB",
        "outputId": "dae94ccc-732a-423d-af7b-64b43f628016"
      },
      "source": [
        "def marca_modelo_carro(marca, modelo, ano=''): ## deixando o ano como DEFAUT vazio o ano se torna opcional\n",
        "  \"\"\"Devolve a marca e modelo do carro numa variavel\"\"\"\n",
        "  if ano:\n",
        "    marca_modelo_ano = f\"{marca.title()} {modelo.title()} {str(ano)}\"\n",
        "  else:\n",
        "    marca_modelo_ano = f\"{marca.title()} {modelo.title()}\"\n",
        "  return marca_modelo_ano.title()\n",
        "\n",
        "carro = marca_modelo_carro(\"ford\", \"fiesta\", 1995)\n",
        "print(carro)\n",
        "\n",
        "print(marca_modelo_carro(\"ford\", \"fusion\"))"
      ],
      "execution_count": 72,
      "outputs": [
        {
          "output_type": "stream",
          "text": [
            "Ford Fiesta 1995\n",
            "Ford Fusion\n"
          ],
          "name": "stdout"
        }
      ]
    },
    {
      "cell_type": "code",
      "metadata": {
        "colab": {
          "base_uri": "https://localhost:8080/"
        },
        "id": "Kng2ogFV7TEw",
        "outputId": "35af5643-ca4f-4ea5-cf81-50d8afd18d92"
      },
      "source": [
        "def faz_carro(marca, modelo, ano): \n",
        "  \"\"\"Devolve um dicionario com informações sobre a marca e modelo do carro\"\"\"\n",
        "  carros = {\n",
        "            'marca_carro':marca,\n",
        "            'modelo_carro':modelo,\n",
        "            'ano_carro':ano\n",
        "          }\n",
        "\n",
        "  return carros\n",
        "\n",
        "veiculo = faz_carro(\"ford\", \"eco sport\", 2000)\n",
        "print(veiculo)"
      ],
      "execution_count": 76,
      "outputs": [
        {
          "output_type": "stream",
          "text": [
            "{'marca_carro': 'ford', 'modelo_carro': 'eco sport', 'ano_carro': 2000}\n"
          ],
          "name": "stdout"
        }
      ]
    },
    {
      "cell_type": "code",
      "metadata": {
        "colab": {
          "base_uri": "https://localhost:8080/"
        },
        "id": "DyWPcJz-9fdW",
        "outputId": "f555053e-4ace-4422-cf39-3fe0353b400a"
      },
      "source": [
        "def faz_carro(marca, modelo, ano, motor=''): \n",
        "  \"\"\"Devolve um dicionario com informações sobre a marca e modelo do carro\"\"\"\n",
        "  carros = {\n",
        "            'marca_carro':marca,\n",
        "            'modelo_carro':modelo,\n",
        "            'ano_carro':ano\n",
        "          }\n",
        "\n",
        "  if motor:\n",
        "    carros['motor_carro'] = motor\n",
        "\n",
        "  return carros\n",
        "\n",
        "veiculo = faz_carro(\"ford\", \"eco sport\", 2000)\n",
        "print(veiculo)\n",
        "\n",
        "veiculo = faz_carro(\"ford\", \"eco sport\", 2000, 1.5)\n",
        "print(veiculo)"
      ],
      "execution_count": 80,
      "outputs": [
        {
          "output_type": "stream",
          "text": [
            "{'marca_carro': 'ford', 'modelo_carro': 'eco sport', 'ano_carro': 2000}\n",
            "{'marca_carro': 'ford', 'modelo_carro': 'eco sport', 'ano_carro': 2000, 'motor_carro': 1.5}\n"
          ],
          "name": "stdout"
        }
      ]
    },
    {
      "cell_type": "code",
      "metadata": {
        "colab": {
          "base_uri": "https://localhost:8080/"
        },
        "id": "YZ2YJ9yS-U16",
        "outputId": "367572f4-52b8-4d18-b2a1-c4ab0abeb61e"
      },
      "source": [
        "def detail_car(marca, modelo):\n",
        "  \"\"\"Devolve detalhes do carro\"\"\"\n",
        "  carro_info = f\"{marca} {modelo}\"\n",
        "  return carro_info.title()\n",
        "\n",
        "\n",
        "while True:\n",
        "  print(\"\\nInsira os detalhes do carro: \")\n",
        "  print(\"\\nDigite 's' para sair.\")\n",
        "  marca_carro = input(\"Marca carro: \")\n",
        "  if marca_carro.lower() == 's':\n",
        "    break\n",
        "  modelo_carro = input(\"Modelo carro: \")\n",
        "  \n",
        "  informacoes = detail_car(marca_carro, modelo_carro)\n",
        "\n",
        "  print(f\"\\nO Carro informado foi {informacoes}.\")"
      ],
      "execution_count": 83,
      "outputs": [
        {
          "output_type": "stream",
          "text": [
            "\n",
            "Insira os detalhes do carro: \n",
            "\n",
            "Digite 's' para sair.\n",
            "Marca carro: S\n"
          ],
          "name": "stdout"
        }
      ]
    },
    {
      "cell_type": "markdown",
      "metadata": {
        "id": "AXi1pG2CGSWJ"
      },
      "source": [
        "Missao 23"
      ]
    },
    {
      "cell_type": "code",
      "metadata": {
        "colab": {
          "base_uri": "https://localhost:8080/"
        },
        "id": "0oJeOWT2EGu5",
        "outputId": "f501fec4-2529-45bc-bf28-c3a22981ca98"
      },
      "source": [
        "#1. Escreva uma função chamada nome_completo() que aceite primeiro e último nome. \n",
        "#A função deve mostrar uma string dessa forma: ‘Santos, Jefferson; (sobrenome, virgula, primeiro nome). \n",
        "#Chame sua função três vezes com nomes diferentes.\n",
        "\n",
        "def nome_completo(sobrenome, nome):\n",
        "  \"\"\"Função para retonrar Sobrenome, Nome\"\"\"\n",
        "  sobrenome_nome = f\"{sobrenome}, {nome}\"\n",
        "\n",
        "  return sobrenome_nome.title()\n",
        "\n",
        "while True:\n",
        "  print(\"\\nFornceça as infomrações abaixo. Digite 's' para sair\")\n",
        "  sobrenome = input(f\"Digite seu sobrenome: \")\n",
        "  if sobrenome.lower() == 's':\n",
        "    break\n",
        "  nome = input(f\"Digite seu nome: \")\n",
        "\n",
        "  nome_completo = nome_completo(sobrenome, nome)\n",
        "\n",
        "  print(f\"\\nNome digitado foi {nome_completo}\")\n",
        "\n"
      ],
      "execution_count": 88,
      "outputs": [
        {
          "output_type": "stream",
          "text": [
            "\n",
            "Fornceça as infomrações abaixo. Digite 's' para sair\n",
            "Digite seu sobrenome: turati\n",
            "Digite seu nome: silvio\n",
            "\n",
            "Nome digitado foi Turati, Silvio\n",
            "\n",
            "Fornceça as infomrações abaixo. Digite 's' para sair\n",
            "Digite seu sobrenome: s\n"
          ],
          "name": "stdout"
        }
      ]
    },
    {
      "cell_type": "code",
      "metadata": {
        "colab": {
          "base_uri": "https://localhost:8080/"
        },
        "id": "T3NNoM1AHwlQ",
        "outputId": "e2347bc1-3d87-4f15-dbdb-7df639b6a95f"
      },
      "source": [
        "#2.Crie a função info_livro() que constrói um dicionário de um livro e seus dados. \n",
        "#A função deve aceitar o nome do autor, título do livro e deve devolver um dicionário contendo essas duas informações. \n",
        "#Use a função para criar três dicionários que representam três diferentes livros. \n",
        "#Mostre cada valor para comprovar que os dicionários estão sendo construídos corretamente.\n",
        "\n",
        "def info_livro(autor, titulo):\n",
        "  \"\"\"A função cria dicionários para livros\"\"\"\n",
        "\n",
        "  biblioteca[titulo] = autor\n",
        "  \n",
        "  return biblioteca\n",
        "\n",
        "biblioteca = {}\n",
        "while True:\n",
        "  print(\"\\nFornceça as infomrações abaixo. Digite 's' para sair\")\n",
        "  titulo = input(f\"Digite o nome do livro: \")\n",
        "  if titulo.lower() == 's':\n",
        "    break\n",
        "  autor = input(f\"Digite o nome do autor: \")\n",
        "\n",
        "  livro = info_livro(autor, titulo)\n",
        "\n",
        "  print(f\"\\nSua biblioteca contém os livros: {livro}\")\n",
        "\n"
      ],
      "execution_count": 89,
      "outputs": [
        {
          "output_type": "stream",
          "text": [
            "\n",
            "Fornceça as infomrações abaixo. Digite 's' para sair\n",
            "Digite o nome do livro: pescador\n",
            "Digite o nome do autor: peixe\n",
            "\n",
            "Sua biblioteca contém os livros: {'pescador': 'peixe'}\n",
            "\n",
            "Fornceça as infomrações abaixo. Digite 's' para sair\n",
            "Digite o nome do livro: cavaleiro\n",
            "Digite o nome do autor: cavalo\n",
            "\n",
            "Sua biblioteca contém os livros: {'pescador': 'peixe', 'cavaleiro': 'cavalo'}\n",
            "\n",
            "Fornceça as infomrações abaixo. Digite 's' para sair\n",
            "Digite o nome do livro: Passarinheiro\n",
            "Digite o nome do autor: passaro\n",
            "\n",
            "Sua biblioteca contém os livros: {'pescador': 'peixe', 'cavaleiro': 'cavalo', 'Passarinheiro': 'passaro'}\n",
            "\n",
            "Fornceça as infomrações abaixo. Digite 's' para sair\n",
            "Digite o nome do livro: s\n"
          ],
          "name": "stdout"
        }
      ]
    },
    {
      "cell_type": "code",
      "metadata": {
        "colab": {
          "base_uri": "https://localhost:8080/"
        },
        "id": "2E6KG-fCKZZ8",
        "outputId": "a5c9728e-b771-4f65-9ab1-d5732da570d4"
      },
      "source": [
        "#3. Adicione um parâmetro opcional em info_livro() que seria o nome da editora. \n",
        "#Se na função for passado o argumento nome_editora, adicione ao dicionário do livro. \n",
        "#Faça uma chamada pelo menos adicionando o nome da editora.\n",
        "\n",
        "def info_livro(autor, titulo, editora=\"\"):\n",
        "  \"\"\"A função cria dicionários para livros\"\"\"\n",
        "\n",
        "  biblioteca[titulo] = [autor]\n",
        "  if editora:\n",
        "    lista = []\n",
        "    for info in biblioteca.values():\n",
        "      lista = info\n",
        "    lista.append(editora)\n",
        "    biblioteca[titulo] = lista\n",
        "  return biblioteca\n",
        "\n",
        "biblioteca = {}\n",
        "while True:\n",
        "  print(\"\\nFornceça as infomrações abaixo. Digite 's' para sair\")\n",
        "  \n",
        "  titulo = input(f\"Digite o nome do livro: \")\n",
        "  if titulo.lower() == 's':\n",
        "    break\n",
        "  \n",
        "  autor = input(f\"Digite o nome do autor: \")\n",
        "  editora = input(f\"Digite a editora (opcional): \")\n",
        "\n",
        "  livro = info_livro(autor, titulo, editora)\n",
        "\n",
        "  print(f\"\\nSua biblioteca contém os livros: {livro}\")\n"
      ],
      "execution_count": 95,
      "outputs": [
        {
          "output_type": "stream",
          "text": [
            "\n",
            "Fornceça as infomrações abaixo. Digite 's' para sair\n",
            "Digite o nome do livro: pescador\n",
            "Digite o nome do autor: peixe\n",
            "Digite a editora (opcional): \n",
            "\n",
            "Sua biblioteca contém os livros: {'pescador': ['peixe']}\n",
            "\n",
            "Fornceça as infomrações abaixo. Digite 's' para sair\n",
            "Digite o nome do livro: cavaleiro\n",
            "Digite o nome do autor: cavalo\n",
            "Digite a editora (opcional): curral\n",
            "\n",
            "Sua biblioteca contém os livros: {'pescador': ['peixe'], 'cavaleiro': ['cavalo', 'curral']}\n",
            "\n",
            "Fornceça as infomrações abaixo. Digite 's' para sair\n",
            "Digite o nome do livro: passarinheiro\n",
            "Digite o nome do autor: passaro\n",
            "Digite a editora (opcional): gaiola\n",
            "\n",
            "Sua biblioteca contém os livros: {'pescador': ['peixe'], 'cavaleiro': ['cavalo', 'curral'], 'passarinheiro': ['passaro', 'gaiola']}\n",
            "\n",
            "Fornceça as infomrações abaixo. Digite 's' para sair\n",
            "Digite o nome do livro: s\n"
          ],
          "name": "stdout"
        }
      ]
    },
    {
      "cell_type": "code",
      "metadata": {
        "colab": {
          "base_uri": "https://localhost:8080/"
        },
        "id": "KBGRn9udLi_9",
        "outputId": "61b12b75-bd85-4240-f0ea-c0ee4c06bb11"
      },
      "source": [
        "#4. Usando a função anterior, escreva um laço WHILE que deixe o usuário informar o nome do livro, autor e da editora. \n",
        "#Depois que receber as informações do usuário, chame a função info_livro() com as entradas do usuário e mostre o dicionário criado. \n",
        "#Inclua um valor de saída no laco WHILE.\n",
        "\n",
        "def info_livro(autor, titulo, editora=\"\"):\n",
        "  \"\"\"A função cria dicionários para livros\"\"\"\n",
        "\n",
        "  biblioteca[titulo] = [autor]\n",
        "  if editora:\n",
        "    lista = []\n",
        "    for info in biblioteca.values():\n",
        "      lista = info\n",
        "    lista.append(editora)\n",
        "    biblioteca[titulo] = lista\n",
        "  return biblioteca\n",
        "\n",
        "biblioteca = {}\n",
        "while True:\n",
        "  print(\"\\nFornceça as infomrações abaixo. Digite 's' para sair\")\n",
        "  \n",
        "  titulo = input(f\"Digite o nome do livro: \")\n",
        "  if titulo.lower() == 's':\n",
        "    break\n",
        "  \n",
        "  autor = input(f\"Digite o nome do autor: \")\n",
        "  editora = input(f\"Digite a editora (opcional): \")\n",
        "\n",
        "  livro = info_livro(autor, titulo, editora)\n",
        "\n",
        "  print(f\"\\nSua biblioteca contém os livros: {livro}\")\n"
      ],
      "execution_count": 96,
      "outputs": [
        {
          "output_type": "stream",
          "text": [
            "\n",
            "Fornceça as infomrações abaixo. Digite 's' para sair\n",
            "Digite o nome do livro: Sete Léguas Submarinas\n",
            "Digite o nome do autor: Julio Verne\n",
            "Digite a editora (opcional): editora antiga\n",
            "\n",
            "Sua biblioteca contém os livros: {'Sete Léguas Submarinas': ['Julio Verne', 'editora antiga']}\n",
            "\n",
            "Fornceça as infomrações abaixo. Digite 's' para sair\n",
            "Digite o nome do livro: Inferno\n",
            "Digite o nome do autor: Dan Bronw\n",
            "Digite a editora (opcional): editora nova\n",
            "\n",
            "Sua biblioteca contém os livros: {'Sete Léguas Submarinas': ['Julio Verne', 'editora antiga'], 'Inferno': ['Dan Bronw', 'editora nova']}\n",
            "\n",
            "Fornceça as infomrações abaixo. Digite 's' para sair\n",
            "Digite o nome do livro: s\n"
          ],
          "name": "stdout"
        }
      ]
    },
    {
      "cell_type": "markdown",
      "metadata": {
        "id": "m5uIbYWTO7Fo"
      },
      "source": [
        "Trabalhando com lista e funções"
      ]
    },
    {
      "cell_type": "code",
      "metadata": {
        "colab": {
          "base_uri": "https://localhost:8080/"
        },
        "id": "QgqqnDpHOkHV",
        "outputId": "8644c8f8-1cf4-448a-fbf0-bdc03f2eebf7"
      },
      "source": [
        "def saudacao_usuarios(nomes):\n",
        "  \"\"\"Exibe saudação para cada usuário da lista\"\"\"\n",
        "\n",
        "  for nome in nomes:\n",
        "    mensagem = f\"Olá, {nome.title()}!\"\n",
        "    print(mensagem)\n",
        "\n",
        "usuarios = [\"silvio\", \"maria\", \"pedro\"]\n",
        "\n",
        "saudacao_usuarios(usuarios)"
      ],
      "execution_count": 99,
      "outputs": [
        {
          "output_type": "stream",
          "text": [
            "Olá, Silvio!\n",
            "Olá, Maria!\n",
            "Olá, Pedro!\n"
          ],
          "name": "stdout"
        }
      ]
    },
    {
      "cell_type": "code",
      "metadata": {
        "colab": {
          "base_uri": "https://localhost:8080/"
        },
        "id": "AamKaZwSPh74",
        "outputId": "9f9d5249-ca24-47df-c5e2-b42508a33cae"
      },
      "source": [
        "#Comeca com algumas nao produzidas\n",
        "camisa_nao_produzidas = [\"azul M\", \"preta G\", \"amarela P\"]\n",
        "produzidas = []\n",
        "\n",
        "#simular a producao, transferindo não produzidas para produzidas\n",
        "while camisa_nao_produzidas:\n",
        "  camisa_atual = camisa_nao_produzidas.pop()\n",
        "\n",
        "  #simula a criação de uma camisa\n",
        "  print(f\"Produzindo camiseta {camisa_atual}\")\n",
        "  produzidas.append(camisa_atual)\n",
        "\n",
        "#mostra todas as camisetas produzidas\n",
        "print(f\"\\nAs seguintes camisas foram produzidas: \")\n",
        "for produzida in produzidas:\n",
        "  print(produzida)\n"
      ],
      "execution_count": 100,
      "outputs": [
        {
          "output_type": "stream",
          "text": [
            "Produzindo camiseta amarela P\n",
            "Produzindo camiseta preta G\n",
            "Produzindo camiseta azul M\n",
            "\n",
            "As seguintes camisas foram produzidas: \n",
            "amarela P\n",
            "preta G\n",
            "azul M\n"
          ],
          "name": "stdout"
        }
      ]
    },
    {
      "cell_type": "code",
      "metadata": {
        "colab": {
          "base_uri": "https://localhost:8080/"
        },
        "id": "m7P9eN3ZRM4c",
        "outputId": "7542b364-7ab6-42f6-bcf2-d007b5bec7b5"
      },
      "source": [
        "#utilizando funções no código acima\n",
        "\n",
        "#declarando a primeira função\n",
        "def produz_camisas(camisa_nao_produzidas, produzidas):\n",
        "  \"\"\"\n",
        "  Simula a produção de camisas até que a lista de produção esteja vazia\n",
        "  Transfere cada camisa produzida para lista de estoque apos a produção\n",
        "  \"\"\"\n",
        "  while camisa_nao_produzidas:\n",
        "    camisa_atual = camisa_nao_produzidas.pop()\n",
        "    print(f\"Produzindo camisa {camisa_atual}\")\n",
        "    produzidas.append(camisa_atual)\n",
        "\n",
        "#declarando a segunda função\n",
        "def mostra_camisas_produzidas(produzidas):\n",
        "  \"\"\"Mostra as camisas produzidas\"\"\"\n",
        "  print(f\"\\nAs seguintes camisas foram produzidas: \")\n",
        "  for produzida in produzidas:\n",
        "    print(produzida)\n",
        "\n",
        "#programa principal\n",
        "camisa_nao_produzidas = [\"azul M\", \"preta G\", \"amarela P\"]\n",
        "produzidas = []\n",
        "\n",
        "produz_camisas(camisa_nao_produzidas, produzidas)\n",
        "mostra_camisas_produzidas(produzidas)"
      ],
      "execution_count": 103,
      "outputs": [
        {
          "output_type": "stream",
          "text": [
            "Produzindo camisa amarela P\n",
            "Produzindo camisa preta G\n",
            "Produzindo camisa azul M\n",
            "\n",
            "As seguintes camisas foram produzidas: \n",
            "amarela P\n",
            "preta G\n",
            "azul M\n"
          ],
          "name": "stdout"
        }
      ]
    },
    {
      "cell_type": "markdown",
      "metadata": {
        "id": "qhKLLxRdU6Ii"
      },
      "source": [
        "Missao 24"
      ]
    },
    {
      "cell_type": "code",
      "metadata": {
        "colab": {
          "base_uri": "https://localhost:8080/"
        },
        "id": "NJnDOs9WSvMX",
        "outputId": "1972eba9-a536-4ae1-8ba2-43b4f99975a5"
      },
      "source": [
        "#1. Crie uma lista de nomes de atores. \n",
        "#Passe essa lista para uma função com nome mostrar_atores() que mostre o nome de cada ator dessa lista.\n",
        "\n",
        "def mostrar_atores(atores):\n",
        "  \"\"\"Lista os nomes dos atores de uma lista\"\"\"\n",
        "  print(\"Os nomes dos atores da lista são: \")\n",
        "  for ator in atores:\n",
        "    print(f\"{ator.title()} \")\n",
        "\n",
        "atores = [\"joão\", \"josé\", \"maria\"]\n",
        "mostrar_atores(atores)"
      ],
      "execution_count": 105,
      "outputs": [
        {
          "output_type": "stream",
          "text": [
            "Os nomes dos atores da lista são: \n",
            "João \n",
            "José \n",
            "Maria \n"
          ],
          "name": "stdout"
        }
      ]
    },
    {
      "cell_type": "code",
      "metadata": {
        "colab": {
          "base_uri": "https://localhost:8080/"
        },
        "id": "_kM3syTxVqg4",
        "outputId": "3388bc5f-fbc5-432d-d733-09df6e4f5cca"
      },
      "source": [
        "#2. Usando o exercício anterior, crie uma função adicionar_expressao() que mude a lista de atores \n",
        "#colocando a expressão ‘o renomado’ ao nome do ator. \n",
        "#Chame a função mostrar_atores() para ver se a lista foi realmente modificada.\n",
        "\n",
        "def mostrar_atores(lista_atores):\n",
        "  \"\"\"Lista os nomes dos atores de uma lista\"\"\"\n",
        "  print(\"Os nomes dos atores da lista são: \")\n",
        "  for ator in lista_atores:\n",
        "    print(f\"{ator.title()}\")\n",
        "\n",
        "def adc_expressao(lista_atores):\n",
        "  for i in range(len(lista_atores)):\n",
        "    lista_atores[i] = lista_atores[i] + \" o renomado\"\n",
        "\n",
        "atores = [\"joão\", \"josé\", \"maria\"]\n",
        "adc_expressao(atores)\n",
        "mostrar_atores(atores)"
      ],
      "execution_count": 22,
      "outputs": [
        {
          "output_type": "stream",
          "text": [
            "Os nomes dos atores da lista são: \n",
            "João O Renomado\n",
            "José O Renomado\n",
            "Maria O Renomado\n"
          ],
          "name": "stdout"
        }
      ]
    },
    {
      "cell_type": "code",
      "metadata": {
        "colab": {
          "base_uri": "https://localhost:8080/"
        },
        "id": "99IqH735XB4T",
        "outputId": "c4c08413-ba1b-4f88-86f7-500f178b3c67"
      },
      "source": [
        "#3. Com o programa anterior, chame a função adicionar_expressao() com uma copia da lista de nomes dos atores. \n",
        "#Como a lista original não será modificada, devolva a nova lista e armazene-a em uma lista separada. \n",
        "#Chame a função mostrar_atores() com cada lista para mostrar que você tem uma lista de atores originais e uma\n",
        "# lista com a expressão ‘o renomado’ adicionado ao nome de cada ator.\n",
        "\n",
        "def mostrar_atores(lista_atores):\n",
        "  \"\"\"Lista os nomes dos atores de uma lista\"\"\"\n",
        "  print(f\"Os nomes dos atores da lista são: \")\n",
        "  for ator in lista_atores:\n",
        "    print(f\"{ator.title()}\")\n",
        "\n",
        "\n",
        "def adc_expressao(lista_atores):\n",
        "  for i in range(len(lista_atores)):\n",
        "    lista_atores[i] = lista_atores[i] + \" o renomado\"\n",
        "  \n",
        "\n",
        "atores = [\"joão\", \"josé\", \"maria\"]\n",
        "atores_copia = atores[:]\n",
        "adc_expressao(atores_copia)\n",
        "mostrar_atores(atores)\n",
        "mostrar_atores(atores_copia)"
      ],
      "execution_count": 30,
      "outputs": [
        {
          "output_type": "stream",
          "text": [
            "Os nomes dos atores da lista são: \n",
            "João\n",
            "José\n",
            "Maria\n",
            "Os nomes dos atores da lista são: \n",
            "João O Renomado\n",
            "José O Renomado\n",
            "Maria O Renomado\n"
          ],
          "name": "stdout"
        }
      ]
    },
    {
      "cell_type": "code",
      "metadata": {
        "id": "ywkxNEd3e8Vr"
      },
      "source": [
        ""
      ],
      "execution_count": null,
      "outputs": []
    }
  ]
}