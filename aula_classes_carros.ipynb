{
  "nbformat": 4,
  "nbformat_minor": 0,
  "metadata": {
    "colab": {
      "name": "aula_classes_carros.ipynb",
      "provenance": [],
      "collapsed_sections": [],
      "authorship_tag": "ABX9TyP49wCoENxRA3FF6ziDIGgP",
      "include_colab_link": true
    },
    "kernelspec": {
      "name": "python3",
      "display_name": "Python 3"
    }
  },
  "cells": [
    {
      "cell_type": "markdown",
      "metadata": {
        "id": "view-in-github",
        "colab_type": "text"
      },
      "source": [
        "<a href=\"https://colab.research.google.com/github/silvioturati/python/blob/main/aula_classes_carros.ipynb\" target=\"_parent\"><img src=\"https://colab.research.google.com/assets/colab-badge.svg\" alt=\"Open In Colab\"/></a>"
      ]
    },
    {
      "cell_type": "code",
      "metadata": {
        "id": "ZZAsV6fEDHCv"
      },
      "source": [
        "class Carro():\n",
        "  \"\"\"Uma aula de classes com exemplo de carro\"\"\"\n",
        "\n",
        "  def __init__(self, marca, modelo, ano):\n",
        "    \"\"\"Atributos que descrevem um carro\"\"\"\n",
        "    self.marca = marca\n",
        "    self.modelo = modelo\n",
        "    self.ano = ano\n",
        "\n",
        "  def nome_descritivo(self):\n",
        "    \"\"\"Devolve o nome descritivo do carro\"\"\"\n",
        "    nome_carro = f\"{str(self.ano)} {self.marca} {self.modelo}\"\n",
        "    return nome_carro.title()"
      ],
      "execution_count": 12,
      "outputs": []
    },
    {
      "cell_type": "code",
      "metadata": {
        "colab": {
          "base_uri": "https://localhost:8080/"
        },
        "id": "4A2uiQBGIlBS",
        "outputId": "9272b144-0034-4f20-fe8c-2d4d22c7a243"
      },
      "source": [
        "carro = Carro('Ford', 'Fiesta', 1985)\n",
        "print(carro.nome_descritivo())"
      ],
      "execution_count": 14,
      "outputs": [
        {
          "output_type": "stream",
          "text": [
            "1985 Ford Fiesta\n"
          ],
          "name": "stdout"
        }
      ]
    },
    {
      "cell_type": "code",
      "metadata": {
        "id": "2QOIN8pOIuWF"
      },
      "source": [
        "##atribuindo valor defualt para um atributo de uma classe\n",
        "#todo atributo de uma classe precisa de um valor inicial mesmo que seja vazio\n",
        "\n",
        "class Carro():\n",
        "  \"\"\"Uma aula de classes com exemplo de carro\"\"\"\n",
        "\n",
        "  def __init__(self, marca, modelo, ano):\n",
        "    \"\"\"Atributos que descrevem um carro\"\"\"\n",
        "    self.marca = marca #isso é o atributo\n",
        "    self.modelo = modelo #isso é o atributo\n",
        "    self.ano = ano #isso é o atributo\n",
        "    self.leitura_hodometro = 0 #declaramos um valor default para o atributo\n",
        "\n",
        "  def nome_descritivo(self):\n",
        "    \"\"\"Devolve o nome descritivo do carro\"\"\"\n",
        "    nome_carro = f\"{str(self.ano)} {self.marca} {self.modelo}\"\n",
        "    return nome_carro.title()\n",
        "\n",
        "  def ler_hodometro(self): #declaramos um novo método para imprimir o novo atributo\n",
        "    \"\"\"Exibe o KM do carro.\"\"\"\n",
        "    print(f\"Esse carro tem {str(self.leitura_hodometro)} kilometros rodados.\")"
      ],
      "execution_count": 19,
      "outputs": []
    },
    {
      "cell_type": "code",
      "metadata": {
        "id": "9lhuOJeaXDnF"
      },
      "source": [
        "meu_carro_novo = Carro('honda', 'civic', 2020) #instanciando um novo objeto"
      ],
      "execution_count": 24,
      "outputs": []
    },
    {
      "cell_type": "code",
      "metadata": {
        "colab": {
          "base_uri": "https://localhost:8080/"
        },
        "id": "aZt1D-OPaE95",
        "outputId": "1663f5a7-3fca-4cc7-9647-c6adc7812bbe"
      },
      "source": [
        "print(meu_carro_novo.nome_descritivo())"
      ],
      "execution_count": 25,
      "outputs": [
        {
          "output_type": "stream",
          "text": [
            "2020 Honda Civic\n"
          ],
          "name": "stdout"
        }
      ]
    },
    {
      "cell_type": "code",
      "metadata": {
        "colab": {
          "base_uri": "https://localhost:8080/"
        },
        "id": "O_7jHppxaQig",
        "outputId": "a02f8a0f-cac6-46c1-de3c-814639678195"
      },
      "source": [
        "print(meu_carro_novo.ler_hodometro())"
      ],
      "execution_count": 26,
      "outputs": [
        {
          "output_type": "stream",
          "text": [
            "Esse carro tem 0 kilometros rodados.\n",
            "None\n"
          ],
          "name": "stdout"
        }
      ]
    },
    {
      "cell_type": "code",
      "metadata": {
        "colab": {
          "base_uri": "https://localhost:8080/"
        },
        "id": "zYmE6CuVasqP",
        "outputId": "0a335a92-a1f8-4902-c062-90934f41c370"
      },
      "source": [
        "#acima o código trouxe o valor 0, que foi o valor default declarado na classe\n",
        "#se quisermos alterar esse valor\n",
        "\n",
        "meu_carro_novo.leitura_hodometro = 90\n",
        "print(meu_carro_novo.ler_hodometro())"
      ],
      "execution_count": 27,
      "outputs": [
        {
          "output_type": "stream",
          "text": [
            "Esse carro tem 90 kilometros rodados.\n",
            "None\n"
          ],
          "name": "stdout"
        }
      ]
    },
    {
      "cell_type": "code",
      "metadata": {
        "colab": {
          "base_uri": "https://localhost:8080/"
        },
        "id": "FH290q-UcEkm",
        "outputId": "b338c33c-6d05-48ef-c81b-291af2f7fd58"
      },
      "source": [
        "print(meu_carro_novo.nome_descritivo())"
      ],
      "execution_count": 29,
      "outputs": [
        {
          "output_type": "stream",
          "text": [
            "2020 Honda Civic\n"
          ],
          "name": "stdout"
        }
      ]
    },
    {
      "cell_type": "code",
      "metadata": {
        "colab": {
          "base_uri": "https://localhost:8080/"
        },
        "id": "nYeCe9qDcNwg",
        "outputId": "800558a3-5a89-47e7-aa15-8012bd5e3bb4"
      },
      "source": [
        "print(meu_carro_novo.ler_hodometro())"
      ],
      "execution_count": 32,
      "outputs": [
        {
          "output_type": "stream",
          "text": [
            "Esse carro tem 90 kilometros rodados.\n",
            "None\n"
          ],
          "name": "stdout"
        }
      ]
    },
    {
      "cell_type": "code",
      "metadata": {
        "id": "0W7UZ5RpcTOB"
      },
      "source": [
        "#veja que o valor do atributo continua 90, só vai mudar se instaciarmos outro valor para o atributo\n",
        "#outro ponto é a palavra NONE após a mensagem. o NOME aparece porque num método dentro de uma classe\n",
        "#o PY supõe que irá retornar alguma coisa, mas nós deixamos o método ler_hodometro sem return\n",
        "#para corrigir precisamos declarar o return no método\n",
        "\n",
        "class Carro():\n",
        "  \"\"\"Uma aula de classes com exemplo de carro\"\"\"\n",
        "\n",
        "  def __init__(self, marca, modelo, ano):\n",
        "    \"\"\"Atributos que descrevem um carro\"\"\"\n",
        "    self.marca = marca\n",
        "    self.modelo = modelo\n",
        "    self.ano = ano\n",
        "    self.leitura_hodometro = 0 \n",
        "\n",
        "  def nome_descritivo(self):\n",
        "    \"\"\"Devolve o nome descritivo do carro\"\"\"\n",
        "    nome_carro = f\"{str(self.ano)} {self.marca} {self.modelo}\"\n",
        "    return nome_carro.title()\n",
        "\n",
        "  def ler_hodometro(self):\n",
        "    \"\"\"Exibe o KM do carro.\"\"\"\n",
        "    hodometro = f\"Esse carro tem {str(self.leitura_hodometro)} kilometros rodados.\" #fazendo a correção\n",
        "    return hodometro"
      ],
      "execution_count": 44,
      "outputs": []
    },
    {
      "cell_type": "code",
      "metadata": {
        "colab": {
          "base_uri": "https://localhost:8080/"
        },
        "id": "6_dnA9iVcgxB",
        "outputId": "c161c3d7-3864-4418-f7da-e6782961d0e7"
      },
      "source": [
        "meu_carro_novo = Carro('honda', 'civic', 2020) #instanciando novamente o objeto\n",
        "meu_carro_novo.leitura_hodometro = 90 #atibuindo o valor\n",
        "print(meu_carro_novo.ler_hodometro()) #printando e vemos que o none não aparece mais"
      ],
      "execution_count": 47,
      "outputs": [
        {
          "output_type": "stream",
          "text": [
            "Esse carro tem 90 kilometros rodados.\n"
          ],
          "name": "stdout"
        }
      ]
    },
    {
      "cell_type": "code",
      "metadata": {
        "id": "0d8rKxi5hTaj"
      },
      "source": [
        "#fizemos a modificação do hometro diretamente\n",
        "#agora vamos fazer através de um método\n",
        "\n",
        "class Carro():\n",
        "  \"\"\"Uma aula de classes com exemplo de carro\"\"\"\n",
        "\n",
        "  def __init__(self, marca, modelo, ano):\n",
        "    \"\"\"Atributos que descrevem um carro\"\"\"\n",
        "    self.marca = marca\n",
        "    self.modelo = modelo\n",
        "    self.ano = ano\n",
        "    self.leitura_hodometro = 0 \n",
        "\n",
        "  def nome_descritivo(self):\n",
        "    \"\"\"Devolve o nome descritivo do carro\"\"\"\n",
        "    nome_carro = f\"{str(self.ano)} {self.marca} {self.modelo}\"\n",
        "    return nome_carro.title()\n",
        "\n",
        "  def ler_hodometro(self):\n",
        "    \"\"\"Exibe o KM do carro.\"\"\"\n",
        "    hodometro = f\"Esse carro tem {str(self.leitura_hodometro)} kilometros rodados.\" #fazendo a correção\n",
        "    return hodometro\n",
        "  \n",
        "  def atualizar_hodometro(self, km):\n",
        "    \"\"\" Atualiza o KM do carro \"\"\"\n",
        "    self.leitura_hodometro = km"
      ],
      "execution_count": 51,
      "outputs": []
    },
    {
      "cell_type": "code",
      "metadata": {
        "colab": {
          "base_uri": "https://localhost:8080/"
        },
        "id": "wFpIQA6xk4Wl",
        "outputId": "0026d2c7-cd24-4864-a2f4-5c33b4a53671"
      },
      "source": [
        "meu_carro_novo = Carro('honda', 'civic', 2020)\n",
        "meu_carro_novo.atualizar_hodometro(50)\n",
        "print(meu_carro_novo.ler_hodometro())"
      ],
      "execution_count": 52,
      "outputs": [
        {
          "output_type": "stream",
          "text": [
            "Esse carro tem 50 kilometros rodados.\n"
          ],
          "name": "stdout"
        }
      ]
    },
    {
      "cell_type": "code",
      "metadata": {
        "id": "kzts269slEG8"
      },
      "source": [
        "#o km do carro foi alterado para 50"
      ],
      "execution_count": 53,
      "outputs": []
    },
    {
      "cell_type": "code",
      "metadata": {
        "id": "MnAt9D9Flg_t"
      },
      "source": [
        "class Carro():\n",
        "  \"\"\"Uma aula de classes com exemplo de carro\"\"\"\n",
        "\n",
        "  def __init__(self, marca, modelo, ano):\n",
        "    \"\"\"Atributos que descrevem um carro\"\"\"\n",
        "    self.marca = marca\n",
        "    self.modelo = modelo\n",
        "    self.ano = ano\n",
        "    self.leitura_hodometro = 0 \n",
        "\n",
        "  def nome_descritivo(self):\n",
        "    \"\"\"Devolve o nome descritivo do carro\"\"\"\n",
        "    nome_carro = f\"{str(self.ano)} {self.marca} {self.modelo}\"\n",
        "    return nome_carro.title()\n",
        "\n",
        "  def ler_hodometro(self):\n",
        "    \"\"\"Exibe o KM do carro.\"\"\"\n",
        "    hodometro = f\"Esse carro tem {str(self.leitura_hodometro)} kilometros rodados.\" #fazendo a correção\n",
        "    return hodometro\n",
        "  \n",
        "  def atualizar_hodometro(self, km):\n",
        "    \"\"\" \n",
        "    Atualiza o KM do carro e rejeita a alteração\n",
        "    se for um valor menor que o atual\n",
        "    \"\"\"\n",
        "    if km >= self.leitura_hodometro:\n",
        "      self.leitura_hodometro = km\n",
        "    else:\n",
        "      print(\"\\nVocê não pode dimunuir o valor do KM.\")"
      ],
      "execution_count": 54,
      "outputs": []
    },
    {
      "cell_type": "code",
      "metadata": {
        "colab": {
          "base_uri": "https://localhost:8080/"
        },
        "id": "JRUVnA5BmZIV",
        "outputId": "5f0e0749-aff1-41cc-afc6-7fba394785ea"
      },
      "source": [
        "meu_carro_novo = Carro('honda', 'civic', 2020)\n",
        "meu_carro_novo.atualizar_hodometro(10)\n",
        "print(meu_carro_novo.ler_hodometro())"
      ],
      "execution_count": 55,
      "outputs": [
        {
          "output_type": "stream",
          "text": [
            "Esse carro tem 10 kilometros rodados.\n"
          ],
          "name": "stdout"
        }
      ]
    },
    {
      "cell_type": "code",
      "metadata": {
        "colab": {
          "base_uri": "https://localhost:8080/"
        },
        "id": "VHeXPo2jmfj1",
        "outputId": "3779fe9e-04d3-4301-d379-1cb526a2eb54"
      },
      "source": [
        "meu_carro_novo.atualizar_hodometro(5)"
      ],
      "execution_count": 56,
      "outputs": [
        {
          "output_type": "stream",
          "text": [
            "\n",
            "Você não pode dimunuir o valor do KM.\n"
          ],
          "name": "stdout"
        }
      ]
    },
    {
      "cell_type": "code",
      "metadata": {
        "id": "VRerFiI9mqGZ"
      },
      "source": [
        ""
      ],
      "execution_count": null,
      "outputs": []
    }
  ]
}