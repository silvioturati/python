{
  "nbformat": 4,
  "nbformat_minor": 0,
  "metadata": {
    "colab": {
      "name": "aula_classes_carros.ipynb",
      "provenance": [],
      "collapsed_sections": [],
      "authorship_tag": "ABX9TyMqt0WTGhvEOe/gvcpitHR2",
      "include_colab_link": true
    },
    "kernelspec": {
      "name": "python3",
      "display_name": "Python 3"
    }
  },
  "cells": [
    {
      "cell_type": "markdown",
      "metadata": {
        "id": "view-in-github",
        "colab_type": "text"
      },
      "source": [
        "<a href=\"https://colab.research.google.com/github/silvioturati/python/blob/main/aula_classes_carros.ipynb\" target=\"_parent\"><img src=\"https://colab.research.google.com/assets/colab-badge.svg\" alt=\"Open In Colab\"/></a>"
      ]
    },
    {
      "cell_type": "code",
      "metadata": {
        "id": "ZZAsV6fEDHCv"
      },
      "source": [
        "class Carro():\n",
        "  \"\"\"Uma aula de classes com exemplo de carro\"\"\"\n",
        "\n",
        "  def __init__(self, marca, modelo, ano):\n",
        "    \"\"\"Atributos que descrevem um carro\"\"\"\n",
        "    self.marca = marca\n",
        "    self.modelo = modelo\n",
        "    self.ano = ano\n",
        "\n",
        "  def nome_descritivo(self):\n",
        "    \"\"\"Devolve o nome descritivo do carro\"\"\"\n",
        "    nome_carro = f\"{str(self.ano)} {self.marca} {self.modelo}\"\n",
        "    return nome_carro.title()"
      ],
      "execution_count": null,
      "outputs": []
    },
    {
      "cell_type": "code",
      "metadata": {
        "colab": {
          "base_uri": "https://localhost:8080/"
        },
        "id": "4A2uiQBGIlBS",
        "outputId": "9272b144-0034-4f20-fe8c-2d4d22c7a243"
      },
      "source": [
        "carro = Carro('Ford', 'Fiesta', 1985)\n",
        "print(carro.nome_descritivo())"
      ],
      "execution_count": null,
      "outputs": [
        {
          "output_type": "stream",
          "text": [
            "1985 Ford Fiesta\n"
          ],
          "name": "stdout"
        }
      ]
    },
    {
      "cell_type": "code",
      "metadata": {
        "id": "2QOIN8pOIuWF"
      },
      "source": [
        "##atribuindo valor defualt para um atributo de uma classe\n",
        "#todo atributo de uma classe precisa de um valor inicial mesmo que seja vazio\n",
        "\n",
        "class Carro():\n",
        "  \"\"\"Uma aula de classes com exemplo de carro\"\"\"\n",
        "\n",
        "  def __init__(self, marca, modelo, ano):\n",
        "    \"\"\"Atributos que descrevem um carro\"\"\"\n",
        "    self.marca = marca #isso é o atributo\n",
        "    self.modelo = modelo #isso é o atributo\n",
        "    self.ano = ano #isso é o atributo\n",
        "    self.leitura_hodometro = 0 #declaramos um valor default para o atributo\n",
        "\n",
        "  def nome_descritivo(self):\n",
        "    \"\"\"Devolve o nome descritivo do carro\"\"\"\n",
        "    nome_carro = f\"{str(self.ano)} {self.marca} {self.modelo}\"\n",
        "    return nome_carro.title()\n",
        "\n",
        "  def ler_hodometro(self): #declaramos um novo método para imprimir o novo atributo\n",
        "    \"\"\"Exibe o KM do carro.\"\"\"\n",
        "    print(f\"Esse carro tem {str(self.leitura_hodometro)} kilometros rodados.\")"
      ],
      "execution_count": null,
      "outputs": []
    },
    {
      "cell_type": "code",
      "metadata": {
        "id": "9lhuOJeaXDnF"
      },
      "source": [
        "meu_carro_novo = Carro('honda', 'civic', 2020) #instanciando um novo objeto"
      ],
      "execution_count": null,
      "outputs": []
    },
    {
      "cell_type": "code",
      "metadata": {
        "colab": {
          "base_uri": "https://localhost:8080/"
        },
        "id": "aZt1D-OPaE95",
        "outputId": "1663f5a7-3fca-4cc7-9647-c6adc7812bbe"
      },
      "source": [
        "print(meu_carro_novo.nome_descritivo())"
      ],
      "execution_count": null,
      "outputs": [
        {
          "output_type": "stream",
          "text": [
            "2020 Honda Civic\n"
          ],
          "name": "stdout"
        }
      ]
    },
    {
      "cell_type": "code",
      "metadata": {
        "colab": {
          "base_uri": "https://localhost:8080/"
        },
        "id": "O_7jHppxaQig",
        "outputId": "a02f8a0f-cac6-46c1-de3c-814639678195"
      },
      "source": [
        "print(meu_carro_novo.ler_hodometro())"
      ],
      "execution_count": null,
      "outputs": [
        {
          "output_type": "stream",
          "text": [
            "Esse carro tem 0 kilometros rodados.\n",
            "None\n"
          ],
          "name": "stdout"
        }
      ]
    },
    {
      "cell_type": "code",
      "metadata": {
        "colab": {
          "base_uri": "https://localhost:8080/"
        },
        "id": "zYmE6CuVasqP",
        "outputId": "0a335a92-a1f8-4902-c062-90934f41c370"
      },
      "source": [
        "#acima o código trouxe o valor 0, que foi o valor default declarado na classe\n",
        "#se quisermos alterar esse valor\n",
        "\n",
        "meu_carro_novo.leitura_hodometro = 90\n",
        "print(meu_carro_novo.ler_hodometro())"
      ],
      "execution_count": null,
      "outputs": [
        {
          "output_type": "stream",
          "text": [
            "Esse carro tem 90 kilometros rodados.\n",
            "None\n"
          ],
          "name": "stdout"
        }
      ]
    },
    {
      "cell_type": "code",
      "metadata": {
        "colab": {
          "base_uri": "https://localhost:8080/"
        },
        "id": "FH290q-UcEkm",
        "outputId": "b338c33c-6d05-48ef-c81b-291af2f7fd58"
      },
      "source": [
        "print(meu_carro_novo.nome_descritivo())"
      ],
      "execution_count": null,
      "outputs": [
        {
          "output_type": "stream",
          "text": [
            "2020 Honda Civic\n"
          ],
          "name": "stdout"
        }
      ]
    },
    {
      "cell_type": "code",
      "metadata": {
        "colab": {
          "base_uri": "https://localhost:8080/"
        },
        "id": "nYeCe9qDcNwg",
        "outputId": "800558a3-5a89-47e7-aa15-8012bd5e3bb4"
      },
      "source": [
        "print(meu_carro_novo.ler_hodometro())"
      ],
      "execution_count": null,
      "outputs": [
        {
          "output_type": "stream",
          "text": [
            "Esse carro tem 90 kilometros rodados.\n",
            "None\n"
          ],
          "name": "stdout"
        }
      ]
    },
    {
      "cell_type": "code",
      "metadata": {
        "id": "0W7UZ5RpcTOB"
      },
      "source": [
        "#veja que o valor do atributo continua 90, só vai mudar se instaciarmos outro valor para o atributo\n",
        "#outro ponto é a palavra NONE após a mensagem. o NOME aparece porque num método dentro de uma classe\n",
        "#o PY supõe que irá retornar alguma coisa, mas nós deixamos o método ler_hodometro sem return\n",
        "#para corrigir precisamos declarar o return no método\n",
        "\n",
        "class Carro():\n",
        "  \"\"\"Uma aula de classes com exemplo de carro\"\"\"\n",
        "\n",
        "  def __init__(self, marca, modelo, ano):\n",
        "    \"\"\"Atributos que descrevem um carro\"\"\"\n",
        "    self.marca = marca\n",
        "    self.modelo = modelo\n",
        "    self.ano = ano\n",
        "    self.leitura_hodometro = 0 \n",
        "\n",
        "  def nome_descritivo(self):\n",
        "    \"\"\"Devolve o nome descritivo do carro\"\"\"\n",
        "    nome_carro = f\"{str(self.ano)} {self.marca} {self.modelo}\"\n",
        "    return nome_carro.title()\n",
        "\n",
        "  def ler_hodometro(self):\n",
        "    \"\"\"Exibe o KM do carro.\"\"\"\n",
        "    hodometro = f\"Esse carro tem {str(self.leitura_hodometro)} kilometros rodados.\" #fazendo a correção\n",
        "    return hodometro"
      ],
      "execution_count": null,
      "outputs": []
    },
    {
      "cell_type": "code",
      "metadata": {
        "colab": {
          "base_uri": "https://localhost:8080/"
        },
        "id": "6_dnA9iVcgxB",
        "outputId": "c161c3d7-3864-4418-f7da-e6782961d0e7"
      },
      "source": [
        "meu_carro_novo = Carro('honda', 'civic', 2020) #instanciando novamente o objeto\n",
        "meu_carro_novo.leitura_hodometro = 90 #atibuindo o valor\n",
        "print(meu_carro_novo.ler_hodometro()) #printando e vemos que o none não aparece mais"
      ],
      "execution_count": null,
      "outputs": [
        {
          "output_type": "stream",
          "text": [
            "Esse carro tem 90 kilometros rodados.\n"
          ],
          "name": "stdout"
        }
      ]
    },
    {
      "cell_type": "code",
      "metadata": {
        "id": "0d8rKxi5hTaj"
      },
      "source": [
        "#fizemos a modificação do hometro diretamente\n",
        "#agora vamos fazer através de um método\n",
        "\n",
        "class Carro():\n",
        "  \"\"\"Uma aula de classes com exemplo de carro\"\"\"\n",
        "\n",
        "  def __init__(self, marca, modelo, ano):\n",
        "    \"\"\"Atributos que descrevem um carro\"\"\"\n",
        "    self.marca = marca\n",
        "    self.modelo = modelo\n",
        "    self.ano = ano\n",
        "    self.leitura_hodometro = 0 \n",
        "\n",
        "  def nome_descritivo(self):\n",
        "    \"\"\"Devolve o nome descritivo do carro\"\"\"\n",
        "    nome_carro = f\"{str(self.ano)} {self.marca} {self.modelo}\"\n",
        "    return nome_carro.title()\n",
        "\n",
        "  def ler_hodometro(self):\n",
        "    \"\"\"Exibe o KM do carro.\"\"\"\n",
        "    hodometro = f\"Esse carro tem {str(self.leitura_hodometro)} kilometros rodados.\" #fazendo a correção\n",
        "    return hodometro\n",
        "  \n",
        "  def atualizar_hodometro(self, km):\n",
        "    \"\"\" Atualiza o KM do carro \"\"\"\n",
        "    self.leitura_hodometro = km"
      ],
      "execution_count": null,
      "outputs": []
    },
    {
      "cell_type": "code",
      "metadata": {
        "colab": {
          "base_uri": "https://localhost:8080/"
        },
        "id": "wFpIQA6xk4Wl",
        "outputId": "0026d2c7-cd24-4864-a2f4-5c33b4a53671"
      },
      "source": [
        "meu_carro_novo = Carro('honda', 'civic', 2020)\n",
        "meu_carro_novo.atualizar_hodometro(50)\n",
        "print(meu_carro_novo.ler_hodometro())"
      ],
      "execution_count": null,
      "outputs": [
        {
          "output_type": "stream",
          "text": [
            "Esse carro tem 50 kilometros rodados.\n"
          ],
          "name": "stdout"
        }
      ]
    },
    {
      "cell_type": "code",
      "metadata": {
        "id": "kzts269slEG8"
      },
      "source": [
        "#o km do carro foi alterado para 50"
      ],
      "execution_count": null,
      "outputs": []
    },
    {
      "cell_type": "code",
      "metadata": {
        "id": "MnAt9D9Flg_t"
      },
      "source": [
        "class Carro():\n",
        "  \"\"\"Uma aula de classes com exemplo de carro\"\"\"\n",
        "\n",
        "  def __init__(self, marca, modelo, ano):\n",
        "    \"\"\"Atributos que descrevem um carro\"\"\"\n",
        "    self.marca = marca\n",
        "    self.modelo = modelo\n",
        "    self.ano = ano\n",
        "    self.leitura_hodometro = 0 \n",
        "\n",
        "  def nome_descritivo(self):\n",
        "    \"\"\"Devolve o nome descritivo do carro\"\"\"\n",
        "    nome_carro = f\"{str(self.ano)} {self.marca} {self.modelo}\"\n",
        "    return nome_carro.title()\n",
        "\n",
        "  def ler_hodometro(self):\n",
        "    \"\"\"Exibe o KM do carro.\"\"\"\n",
        "    hodometro = f\"Esse carro tem {str(self.leitura_hodometro)} kilometros rodados.\" #fazendo a correção\n",
        "    return hodometro\n",
        "  \n",
        "  def atualizar_hodometro(self, km):\n",
        "    \"\"\" \n",
        "    Atualiza o KM do carro e rejeita a alteração\n",
        "    se for um valor menor que o atual\n",
        "    \"\"\"\n",
        "    if km >= self.leitura_hodometro:\n",
        "      self.leitura_hodometro = km\n",
        "    else:\n",
        "      print(\"\\nVocê não pode dimunuir o valor do KM.\")"
      ],
      "execution_count": null,
      "outputs": []
    },
    {
      "cell_type": "code",
      "metadata": {
        "colab": {
          "base_uri": "https://localhost:8080/"
        },
        "id": "JRUVnA5BmZIV",
        "outputId": "5f0e0749-aff1-41cc-afc6-7fba394785ea"
      },
      "source": [
        "meu_carro_novo = Carro('honda', 'civic', 2020)\n",
        "meu_carro_novo.atualizar_hodometro(10)\n",
        "print(meu_carro_novo.ler_hodometro())"
      ],
      "execution_count": null,
      "outputs": [
        {
          "output_type": "stream",
          "text": [
            "Esse carro tem 10 kilometros rodados.\n"
          ],
          "name": "stdout"
        }
      ]
    },
    {
      "cell_type": "code",
      "metadata": {
        "colab": {
          "base_uri": "https://localhost:8080/"
        },
        "id": "VHeXPo2jmfj1",
        "outputId": "3779fe9e-04d3-4301-d379-1cb526a2eb54"
      },
      "source": [
        "meu_carro_novo.atualizar_hodometro(5)"
      ],
      "execution_count": null,
      "outputs": [
        {
          "output_type": "stream",
          "text": [
            "\n",
            "Você não pode dimunuir o valor do KM.\n"
          ],
          "name": "stdout"
        }
      ]
    },
    {
      "cell_type": "code",
      "metadata": {
        "id": "VRerFiI9mqGZ"
      },
      "source": [
        "#para facilitar os exemplos, fui sempre copiando a classe anterior e fazendo alterações\n",
        "#mas o correto é gravar essa classe num arquivo .py e importar essa clase para o código \n",
        "#principal do sistema e criar um sitema utilizando diversas classes."
      ],
      "execution_count": null,
      "outputs": []
    },
    {
      "cell_type": "markdown",
      "metadata": {
        "id": "cchku5EZ1Edl"
      },
      "source": [
        "Missao 28"
      ]
    },
    {
      "cell_type": "code",
      "metadata": {
        "id": "EkA6_RRJs9fg"
      },
      "source": [
        "#1. Usando sua classe Ca​rro criada no uútimo exercício, acrescente um atributo chamado numero_donos com valor default 0. \n",
        "#Crie uma instância chamada meu_carro a partir dessa classe. Apresente o número de donos do carro, em seguida, mude esse valor e exiba-o novamente.\n",
        "#a. Crie um método chamado setar_numero_donos() que permita definir um número de donos do carro.\n",
        "#Chame esse método com um novo número e mostre o valor novamente.\n",
        "#b. Adicione um método chamado incrementar_numero_donos() que permita incrementar o número de donos do carro. \n",
        "#Chame esse método com qualquer número que você quiser e que represente quantos donos possuíram o carro.\n",
        "\n",
        "class Carro():\n",
        "  \"\"\"Uma aula de classes com exemplo de carro\"\"\"\n",
        "\n",
        "  def __init__(self, marca, modelo, ano):\n",
        "    \"\"\"Atributos que descrevem um carro\"\"\"\n",
        "    self.marca = marca\n",
        "    self.modelo = modelo\n",
        "    self.ano = ano\n",
        "    self.leitura_hodometro = 0\n",
        "    self.donos = 0 \n",
        "\n",
        "  def nome_descritivo(self):\n",
        "    \"\"\"Devolve o nome descritivo do carro\"\"\"\n",
        "    nome_carro = f\"{str(self.ano)} {self.marca} {self.modelo}\"\n",
        "    return nome_carro.title()\n",
        "\n",
        "  def ler_hodometro(self):\n",
        "    \"\"\"Exibe o KM do carro.\"\"\"\n",
        "    hodometro = f\"Esse carro tem {str(self.leitura_hodometro)} kilometros rodados.\" #fazendo a correção\n",
        "    return hodometro\n",
        "  \n",
        "  def atualizar_hodometro(self, km):\n",
        "    \"\"\" \n",
        "    Atualiza o KM do carro e rejeita a alteração\n",
        "    se for um valor menor que o atual\n",
        "    \"\"\"\n",
        "    if km >= self.leitura_hodometro:\n",
        "      self.leitura_hodometro = km\n",
        "    else:\n",
        "      print(\"\\nVocê não pode dimunuir o valor do KM.\")\n",
        "  \n",
        "  def setar_donos(self, donos):\n",
        "    \"\"\" Permite alterar o numero de donos \"\"\"\n",
        "    if donos >= self.donos:\n",
        "      self.donos = donos\n",
        "    else:\n",
        "      print(\"\\n Você não pode diminuir a quantidade de donos.\")\n"
      ],
      "execution_count": 66,
      "outputs": []
    },
    {
      "cell_type": "code",
      "metadata": {
        "colab": {
          "base_uri": "https://localhost:8080/"
        },
        "id": "TBHd58K21dTN",
        "outputId": "3e10de4f-f25d-4958-f30d-415543bb7cd1"
      },
      "source": [
        "meu_carro = Carro(\"Volks\", \"Fox\", 2014)\n",
        "print(meu_carro.nome_descritivo())\n",
        "print(str(meu_carro.donos))"
      ],
      "execution_count": 67,
      "outputs": [
        {
          "output_type": "stream",
          "text": [
            "2014 Volks Fox\n",
            "0\n"
          ],
          "name": "stdout"
        }
      ]
    },
    {
      "cell_type": "code",
      "metadata": {
        "colab": {
          "base_uri": "https://localhost:8080/"
        },
        "id": "nXWfyrQL1k69",
        "outputId": "a16fda67-9da8-4e6b-e224-921e92aa8692"
      },
      "source": [
        "meu_carro.donos = 1\n",
        "print(meu_carro.nome_descritivo())\n",
        "print(str(meu_carro.donos))"
      ],
      "execution_count": 68,
      "outputs": [
        {
          "output_type": "stream",
          "text": [
            "2014 Volks Fox\n",
            "1\n"
          ],
          "name": "stdout"
        }
      ]
    },
    {
      "cell_type": "code",
      "metadata": {
        "colab": {
          "base_uri": "https://localhost:8080/"
        },
        "id": "GTd-HJBh2O5t",
        "outputId": "c1dcc73b-9c9a-47db-f372-352736eeb318"
      },
      "source": [
        "meu_carro.setar_donos(0)"
      ],
      "execution_count": 69,
      "outputs": [
        {
          "output_type": "stream",
          "text": [
            "\n",
            " Você não pode diminuir a quantidade de donos.\n"
          ],
          "name": "stdout"
        }
      ]
    },
    {
      "cell_type": "code",
      "metadata": {
        "id": "nhMvkcXO3eI7"
      },
      "source": [
        "meu_carro.setar_donos(2)"
      ],
      "execution_count": 70,
      "outputs": []
    },
    {
      "cell_type": "code",
      "metadata": {
        "colab": {
          "base_uri": "https://localhost:8080/"
        },
        "id": "CIo_EMSu3hfl",
        "outputId": "4bd748aa-4998-4a7c-875e-1a2ebea72b33"
      },
      "source": [
        "print(meu_carro.donos)"
      ],
      "execution_count": 71,
      "outputs": [
        {
          "output_type": "stream",
          "text": [
            "2\n"
          ],
          "name": "stdout"
        }
      ]
    },
    {
      "cell_type": "code",
      "metadata": {
        "id": "vhNffjBH3k9l"
      },
      "source": [
        "#2. A sua classe Animal criada anteriormente, adicione um atributo chamado anos_no_zoo. \n",
        "#Escreva um método chamado incrementar_anos_zoo() que incremente o valor de anos_no_zoo em 1. \n",
        "#Escreva outro método chamado resetar_anos_zoo() que volte o valor anos_no_zoo para 0.\n",
        "\n",
        "#a.Crie uma instância da classe Animal e chame o incremente_anos_zoo() várias vezes. \n",
        "#Exbia o valor de anos_no_zoo para ter certeza que ele foi incrementado de forma correta. \n",
        "#Em seguida chame o resetar_anos_zoo(). Exiba anos_no_zoo novamente para ver o valor com 0.\n",
        "\n",
        "class Animal():\n",
        "  \"\"\" Classe com atributos e métodos animais\"\"\"\n",
        "\n",
        "  def __init__(self, nome, idade):\n",
        "    \"\"\" declarando os construtores e atributos \"\"\"\n",
        "    self.nome = nome\n",
        "    self.idade = idade\n",
        "    self.sexo = \"feminino\"\n",
        "    self.cor = \"não definida\"\n",
        "    self.anos_no_zoo = 0\n",
        "  \n",
        "  def animal_detalhes(self):\n",
        "    \"\"\" Mostra um resumo das informações dos animais instanciados \"\"\"\n",
        "    animal_info = f\"{self.nome.title()} {self.idade} {self.sexo} {self.cor}\"\n",
        "    return animal_info\n",
        "  \n",
        "  def animal_msg(self):\n",
        "    \"\"\" Mostra uma mensagem com o nome do animal \"\"\"\n",
        "    msg = f\"O nome do animal é {self.nome.title()}\"\n",
        "    return msg\n",
        "  \n",
        "  def incrementar_anos_zoo(self):\n",
        "    \"\"\" Incrementa o atributo anos_no_zoo em 1 ano\"\"\"\n",
        "    self.anos_no_zoo += 1\n",
        "  \n",
        "  def resetar_anos_zoo(self):\n",
        "    \"\"\" Reseta o atributo anos_no_zoo \"\"\"\n",
        "    self.anos_no_zoo = 0\n",
        "\n"
      ],
      "execution_count": 72,
      "outputs": []
    },
    {
      "cell_type": "code",
      "metadata": {
        "id": "l5ux_hK64svl"
      },
      "source": [
        "animal_01 = Animal(\"mickey\", 1)"
      ],
      "execution_count": 73,
      "outputs": []
    },
    {
      "cell_type": "code",
      "metadata": {
        "colab": {
          "base_uri": "https://localhost:8080/"
        },
        "id": "sZB2F5P142AN",
        "outputId": "0a9320fc-5c83-44a8-86fa-46819b78be38"
      },
      "source": [
        "print(animal_01.anos_no_zoo)"
      ],
      "execution_count": 76,
      "outputs": [
        {
          "output_type": "stream",
          "text": [
            "0\n"
          ],
          "name": "stdout"
        }
      ]
    },
    {
      "cell_type": "code",
      "metadata": {
        "id": "IiROcPoo4_xe"
      },
      "source": [
        "animal_01.incrementar_anos_zoo()"
      ],
      "execution_count": 77,
      "outputs": []
    },
    {
      "cell_type": "code",
      "metadata": {
        "colab": {
          "base_uri": "https://localhost:8080/"
        },
        "id": "hG-teh365G7e",
        "outputId": "359c4860-077b-4ef1-e989-d02df7697c63"
      },
      "source": [
        "print(animal_01.anos_no_zoo)"
      ],
      "execution_count": 78,
      "outputs": [
        {
          "output_type": "stream",
          "text": [
            "1\n"
          ],
          "name": "stdout"
        }
      ]
    },
    {
      "cell_type": "code",
      "metadata": {
        "id": "IvA6M9ER5JCm"
      },
      "source": [
        "animal_01.incrementar_anos_zoo()"
      ],
      "execution_count": 79,
      "outputs": []
    },
    {
      "cell_type": "code",
      "metadata": {
        "colab": {
          "base_uri": "https://localhost:8080/"
        },
        "id": "0xOyYefL5Ktu",
        "outputId": "662b8c38-48d3-4b9e-9093-3dd98824b47b"
      },
      "source": [
        "print(animal_01.anos_no_zoo)"
      ],
      "execution_count": 80,
      "outputs": [
        {
          "output_type": "stream",
          "text": [
            "2\n"
          ],
          "name": "stdout"
        }
      ]
    },
    {
      "cell_type": "code",
      "metadata": {
        "id": "Dm7LBVZh5MIW"
      },
      "source": [
        "animal_01.resetar_anos_zoo()"
      ],
      "execution_count": 81,
      "outputs": []
    },
    {
      "cell_type": "code",
      "metadata": {
        "colab": {
          "base_uri": "https://localhost:8080/"
        },
        "id": "Q4sqQiye5PtW",
        "outputId": "30c49da6-ebe6-4bfa-9065-c90563fcd36d"
      },
      "source": [
        "print(animal_01.anos_no_zoo)"
      ],
      "execution_count": 82,
      "outputs": [
        {
          "output_type": "stream",
          "text": [
            "0\n"
          ],
          "name": "stdout"
        }
      ]
    },
    {
      "cell_type": "code",
      "metadata": {
        "id": "8f-dOCMp5Qo_"
      },
      "source": [
        ""
      ],
      "execution_count": null,
      "outputs": []
    }
  ]
}