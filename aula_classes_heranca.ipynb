{
  "nbformat": 4,
  "nbformat_minor": 0,
  "metadata": {
    "colab": {
      "name": "aula_classes_heranca.ipynb",
      "provenance": [],
      "collapsed_sections": [],
      "authorship_tag": "ABX9TyN2nyvIQj7nDId3APW1Ff3x",
      "include_colab_link": true
    },
    "kernelspec": {
      "name": "python3",
      "display_name": "Python 3"
    }
  },
  "cells": [
    {
      "cell_type": "markdown",
      "metadata": {
        "id": "view-in-github",
        "colab_type": "text"
      },
      "source": [
        "<a href=\"https://colab.research.google.com/github/silvioturati/python/blob/main/aula_classes_heranca.ipynb\" target=\"_parent\"><img src=\"https://colab.research.google.com/assets/colab-badge.svg\" alt=\"Open In Colab\"/></a>"
      ]
    },
    {
      "cell_type": "code",
      "metadata": {
        "id": "7PqzU2YpCtKZ"
      },
      "source": [
        "#como meu colab não está deixando eu importar, eu criei a classe carros aqui de novo\n",
        "class Carro():\n",
        "  \"\"\"Uma aula de classes com exemplo de carro\"\"\"\n",
        "\n",
        "  def __init__(self, marca, modelo, ano):\n",
        "    \"\"\"Atributos que descrevem um carro\"\"\"\n",
        "    self.marca = marca\n",
        "    self.modelo = modelo\n",
        "    self.ano = ano\n",
        "    self.leitura_hodometro = 0\n",
        "    self.donos = 0 \n",
        "\n",
        "  def nome_descritivo(self):\n",
        "    \"\"\"Devolve o nome descritivo do carro\"\"\"\n",
        "    nome_carro = f\"{str(self.ano)} {self.marca} {self.modelo}\"\n",
        "    return nome_carro.title()\n",
        "\n",
        "  def ler_hodometro(self):\n",
        "    \"\"\"Exibe o KM do carro.\"\"\"\n",
        "    hodometro = f\"Esse carro tem {str(self.leitura_hodometro)} kilometros rodados.\" #fazendo a correção\n",
        "    return hodometro\n",
        "  \n",
        "  def atualizar_hodometro(self, km):\n",
        "    \"\"\" \n",
        "    Atualiza o KM do carro e rejeita a alteração\n",
        "    se for um valor menor que o atual\n",
        "    \"\"\"\n",
        "    if km >= self.leitura_hodometro:\n",
        "      self.leitura_hodometro = km\n",
        "    else:\n",
        "      print(\"\\nVocê não pode dimunuir o valor do KM.\")\n",
        "  \n",
        "  def setar_donos(self, donos):\n",
        "    \"\"\" Permite alterar o numero de donos \"\"\"\n",
        "    if donos >= self.donos:\n",
        "      self.donos = donos\n",
        "    else:\n",
        "      print(\"\\n Você não pode diminuir a quantidade de donos.\")"
      ],
      "execution_count": null,
      "outputs": []
    },
    {
      "cell_type": "code",
      "metadata": {
        "id": "afpqEfFEA3cy"
      },
      "source": [
        "#Criando a nova classe para a ula de Herança\n",
        "\n",
        "class CarroEletrico(Carro): #estou passando na declaração a classe pai Carro\n",
        "  \"\"\" Aula de herança em classes. \"\"\"\n",
        "\n",
        "  def __init__(self, marca, modelo, ano):\n",
        "    \"\"\" Inicializa os atributos da classe pai \"\"\"\n",
        "\n",
        "    super().__init__(marca, modelo, ano)\n",
        "    ###método Super chama-se Super por a classe pai é uma classe super e a classe filha é uma classe sub"
      ],
      "execution_count": null,
      "outputs": []
    },
    {
      "cell_type": "code",
      "metadata": {
        "id": "btuwMVQbCAZJ"
      },
      "source": [
        "meu_tesla = CarroEletrico(\"Tesla\", \"modelo s\", 2020)"
      ],
      "execution_count": null,
      "outputs": []
    },
    {
      "cell_type": "code",
      "metadata": {
        "colab": {
          "base_uri": "https://localhost:8080/"
        },
        "id": "mN93BMbsCLfy",
        "outputId": "b1e37ed8-307c-4ec1-a52d-1548fc43ce22"
      },
      "source": [
        "print(meu_tesla.nome_descritivo()) \n",
        "#veja que na classe CarroEletrico não existe métodos ainda\n",
        "#mas o python já permite que eu utilize o método nome_descritivo, pois é uma herança da classe pai Carro"
      ],
      "execution_count": null,
      "outputs": [
        {
          "output_type": "stream",
          "text": [
            "2020 Tesla Modelo S\n"
          ],
          "name": "stdout"
        }
      ]
    },
    {
      "cell_type": "code",
      "metadata": {
        "id": "A7ld6uw-DKLb"
      },
      "source": [
        "#Criando atributos e métodos para a classe filha\n",
        "#estou fazendo de novo simplesmente para estudo\n",
        "\n",
        "class CarroEletrico(Carro):\n",
        "  \"\"\" Aula de herança em classes. \"\"\"\n",
        "\n",
        "  def __init__(self, marca, modelo, ano):\n",
        "    \"\"\" Inicializa os atributos da classe pai \"\"\"\n",
        "\n",
        "    super().__init__(marca, modelo, ano)\n",
        "    self.capacidade_bateria = 70 #atributos da classe filha\n",
        "  \n",
        "  def descrever_bateria(self):\n",
        "    \"\"\" Exibe uma frase que descreve a capacidade da bateria \"\"\"\n",
        "    print(f\"Esse carro tem uma bateria de {self.capacidade_bateria} KWh\")"
      ],
      "execution_count": null,
      "outputs": []
    },
    {
      "cell_type": "code",
      "metadata": {
        "id": "A_ArSXiND9ED"
      },
      "source": [
        "meu_tesla = CarroEletrico(\"Tesla\", \"modelo s\", 2020) #instanciando novamente. Sempre que altero a classe é preciso instanciar"
      ],
      "execution_count": null,
      "outputs": []
    },
    {
      "cell_type": "code",
      "metadata": {
        "colab": {
          "base_uri": "https://localhost:8080/"
        },
        "id": "kxA8C0q2ELJ8",
        "outputId": "52b8ec91-c27b-46f9-fbd6-4585f02d5980"
      },
      "source": [
        "meu_tesla.descrever_bateria()"
      ],
      "execution_count": null,
      "outputs": [
        {
          "output_type": "stream",
          "text": [
            "Esse carro tem uma bateria de 70 KWh\n"
          ],
          "name": "stdout"
        }
      ]
    },
    {
      "cell_type": "markdown",
      "metadata": {
        "id": "TZuBX7QPE6IM"
      },
      "source": [
        "Sobescrever um método da classe pai"
      ]
    },
    {
      "cell_type": "code",
      "metadata": {
        "id": "IQFVXqBsEOg7"
      },
      "source": [
        "#para fazer isso é preciso descrever um método na classe filha com o mesmo nome do método na classe pai\n",
        "#então vou criar um método com o mesmo nome nas duas classes\n",
        "\n",
        "class Carro():\n",
        "  \"\"\"Uma aula de classes com exemplo de carro\"\"\"\n",
        "\n",
        "  def __init__(self, marca, modelo, ano):\n",
        "    \"\"\"Atributos que descrevem um carro\"\"\"\n",
        "    self.marca = marca\n",
        "    self.modelo = modelo\n",
        "    self.ano = ano\n",
        "    self.leitura_hodometro = 0\n",
        "    self.donos = 0 \n",
        "\n",
        "  def nome_descritivo(self):\n",
        "    \"\"\"Devolve o nome descritivo do carro\"\"\"\n",
        "    nome_carro = f\"{str(self.ano)} {self.marca} {self.modelo}\"\n",
        "    return nome_carro.title()\n",
        "\n",
        "  def ler_hodometro(self):\n",
        "    \"\"\"Exibe o KM do carro.\"\"\"\n",
        "    hodometro = f\"Esse carro tem {str(self.leitura_hodometro)} kilometros rodados.\" #fazendo a correção\n",
        "    return hodometro\n",
        "  \n",
        "  def atualizar_hodometro(self, km):\n",
        "    \"\"\" \n",
        "    Atualiza o KM do carro e rejeita a alteração\n",
        "    se for um valor menor que o atual\n",
        "    \"\"\"\n",
        "    if km >= self.leitura_hodometro:\n",
        "      self.leitura_hodometro = km\n",
        "    else:\n",
        "      print(\"\\nVocê não pode dimunuir o valor do KM.\")\n",
        "  \n",
        "  def setar_donos(self, donos):\n",
        "    \"\"\" Permite alterar o numero de donos \"\"\"\n",
        "    if donos >= self.donos:\n",
        "      self.donos = donos\n",
        "    else:\n",
        "      print(\"\\n Você não pode diminuir a quantidade de donos.\")\n",
        "  \n",
        "  def abastecer_gasolina(self):\n",
        "    \"\"\" Teste para herança \"\"\"\n",
        "    print(\"Favor abastecer apenas com gasolina.\")\n",
        "\n",
        "\n",
        "\n",
        "class CarroEletrico(Carro):\n",
        "  \"\"\" Aula de herança em classes. \"\"\"\n",
        "\n",
        "  def __init__(self, marca, modelo, ano):\n",
        "    \"\"\" Inicializa os atributos da classe pai \"\"\"\n",
        "\n",
        "    super().__init__(marca, modelo, ano)\n",
        "    self.capacidade_bateria = 70 #atributos da classe filha\n",
        "  \n",
        "  def descrever_bateria(self):\n",
        "    \"\"\" Exibe uma frase que descreve a capacidade da bateria \"\"\"\n",
        "    print(f\"Esse carro tem uma bateria de {self.capacidade_bateria} KWh\")\n",
        "\n",
        "  def abastecer_gasolina(self):\n",
        "    \"\"\" Teste para aula de herança\"\"\"\n",
        "    print(\"Este carro não tem tanque de gasolina\")"
      ],
      "execution_count": null,
      "outputs": []
    },
    {
      "cell_type": "code",
      "metadata": {
        "id": "OCN3Grz9GP68"
      },
      "source": [
        "#acima as duas classes tem o mesmo nome para o método abastecer_gasolina para com ações diferentes\n",
        "#quando eu chamar o método a sobescrição irá ignaorar o método da classe pai e usar o métiodo da classe filha\n",
        "\n",
        "meu_tesla = CarroEletrico(\"Tesla\", \"modelo s\", 2020)"
      ],
      "execution_count": null,
      "outputs": []
    },
    {
      "cell_type": "code",
      "metadata": {
        "colab": {
          "base_uri": "https://localhost:8080/"
        },
        "id": "YkLOCk3MGuiM",
        "outputId": "e37dc88d-cb56-4d22-cdb2-b7b2d969d1c0"
      },
      "source": [
        "meu_tesla.abastecer_gasolina()"
      ],
      "execution_count": null,
      "outputs": [
        {
          "output_type": "stream",
          "text": [
            "Este carro não tem tanque de gasolina\n"
          ],
          "name": "stdout"
        }
      ]
    },
    {
      "cell_type": "code",
      "metadata": {
        "id": "qc5AfaD9GxAc"
      },
      "source": [
        "#Veja que a resposta veio do método da classe filha. "
      ],
      "execution_count": null,
      "outputs": []
    },
    {
      "cell_type": "markdown",
      "metadata": {
        "id": "Lbqjkrd2HvZX"
      },
      "source": [
        "instanciando uma classe para usar como atributos dentro de outra classe"
      ]
    },
    {
      "cell_type": "code",
      "metadata": {
        "id": "DDF0JzjPG188"
      },
      "source": [
        "class Carro():\n",
        "  \"\"\"Uma aula de classes com exemplo de carro\"\"\"\n",
        "\n",
        "  def __init__(self, marca, modelo, ano):\n",
        "    \"\"\"Atributos que descrevem um carro\"\"\"\n",
        "    self.marca = marca\n",
        "    self.modelo = modelo\n",
        "    self.ano = ano\n",
        "    self.leitura_hodometro = 0\n",
        "    self.donos = 0 \n",
        "\n",
        "  def nome_descritivo(self):\n",
        "    \"\"\"Devolve o nome descritivo do carro\"\"\"\n",
        "    nome_carro = f\"{str(self.ano)} {self.marca} {self.modelo}\"\n",
        "    return nome_carro.title()\n",
        "\n",
        "  def ler_hodometro(self):\n",
        "    \"\"\"Exibe o KM do carro.\"\"\"\n",
        "    hodometro = f\"Esse carro tem {str(self.leitura_hodometro)} kilometros rodados.\" #fazendo a correção\n",
        "    return hodometro\n",
        "  \n",
        "  def atualizar_hodometro(self, km):\n",
        "    \"\"\" \n",
        "    Atualiza o KM do carro e rejeita a alteração\n",
        "    se for um valor menor que o atual\n",
        "    \"\"\"\n",
        "    if km >= self.leitura_hodometro:\n",
        "      self.leitura_hodometro = km\n",
        "    else:\n",
        "      print(\"\\nVocê não pode dimunuir o valor do KM.\")\n",
        "  \n",
        "  def setar_donos(self, donos):\n",
        "    \"\"\" Permite alterar o numero de donos \"\"\"\n",
        "    if donos >= self.donos:\n",
        "      self.donos = donos\n",
        "    else:\n",
        "      print(\"\\n Você não pode diminuir a quantidade de donos.\")\n",
        "  \n",
        "  def abastecer_gasolina(self):\n",
        "    \"\"\" Teste para herança \"\"\"\n",
        "    print(\"Favor abastecer apenas com gasolina.\")\n",
        "\n",
        "\n",
        "class CarroEletrico(Carro):\n",
        "  \"\"\" Aula de herança em classes. \"\"\"\n",
        "\n",
        "  def __init__(self, marca, modelo, ano):\n",
        "    \"\"\" Inicializa os atributos da classe pai \"\"\"\n",
        "\n",
        "    super().__init__(marca, modelo, ano)\n",
        "    self.bateria = Bateria() #recebeu a classe bateria\n",
        "  \n",
        "  def abastecer_gasolina(self):\n",
        "    \"\"\" Teste para aula de herança\"\"\"\n",
        "    print(\"Este carro não tem tanque de gasolina\")\n",
        "\n",
        "class Bateria():\n",
        "  \"\"\" Instanciando uma classe como atributo de outra classe\"\"\"\n",
        "\n",
        "  def __init__(self, capacidade_bateria = 75):\n",
        "    \"\"\" Criando os atributos \"\"\"\n",
        "    self.capacidade_bateria = capacidade_bateria\n",
        "  \n",
        "  def descrever_bateria(self):\n",
        "    \"\"\" Exibe uma frase que descreve a capacidade da bateria \"\"\"\n",
        "    print(f\"Esse carro tem uma bateria de {self.capacidade_bateria} KWh\")\n"
      ],
      "execution_count": null,
      "outputs": []
    },
    {
      "cell_type": "code",
      "metadata": {
        "id": "weeE1TwAJv13"
      },
      "source": [
        "meu_tesla_02 = CarroEletrico(\"Tesla\", \"model x\", 2012)"
      ],
      "execution_count": null,
      "outputs": []
    },
    {
      "cell_type": "code",
      "metadata": {
        "colab": {
          "base_uri": "https://localhost:8080/",
          "height": 35
        },
        "id": "9cGgjeAhJ1nu",
        "outputId": "9d848261-811e-4ad0-cce1-9a32631d71e2"
      },
      "source": [
        "meu_tesla_02.nome_descritivo()"
      ],
      "execution_count": null,
      "outputs": [
        {
          "output_type": "execute_result",
          "data": {
            "application/vnd.google.colaboratory.intrinsic+json": {
              "type": "string"
            },
            "text/plain": [
              "'2012 Tesla Model X'"
            ]
          },
          "metadata": {
            "tags": []
          },
          "execution_count": 33
        }
      ]
    },
    {
      "cell_type": "code",
      "metadata": {
        "colab": {
          "base_uri": "https://localhost:8080/"
        },
        "id": "49lWNKIDJ5T1",
        "outputId": "f05bf3b1-168d-42f3-b91c-9f4d727d937b"
      },
      "source": [
        "meu_tesla_02.bateria.descrever_bateria()\n",
        "#o método descrever_bateria() está declarado na classe Bateria\n",
        "#mas a classe Bateria é um atributo de nome bateria na classe Carro_Elétrico\n",
        "#self.bateria = Bateria() essa linha na classe Carro_Eletrico, informa ao Py para instanciar uma classe Bateria e\n",
        "#essa instancia vira um atributo declarado em self.bateria"
      ],
      "execution_count": null,
      "outputs": [
        {
          "output_type": "stream",
          "text": [
            "Esse carro tem uma bateria de 75 KWh\n"
          ],
          "name": "stdout"
        }
      ]
    },
    {
      "cell_type": "code",
      "metadata": {
        "id": "FGhAro2ZJ9Tu"
      },
      "source": [
        "#podemos colocar métodos na classe Bateria e esses métodos estarão disponiveis para serme chamados\n",
        "#para o atributo bateria\n",
        "\n",
        "class Carro():\n",
        "  \"\"\"Uma aula de classes com exemplo de carro\"\"\"\n",
        "\n",
        "  def __init__(self, marca, modelo, ano):\n",
        "    \"\"\"Atributos que descrevem um carro\"\"\"\n",
        "    self.marca = marca\n",
        "    self.modelo = modelo\n",
        "    self.ano = ano\n",
        "    self.leitura_hodometro = 0\n",
        "    self.donos = 0 \n",
        "\n",
        "  def nome_descritivo(self):\n",
        "    \"\"\"Devolve o nome descritivo do carro\"\"\"\n",
        "    nome_carro = f\"{str(self.ano)} {self.marca} {self.modelo}\"\n",
        "    return nome_carro.title()\n",
        "\n",
        "  def ler_hodometro(self):\n",
        "    \"\"\"Exibe o KM do carro.\"\"\"\n",
        "    hodometro = f\"Esse carro tem {str(self.leitura_hodometro)} kilometros rodados.\" #fazendo a correção\n",
        "    return hodometro\n",
        "  \n",
        "  def atualizar_hodometro(self, km):\n",
        "    \"\"\" \n",
        "    Atualiza o KM do carro e rejeita a alteração\n",
        "    se for um valor menor que o atual\n",
        "    \"\"\"\n",
        "    if km >= self.leitura_hodometro:\n",
        "      self.leitura_hodometro = km\n",
        "    else:\n",
        "      print(\"\\nVocê não pode dimunuir o valor do KM.\")\n",
        "  \n",
        "  def setar_donos(self, donos):\n",
        "    \"\"\" Permite alterar o numero de donos \"\"\"\n",
        "    if donos >= self.donos:\n",
        "      self.donos = donos\n",
        "    else:\n",
        "      print(\"\\n Você não pode diminuir a quantidade de donos.\")\n",
        "  \n",
        "  def abastecer_gasolina(self):\n",
        "    \"\"\" Teste para herança \"\"\"\n",
        "    print(\"Favor abastecer apenas com gasolina.\")\n",
        "\n",
        "\n",
        "class CarroEletrico(Carro):\n",
        "  \"\"\" Aula de herança em classes. \"\"\"\n",
        "\n",
        "  def __init__(self, marca, modelo, ano):\n",
        "    \"\"\" Inicializa os atributos da classe pai \"\"\"\n",
        "    super().__init__(marca, modelo, ano)\n",
        "    self.bateria = Bateria() #recebeu a classe bateria\n",
        "  \n",
        "  def abastecer_gasolina(self):\n",
        "    \"\"\" Teste para aula de herança\"\"\"\n",
        "    print(\"Este carro não tem tanque de gasolina\")\n",
        "\n",
        "class Bateria():\n",
        "  \"\"\" Instanciando uma classe como atributo de outra classe\"\"\"\n",
        "\n",
        "  def __init__(self, capacidade_bateria = 75):\n",
        "    \"\"\" Criando os atributos \"\"\"\n",
        "    self.capacidade_bateria = capacidade_bateria\n",
        "  \n",
        "  def descrever_bateria(self):\n",
        "    \"\"\" Exibe uma frase que descreve a capacidade da bateria \"\"\"\n",
        "    print(f\"Esse carro tem uma bateria de {self.capacidade_bateria} KWh\")\n",
        "  \n",
        "  def distancia_possivel(self): #declarando um novo método\n",
        "    \"\"\" Exibe uma frase que descreve a distancia que se pode percorrer com uma carga da bateria \"\"\"\n",
        "    if self.capacidade_bateria == 75:\n",
        "      distancia = 240\n",
        "    else:\n",
        "      distanica = 280\n",
        "    \n",
        "    mensagem = f\"Esta bateria tem capacidade de {self.capacidade_bateria} \"\n",
        "    mensagem += f\"e pode percorrer {distancia} km.\"\n",
        "    print(mensagem)\n"
      ],
      "execution_count": null,
      "outputs": []
    },
    {
      "cell_type": "code",
      "metadata": {
        "id": "ESeThUhkN8I_"
      },
      "source": [
        "meu_tesla_03 = CarroEletrico(\"Tesla\", \"Model T\", 2021)"
      ],
      "execution_count": null,
      "outputs": []
    },
    {
      "cell_type": "code",
      "metadata": {
        "colab": {
          "base_uri": "https://localhost:8080/"
        },
        "id": "RN_IjS5aOFPH",
        "outputId": "a40eec04-aac2-4512-956a-f6b300131427"
      },
      "source": [
        "meu_tesla_03.bateria.descrever_bateria()\n",
        "#veja que para chamar os métodos que estão na classe bateria eu precisei chamar \n",
        "#o atributo bateria que está na classe carro elétrico"
      ],
      "execution_count": null,
      "outputs": [
        {
          "output_type": "stream",
          "text": [
            "Esse carro tem uma bateria de 75 KWh\n"
          ],
          "name": "stdout"
        }
      ]
    },
    {
      "cell_type": "code",
      "metadata": {
        "colab": {
          "base_uri": "https://localhost:8080/"
        },
        "id": "GMCJcm7BOsCY",
        "outputId": "cc0f8dba-bbec-4a29-ad16-394fc86677c2"
      },
      "source": [
        "meu_tesla_03.bateria.distancia_possivel()\n",
        "#de novo, o método distancia_possivel() só pode ser chamado em cjto\n",
        "#com o atributo bateria"
      ],
      "execution_count": null,
      "outputs": [
        {
          "output_type": "stream",
          "text": [
            "Esta bateria tem capacidade de 75 e pode percorrer 240 km.\n"
          ],
          "name": "stdout"
        }
      ]
    },
    {
      "cell_type": "markdown",
      "metadata": {
        "id": "wB6k7bviQAR7"
      },
      "source": [
        "Missão 29"
      ]
    },
    {
      "cell_type": "code",
      "metadata": {
        "id": "anAOSIC1O-XI"
      },
      "source": [
        "#1. Carro híbrido é um tipo específico de carro. \n",
        "#Escreva uma classe chamada CarroHibrido que herde da classe Carro escrita anteriormente. \n",
        "#Adicione um atributo chamado opcionais que armazene uma lista de opcionais de carro híbrido. \n",
        "#Escreva um método para mostrar esses opcionais. Crie uma instância de CarroHibrido e chame esse método.\n",
        "\n",
        "class Carro_Hibrido(CarroEletrico):\n",
        "  \"\"\" Missão 29 exercicio 01. Atributos para carro hibrido \"\"\"\n",
        "\n",
        "  def __init__(self, marca, modelo, ano):\n",
        "    \"\"\" é uma classe que vai pegar atributos do carro e do carro elétrico \"\"\"\n",
        "    super().__init__(marca, modelo, ano)\n",
        "    self.opcionais = Opcionais()\n",
        "\n",
        "class Opcionais():\n",
        "  \"\"\"Opcionais para o carro hibrido\"\"\"\n",
        "\n",
        "  def __init__(self, opcionais=\"gasolina\"):\n",
        "    \"\"\"Construindo os atributos\"\"\"\n",
        "    self.opcionais = opcionais\n",
        "\n",
        "  def descrever_opcionais(self):\n",
        "    \"\"\"Exibe o opcional passado\"\"\"\n",
        "    print(f\"O opcional passado foi {self.opcionais}.\")\n",
        "\n",
        "  "
      ],
      "execution_count": null,
      "outputs": []
    },
    {
      "cell_type": "code",
      "metadata": {
        "id": "LftHmrEKShIi"
      },
      "source": [
        "carro_hibrido_01 = Carro_Hibrido(\"Toyotta\", \"Prius\", 2020)"
      ],
      "execution_count": null,
      "outputs": []
    },
    {
      "cell_type": "code",
      "metadata": {
        "colab": {
          "base_uri": "https://localhost:8080/",
          "height": 35
        },
        "id": "HwpAAUhhTU9y",
        "outputId": "caf9777d-03bb-44d2-e662-09e2a0443a70"
      },
      "source": [
        "carro_hibrido_01.nome_descritivo()"
      ],
      "execution_count": null,
      "outputs": [
        {
          "output_type": "execute_result",
          "data": {
            "application/vnd.google.colaboratory.intrinsic+json": {
              "type": "string"
            },
            "text/plain": [
              "'2020 Toyotta Prius'"
            ]
          },
          "metadata": {
            "tags": []
          },
          "execution_count": 5
        }
      ]
    },
    {
      "cell_type": "code",
      "metadata": {
        "colab": {
          "base_uri": "https://localhost:8080/"
        },
        "id": "BA3W8y4vT6Ki",
        "outputId": "da12e5e3-b2ff-4888-ff3c-66bbc1a294b3"
      },
      "source": [
        "carro_hibrido_01.bateria.descrever_bateria()"
      ],
      "execution_count": null,
      "outputs": [
        {
          "output_type": "stream",
          "text": [
            "Esse carro tem uma bateria de 75 KWh\n"
          ],
          "name": "stdout"
        }
      ]
    },
    {
      "cell_type": "code",
      "metadata": {
        "colab": {
          "base_uri": "https://localhost:8080/"
        },
        "id": "-UkDgDvyT9UK",
        "outputId": "82c132b2-f652-4ee8-fe5a-7b6490505ea7"
      },
      "source": [
        "carro_hibrido_01.opcionais.descrever_opcionais()"
      ],
      "execution_count": null,
      "outputs": [
        {
          "output_type": "stream",
          "text": [
            "O opcional passado foi gasolina.\n"
          ],
          "name": "stdout"
        }
      ]
    },
    {
      "cell_type": "code",
      "metadata": {
        "id": "lmSmz5GoSAo8"
      },
      "source": [
        "#2. Mamíferos são um tipo especial de animal. \n",
        "#Escreva uma classe chamada Mamifero que herde da classe Animal escrita anteriormente. \n",
        "#Adicione um atributo características que armazene uma lista de strings como “pelos”, “mamas” e assim por diante. \n",
        "#Escreva um método chamado mostrar_caracteristicas() que liste o conjunto de características de um mamífero. \n",
        "#Crie uma instância de Mamífero e chame seu método.\n",
        "\n",
        "class Animal():\n",
        "  \"\"\" Classe com atributos e métodos animais\"\"\"\n",
        "\n",
        "  def __init__(self, nome, idade):\n",
        "    \"\"\" declarando os construtores e atributos \"\"\"\n",
        "    self.nome = nome\n",
        "    self.idade = idade\n",
        "    self.sexo = \"feminino\"\n",
        "    self.cor = \"não definida\"\n",
        "  \n",
        "  def animal_detalhes(self):\n",
        "    \"\"\" Mostra um resumo das informações dos animais instanciados \"\"\"\n",
        "    animal_info = f\"{self.nome.title()} {self.idade} {self.sexo} {self.cor}\"\n",
        "    return animal_info\n",
        "  \n",
        "  def animal_msg(self):\n",
        "    \"\"\" Mostra uma mensagem com o nome do animal \"\"\"\n",
        "    msg = f\"O nome do animal é {self.nome.title()}\"\n",
        "    return msg"
      ],
      "execution_count": null,
      "outputs": []
    },
    {
      "cell_type": "code",
      "metadata": {
        "id": "slwaq3XjSe7q"
      },
      "source": [
        "class Mamiferos(Animal):\n",
        "  \"\"\" Clase mamiferos, filha da classe animal \"\"\"\n",
        "\n",
        "  def __init__ (self, nome, idade):\n",
        "    \"\"\" declarando os construtores e atributos \"\"\"\n",
        "    super().__init__(self, nome, idade)\n",
        "    \n",
        "    self.caracteristicas.append[caracteristicas]\n",
        "  \n",
        "  def mamiferos_mostrar_caracteristicas(self):\n",
        "    \"\"\" Mostr as caracteristicas dos mamíferos\"\"\"\n",
        "    for caracteristica in caracteristicas:\n",
        "      print(f\"\\n{caracteristica}\")\n",
        "\n"
      ],
      "execution_count": null,
      "outputs": []
    },
    {
      "cell_type": "code",
      "metadata": {
        "id": "Dclsu5ghTsh8"
      },
      "source": [
        "animal_01 = Animal(\"Mickey\", 70)"
      ],
      "execution_count": null,
      "outputs": []
    },
    {
      "cell_type": "code",
      "metadata": {
        "id": "tw7xmfQyVJt8"
      },
      "source": [
        "animal_01.sexo = \"Masculino\""
      ],
      "execution_count": null,
      "outputs": []
    },
    {
      "cell_type": "code",
      "metadata": {
        "id": "2Tv2_S_QVS2y"
      },
      "source": [
        "animal_01.cor = \"Preto\""
      ],
      "execution_count": null,
      "outputs": []
    },
    {
      "cell_type": "code",
      "metadata": {
        "colab": {
          "base_uri": "https://localhost:8080/",
          "height": 35
        },
        "id": "to7qUumVVcGB",
        "outputId": "66affbf3-181b-494c-d35a-c453cd2070c9"
      },
      "source": [
        "animal_01.animal_detalhes()"
      ],
      "execution_count": null,
      "outputs": [
        {
          "output_type": "execute_result",
          "data": {
            "application/vnd.google.colaboratory.intrinsic+json": {
              "type": "string"
            },
            "text/plain": [
              "'Mickey 70 Masculino Preto'"
            ]
          },
          "metadata": {
            "tags": []
          },
          "execution_count": 45
        }
      ]
    },
    {
      "cell_type": "code",
      "metadata": {
        "id": "sylDljDOX3i4"
      },
      "source": [
        "#3. Crie uma classe Caracteristicas separada. \n",
        "#A classe deve ter um atributo características que armazene uma lista de strings \n",
        "#conforme descrita no exercício anterior. \n",
        "#Transfira o método mostrar_caracteristicas() para essa classe. \n",
        "#Crie uma instância de Caracteristicas como uma atributo da classe Animal. \n",
        "#Crie uma nova instância de Animal e use seu método para exibir as características.\n",
        "\n"
      ],
      "execution_count": null,
      "outputs": []
    },
    {
      "cell_type": "markdown",
      "metadata": {
        "id": "r0mikWieZUux"
      },
      "source": [
        "Importando Classes"
      ]
    },
    {
      "cell_type": "code",
      "metadata": {
        "id": "4cI-278kZcI-"
      },
      "source": [
        "from carro import Carro"
      ],
      "execution_count": null,
      "outputs": []
    },
    {
      "cell_type": "code",
      "metadata": {
        "id": "kRljv1MZcgJ8"
      },
      "source": [
        "from carroeletrico import CarroEletrico"
      ],
      "execution_count": null,
      "outputs": []
    },
    {
      "cell_type": "code",
      "metadata": {
        "id": "2mse26ilde_3"
      },
      "source": [
        "#dentro do arquivo carroeletrico.py temos as classes CarroEletrico e a classe Bateria\n",
        "#pra importar tudo sem precisar ficar chamando classe por classe podemos chamar todas \n",
        "#as classes\n",
        "\n",
        "import carroeletrico"
      ],
      "execution_count": null,
      "outputs": []
    },
    {
      "cell_type": "code",
      "metadata": {
        "colab": {
          "base_uri": "https://localhost:8080/",
          "height": 316
        },
        "id": "zpLF4Zd5d16S",
        "outputId": "d8ad905e-c162-442b-fe38-ed2fd0ff4949"
      },
      "source": [
        "#porem para usar será preciso colocar o nome do arquivo antes da classe\n",
        "\n",
        "carro02 = carroeletrico.CarroEletrico(\"Honda\", \"E\", 2020)"
      ],
      "execution_count": null,
      "outputs": [
        {
          "output_type": "error",
          "ename": "NameError",
          "evalue": "ignored",
          "traceback": [
            "\u001b[0;31m---------------------------------------------------------------------------\u001b[0m",
            "\u001b[0;31mNameError\u001b[0m                                 Traceback (most recent call last)",
            "\u001b[0;32m<ipython-input-88-0e964f07f0f9>\u001b[0m in \u001b[0;36m<module>\u001b[0;34m()\u001b[0m\n\u001b[1;32m      1\u001b[0m \u001b[0;31m#porem para usar será preciso colocar o nome do arquivo antes da classe\u001b[0m\u001b[0;34m\u001b[0m\u001b[0;34m\u001b[0m\u001b[0;34m\u001b[0m\u001b[0m\n\u001b[1;32m      2\u001b[0m \u001b[0;34m\u001b[0m\u001b[0m\n\u001b[0;32m----> 3\u001b[0;31m \u001b[0mcarro02\u001b[0m \u001b[0;34m=\u001b[0m \u001b[0mcarroeletrico\u001b[0m\u001b[0;34m.\u001b[0m\u001b[0mCarroEletrico\u001b[0m\u001b[0;34m(\u001b[0m\u001b[0;34m\"Honda\"\u001b[0m\u001b[0;34m,\u001b[0m \u001b[0;34m\"E\"\u001b[0m\u001b[0;34m,\u001b[0m \u001b[0;36m2020\u001b[0m\u001b[0;34m)\u001b[0m\u001b[0;34m\u001b[0m\u001b[0;34m\u001b[0m\u001b[0m\n\u001b[0m",
            "\u001b[0;32m/content/carroeletrico.py\u001b[0m in \u001b[0;36m__init__\u001b[0;34m(self, marca, modelo, ano)\u001b[0m\n\u001b[1;32m      9\u001b[0m   \u001b[0;32mdef\u001b[0m \u001b[0m__init__\u001b[0m\u001b[0;34m(\u001b[0m\u001b[0mself\u001b[0m\u001b[0;34m,\u001b[0m \u001b[0mmarca\u001b[0m\u001b[0;34m,\u001b[0m \u001b[0mmodelo\u001b[0m\u001b[0;34m,\u001b[0m \u001b[0mano\u001b[0m\u001b[0;34m)\u001b[0m\u001b[0;34m:\u001b[0m\u001b[0;34m\u001b[0m\u001b[0;34m\u001b[0m\u001b[0m\n\u001b[1;32m     10\u001b[0m     \u001b[0;34m\"\"\" Inicializa os atributos da classe pai \"\"\"\u001b[0m\u001b[0;34m\u001b[0m\u001b[0;34m\u001b[0m\u001b[0m\n\u001b[0;32m---> 11\u001b[0;31m     \u001b[0msuper\u001b[0m\u001b[0;34m(\u001b[0m\u001b[0;34m)\u001b[0m\u001b[0;34m.\u001b[0m\u001b[0m__init__\u001b[0m\u001b[0;34m(\u001b[0m\u001b[0mmarca\u001b[0m\u001b[0;34m,\u001b[0m \u001b[0mmodelo\u001b[0m\u001b[0;34m,\u001b[0m \u001b[0mano\u001b[0m\u001b[0;34m)\u001b[0m\u001b[0;34m\u001b[0m\u001b[0;34m\u001b[0m\u001b[0m\n\u001b[0m\u001b[1;32m     12\u001b[0m     \u001b[0mself\u001b[0m\u001b[0;34m.\u001b[0m\u001b[0mbateria\u001b[0m \u001b[0;34m=\u001b[0m \u001b[0mBateria\u001b[0m\u001b[0;34m(\u001b[0m\u001b[0;34m)\u001b[0m \u001b[0;31m#recebeu a classe bateria\u001b[0m\u001b[0;34m\u001b[0m\u001b[0;34m\u001b[0m\u001b[0m\n\u001b[1;32m     13\u001b[0m \u001b[0;34m\u001b[0m\u001b[0m\n",
            "\u001b[0;31mNameError\u001b[0m: name 'Bateria' is not defined"
          ]
        }
      ]
    },
    {
      "cell_type": "markdown",
      "metadata": {
        "id": "mXDSPbMei1VK"
      },
      "source": [
        "Missão 30"
      ]
    },
    {
      "cell_type": "code",
      "metadata": {
        "id": "m7pvwZ2qeAaW"
      },
      "source": [
        "#1. Usando sua classe C​arro mais recente, armazene-a em um módulo. \n",
        "#Crie um arquivo separado que importe Carro. Cria uma instância de Carro e chame\n",
        "# um de seus métodos para mostrar que o import funçou.\n",
        "\n"
      ],
      "execution_count": null,
      "outputs": []
    },
    {
      "cell_type": "code",
      "metadata": {
        "id": "qSauJn2bi7TF"
      },
      "source": [
        "#2. Armazene as classes Animal, Mamifero e Caracteristicas em um módulo. \n",
        "#Crie um arquivo separado e uma instância de Mamifero e chame mostrar_caracteristicas\n",
        "# para mostrar que tudo esta ok."
      ],
      "execution_count": null,
      "outputs": []
    },
    {
      "cell_type": "code",
      "metadata": {
        "id": "Ntf93HUfjAig"
      },
      "source": [
        "#3. Armazene a classe Animal em um módulo e as classes Caracteristicas e Mamifero\n",
        "# em um módulo separado. Outro arquivo crie uma instância de Mamifero e chame \n",
        "#mostre_caracteristicas() para mostrar que está tudo funcionando."
      ],
      "execution_count": null,
      "outputs": []
    },
    {
      "cell_type": "markdown",
      "metadata": {
        "id": "SD0pRjDzm3_E"
      },
      "source": [
        "Missao 31"
      ]
    },
    {
      "cell_type": "code",
      "metadata": {
        "id": "q7fbyUudm2zb"
      },
      "source": [
        "#1. Crie um dicionário de termos da linguagem Python usando a classe OrderedDict​,\n",
        "#e certifique-se que a ordem da saída coincida com a ordem em que os pares chave-valor foram adicionados ao dicionário.\n",
        "#Por exemplo:\n",
        "#dicionario_termos['lista'] = 'Uma coleção de items numa ordem em particular'\n",
        "#Obs: (crie o mesmo para o que é uma string, um comentário, um loop,  e etc)\n",
        "\n",
        "from collections import OrderedDict\n",
        "\n",
        "termos_py = {}\n",
        "termos_py = OrderedDict()"
      ],
      "execution_count": 6,
      "outputs": []
    },
    {
      "cell_type": "code",
      "metadata": {
        "id": "-WfmSSjzoEdo"
      },
      "source": [
        "termos_py['lista'] = \"uma coleção de itens numa ordem em particular\"\n",
        "termos_py['dicionario'] = \"uma coleção de chaves e itens\"\n",
        "termos_py[\"tupla\"] = \"uma coleção que não pode ser alterada\""
      ],
      "execution_count": 7,
      "outputs": []
    },
    {
      "cell_type": "code",
      "metadata": {
        "colab": {
          "base_uri": "https://localhost:8080/"
        },
        "id": "YRSBsPlVpUF9",
        "outputId": "16cce629-c733-43b4-ca82-9b3122c6a92a"
      },
      "source": [
        "termos_py"
      ],
      "execution_count": 8,
      "outputs": [
        {
          "output_type": "execute_result",
          "data": {
            "text/plain": [
              "OrderedDict([('lista', 'uma coleção de itens numa ordem em particular'),\n",
              "             ('dicionario', 'uma coleção de chaves e itens'),\n",
              "             ('tupla', 'uma coleção que não pode ser alterada')])"
            ]
          },
          "metadata": {
            "tags": []
          },
          "execution_count": 8
        }
      ]
    },
    {
      "cell_type": "code",
      "metadata": {
        "colab": {
          "base_uri": "https://localhost:8080/"
        },
        "id": "ozfJZ5UgpYYo",
        "outputId": "648de465-0e25-45ae-e378-a02020d1021c"
      },
      "source": [
        "for k,v in termos_py.items():\n",
        "  termo = k\n",
        "  descricao = v\n",
        "  print(f\"\\n {termo} = {descricao}\")"
      ],
      "execution_count": 11,
      "outputs": [
        {
          "output_type": "stream",
          "text": [
            "\n",
            " lista = uma coleção de itens numa ordem em particular\n",
            "\n",
            " dicionario = uma coleção de chaves e itens\n",
            "\n",
            " tupla = uma coleção que não pode ser alterada\n"
          ],
          "name": "stdout"
        }
      ]
    },
    {
      "cell_type": "code",
      "metadata": {
        "id": "RrQLUTZEjF-4",
        "colab": {
          "base_uri": "https://localhost:8080/"
        },
        "outputId": "bc926103-0e08-4028-b410-e367820be5bd"
      },
      "source": [
        "#2. O módulo random contém funções que geram números aleatórios. \n",
        "#A função randint() devolve um inteiro no intervalo especificado.\n",
        "#a.\n",
        "#From random import randint\n",
        "#x = randint(1, 6)\n",
        "\n",
        "#b. Crie uma classe Dado com um atributo chamados lados, cujo valor default seja 6. \n",
        "#Crie um método chamado jogar_dado() que exiba um número aleatório entre 1 e o número de lados do dado. \n",
        "\n",
        "#c. Crie/instancie um dado de seis lados e lance-o dez vezes.\n",
        "#d. Crie dados de 10 lados e outro de 20 lados. Lance cada dado dez vezes.\n",
        "\n",
        "from random import randint\n",
        "\n",
        "class Dado():\n",
        "  \"\"\" Classe que simula um dado de 6 lados e retorna um numero aleatório ao chamar o método jogar_dado() \"\"\"\n",
        "\n",
        "  def __init__(self, lados=6, jogadas=1):\n",
        "    \"\"\" criando o dado \"\"\"\n",
        "    self.lados = lados\n",
        "    self.jogadas = jogadas\n",
        "\n",
        "  def jogar_dado(self):\n",
        "    \"\"\" jogando o dado \"\"\"\n",
        "    for i in range(self.jogadas):\n",
        "      x = randint(1, self.lados)\n",
        "      print(f\"Jogada {i+1} = {x}\")\n",
        "      i += i\n",
        "\n",
        "n_lados = int(input(\"\\nDigite o numero de lados do dado: \"))\n",
        "jogadas = int(input(\"Digite quantas vezes quer jogar o dado: \"))\n",
        "jogue = Dado(n_lados, jogadas)\n",
        "Dado.jogar_dado(jogue)"
      ],
      "execution_count": 175,
      "outputs": [
        {
          "output_type": "stream",
          "text": [
            "\n",
            "Digite o numero de lados do dado: 6\n",
            "Digite quantas vezes quer jogar o dado: 20\n",
            "Jogada 1 = 4\n",
            "Jogada 2 = 3\n",
            "Jogada 3 = 2\n",
            "Jogada 4 = 5\n",
            "Jogada 5 = 3\n",
            "Jogada 6 = 4\n",
            "Jogada 7 = 1\n",
            "Jogada 8 = 1\n",
            "Jogada 9 = 6\n",
            "Jogada 10 = 6\n",
            "Jogada 11 = 4\n",
            "Jogada 12 = 1\n",
            "Jogada 13 = 1\n",
            "Jogada 14 = 2\n",
            "Jogada 15 = 2\n",
            "Jogada 16 = 3\n",
            "Jogada 17 = 2\n",
            "Jogada 18 = 6\n",
            "Jogada 19 = 4\n",
            "Jogada 20 = 5\n"
          ],
          "name": "stdout"
        }
      ]
    },
    {
      "cell_type": "code",
      "metadata": {
        "id": "gdr5c60RnYT6"
      },
      "source": [
        "11#3. Acesse o site https://pymotw.com/3/index.html e observe a tabela de conteúdo. \n",
        "#Explore o site e os módulos listados para aprender mais.\n",
        "\n",
        "#Avalie esta aula:\n",
        "\n"
      ],
      "execution_count": 162,
      "outputs": []
    },
    {
      "cell_type": "code",
      "metadata": {
        "id": "e-34wmWGH6qU"
      },
      "source": [
        ""
      ],
      "execution_count": null,
      "outputs": []
    }
  ]
}